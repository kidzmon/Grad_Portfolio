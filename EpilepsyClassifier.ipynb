{
  "nbformat": 4,
  "nbformat_minor": 0,
  "metadata": {
    "colab": {
      "name": "EpilepsyClassifier.ipynb",
      "provenance": []
    },
    "kernelspec": {
      "name": "python3",
      "display_name": "Python 3"
    },
    "accelerator": "GPU"
  },
  "cells": [
    {
      "cell_type": "markdown",
      "metadata": {
        "id": "YookYongziLP"
      },
      "source": [
        "# MNE library install"
      ]
    },
    {
      "cell_type": "code",
      "metadata": {
        "id": "dU-jZ0rGzmMl",
        "outputId": "e55bcaec-ea82-411c-a106-d4f8fb257a27",
        "colab": {
          "base_uri": "https://localhost:8080/",
          "height": 721
        }
      },
      "source": [
        "!pip install mne\n",
        "!pip install mne-features\n",
        "!pip install yasa"
      ],
      "execution_count": null,
      "outputs": [
        {
          "output_type": "stream",
          "text": [
            "Requirement already satisfied: mne in /usr/local/lib/python3.6/dist-packages (0.21.0)\n",
            "Requirement already satisfied: scipy>=0.17.1 in /usr/local/lib/python3.6/dist-packages (from mne) (1.4.1)\n",
            "Requirement already satisfied: numpy>=1.11.3 in /usr/local/lib/python3.6/dist-packages (from mne) (1.18.5)\n",
            "Requirement already satisfied: mne-features in /usr/local/lib/python3.6/dist-packages (0.1)\n",
            "Requirement already satisfied: pandas in /usr/local/lib/python3.6/dist-packages (from mne-features) (1.1.3)\n",
            "Requirement already satisfied: mne in /usr/local/lib/python3.6/dist-packages (from mne-features) (0.21.0)\n",
            "Requirement already satisfied: numpy in /usr/local/lib/python3.6/dist-packages (from mne-features) (1.18.5)\n",
            "Requirement already satisfied: scikit-learn in /usr/local/lib/python3.6/dist-packages (from mne-features) (0.22.2.post1)\n",
            "Requirement already satisfied: PyWavelets in /usr/local/lib/python3.6/dist-packages (from mne-features) (1.1.1)\n",
            "Requirement already satisfied: numba in /usr/local/lib/python3.6/dist-packages (from mne-features) (0.48.0)\n",
            "Requirement already satisfied: scipy in /usr/local/lib/python3.6/dist-packages (from mne-features) (1.4.1)\n",
            "Requirement already satisfied: python-dateutil>=2.7.3 in /usr/local/lib/python3.6/dist-packages (from pandas->mne-features) (2.8.1)\n",
            "Requirement already satisfied: pytz>=2017.2 in /usr/local/lib/python3.6/dist-packages (from pandas->mne-features) (2018.9)\n",
            "Requirement already satisfied: joblib>=0.11 in /usr/local/lib/python3.6/dist-packages (from scikit-learn->mne-features) (0.17.0)\n",
            "Requirement already satisfied: llvmlite<0.32.0,>=0.31.0dev0 in /usr/local/lib/python3.6/dist-packages (from numba->mne-features) (0.31.0)\n",
            "Requirement already satisfied: setuptools in /usr/local/lib/python3.6/dist-packages (from numba->mne-features) (50.3.0)\n",
            "Requirement already satisfied: six>=1.5 in /usr/local/lib/python3.6/dist-packages (from python-dateutil>=2.7.3->pandas->mne-features) (1.15.0)\n",
            "Requirement already satisfied: yasa in /usr/local/lib/python3.6/dist-packages (0.3.0)\n",
            "Requirement already satisfied: pandas in /usr/local/lib/python3.6/dist-packages (from yasa) (1.1.3)\n",
            "Requirement already satisfied: matplotlib in /usr/local/lib/python3.6/dist-packages (from yasa) (3.2.2)\n",
            "Requirement already satisfied: scikit-learn>=0.21 in /usr/local/lib/python3.6/dist-packages (from yasa) (0.22.2.post1)\n",
            "Requirement already satisfied: tensorpac>=0.6.3 in /usr/local/lib/python3.6/dist-packages (from yasa) (0.6.5)\n",
            "Requirement already satisfied: pyriemann in /usr/local/lib/python3.6/dist-packages (from yasa) (0.2.6)\n",
            "Requirement already satisfied: lspopt in /usr/local/lib/python3.6/dist-packages (from yasa) (1.1.1)\n",
            "Requirement already satisfied: scipy in /usr/local/lib/python3.6/dist-packages (from yasa) (1.4.1)\n",
            "Requirement already satisfied: seaborn in /usr/local/lib/python3.6/dist-packages (from yasa) (0.11.0)\n",
            "Requirement already satisfied: numpy in /usr/local/lib/python3.6/dist-packages (from yasa) (1.18.5)\n",
            "Requirement already satisfied: mne>=0.20.0 in /usr/local/lib/python3.6/dist-packages (from yasa) (0.21.0)\n",
            "Requirement already satisfied: numba in /usr/local/lib/python3.6/dist-packages (from yasa) (0.48.0)\n",
            "Requirement already satisfied: pytz>=2017.2 in /usr/local/lib/python3.6/dist-packages (from pandas->yasa) (2018.9)\n",
            "Requirement already satisfied: python-dateutil>=2.7.3 in /usr/local/lib/python3.6/dist-packages (from pandas->yasa) (2.8.1)\n",
            "Requirement already satisfied: pyparsing!=2.0.4,!=2.1.2,!=2.1.6,>=2.0.1 in /usr/local/lib/python3.6/dist-packages (from matplotlib->yasa) (2.4.7)\n",
            "Requirement already satisfied: cycler>=0.10 in /usr/local/lib/python3.6/dist-packages (from matplotlib->yasa) (0.10.0)\n",
            "Requirement already satisfied: kiwisolver>=1.0.1 in /usr/local/lib/python3.6/dist-packages (from matplotlib->yasa) (1.2.0)\n",
            "Requirement already satisfied: joblib>=0.11 in /usr/local/lib/python3.6/dist-packages (from scikit-learn>=0.21->yasa) (0.17.0)\n",
            "Requirement already satisfied: six in /usr/local/lib/python3.6/dist-packages (from lspopt->yasa) (1.15.0)\n",
            "Requirement already satisfied: llvmlite<0.32.0,>=0.31.0dev0 in /usr/local/lib/python3.6/dist-packages (from numba->yasa) (0.31.0)\n",
            "Requirement already satisfied: setuptools in /usr/local/lib/python3.6/dist-packages (from numba->yasa) (50.3.0)\n"
          ],
          "name": "stdout"
        }
      ]
    },
    {
      "cell_type": "markdown",
      "metadata": {
        "id": "aubgig9Jzobg"
      },
      "source": [
        "# Import libary"
      ]
    },
    {
      "cell_type": "code",
      "metadata": {
        "id": "BtM-7yRN6lYC"
      },
      "source": [
        "import matplotlib.pyplot as plt\n",
        "import numpy as np\n",
        "import mne\n",
        "import os\n",
        "import mne_features\n",
        "import yasa\n",
        "\n",
        "from mne.time_frequency import psd_welch\n",
        "from scipy import signal\n",
        "from sklearn.preprocessing import StandardScaler\n",
        "from sklearn.pipeline import Pipeline"
      ],
      "execution_count": null,
      "outputs": []
    },
    {
      "cell_type": "markdown",
      "metadata": {
        "id": "nUFU23SGHYVN"
      },
      "source": [
        "## Data Load\n",
        "\n",
        "(ref)\n",
        "https://mne.tools/0.16/auto_tutorials/plot_introduction.html"
      ]
    },
    {
      "cell_type": "code",
      "metadata": {
        "id": "HYj0TAO27UFK",
        "outputId": "c696cedb-aee0-42ee-d1ec-35e0188cc227",
        "colab": {
          "base_uri": "https://localhost:8080/",
          "height": 1000
        }
      },
      "source": [
        "epilepsy_data_folder = '/content/drive/My Drive/Colab Notebooks/EEG/Dataset/EPILEPSY/'\n",
        "noepilepsy_data_folder = '/content/drive/My Drive/Colab Notebooks/EEG/Dataset/NO EPILEPSY/'\n",
        "epfnames = os.listdir(epilepsy_data_folder)[:-1]\n",
        "noepfnames = os.listdir(noepilepsy_data_folder)[:-1]\n",
        "channels = dict()\n",
        "epraws = []\n",
        "noepraws = []\n",
        "for f in epfnames:\n",
        "  epraw = mne.io.read_raw_edf(epilepsy_data_folder+f, preload=True)\n",
        "  epraws.append(epraw)\n",
        "  for ch in epraw.info['ch_names']:\n",
        "    if ch in channels:\n",
        "      channels[ch] += 1\n",
        "    else:\n",
        "      channels[ch] = 1\n",
        "for f in noepfnames:\n",
        "  noepraw = mne.io.read_raw_edf(noepilepsy_data_folder+f, preload=True)\n",
        "  noepraws.append(noepraw)\n"
      ],
      "execution_count": null,
      "outputs": [
        {
          "output_type": "stream",
          "text": [
            "Extracting EDF parameters from /content/drive/My Drive/Colab Notebooks/EEG/Dataset/EPILEPSY/00000355_s001_t001.edf...\n",
            "EDF file detected\n",
            "Setting channel info structure...\n",
            "Creating raw.info structure...\n",
            "Reading 0 ... 303499  =      0.000 ...  1213.996 secs...\n",
            "Extracting EDF parameters from /content/drive/My Drive/Colab Notebooks/EEG/Dataset/EPILEPSY/00000355_s002_t000.edf...\n",
            "EDF file detected\n",
            "Setting channel info structure...\n",
            "Creating raw.info structure...\n",
            "Reading 0 ... 32499  =      0.000 ...   129.996 secs...\n",
            "Extracting EDF parameters from /content/drive/My Drive/Colab Notebooks/EEG/Dataset/EPILEPSY/00000355_s002_t001.edf...\n",
            "EDF file detected\n",
            "Setting channel info structure...\n",
            "Creating raw.info structure...\n",
            "Reading 0 ... 312999  =      0.000 ...  1251.996 secs...\n",
            "Extracting EDF parameters from /content/drive/My Drive/Colab Notebooks/EEG/Dataset/EPILEPSY/00000592_s001_t001.edf...\n",
            "EDF file detected\n",
            "Setting channel info structure...\n",
            "Creating raw.info structure...\n",
            "Reading 0 ... 332249  =      0.000 ...  1328.996 secs...\n",
            "Extracting EDF parameters from /content/drive/My Drive/Colab Notebooks/EEG/Dataset/EPILEPSY/00000592_s002_t000.edf...\n",
            "EDF file detected\n",
            "Setting channel info structure...\n",
            "Creating raw.info structure...\n",
            "Reading 0 ... 368499  =      0.000 ...  1473.996 secs...\n",
            "Extracting EDF parameters from /content/drive/My Drive/Colab Notebooks/EEG/Dataset/EPILEPSY/00000767_s001_t000.edf...\n",
            "EDF file detected\n",
            "Setting channel info structure...\n",
            "Creating raw.info structure...\n",
            "Reading 0 ... 376499  =      0.000 ...  1505.996 secs...\n",
            "Extracting EDF parameters from /content/drive/My Drive/Colab Notebooks/EEG/Dataset/EPILEPSY/00000883_s001_t002.edf...\n",
            "EDF file detected\n",
            "Setting channel info structure...\n",
            "Creating raw.info structure...\n",
            "Reading 0 ... 3499  =      0.000 ...    13.996 secs...\n",
            "Extracting EDF parameters from /content/drive/My Drive/Colab Notebooks/EEG/Dataset/EPILEPSY/00000883_s001_t001.edf...\n",
            "EDF file detected\n",
            "Setting channel info structure...\n",
            "Creating raw.info structure...\n",
            "Reading 0 ... 298499  =      0.000 ...  1193.996 secs...\n",
            "Extracting EDF parameters from /content/drive/My Drive/Colab Notebooks/EEG/Dataset/EPILEPSY/00000930_s001_t001.edf...\n",
            "EDF file detected\n",
            "Setting channel info structure...\n",
            "Creating raw.info structure...\n",
            "Reading 0 ... 97249  =      0.000 ...   388.996 secs...\n",
            "Extracting EDF parameters from /content/drive/My Drive/Colab Notebooks/EEG/Dataset/EPILEPSY/00000930_s001_t000.edf...\n",
            "EDF file detected\n",
            "Setting channel info structure...\n",
            "Creating raw.info structure...\n",
            "Reading 0 ... 277999  =      0.000 ...  1111.996 secs...\n",
            "Extracting EDF parameters from /content/drive/My Drive/Colab Notebooks/EEG/Dataset/EPILEPSY/00001819_s001_t001.edf...\n",
            "EDF file detected\n",
            "Setting channel info structure...\n",
            "Creating raw.info structure...\n",
            "Reading 0 ... 306999  =      0.000 ...  1227.996 secs...\n",
            "Extracting EDF parameters from /content/drive/My Drive/Colab Notebooks/EEG/Dataset/EPILEPSY/00002309_s001_t001.edf...\n",
            "EDF file detected\n",
            "Setting channel info structure...\n",
            "Creating raw.info structure...\n",
            "Reading 0 ... 320499  =      0.000 ...  1281.996 secs...\n",
            "Extracting EDF parameters from /content/drive/My Drive/Colab Notebooks/EEG/Dataset/EPILEPSY/00002309_s002_t000.edf...\n",
            "EDF file detected\n",
            "Setting channel info structure...\n",
            "Creating raw.info structure...\n",
            "Reading 0 ... 320749  =      0.000 ...  1282.996 secs...\n",
            "Extracting EDF parameters from /content/drive/My Drive/Colab Notebooks/EEG/Dataset/EPILEPSY/00003005_s001_t000.edf...\n",
            "EDF file detected\n",
            "Setting channel info structure...\n",
            "Creating raw.info structure...\n",
            "Reading 0 ... 379499  =      0.000 ...  1517.996 secs...\n",
            "Extracting EDF parameters from /content/drive/My Drive/Colab Notebooks/EEG/Dataset/EPILEPSY/00003005_s003_t000.edf...\n",
            "EDF file detected\n",
            "Setting channel info structure...\n",
            "Creating raw.info structure...\n",
            "Reading 0 ... 300499  =      0.000 ...  1201.996 secs...\n",
            "Extracting EDF parameters from /content/drive/My Drive/Colab Notebooks/EEG/Dataset/EPILEPSY/00003101_s002_t000.edf...\n",
            "EDF file detected\n",
            "Setting channel info structure...\n",
            "Creating raw.info structure...\n",
            "Reading 0 ... 21999  =      0.000 ...    87.996 secs...\n",
            "Extracting EDF parameters from /content/drive/My Drive/Colab Notebooks/EEG/Dataset/EPILEPSY/00003101_s002_t001.edf...\n",
            "EDF file detected\n",
            "Setting channel info structure...\n",
            "Creating raw.info structure...\n",
            "Reading 0 ... 18999  =      0.000 ...    75.996 secs...\n",
            "Extracting EDF parameters from /content/drive/My Drive/Colab Notebooks/EEG/Dataset/EPILEPSY/00003101_s002_t002.edf...\n",
            "EDF file detected\n",
            "Setting channel info structure...\n",
            "Creating raw.info structure...\n",
            "Reading 0 ... 46249  =      0.000 ...   184.996 secs...\n",
            "Extracting EDF parameters from /content/drive/My Drive/Colab Notebooks/EEG/Dataset/EPILEPSY/00003101_s002_t003.edf...\n",
            "EDF file detected\n",
            "Setting channel info structure...\n",
            "Creating raw.info structure...\n",
            "Reading 0 ... 46249  =      0.000 ...   184.996 secs...\n",
            "Extracting EDF parameters from /content/drive/My Drive/Colab Notebooks/EEG/Dataset/EPILEPSY/00003101_s002_t004.edf...\n",
            "EDF file detected\n",
            "Setting channel info structure...\n",
            "Creating raw.info structure...\n",
            "Reading 0 ... 47249  =      0.000 ...   188.996 secs...\n",
            "Extracting EDF parameters from /content/drive/My Drive/Colab Notebooks/EEG/Dataset/EPILEPSY/00003101_s003_t000.edf...\n",
            "EDF file detected\n",
            "Setting channel info structure...\n",
            "Creating raw.info structure...\n",
            "Reading 0 ... 31249  =      0.000 ...   124.996 secs...\n",
            "Extracting EDF parameters from /content/drive/My Drive/Colab Notebooks/EEG/Dataset/EPILEPSY/00003101_s003_t002.edf...\n",
            "EDF file detected\n",
            "Setting channel info structure...\n",
            "Creating raw.info structure...\n",
            "Reading 0 ... 31249  =      0.000 ...   124.996 secs...\n",
            "Extracting EDF parameters from /content/drive/My Drive/Colab Notebooks/EEG/Dataset/EPILEPSY/00003101_s003_t001.edf...\n",
            "EDF file detected\n",
            "Setting channel info structure...\n",
            "Creating raw.info structure...\n",
            "Reading 0 ... 46249  =      0.000 ...   184.996 secs...\n",
            "Extracting EDF parameters from /content/drive/My Drive/Colab Notebooks/EEG/Dataset/EPILEPSY/00003101_s003_t003.edf...\n",
            "EDF file detected\n",
            "Setting channel info structure...\n",
            "Creating raw.info structure...\n",
            "Reading 0 ... 46249  =      0.000 ...   184.996 secs...\n",
            "Extracting EDF parameters from /content/drive/My Drive/Colab Notebooks/EEG/Dataset/EPILEPSY/00003101_s003_t004.edf...\n",
            "EDF file detected\n",
            "Setting channel info structure...\n",
            "Creating raw.info structure...\n",
            "Reading 0 ... 61249  =      0.000 ...   244.996 secs...\n",
            "Extracting EDF parameters from /content/drive/My Drive/Colab Notebooks/EEG/Dataset/EPILEPSY/00003101_s003_t005.edf...\n",
            "EDF file detected\n",
            "Setting channel info structure...\n",
            "Creating raw.info structure...\n",
            "Reading 0 ... 31249  =      0.000 ...   124.996 secs...\n",
            "Extracting EDF parameters from /content/drive/My Drive/Colab Notebooks/EEG/Dataset/EPILEPSY/00003101_s003_t006.edf...\n",
            "EDF file detected\n",
            "Setting channel info structure...\n",
            "Creating raw.info structure...\n",
            "Reading 0 ... 16249  =      0.000 ...    64.996 secs...\n",
            "Extracting EDF parameters from /content/drive/My Drive/Colab Notebooks/EEG/Dataset/EPILEPSY/00003101_s003_t007.edf...\n",
            "EDF file detected\n",
            "Setting channel info structure...\n",
            "Creating raw.info structure...\n",
            "Reading 0 ... 36249  =      0.000 ...   144.996 secs...\n",
            "Extracting EDF parameters from /content/drive/My Drive/Colab Notebooks/EEG/Dataset/EPILEPSY/00003101_s003_t008.edf...\n",
            "EDF file detected\n",
            "Setting channel info structure...\n",
            "Creating raw.info structure...\n",
            "Reading 0 ... 30999  =      0.000 ...   123.996 secs...\n",
            "Extracting EDF parameters from /content/drive/My Drive/Colab Notebooks/EEG/Dataset/EPILEPSY/00003101_s003_t009.edf...\n",
            "EDF file detected\n",
            "Setting channel info structure...\n",
            "Creating raw.info structure...\n",
            "Reading 0 ... 31249  =      0.000 ...   124.996 secs...\n",
            "Extracting EDF parameters from /content/drive/My Drive/Colab Notebooks/EEG/Dataset/EPILEPSY/00003101_s003_t010.edf...\n",
            "EDF file detected\n",
            "Setting channel info structure...\n",
            "Creating raw.info structure...\n",
            "Reading 0 ... 46249  =      0.000 ...   184.996 secs...\n",
            "Extracting EDF parameters from /content/drive/My Drive/Colab Notebooks/EEG/Dataset/EPILEPSY/00003101_s003_t011.edf...\n",
            "EDF file detected\n",
            "Setting channel info structure...\n",
            "Creating raw.info structure...\n",
            "Reading 0 ... 46249  =      0.000 ...   184.996 secs...\n",
            "Extracting EDF parameters from /content/drive/My Drive/Colab Notebooks/EEG/Dataset/EPILEPSY/00003101_s003_t012.edf...\n",
            "EDF file detected\n",
            "Setting channel info structure...\n",
            "Creating raw.info structure...\n",
            "Reading 0 ... 53749  =      0.000 ...   214.996 secs...\n",
            "Extracting EDF parameters from /content/drive/My Drive/Colab Notebooks/EEG/Dataset/EPILEPSY/00003101_s003_t013.edf...\n",
            "EDF file detected\n",
            "Setting channel info structure...\n",
            "Creating raw.info structure...\n",
            "Reading 0 ... 31249  =      0.000 ...   124.996 secs...\n",
            "Extracting EDF parameters from /content/drive/My Drive/Colab Notebooks/EEG/Dataset/EPILEPSY/00003101_s003_t014.edf...\n",
            "EDF file detected\n",
            "Setting channel info structure...\n",
            "Creating raw.info structure...\n",
            "Reading 0 ... 31249  =      0.000 ...   124.996 secs...\n",
            "Extracting EDF parameters from /content/drive/My Drive/Colab Notebooks/EEG/Dataset/EPILEPSY/00003101_s003_t015.edf...\n",
            "EDF file detected\n",
            "Setting channel info structure...\n",
            "Creating raw.info structure...\n",
            "Reading 0 ... 30999  =      0.000 ...   123.996 secs...\n",
            "Extracting EDF parameters from /content/drive/My Drive/Colab Notebooks/EEG/Dataset/EPILEPSY/00003101_s003_t016.edf...\n",
            "EDF file detected\n",
            "Setting channel info structure...\n",
            "Creating raw.info structure...\n",
            "Reading 0 ... 105999  =      0.000 ...   423.996 secs...\n",
            "Extracting EDF parameters from /content/drive/My Drive/Colab Notebooks/EEG/Dataset/EPILEPSY/00003101_s003_t017.edf...\n",
            "EDF file detected\n",
            "Setting channel info structure...\n",
            "Creating raw.info structure...\n",
            "Reading 0 ... 31249  =      0.000 ...   124.996 secs...\n",
            "Extracting EDF parameters from /content/drive/My Drive/Colab Notebooks/EEG/Dataset/EPILEPSY/00003101_s003_t018.edf...\n",
            "EDF file detected\n",
            "Setting channel info structure...\n",
            "Creating raw.info structure...\n",
            "Reading 0 ... 78499  =      0.000 ...   313.996 secs...\n",
            "Extracting EDF parameters from /content/drive/My Drive/Colab Notebooks/EEG/Dataset/EPILEPSY/00003136_s001_t003.edf...\n",
            "EDF file detected\n",
            "Setting channel info structure...\n",
            "Creating raw.info structure...\n",
            "Reading 0 ... 32749  =      0.000 ...   130.996 secs...\n",
            "Extracting EDF parameters from /content/drive/My Drive/Colab Notebooks/EEG/Dataset/EPILEPSY/00003136_s001_t004.edf...\n",
            "EDF file detected\n",
            "Setting channel info structure...\n",
            "Creating raw.info structure...\n",
            "Reading 0 ... 57249  =      0.000 ...   228.996 secs...\n",
            "Extracting EDF parameters from /content/drive/My Drive/Colab Notebooks/EEG/Dataset/EPILEPSY/00003136_s001_t002.edf...\n",
            "EDF file detected\n",
            "Setting channel info structure...\n",
            "Creating raw.info structure...\n",
            "Reading 0 ... 116749  =      0.000 ...   466.996 secs...\n",
            "Extracting EDF parameters from /content/drive/My Drive/Colab Notebooks/EEG/Dataset/EPILEPSY/00003136_s001_t005.edf...\n",
            "EDF file detected\n",
            "Setting channel info structure...\n",
            "Creating raw.info structure...\n",
            "Reading 0 ... 121749  =      0.000 ...   486.996 secs...\n",
            "Extracting EDF parameters from /content/drive/My Drive/Colab Notebooks/EEG/Dataset/EPILEPSY/00003136_s002_t000.edf...\n",
            "EDF file detected\n",
            "Setting channel info structure...\n",
            "Creating raw.info structure...\n",
            "Reading 0 ... 243749  =      0.000 ...   974.996 secs...\n",
            "Extracting EDF parameters from /content/drive/My Drive/Colab Notebooks/EEG/Dataset/EPILEPSY/00003281_s001_t001.edf...\n",
            "EDF file detected\n",
            "Setting channel info structure...\n",
            "Creating raw.info structure...\n",
            "Reading 0 ... 328249  =      0.000 ...  1312.996 secs...\n",
            "Extracting EDF parameters from /content/drive/My Drive/Colab Notebooks/EEG/Dataset/EPILEPSY/00003593_s001_t001.edf...\n",
            "EDF file detected\n",
            "Setting channel info structure...\n",
            "Creating raw.info structure...\n",
            "Reading 0 ... 338499  =      0.000 ...  1353.996 secs...\n",
            "Extracting EDF parameters from /content/drive/My Drive/Colab Notebooks/EEG/Dataset/EPILEPSY/00003593_s002_t001.edf...\n",
            "EDF file detected\n",
            "Setting channel info structure...\n",
            "Creating raw.info structure...\n",
            "Reading 0 ... 293749  =      0.000 ...  1174.996 secs...\n",
            "Extracting EDF parameters from /content/drive/My Drive/Colab Notebooks/EEG/Dataset/EPILEPSY/00003593_s003_t000.edf...\n",
            "EDF file detected\n",
            "Setting channel info structure...\n",
            "Creating raw.info structure...\n",
            "Reading 0 ... 354999  =      0.000 ...  1419.996 secs...\n",
            "Extracting EDF parameters from /content/drive/My Drive/Colab Notebooks/EEG/Dataset/EPILEPSY/00003667_s002_t000.edf...\n",
            "EDF file detected\n",
            "Setting channel info structure...\n",
            "Creating raw.info structure...\n",
            "Reading 0 ... 359999  =      0.000 ...  1439.996 secs...\n",
            "Extracting EDF parameters from /content/drive/My Drive/Colab Notebooks/EEG/Dataset/EPILEPSY/00004401_s001_t000.edf...\n",
            "EDF file detected\n",
            "Setting channel info structure...\n",
            "Creating raw.info structure...\n",
            "Reading 0 ... 300499  =      0.000 ...  1201.996 secs...\n",
            "Extracting EDF parameters from /content/drive/My Drive/Colab Notebooks/EEG/Dataset/EPILEPSY/00004671_s001_t001.edf...\n",
            "EDF file detected\n",
            "Setting channel info structure...\n",
            "Creating raw.info structure...\n",
            "Reading 0 ... 304999  =      0.000 ...  1219.996 secs...\n",
            "Extracting EDF parameters from /content/drive/My Drive/Colab Notebooks/EEG/Dataset/EPILEPSY/00005522_s001_t000.edf...\n",
            "EDF file detected\n",
            "Setting channel info structure...\n",
            "Creating raw.info structure...\n",
            "Reading 0 ... 328749  =      0.000 ...  1314.996 secs...\n",
            "Extracting EDF parameters from /content/drive/My Drive/Colab Notebooks/EEG/Dataset/EPILEPSY/00005522_s002_t000.edf...\n",
            "EDF file detected\n",
            "Setting channel info structure...\n",
            "Creating raw.info structure...\n",
            "Reading 0 ... 319749  =      0.000 ...  1278.996 secs...\n",
            "Extracting EDF parameters from /content/drive/My Drive/Colab Notebooks/EEG/Dataset/EPILEPSY/00005522_s003_t000.edf...\n",
            "EDF file detected\n",
            "Setting channel info structure...\n",
            "Creating raw.info structure...\n",
            "Reading 0 ... 301499  =      0.000 ...  1205.996 secs...\n",
            "Extracting EDF parameters from /content/drive/My Drive/Colab Notebooks/EEG/Dataset/EPILEPSY/00005551_s001_t001.edf...\n",
            "EDF file detected\n",
            "Setting channel info structure...\n",
            "Creating raw.info structure...\n",
            "Reading 0 ... 59499  =      0.000 ...   237.996 secs...\n",
            "Extracting EDF parameters from /content/drive/My Drive/Colab Notebooks/EEG/Dataset/EPILEPSY/00005551_s001_t002.edf...\n",
            "EDF file detected\n",
            "Setting channel info structure...\n",
            "Creating raw.info structure...\n",
            "Reading 0 ... 235749  =      0.000 ...   942.996 secs...\n",
            "Extracting EDF parameters from /content/drive/My Drive/Colab Notebooks/EEG/Dataset/EPILEPSY/00005553_s001_t000.edf...\n",
            "EDF file detected\n",
            "Setting channel info structure...\n",
            "Creating raw.info structure...\n",
            "Reading 0 ... 301999  =      0.000 ...  1207.996 secs...\n",
            "Extracting EDF parameters from /content/drive/My Drive/Colab Notebooks/EEG/Dataset/EPILEPSY/00005551_s002_t001.edf...\n",
            "EDF file detected\n",
            "Setting channel info structure...\n",
            "Creating raw.info structure...\n",
            "Reading 0 ... 297499  =      0.000 ...  1189.996 secs...\n",
            "Extracting EDF parameters from /content/drive/My Drive/Colab Notebooks/EEG/Dataset/EPILEPSY/00005641_s001_t000.edf...\n",
            "EDF file detected\n",
            "Setting channel info structure...\n",
            "Creating raw.info structure...\n",
            "Reading 0 ... 304999  =      0.000 ...  1219.996 secs...\n",
            "Extracting EDF parameters from /content/drive/My Drive/Colab Notebooks/EEG/Dataset/EPILEPSY/00005641_s002_t001.edf...\n",
            "EDF file detected\n",
            "Setting channel info structure...\n",
            "Creating raw.info structure...\n",
            "Reading 0 ... 390249  =      0.000 ...  1560.996 secs...\n",
            "Extracting EDF parameters from /content/drive/My Drive/Colab Notebooks/EEG/Dataset/EPILEPSY/00005745_s001_t000.edf...\n",
            "EDF file detected\n",
            "Setting channel info structure...\n",
            "Creating raw.info structure...\n",
            "Reading 0 ... 302999  =      0.000 ...  1211.996 secs...\n",
            "Extracting EDF parameters from /content/drive/My Drive/Colab Notebooks/EEG/Dataset/EPILEPSY/00005765_s001_t000.edf...\n",
            "EDF file detected\n",
            "Setting channel info structure...\n",
            "Creating raw.info structure...\n",
            "Reading 0 ... 303249  =      0.000 ...  1212.996 secs...\n",
            "Extracting EDF parameters from /content/drive/My Drive/Colab Notebooks/EEG/Dataset/EPILEPSY/00005765_s006_t000.edf...\n",
            "EDF file detected\n",
            "Setting channel info structure...\n",
            "Creating raw.info structure...\n",
            "Reading 0 ... 300499  =      0.000 ...  1201.996 secs...\n",
            "Extracting EDF parameters from /content/drive/My Drive/Colab Notebooks/EEG/Dataset/EPILEPSY/00005765_s002_t000.edf...\n",
            "EDF file detected\n",
            "Setting channel info structure...\n",
            "Creating raw.info structure...\n",
            "Reading 0 ... 301499  =      0.000 ...  1205.996 secs...\n",
            "Extracting EDF parameters from /content/drive/My Drive/Colab Notebooks/EEG/Dataset/EPILEPSY/00006514_s007_t000.edf...\n",
            "EDF file detected\n",
            "Setting channel info structure...\n",
            "Creating raw.info structure...\n",
            "Reading 0 ... 4749  =      0.000 ...    18.996 secs...\n",
            "Extracting EDF parameters from /content/drive/My Drive/Colab Notebooks/EEG/Dataset/EPILEPSY/00006514_s008_t000.edf...\n",
            "EDF file detected\n",
            "Setting channel info structure...\n",
            "Creating raw.info structure...\n",
            "Reading 0 ... 38499  =      0.000 ...   153.996 secs...\n",
            "Extracting EDF parameters from /content/drive/My Drive/Colab Notebooks/EEG/Dataset/EPILEPSY/00006514_s007_t001.edf...\n",
            "EDF file detected\n",
            "Setting channel info structure...\n",
            "Creating raw.info structure...\n",
            "Reading 0 ... 188749  =      0.000 ...   754.996 secs...\n",
            "Extracting EDF parameters from /content/drive/My Drive/Colab Notebooks/EEG/Dataset/EPILEPSY/00006514_s008_t001.edf...\n",
            "EDF file detected\n",
            "Setting channel info structure...\n",
            "Creating raw.info structure...\n",
            "Reading 0 ... 269249  =      0.000 ...  1076.996 secs...\n",
            "Extracting EDF parameters from /content/drive/My Drive/Colab Notebooks/EEG/Dataset/EPILEPSY/00006514_s020_t000.edf...\n",
            "EDF file detected\n",
            "Setting channel info structure...\n",
            "Creating raw.info structure...\n",
            "Reading 0 ... 80249  =      0.000 ...   320.996 secs...\n",
            "Extracting EDF parameters from /content/drive/My Drive/Colab Notebooks/EEG/Dataset/EPILEPSY/00006514_s019_t001.edf...\n",
            "EDF file detected\n",
            "Setting channel info structure...\n",
            "Creating raw.info structure...\n",
            "Reading 0 ... 302749  =      0.000 ...  1210.996 secs...\n",
            "Extracting EDF parameters from /content/drive/My Drive/Colab Notebooks/EEG/Dataset/EPILEPSY/00006514_s020_t001.edf...\n",
            "EDF file detected\n",
            "Setting channel info structure...\n",
            "Creating raw.info structure...\n",
            "Reading 0 ... 35249  =      0.000 ...   140.996 secs...\n",
            "Extracting EDF parameters from /content/drive/My Drive/Colab Notebooks/EEG/Dataset/EPILEPSY/00006514_s020_t002.edf...\n",
            "EDF file detected\n",
            "Setting channel info structure...\n",
            "Creating raw.info structure...\n",
            "Reading 0 ... 17749  =      0.000 ...    70.996 secs...\n",
            "Extracting EDF parameters from /content/drive/My Drive/Colab Notebooks/EEG/Dataset/EPILEPSY/00006514_s020_t003.edf...\n",
            "EDF file detected\n",
            "Setting channel info structure...\n",
            "Creating raw.info structure...\n",
            "Reading 0 ... 57749  =      0.000 ...   230.996 secs...\n",
            "Extracting EDF parameters from /content/drive/My Drive/Colab Notebooks/EEG/Dataset/EPILEPSY/00006514_s020_t004.edf...\n",
            "EDF file detected\n",
            "Setting channel info structure...\n",
            "Creating raw.info structure...\n",
            "Reading 0 ... 32749  =      0.000 ...   130.996 secs...\n",
            "Extracting EDF parameters from /content/drive/My Drive/Colab Notebooks/EEG/Dataset/EPILEPSY/00006514_s020_t005.edf...\n",
            "EDF file detected\n",
            "Setting channel info structure...\n",
            "Creating raw.info structure...\n",
            "Reading 0 ... 59999  =      0.000 ...   239.996 secs...\n",
            "Extracting EDF parameters from /content/drive/My Drive/Colab Notebooks/EEG/Dataset/EPILEPSY/00006514_s020_t006.edf...\n",
            "EDF file detected\n",
            "Setting channel info structure...\n",
            "Creating raw.info structure...\n",
            "Reading 0 ... 4999  =      0.000 ...    19.996 secs...\n",
            "Extracting EDF parameters from /content/drive/My Drive/Colab Notebooks/EEG/Dataset/EPILEPSY/00006514_s020_t007.edf...\n",
            "EDF file detected\n",
            "Setting channel info structure...\n",
            "Creating raw.info structure...\n",
            "Reading 0 ... 60249  =      0.000 ...   240.996 secs...\n",
            "Extracting EDF parameters from /content/drive/My Drive/Colab Notebooks/EEG/Dataset/EPILEPSY/00006514_s020_t008.edf...\n",
            "EDF file detected\n",
            "Setting channel info structure...\n",
            "Creating raw.info structure...\n",
            "Reading 0 ... 72499  =      0.000 ...   289.996 secs...\n",
            "Extracting EDF parameters from /content/drive/My Drive/Colab Notebooks/EEG/Dataset/EPILEPSY/00006514_s023_t000.edf...\n",
            "EDF file detected\n",
            "Setting channel info structure...\n",
            "Creating raw.info structure...\n",
            "Reading 0 ... 300749  =      0.000 ...  1202.996 secs...\n",
            "Extracting EDF parameters from /content/drive/My Drive/Colab Notebooks/EEG/Dataset/EPILEPSY/00006514_s022_t000.edf...\n",
            "EDF file detected\n",
            "Setting channel info structure...\n",
            "Creating raw.info structure...\n",
            "Reading 0 ... 300749  =      0.000 ...  1202.996 secs...\n",
            "Extracting EDF parameters from /content/drive/My Drive/Colab Notebooks/EEG/Dataset/EPILEPSY/00006514_s025_t000.edf...\n",
            "EDF file detected\n",
            "Setting channel info structure...\n",
            "Creating raw.info structure...\n",
            "Reading 0 ... 10999  =      0.000 ...    43.996 secs...\n",
            "Extracting EDF parameters from /content/drive/My Drive/Colab Notebooks/EEG/Dataset/EPILEPSY/00006514_s024_t001.edf...\n",
            "EDF file detected\n",
            "Setting channel info structure...\n",
            "Creating raw.info structure...\n",
            "Reading 0 ... 311749  =      0.000 ...  1246.996 secs...\n",
            "Extracting EDF parameters from /content/drive/My Drive/Colab Notebooks/EEG/Dataset/EPILEPSY/00006514_s025_t001.edf...\n",
            "EDF file detected\n",
            "Setting channel info structure...\n",
            "Creating raw.info structure...\n",
            "Reading 0 ... 291499  =      0.000 ...  1165.996 secs...\n",
            "Extracting EDF parameters from /content/drive/My Drive/Colab Notebooks/EEG/Dataset/EPILEPSY/00006607_s002_t001.edf...\n",
            "EDF file detected\n",
            "Setting channel info structure...\n",
            "Creating raw.info structure...\n",
            "Reading 0 ... 297249  =      0.000 ...  1188.996 secs...\n",
            "Extracting EDF parameters from /content/drive/My Drive/Colab Notebooks/EEG/Dataset/EPILEPSY/00006607_s004_t000.edf...\n",
            "EDF file detected\n",
            "Setting channel info structure...\n",
            "Creating raw.info structure...\n",
            "Reading 0 ... 301999  =      0.000 ...  1207.996 secs...\n",
            "Extracting EDF parameters from /content/drive/My Drive/Colab Notebooks/EEG/Dataset/EPILEPSY/00006607_s006_t001.edf...\n",
            "EDF file detected\n",
            "Setting channel info structure...\n",
            "Creating raw.info structure...\n",
            "Reading 0 ... 299999  =      0.000 ...  1199.996 secs...\n",
            "Extracting EDF parameters from /content/drive/My Drive/Colab Notebooks/EEG/Dataset/EPILEPSY/00007065_s001_t001.edf...\n",
            "EDF file detected\n",
            "Setting channel info structure...\n",
            "Creating raw.info structure...\n",
            "Reading 0 ... 310999  =      0.000 ...  1243.996 secs...\n",
            "Extracting EDF parameters from /content/drive/My Drive/Colab Notebooks/EEG/Dataset/EPILEPSY/00007067_s001_t001.edf...\n",
            "EDF file detected\n",
            "Setting channel info structure...\n",
            "Creating raw.info structure...\n",
            "Reading 0 ... 298999  =      0.000 ...  1195.996 secs...\n",
            "Extracting EDF parameters from /content/drive/My Drive/Colab Notebooks/EEG/Dataset/EPILEPSY/00007140_s002_t001.edf...\n",
            "EDF file detected\n",
            "Setting channel info structure...\n",
            "Creating raw.info structure...\n",
            "Reading 0 ... 299999  =      0.000 ...  1199.996 secs...\n",
            "Extracting EDF parameters from /content/drive/My Drive/Colab Notebooks/EEG/Dataset/EPILEPSY/00007572_s001_t002.edf...\n",
            "EDF file detected\n",
            "Setting channel info structure...\n",
            "Creating raw.info structure...\n",
            "Reading 0 ... 88999  =      0.000 ...   355.996 secs...\n",
            "Extracting EDF parameters from /content/drive/My Drive/Colab Notebooks/EEG/Dataset/EPILEPSY/00007666_s001_t000.edf...\n",
            "EDF file detected\n",
            "Setting channel info structure...\n",
            "Creating raw.info structure...\n",
            "Reading 0 ... 500999  =      0.000 ...  2003.996 secs...\n",
            "Extracting EDF parameters from /content/drive/My Drive/Colab Notebooks/EEG/Dataset/EPILEPSY/00007666_s001_t001.edf...\n",
            "EDF file detected\n",
            "Setting channel info structure...\n",
            "Creating raw.info structure...\n",
            "Reading 0 ... 312499  =      0.000 ...  1249.996 secs...\n",
            "Extracting EDF parameters from /content/drive/My Drive/Colab Notebooks/EEG/Dataset/EPILEPSY/00007666_s002_t000.edf...\n",
            "EDF file detected\n",
            "Setting channel info structure...\n",
            "Creating raw.info structure...\n",
            "Reading 0 ... 300249  =      0.000 ...  1200.996 secs...\n",
            "Extracting EDF parameters from /content/drive/My Drive/Colab Notebooks/EEG/Dataset/EPILEPSY/00007666_s003_t000.edf...\n",
            "EDF file detected\n",
            "Setting channel info structure...\n",
            "Creating raw.info structure...\n",
            "Reading 0 ... 302499  =      0.000 ...  1209.996 secs...\n",
            "Extracting EDF parameters from /content/drive/My Drive/Colab Notebooks/EEG/Dataset/EPILEPSY/00007813_s001_t000.edf...\n",
            "EDF file detected\n",
            "Setting channel info structure...\n",
            "Creating raw.info structure...\n",
            "Reading 0 ... 384999  =      0.000 ...  1539.996 secs...\n",
            "Extracting EDF parameters from /content/drive/My Drive/Colab Notebooks/EEG/Dataset/EPILEPSY/00007813_s002_t000.edf...\n",
            "EDF file detected\n",
            "Setting channel info structure...\n",
            "Creating raw.info structure...\n",
            "Reading 0 ... 307499  =      0.000 ...  1229.996 secs...\n",
            "Extracting EDF parameters from /content/drive/My Drive/Colab Notebooks/EEG/Dataset/EPILEPSY/00007962_s001_t000.edf...\n",
            "EDF file detected\n",
            "Setting channel info structure...\n",
            "Creating raw.info structure...\n",
            "Reading 0 ... 300999  =      0.000 ...  1203.996 secs...\n",
            "Extracting EDF parameters from /content/drive/My Drive/Colab Notebooks/EEG/Dataset/NO EPILEPSY/00002744_s001_t000.edf...\n",
            "EDF file detected\n",
            "Setting channel info structure...\n",
            "Creating raw.info structure...\n",
            "Reading 0 ... 318749  =      0.000 ...  1274.996 secs...\n",
            "Extracting EDF parameters from /content/drive/My Drive/Colab Notebooks/EEG/Dataset/NO EPILEPSY/00003612_s001_t000.edf...\n",
            "EDF file detected\n",
            "Setting channel info structure...\n",
            "Creating raw.info structure...\n",
            "Reading 0 ... 301249  =      0.000 ...  1204.996 secs...\n",
            "Extracting EDF parameters from /content/drive/My Drive/Colab Notebooks/EEG/Dataset/NO EPILEPSY/00005573_s001_t000.edf...\n",
            "EDF file detected\n",
            "Setting channel info structure...\n",
            "Creating raw.info structure...\n",
            "Reading 0 ... 301499  =      0.000 ...  1205.996 secs...\n",
            "Extracting EDF parameters from /content/drive/My Drive/Colab Notebooks/EEG/Dataset/NO EPILEPSY/00005573_s002_t001.edf...\n",
            "EDF file detected\n",
            "Setting channel info structure...\n",
            "Creating raw.info structure...\n",
            "Reading 0 ... 323249  =      0.000 ...  1292.996 secs...\n",
            "Extracting EDF parameters from /content/drive/My Drive/Colab Notebooks/EEG/Dataset/NO EPILEPSY/00006493_s001_t000.edf...\n",
            "EDF file detected\n",
            "Setting channel info structure...\n",
            "Creating raw.info structure...\n",
            "Reading 0 ... 33749  =      0.000 ...   134.996 secs...\n",
            "Extracting EDF parameters from /content/drive/My Drive/Colab Notebooks/EEG/Dataset/NO EPILEPSY/00006493_s001_t001.edf...\n",
            "EDF file detected\n",
            "Setting channel info structure...\n",
            "Creating raw.info structure...\n",
            "Reading 0 ... 266999  =      0.000 ...  1067.996 secs...\n",
            "Extracting EDF parameters from /content/drive/My Drive/Colab Notebooks/EEG/Dataset/NO EPILEPSY/00006533_s001_t002.edf...\n",
            "EDF file detected\n",
            "Setting channel info structure...\n",
            "Creating raw.info structure...\n",
            "Reading 0 ... 64499  =      0.000 ...   257.996 secs...\n",
            "Extracting EDF parameters from /content/drive/My Drive/Colab Notebooks/EEG/Dataset/NO EPILEPSY/00006533_s001_t001.edf...\n",
            "EDF file detected\n",
            "Setting channel info structure...\n",
            "Creating raw.info structure...\n",
            "Reading 0 ... 280249  =      0.000 ...  1120.996 secs...\n",
            "Extracting EDF parameters from /content/drive/My Drive/Colab Notebooks/EEG/Dataset/NO EPILEPSY/00006533_s002_t000.edf...\n",
            "EDF file detected\n",
            "Setting channel info structure...\n",
            "Creating raw.info structure...\n",
            "Reading 0 ... 301999  =      0.000 ...  1207.996 secs...\n",
            "Extracting EDF parameters from /content/drive/My Drive/Colab Notebooks/EEG/Dataset/NO EPILEPSY/00006567_s001_t001.edf...\n",
            "EDF file detected\n",
            "Setting channel info structure...\n",
            "Creating raw.info structure...\n",
            "Reading 0 ... 297249  =      0.000 ...  1188.996 secs...\n",
            "Extracting EDF parameters from /content/drive/My Drive/Colab Notebooks/EEG/Dataset/NO EPILEPSY/00006815_s001_t000.edf...\n",
            "EDF file detected\n",
            "Setting channel info structure...\n",
            "Creating raw.info structure...\n",
            "Reading 0 ... 307999  =      0.000 ...  1231.996 secs...\n",
            "Extracting EDF parameters from /content/drive/My Drive/Colab Notebooks/EEG/Dataset/NO EPILEPSY/00006917_s001_t000.edf...\n",
            "EDF file detected\n",
            "Setting channel info structure...\n",
            "Creating raw.info structure...\n",
            "Reading 0 ... 312749  =      0.000 ...  1250.996 secs...\n",
            "Extracting EDF parameters from /content/drive/My Drive/Colab Notebooks/EEG/Dataset/NO EPILEPSY/00006980_s001_t002.edf...\n",
            "EDF file detected\n",
            "Setting channel info structure...\n",
            "Creating raw.info structure...\n",
            "Reading 0 ... 288249  =      0.000 ...  1152.996 secs...\n",
            "Extracting EDF parameters from /content/drive/My Drive/Colab Notebooks/EEG/Dataset/NO EPILEPSY/00006980_s002_t001.edf...\n",
            "EDF file detected\n",
            "Setting channel info structure...\n",
            "Creating raw.info structure...\n",
            "Reading 0 ... 301249  =      0.000 ...  1204.996 secs...\n",
            "Extracting EDF parameters from /content/drive/My Drive/Colab Notebooks/EEG/Dataset/NO EPILEPSY/00007073_s001_t000.edf...\n",
            "EDF file detected\n",
            "Setting channel info structure...\n",
            "Creating raw.info structure...\n",
            "Reading 0 ... 314499  =      0.000 ...  1257.996 secs...\n",
            "Extracting EDF parameters from /content/drive/My Drive/Colab Notebooks/EEG/Dataset/NO EPILEPSY/00007834_s001_t001.edf...\n",
            "EDF file detected\n",
            "Setting channel info structure...\n",
            "Creating raw.info structure...\n",
            "Reading 0 ... 109749  =      0.000 ...   438.996 secs...\n",
            "Extracting EDF parameters from /content/drive/My Drive/Colab Notebooks/EEG/Dataset/NO EPILEPSY/00007834_s001_t003.edf...\n",
            "EDF file detected\n",
            "Setting channel info structure...\n",
            "Creating raw.info structure...\n",
            "Reading 0 ... 3499  =      0.000 ...    13.996 secs...\n",
            "Extracting EDF parameters from /content/drive/My Drive/Colab Notebooks/EEG/Dataset/NO EPILEPSY/00007834_s001_t002.edf...\n",
            "EDF file detected\n",
            "Setting channel info structure...\n",
            "Creating raw.info structure...\n",
            "Reading 0 ... 187499  =      0.000 ...   749.996 secs...\n",
            "Extracting EDF parameters from /content/drive/My Drive/Colab Notebooks/EEG/Dataset/NO EPILEPSY/00007834_s002_t001.edf...\n",
            "EDF file detected\n",
            "Setting channel info structure...\n",
            "Creating raw.info structure...\n",
            "Reading 0 ... 69249  =      0.000 ...   276.996 secs...\n",
            "Extracting EDF parameters from /content/drive/My Drive/Colab Notebooks/EEG/Dataset/NO EPILEPSY/00007834_s002_t002.edf...\n",
            "EDF file detected\n",
            "Setting channel info structure...\n",
            "Creating raw.info structure...\n",
            "Reading 0 ... 22749  =      0.000 ...    90.996 secs...\n",
            "Extracting EDF parameters from /content/drive/My Drive/Colab Notebooks/EEG/Dataset/NO EPILEPSY/00007834_s002_t004.edf...\n",
            "EDF file detected\n",
            "Setting channel info structure...\n",
            "Creating raw.info structure...\n",
            "Reading 0 ... 162249  =      0.000 ...   648.996 secs...\n",
            "Extracting EDF parameters from /content/drive/My Drive/Colab Notebooks/EEG/Dataset/NO EPILEPSY/00007834_s002_t003.edf...\n",
            "EDF file detected\n",
            "Setting channel info structure...\n",
            "Creating raw.info structure...\n",
            "Reading 0 ... 43499  =      0.000 ...   173.996 secs...\n",
            "Extracting EDF parameters from /content/drive/My Drive/Colab Notebooks/EEG/Dataset/NO EPILEPSY/00007848_s001_t001.edf...\n",
            "EDF file detected\n",
            "Setting channel info structure...\n",
            "Creating raw.info structure...\n",
            "Reading 0 ... 297249  =      0.000 ...  1188.996 secs...\n",
            "Extracting EDF parameters from /content/drive/My Drive/Colab Notebooks/EEG/Dataset/NO EPILEPSY/00007862_s001_t001.edf...\n",
            "EDF file detected\n",
            "Setting channel info structure...\n",
            "Creating raw.info structure...\n",
            "Reading 0 ... 297999  =      0.000 ...  1191.996 secs...\n",
            "Extracting EDF parameters from /content/drive/My Drive/Colab Notebooks/EEG/Dataset/NO EPILEPSY/00008066_s001_t000.edf...\n",
            "EDF file detected\n",
            "Setting channel info structure...\n",
            "Creating raw.info structure...\n",
            "Reading 0 ... 6749  =      0.000 ...    26.996 secs...\n",
            "Extracting EDF parameters from /content/drive/My Drive/Colab Notebooks/EEG/Dataset/NO EPILEPSY/00008037_s001_t000.edf...\n",
            "EDF file detected\n",
            "Setting channel info structure...\n",
            "Creating raw.info structure...\n",
            "Reading 0 ... 300999  =      0.000 ...  1203.996 secs...\n",
            "Extracting EDF parameters from /content/drive/My Drive/Colab Notebooks/EEG/Dataset/NO EPILEPSY/00008066_s001_t001.edf...\n",
            "EDF file detected\n",
            "Setting channel info structure...\n",
            "Creating raw.info structure...\n",
            "Reading 0 ... 301749  =      0.000 ...  1206.996 secs...\n",
            "Extracting EDF parameters from /content/drive/My Drive/Colab Notebooks/EEG/Dataset/NO EPILEPSY/00008090_s001_t000.edf...\n",
            "EDF file detected\n",
            "Setting channel info structure...\n",
            "Creating raw.info structure...\n",
            "Reading 0 ... 185999  =      0.000 ...   743.996 secs...\n",
            "Extracting EDF parameters from /content/drive/My Drive/Colab Notebooks/EEG/Dataset/NO EPILEPSY/00008090_s001_t001.edf...\n",
            "EDF file detected\n",
            "Setting channel info structure...\n",
            "Creating raw.info structure...\n",
            "Reading 0 ... 122999  =      0.000 ...   491.996 secs...\n",
            "Extracting EDF parameters from /content/drive/My Drive/Colab Notebooks/EEG/Dataset/NO EPILEPSY/00008130_s001_t000.edf...\n",
            "EDF file detected\n",
            "Setting channel info structure...\n",
            "Creating raw.info structure...\n",
            "Reading 0 ... 303499  =      0.000 ...  1213.996 secs...\n",
            "Extracting EDF parameters from /content/drive/My Drive/Colab Notebooks/EEG/Dataset/NO EPILEPSY/00008134_s001_t001.edf...\n",
            "EDF file detected\n",
            "Setting channel info structure...\n",
            "Creating raw.info structure...\n",
            "Reading 0 ... 70999  =      0.000 ...   283.996 secs...\n",
            "Extracting EDF parameters from /content/drive/My Drive/Colab Notebooks/EEG/Dataset/NO EPILEPSY/00008138_s001_t000.edf...\n",
            "EDF file detected\n",
            "Setting channel info structure...\n",
            "Creating raw.info structure...\n",
            "Reading 0 ... 345749  =      0.000 ...  1382.996 secs...\n",
            "Extracting EDF parameters from /content/drive/My Drive/Colab Notebooks/EEG/Dataset/NO EPILEPSY/00008134_s001_t002.edf...\n",
            "EDF file detected\n",
            "Setting channel info structure...\n",
            "Creating raw.info structure...\n",
            "Reading 0 ... 238499  =      0.000 ...   953.996 secs...\n",
            "Extracting EDF parameters from /content/drive/My Drive/Colab Notebooks/EEG/Dataset/NO EPILEPSY/00008240_s001_t000.edf...\n",
            "EDF file detected\n",
            "Setting channel info structure...\n",
            "Creating raw.info structure...\n",
            "Reading 0 ... 312749  =      0.000 ...  1250.996 secs...\n"
          ],
          "name": "stdout"
        }
      ]
    },
    {
      "cell_type": "code",
      "metadata": {
        "id": "P1JzjHKE9QrB",
        "outputId": "0de26e52-8e3e-410d-c2ed-b19783c56d87",
        "colab": {
          "base_uri": "https://localhost:8080/",
          "height": 649
        }
      },
      "source": [
        "print(len(epfnames))\n",
        "print(channels)\n",
        "print(epfnames)\n",
        "print(len(noepfnames))\n",
        "\n",
        "# picks : 24 channels that every raw have\n",
        "picks = [ch for ch in channels if channels[ch] >= len(epfnames)]\n",
        "print(picks)\n",
        "print(len(picks))\n",
        "\n",
        "\n",
        "print(epraws[0])\n",
        "print(epraws[0].info)\n",
        "print(epraws[0]['data'])\n",
        "print(len(epraws[0]['data'][0][0]))"
      ],
      "execution_count": null,
      "outputs": [
        {
          "output_type": "stream",
          "text": [
            "97\n",
            "{'EEG FP1-LE': 97, 'EEG FP2-LE': 97, 'EEG F3-LE': 97, 'EEG F4-LE': 97, 'EEG C3-LE': 97, 'EEG C4-LE': 97, 'EEG A1-LE': 97, 'EEG A2-LE': 97, 'EEG P3-LE': 97, 'EEG P4-LE': 97, 'EEG O1-LE': 97, 'EEG O2-LE': 97, 'EEG F7-LE': 97, 'EEG F8-LE': 97, 'EEG T3-LE': 97, 'EEG T4-LE': 97, 'EEG T5-LE': 97, 'EEG T6-LE': 97, 'EEG FZ-LE': 97, 'EEG CZ-LE': 97, 'EEG PZ-LE': 97, 'EEG OZ-LE': 97, 'EEG PG1-LE': 88, 'EEG PG2-LE': 88, 'EEG EKG-LE': 97, 'EEG SP2-LE': 10, 'EEG SP1-LE': 10, 'EEG 28-LE': 93, 'EEG 29-LE': 93, 'EEG 30-LE': 97, 'EEG T1-LE': 19, 'EEG T2-LE': 19, 'PHOTIC PH': 88, 'EEG 26-LE': 87, 'EEG 27-LE': 87, 'EEG 31-LE': 78, 'EEG 32-LE': 78, 'DC1-DC': 78, 'DC2-DC': 78, 'DC3-DC': 78, 'DC4-DC': 78, 'DC5-DC': 78, 'DC6-DC': 78, 'DC7-DC': 78, 'DC8-DC': 78, 'EEG RLC-LE': 4, 'EEG LUC-LE': 4, 'EEG 23-LE': 9, 'EEG 24-LE': 9}\n",
            "['00000355_s001_t001.edf', '00000355_s002_t000.edf', '00000355_s002_t001.edf', '00000592_s001_t001.edf', '00000592_s002_t000.edf', '00000767_s001_t000.edf', '00000883_s001_t002.edf', '00000883_s001_t001.edf', '00000930_s001_t001.edf', '00000930_s001_t000.edf', '00001819_s001_t001.edf', '00002309_s001_t001.edf', '00002309_s002_t000.edf', '00003005_s001_t000.edf', '00003005_s003_t000.edf', '00003101_s002_t000.edf', '00003101_s002_t001.edf', '00003101_s002_t002.edf', '00003101_s002_t003.edf', '00003101_s002_t004.edf', '00003101_s003_t000.edf', '00003101_s003_t002.edf', '00003101_s003_t001.edf', '00003101_s003_t003.edf', '00003101_s003_t004.edf', '00003101_s003_t005.edf', '00003101_s003_t006.edf', '00003101_s003_t007.edf', '00003101_s003_t008.edf', '00003101_s003_t009.edf', '00003101_s003_t010.edf', '00003101_s003_t011.edf', '00003101_s003_t012.edf', '00003101_s003_t013.edf', '00003101_s003_t014.edf', '00003101_s003_t015.edf', '00003101_s003_t016.edf', '00003101_s003_t017.edf', '00003101_s003_t018.edf', '00003136_s001_t003.edf', '00003136_s001_t004.edf', '00003136_s001_t002.edf', '00003136_s001_t005.edf', '00003136_s002_t000.edf', '00003281_s001_t001.edf', '00003593_s001_t001.edf', '00003593_s002_t001.edf', '00003593_s003_t000.edf', '00003667_s002_t000.edf', '00004401_s001_t000.edf', '00004671_s001_t001.edf', '00005522_s001_t000.edf', '00005522_s002_t000.edf', '00005522_s003_t000.edf', '00005551_s001_t001.edf', '00005551_s001_t002.edf', '00005553_s001_t000.edf', '00005551_s002_t001.edf', '00005641_s001_t000.edf', '00005641_s002_t001.edf', '00005745_s001_t000.edf', '00005765_s001_t000.edf', '00005765_s006_t000.edf', '00005765_s002_t000.edf', '00006514_s007_t000.edf', '00006514_s008_t000.edf', '00006514_s007_t001.edf', '00006514_s008_t001.edf', '00006514_s020_t000.edf', '00006514_s019_t001.edf', '00006514_s020_t001.edf', '00006514_s020_t002.edf', '00006514_s020_t003.edf', '00006514_s020_t004.edf', '00006514_s020_t005.edf', '00006514_s020_t006.edf', '00006514_s020_t007.edf', '00006514_s020_t008.edf', '00006514_s023_t000.edf', '00006514_s022_t000.edf', '00006514_s025_t000.edf', '00006514_s024_t001.edf', '00006514_s025_t001.edf', '00006607_s002_t001.edf', '00006607_s004_t000.edf', '00006607_s006_t001.edf', '00007065_s001_t001.edf', '00007067_s001_t001.edf', '00007140_s002_t001.edf', '00007572_s001_t002.edf', '00007666_s001_t000.edf', '00007666_s001_t001.edf', '00007666_s002_t000.edf', '00007666_s003_t000.edf', '00007813_s001_t000.edf', '00007813_s002_t000.edf', '00007962_s001_t000.edf']\n",
            "34\n",
            "['EEG FP1-LE', 'EEG FP2-LE', 'EEG F3-LE', 'EEG F4-LE', 'EEG C3-LE', 'EEG C4-LE', 'EEG A1-LE', 'EEG A2-LE', 'EEG P3-LE', 'EEG P4-LE', 'EEG O1-LE', 'EEG O2-LE', 'EEG F7-LE', 'EEG F8-LE', 'EEG T3-LE', 'EEG T4-LE', 'EEG T5-LE', 'EEG T6-LE', 'EEG FZ-LE', 'EEG CZ-LE', 'EEG PZ-LE', 'EEG OZ-LE', 'EEG EKG-LE', 'EEG 30-LE']\n",
            "24\n",
            "<RawEDF | 00000355_s001_t001.edf, 33 x 303500 (1214.0 s), ~76.5 MB, data loaded>\n",
            "<Info | 7 non-empty values\n",
            " bads: []\n",
            " ch_names: EEG FP1-LE, EEG FP2-LE, EEG F3-LE, EEG F4-LE, EEG C3-LE, EEG ...\n",
            " chs: 33 EEG\n",
            " custom_ref_applied: False\n",
            " highpass: 0.0 Hz\n",
            " lowpass: 125.0 Hz\n",
            " meas_date: 2003-10-14 11:04:05 UTC\n",
            " nchan: 33\n",
            " projs: []\n",
            " sfreq: 250.0 Hz\n",
            ">\n",
            "(array([[-2.81982568e-04, -2.85034327e-04, -2.70996234e-04, ...,\n",
            "        -6.16455397e-05, -7.14111698e-05, -7.01904660e-05],\n",
            "       [-3.90625202e-05, -4.42505112e-05, -3.35693533e-05, ...,\n",
            "        -5.82886044e-05, -6.46972991e-05, -6.46972991e-05],\n",
            "       [-2.36816529e-04, -2.30102658e-04, -2.27661251e-04, ...,\n",
            "        -6.80542344e-05, -7.62939848e-05, -7.26318735e-05],\n",
            "       ...,\n",
            "       [-6.56128269e-05, -6.07300119e-05, -5.37109653e-05, ...,\n",
            "        -5.58471969e-05, -6.92749382e-05, -6.71387066e-05],\n",
            "       [ 2.50244270e-05,  2.19726676e-05,  3.99780480e-05, ...,\n",
            "        -4.42505112e-05, -5.27954375e-05, -5.27954375e-05],\n",
            "       [ 0.00000000e+00,  0.00000000e+00,  0.00000000e+00, ...,\n",
            "         0.00000000e+00,  0.00000000e+00,  0.00000000e+00]]), array([0.000000e+00, 4.000000e-03, 8.000000e-03, ..., 1.213988e+03,\n",
            "       1.213992e+03, 1.213996e+03]))\n",
            "303500\n"
          ],
          "name": "stdout"
        }
      ]
    },
    {
      "cell_type": "markdown",
      "metadata": {
        "id": "hPb5oaLpSfgu"
      },
      "source": [
        "# Preprocessing"
      ]
    },
    {
      "cell_type": "markdown",
      "metadata": {
        "id": "mivlMRGsLaCF"
      },
      "source": [
        "####Common spatial patterns(CSP) : channel selection\n",
        "####Independent Component Analysis(ICA) : remove artifacts or select latent sources\n",
        "####**Power spectral density(PSD)**\n",
        "####**Bandpower : Delta, Theta, Alpha, Beta, Sigma, Gamma, TotalAbsPow**, FreqResponse, Relative\n",
        "####Signal Space Projection(SSP) : remove ECG and EOG artifacts\n",
        "####Maxwell Filters:(Signal Space Separation, SSS) : remove environmental noise\n",
        "####Dipole Fit\n",
        "####mne_features.feature_extraction.FeatureExtractor\n",
        "\n",
        "####dataset :\n",
        "channel - bandpower : channel * (8 columns - Delta, Theta, Alpha, Sigma, Beta, Gamma, TotalAbsPow, FreqResponse)\n",
        "psd infomation\n",
        "label - epilepsy / no epilepsy"
      ]
    },
    {
      "cell_type": "code",
      "metadata": {
        "id": "gagoVJbIDvi-",
        "outputId": "8c3d5c41-ee9c-45e7-9459-1f56fb036776",
        "colab": {
          "base_uri": "https://localhost:8080/",
          "height": 145
        }
      },
      "source": [
        "import pandas as pd\n",
        "raw = epraws[0]\n",
        "raw.pick_channels(picks)\n",
        "bp = yasa.bandpower(raw)\n",
        "bp = bp.drop(['Relative'], axis=1)\n",
        "data = dict()\n",
        "for row in bp.index:\n",
        "  for col in bp.columns:\n",
        "    data[row+' '+col] = bp[col][row]\n",
        "psds, freqs = psd_welch(raw)\n",
        "chidc = raw.ch_names\n",
        "psds /= np.sum(psds, axis=-1, keepdims=True)\n",
        "for chidx, chidx_name in enumerate(chidc):\n",
        "  for fridx, freq in enumerate(freqs):\n",
        "    data[chidx_name +' freq '+ str(round(freq,2))] = psds[chidx][fridx]\n",
        "data['label'] = 'epilepsy'\n",
        "print(data)\n",
        "df_data = pd.DataFrame(data, index = [0])\n",
        "print(df_data)"
      ],
      "execution_count": null,
      "outputs": [
        {
          "output_type": "stream",
          "text": [
            "Effective window size : 1.024 (s)\n",
            "{'EEG FP1-LE Delta': 0.6217875068547312, 'EEG FP1-LE Theta': 0.1986071060246114, 'EEG FP1-LE Alpha': 0.1264834207978485, 'EEG FP1-LE Sigma': 0.01569785389188267, 'EEG FP1-LE Beta': 0.027992594566440657, 'EEG FP1-LE Gamma': 0.009431517864485534, 'EEG FP1-LE TotalAbsPow': 215.45575921456896, 'EEG FP1-LE FreqRes': 0.25, 'EEG FP2-LE Delta': 0.6506949612245662, 'EEG FP2-LE Theta': 0.18049288009304526, 'EEG FP2-LE Alpha': 0.11809920811089, 'EEG FP2-LE Sigma': 0.014648507239034214, 'EEG FP2-LE Beta': 0.026365815082715204, 'EEG FP2-LE Gamma': 0.00969862824974951, 'EEG FP2-LE TotalAbsPow': 224.51426806056318, 'EEG FP2-LE FreqRes': 0.25, 'EEG F3-LE Delta': 0.2899780708820961, 'EEG F3-LE Theta': 0.32550112903127304, 'EEG F3-LE Alpha': 0.26196529712272765, 'EEG F3-LE Sigma': 0.03679755612992186, 'EEG F3-LE Beta': 0.06572372785628466, 'EEG F3-LE Gamma': 0.02003421897769655, 'EEG F3-LE TotalAbsPow': 122.10178141702325, 'EEG F3-LE FreqRes': 0.25, 'EEG F4-LE Delta': 0.3200694407567742, 'EEG F4-LE Theta': 0.31856536503797983, 'EEG F4-LE Alpha': 0.27166827440323593, 'EEG F4-LE Sigma': 0.03446451191694384, 'EEG F4-LE Beta': 0.04514516809981913, 'EEG F4-LE Gamma': 0.01008723978524679, 'EEG F4-LE TotalAbsPow': 128.46241919781042, 'EEG F4-LE FreqRes': 0.25, 'EEG C3-LE Delta': 0.21625093022846764, 'EEG C3-LE Theta': 0.34221728932136253, 'EEG C3-LE Alpha': 0.3273901002645032, 'EEG C3-LE Sigma': 0.03658075021773978, 'EEG C3-LE Beta': 0.06037417108701084, 'EEG C3-LE Gamma': 0.017186758880915438, 'EEG C3-LE TotalAbsPow': 109.16287793904837, 'EEG C3-LE FreqRes': 0.25, 'EEG C4-LE Delta': 0.23888072503938593, 'EEG C4-LE Theta': 0.3160511415288514, 'EEG C4-LE Alpha': 0.35018860298461874, 'EEG C4-LE Sigma': 0.03482685776190368, 'EEG C4-LE Beta': 0.04926453017364893, 'EEG C4-LE Gamma': 0.010788142511591737, 'EEG C4-LE TotalAbsPow': 107.87249033029191, 'EEG C4-LE FreqRes': 0.25, 'EEG A1-LE Delta': 0.37464189137624154, 'EEG A1-LE Theta': 0.2656446878184468, 'EEG A1-LE Alpha': 0.13384175688629044, 'EEG A1-LE Sigma': 0.042319766933385516, 'EEG A1-LE Beta': 0.1282451893316395, 'EEG A1-LE Gamma': 0.055306707653996375, 'EEG A1-LE TotalAbsPow': 9.463864780262554, 'EEG A1-LE FreqRes': 0.25, 'EEG A2-LE Delta': 0.3725181082935118, 'EEG A2-LE Theta': 0.26530988455087995, 'EEG A2-LE Alpha': 0.13505213893063778, 'EEG A2-LE Sigma': 0.04247445123776872, 'EEG A2-LE Beta': 0.12801320597334526, 'EEG A2-LE Gamma': 0.056632211013856314, 'EEG A2-LE TotalAbsPow': 9.436155867326065, 'EEG A2-LE FreqRes': 0.25, 'EEG P3-LE Delta': 0.18444077422734376, 'EEG P3-LE Theta': 0.3084496659835805, 'EEG P3-LE Alpha': 0.4153616089154352, 'EEG P3-LE Sigma': 0.02944389867941128, 'EEG P3-LE Beta': 0.05058089904587011, 'EEG P3-LE Gamma': 0.011723153148358848, 'EEG P3-LE TotalAbsPow': 111.20707246036983, 'EEG P3-LE FreqRes': 0.25, 'EEG P4-LE Delta': 0.19078780547248134, 'EEG P4-LE Theta': 0.29921810323618786, 'EEG P4-LE Alpha': 0.4256288481040918, 'EEG P4-LE Sigma': 0.02892748727282796, 'EEG P4-LE Beta': 0.04564996069704909, 'EEG P4-LE Gamma': 0.009787795217362385, 'EEG P4-LE TotalAbsPow': 112.51187489304922, 'EEG P4-LE FreqRes': 0.25, 'EEG O1-LE Delta': 0.14085088412121494, 'EEG O1-LE Theta': 0.26683854176419725, 'EEG O1-LE Alpha': 0.504113317777177, 'EEG O1-LE Sigma': 0.03090015323176904, 'EEG O1-LE Beta': 0.04673269206826002, 'EEG O1-LE Gamma': 0.01056441103738178, 'EEG O1-LE TotalAbsPow': 102.41333991436841, 'EEG O1-LE FreqRes': 0.25, 'EEG O2-LE Delta': 0.14294068757987385, 'EEG O2-LE Theta': 0.2676694708510994, 'EEG O2-LE Alpha': 0.4983909046091845, 'EEG O2-LE Sigma': 0.031963870434919106, 'EEG O2-LE Beta': 0.04846485341813336, 'EEG O2-LE Gamma': 0.010570213106789317, 'EEG O2-LE TotalAbsPow': 101.52013020752175, 'EEG O2-LE FreqRes': 0.25, 'EEG F7-LE Delta': 0.2954219090477533, 'EEG F7-LE Theta': 0.32459208475197193, 'EEG F7-LE Alpha': 0.25454137030180507, 'EEG F7-LE Sigma': 0.031892519741215035, 'EEG F7-LE Beta': 0.06910621962768584, 'EEG F7-LE Gamma': 0.024445896529568405, 'EEG F7-LE TotalAbsPow': 68.85194891507722, 'EEG F7-LE FreqRes': 0.25, 'EEG F8-LE Delta': 0.32759034650107305, 'EEG F8-LE Theta': 0.3383185107588251, 'EEG F8-LE Alpha': 0.24009224786372252, 'EEG F8-LE Sigma': 0.028634629496917613, 'EEG F8-LE Beta': 0.050337626868071875, 'EEG F8-LE Gamma': 0.015026638511389665, 'EEG F8-LE TotalAbsPow': 77.10387544775045, 'EEG F8-LE FreqRes': 0.25, 'EEG T3-LE Delta': 0.24399851004316378, 'EEG T3-LE Theta': 0.34658875388378224, 'EEG T3-LE Alpha': 0.26314215906831667, 'EEG T3-LE Sigma': 0.03243714823468394, 'EEG T3-LE Beta': 0.07938574493180862, 'EEG T3-LE Gamma': 0.03444768383824433, 'EEG T3-LE TotalAbsPow': 58.00738410000659, 'EEG T3-LE FreqRes': 0.25, 'EEG T4-LE Delta': 0.2790068910125065, 'EEG T4-LE Theta': 0.36707849122777436, 'EEG T4-LE Alpha': 0.2552823110914923, 'EEG T4-LE Sigma': 0.03022843625391231, 'EEG T4-LE Beta': 0.052936098773910735, 'EEG T4-LE Gamma': 0.015467771640403553, 'EEG T4-LE TotalAbsPow': 58.74147466353487, 'EEG T4-LE FreqRes': 0.25, 'EEG T5-LE Delta': 0.19103045318805076, 'EEG T5-LE Theta': 0.32481524776334375, 'EEG T5-LE Alpha': 0.37050370816493045, 'EEG T5-LE Sigma': 0.035250976087168415, 'EEG T5-LE Beta': 0.061796707904380965, 'EEG T5-LE Gamma': 0.016602906892125787, 'EEG T5-LE TotalAbsPow': 60.466230379539226, 'EEG T5-LE FreqRes': 0.25, 'EEG T6-LE Delta': 0.19101415576908976, 'EEG T6-LE Theta': 0.3131663242470428, 'EEG T6-LE Alpha': 0.3877347167027538, 'EEG T6-LE Sigma': 0.03405732078815818, 'EEG T6-LE Beta': 0.05954305692694451, 'EEG T6-LE Gamma': 0.014484425566010886, 'EEG T6-LE TotalAbsPow': 62.90610739680125, 'EEG T6-LE FreqRes': 0.25, 'EEG FZ-LE Delta': 0.31174597347130034, 'EEG FZ-LE Theta': 0.33594107717699284, 'EEG FZ-LE Alpha': 0.2688224928015752, 'EEG FZ-LE Sigma': 0.03219218727223767, 'EEG FZ-LE Beta': 0.042218340050515044, 'EEG FZ-LE Gamma': 0.00907992922737945, 'EEG FZ-LE TotalAbsPow': 150.31373916759463, 'EEG FZ-LE FreqRes': 0.25, 'EEG CZ-LE Delta': 0.21976418441652493, 'EEG CZ-LE Theta': 0.3633713153947859, 'EEG CZ-LE Alpha': 0.32321166364610554, 'EEG CZ-LE Sigma': 0.03509593795544861, 'EEG CZ-LE Beta': 0.04840776544869128, 'EEG CZ-LE Gamma': 0.010149133138442812, 'EEG CZ-LE TotalAbsPow': 138.45659322504068, 'EEG CZ-LE FreqRes': 0.25, 'EEG PZ-LE Delta': 0.17390015739012912, 'EEG PZ-LE Theta': 0.31887734022842484, 'EEG PZ-LE Alpha': 0.4240476006229801, 'EEG PZ-LE Sigma': 0.02840330312661288, 'EEG PZ-LE Beta': 0.04522985548012484, 'EEG PZ-LE Gamma': 0.009541743151728562, 'EEG PZ-LE TotalAbsPow': 130.16371742535446, 'EEG PZ-LE FreqRes': 0.25, 'EEG OZ-LE Delta': 0.9815660294620295, 'EEG OZ-LE Theta': 0.012064745556661089, 'EEG OZ-LE Alpha': 0.0034665202982733672, 'EEG OZ-LE Sigma': 0.0011060426550704024, 'EEG OZ-LE Beta': 0.001379331840324623, 'EEG OZ-LE Gamma': 0.0004173301876410904, 'EEG OZ-LE TotalAbsPow': 8874.967352551115, 'EEG OZ-LE FreqRes': 0.25, 'EEG EKG-LE Delta': 0.21162993076461115, 'EEG EKG-LE Theta': 0.09676743008638963, 'EEG EKG-LE Alpha': 0.2003799181904462, 'EEG EKG-LE Sigma': 0.23419367453460255, 'EEG EKG-LE Beta': 0.23739729894742717, 'EEG EKG-LE Gamma': 0.019631747476522788, 'EEG EKG-LE TotalAbsPow': 12489.002819899568, 'EEG EKG-LE FreqRes': 0.25, 'EEG 30-LE Delta': 0.6766563380885218, 'EEG 30-LE Theta': 0.10128905918149655, 'EEG 30-LE Alpha': 0.05036150826567199, 'EEG 30-LE Sigma': 0.036643449081646705, 'EEG 30-LE Beta': 0.08790128763424515, 'EEG 30-LE Gamma': 0.04714835774841861, 'EEG 30-LE TotalAbsPow': 22.403310727532457, 'EEG 30-LE FreqRes': 0.25, 'EEG FP1-LE freq 0.0': 0.007007174052916117, 'EEG FP1-LE freq 0.98': 0.5145755856650784, 'EEG FP1-LE freq 1.95': 0.13166993062071217, 'EEG FP1-LE freq 2.93': 0.05935668613402876, 'EEG FP1-LE freq 3.91': 0.03512039564461826, 'EEG FP1-LE freq 4.88': 0.026710936669072823, 'EEG FP1-LE freq 5.86': 0.021432994119815092, 'EEG FP1-LE freq 6.84': 0.033248711653547695, 'EEG FP1-LE freq 7.81': 0.04997454988989675, 'EEG FP1-LE freq 8.79': 0.03551647528166581, 'EEG FP1-LE freq 9.77': 0.010030444681635192, 'EEG FP1-LE freq 10.74': 0.004697292482227789, 'EEG FP1-LE freq 11.72': 0.0034127269366919844, 'EEG FP1-LE freq 12.7': 0.002666122068462735, 'EEG FP1-LE freq 13.67': 0.0019491593336817827, 'EEG FP1-LE freq 14.65': 0.0018221681852797847, 'EEG FP1-LE freq 15.62': 0.0016634056633418911, 'EEG FP1-LE freq 16.6': 0.0017287718984646215, 'EEG FP1-LE freq 17.58': 0.0015234311193286284, 'EEG FP1-LE freq 18.55': 0.001377457524801418, 'EEG FP1-LE freq 19.53': 0.001154160532025673, 'EEG FP1-LE freq 20.51': 0.0010824928509911601, 'EEG FP1-LE freq 21.48': 0.0010167950467038105, 'EEG FP1-LE freq 22.46': 0.0009895764490996648, 'EEG FP1-LE freq 23.44': 0.0008979678646838297, 'EEG FP1-LE freq 24.41': 0.0008096788447100505, 'EEG FP1-LE freq 25.39': 0.0006820214035264618, 'EEG FP1-LE freq 26.37': 0.0007023081186291102, 'EEG FP1-LE freq 27.34': 0.0006785410115725295, 'EEG FP1-LE freq 28.32': 0.0006624884543258248, 'EEG FP1-LE freq 29.3': 0.0005896117297542343, 'EEG FP1-LE freq 30.27': 0.0006093869044940085, 'EEG FP1-LE freq 31.25': 0.0005631432073203532, 'EEG FP1-LE freq 32.23': 0.0005094320185995773, 'EEG FP1-LE freq 33.2': 0.0005775782221922717, 'EEG FP1-LE freq 34.18': 0.0005549817920518866, 'EEG FP1-LE freq 35.16': 0.0005383035705185598, 'EEG FP1-LE freq 36.13': 0.0005507804384544139, 'EEG FP1-LE freq 37.11': 0.0005095818075782861, 'EEG FP1-LE freq 38.09': 0.0005956517740906417, 'EEG FP1-LE freq 39.06': 0.000539588435621359, 'EEG FP1-LE freq 40.04': 0.0005243424265212853, 'EEG FP1-LE freq 41.02': 0.0005238661955192172, 'EEG FP1-LE freq 41.99': 0.0006275186219102871, 'EEG FP1-LE freq 42.97': 0.0005764838788065327, 'EEG FP1-LE freq 43.95': 0.0005441571418988276, 'EEG FP1-LE freq 44.92': 0.000522933370137317, 'EEG FP1-LE freq 45.9': 0.0005026167188602176, 'EEG FP1-LE freq 46.88': 0.0004880484261198943, 'EEG FP1-LE freq 47.85': 0.0005016143024833685, 'EEG FP1-LE freq 48.83': 0.0005804926188772213, 'EEG FP1-LE freq 49.8': 0.0004882890895742812, 'EEG FP1-LE freq 50.78': 0.0005948701130318406, 'EEG FP1-LE freq 51.76': 0.0006140866472166161, 'EEG FP1-LE freq 52.73': 0.0006120236827516177, 'EEG FP1-LE freq 53.71': 0.0005772517806139424, 'EEG FP1-LE freq 54.69': 0.0006279733304298554, 'EEG FP1-LE freq 55.66': 0.0005640099644479517, 'EEG FP1-LE freq 56.64': 0.0006148958198445443, 'EEG FP1-LE freq 57.62': 0.0006090618719441985, 'EEG FP1-LE freq 58.59': 0.0006327658702635713, 'EEG FP1-LE freq 59.57': 0.002058201617397344, 'EEG FP1-LE freq 60.55': 0.0015935905666761333, 'EEG FP1-LE freq 61.52': 0.0006563317977813807, 'EEG FP1-LE freq 62.5': 0.0006427703125509008, 'EEG FP1-LE freq 63.48': 0.0005669706256314509, 'EEG FP1-LE freq 64.45': 0.0005875448181077332, 'EEG FP1-LE freq 65.43': 0.0005146727923868357, 'EEG FP1-LE freq 66.41': 0.0005684489054148319, 'EEG FP1-LE freq 67.38': 0.0006056580333031459, 'EEG FP1-LE freq 68.36': 0.0005710050959999036, 'EEG FP1-LE freq 69.34': 0.0004973559860285, 'EEG FP1-LE freq 70.31': 0.0005952535429258716, 'EEG FP1-LE freq 71.29': 0.0005530978878383586, 'EEG FP1-LE freq 72.27': 0.0004936057221293364, 'EEG FP1-LE freq 73.24': 0.0005068614677126731, 'EEG FP1-LE freq 74.22': 0.0004927178010778611, 'EEG FP1-LE freq 75.2': 0.0004951771987313793, 'EEG FP1-LE freq 76.17': 0.0005615296108247936, 'EEG FP1-LE freq 77.15': 0.0005442424607489431, 'EEG FP1-LE freq 78.12': 0.0004935830126923772, 'EEG FP1-LE freq 79.1': 0.0004685115645473716, 'EEG FP1-LE freq 80.08': 0.0004689797168754613, 'EEG FP1-LE freq 81.05': 0.0005522369395633749, 'EEG FP1-LE freq 82.03': 0.00048265865915625097, 'EEG FP1-LE freq 83.01': 0.00047530796977709235, 'EEG FP1-LE freq 83.98': 0.0005328045503075714, 'EEG FP1-LE freq 84.96': 0.0004926455661902674, 'EEG FP1-LE freq 85.94': 0.0004548698627115868, 'EEG FP1-LE freq 86.91': 0.00048360770109843104, 'EEG FP1-LE freq 87.89': 0.00047270483207865745, 'EEG FP1-LE freq 88.87': 0.0004316888308141577, 'EEG FP1-LE freq 89.84': 0.0005085878592248359, 'EEG FP1-LE freq 90.82': 0.0005028629393642528, 'EEG FP1-LE freq 91.8': 0.00047671247270250036, 'EEG FP1-LE freq 92.77': 0.00043931511321265926, 'EEG FP1-LE freq 93.75': 0.00043670373241982583, 'EEG FP1-LE freq 94.73': 0.0004917037501511827, 'EEG FP1-LE freq 95.7': 0.0004812275103535464, 'EEG FP1-LE freq 96.68': 0.0004198875543941998, 'EEG FP1-LE freq 97.66': 0.00038934006967710985, 'EEG FP1-LE freq 98.63': 0.0004310993963754839, 'EEG FP1-LE freq 99.61': 0.00041583498873578044, 'EEG FP1-LE freq 100.59': 0.0003902616185802522, 'EEG FP1-LE freq 101.56': 0.00041037943750824485, 'EEG FP1-LE freq 102.54': 0.0003751352261472578, 'EEG FP1-LE freq 103.52': 0.0003970307462184326, 'EEG FP1-LE freq 104.49': 0.0003835970908620363, 'EEG FP1-LE freq 105.47': 0.00034302966335576866, 'EEG FP1-LE freq 106.45': 0.0003009815893712151, 'EEG FP1-LE freq 107.42': 0.00028380171341275766, 'EEG FP1-LE freq 108.4': 0.00022672656318124926, 'EEG FP1-LE freq 109.38': 0.00019967454251059043, 'EEG FP1-LE freq 110.35': 0.00018248772226902768, 'EEG FP1-LE freq 111.33': 0.00014646220495644722, 'EEG FP1-LE freq 112.3': 0.000122675644820557, 'EEG FP1-LE freq 113.28': 0.00010277312926195005, 'EEG FP1-LE freq 114.26': 0.00010023320356134163, 'EEG FP1-LE freq 115.23': 7.465588021128202e-05, 'EEG FP1-LE freq 116.21': 6.228343775935662e-05, 'EEG FP1-LE freq 117.19': 5.794943260677773e-05, 'EEG FP1-LE freq 118.16': 5.147836684000084e-05, 'EEG FP1-LE freq 119.14': 4.893027083965863e-05, 'EEG FP1-LE freq 120.12': 7.53077649975714e-05, 'EEG FP1-LE freq 121.09': 3.445300865816364e-05, 'EEG FP1-LE freq 122.07': 3.1222271189414566e-05, 'EEG FP1-LE freq 123.05': 2.774157635637203e-05, 'EEG FP1-LE freq 124.02': 2.520087563017432e-05, 'EEG FP1-LE freq 125.0': 1.1824209738622443e-05, 'EEG FP2-LE freq 0.0': 0.007065384115243133, 'EEG FP2-LE freq 0.98': 0.5491239736627899, 'EEG FP2-LE freq 1.95': 0.1264749661040985, 'EEG FP2-LE freq 2.93': 0.05359724124050851, 'EEG FP2-LE freq 3.91': 0.032178822625261165, 'EEG FP2-LE freq 4.88': 0.024247541933416935, 'EEG FP2-LE freq 5.86': 0.019028325432414808, 'EEG FP2-LE freq 6.84': 0.02934437886118323, 'EEG FP2-LE freq 7.81': 0.04380122710680019, 'EEG FP2-LE freq 8.79': 0.03173150470992719, 'EEG FP2-LE freq 9.77': 0.009024419721169422, 'EEG FP2-LE freq 10.74': 0.004097096672219785, 'EEG FP2-LE freq 11.72': 0.003052604722569528, 'EEG FP2-LE freq 12.7': 0.002352057417962672, 'EEG FP2-LE freq 13.67': 0.001748246250744598, 'EEG FP2-LE freq 14.65': 0.0016249968931880724, 'EEG FP2-LE freq 15.62': 0.001571098044041028, 'EEG FP2-LE freq 16.6': 0.0014885793626274128, 'EEG FP2-LE freq 17.58': 0.0013914808626870315, 'EEG FP2-LE freq 18.55': 0.0012591611773761547, 'EEG FP2-LE freq 19.53': 0.0010777461897200566, 'EEG FP2-LE freq 20.51': 0.0009954796227392843, 'EEG FP2-LE freq 21.48': 0.0009123800460731044, 'EEG FP2-LE freq 22.46': 0.0009286705330848909, 'EEG FP2-LE freq 23.44': 0.0008121970621405485, 'EEG FP2-LE freq 24.41': 0.000718711736016214, 'EEG FP2-LE freq 25.39': 0.0006885080910712033, 'EEG FP2-LE freq 26.37': 0.0006923243087019152, 'EEG FP2-LE freq 27.34': 0.0007292280277639929, 'EEG FP2-LE freq 28.32': 0.0006900624363243989, 'EEG FP2-LE freq 29.3': 0.0006317749241554625, 'EEG FP2-LE freq 30.27': 0.0005839703097698133, 'EEG FP2-LE freq 31.25': 0.0005843712752847416, 'EEG FP2-LE freq 32.23': 0.000563330958140634, 'EEG FP2-LE freq 33.2': 0.0005632393261581081, 'EEG FP2-LE freq 34.18': 0.0005491004735083756, 'EEG FP2-LE freq 35.16': 0.0006034713667984877, 'EEG FP2-LE freq 36.13': 0.0006081889288575987, 'EEG FP2-LE freq 37.11': 0.0005130872384093148, 'EEG FP2-LE freq 38.09': 0.0005266327344083501, 'EEG FP2-LE freq 39.06': 0.0005384048174919218, 'EEG FP2-LE freq 40.04': 0.0005558230696251052, 'EEG FP2-LE freq 41.02': 0.0005827737446656325, 'EEG FP2-LE freq 41.99': 0.0006078814779778848, 'EEG FP2-LE freq 42.97': 0.0005816854257332908, 'EEG FP2-LE freq 43.95': 0.0005950320477166678, 'EEG FP2-LE freq 44.92': 0.0005683529329468342, 'EEG FP2-LE freq 45.9': 0.0005592488337771154, 'EEG FP2-LE freq 46.88': 0.0005162397618782055, 'EEG FP2-LE freq 47.85': 0.0005014351748592417, 'EEG FP2-LE freq 48.83': 0.0006243127931360239, 'EEG FP2-LE freq 49.8': 0.0005484366452828116, 'EEG FP2-LE freq 50.78': 0.0006049813866301666, 'EEG FP2-LE freq 51.76': 0.0006909918140766071, 'EEG FP2-LE freq 52.73': 0.0006951610950638018, 'EEG FP2-LE freq 53.71': 0.0006789353383758588, 'EEG FP2-LE freq 54.69': 0.0007240462665217969, 'EEG FP2-LE freq 55.66': 0.000716787871256533, 'EEG FP2-LE freq 56.64': 0.0007223020565481425, 'EEG FP2-LE freq 57.62': 0.000649961778969935, 'EEG FP2-LE freq 58.59': 0.00066236230619231, 'EEG FP2-LE freq 59.57': 0.0009190651689995477, 'EEG FP2-LE freq 60.55': 0.0008741615860516572, 'EEG FP2-LE freq 61.52': 0.0006754045032014889, 'EEG FP2-LE freq 62.5': 0.0006740210546668618, 'EEG FP2-LE freq 63.48': 0.0006417320910492888, 'EEG FP2-LE freq 64.45': 0.0007065187627284772, 'EEG FP2-LE freq 65.43': 0.0005897203407152837, 'EEG FP2-LE freq 66.41': 0.0006516378161817203, 'EEG FP2-LE freq 67.38': 0.0006693819812441899, 'EEG FP2-LE freq 68.36': 0.0006327187338404528, 'EEG FP2-LE freq 69.34': 0.0005777664784516502, 'EEG FP2-LE freq 70.31': 0.0006630062574537059, 'EEG FP2-LE freq 71.29': 0.0005782862113080038, 'EEG FP2-LE freq 72.27': 0.0005250833141252791, 'EEG FP2-LE freq 73.24': 0.000568885973602115, 'EEG FP2-LE freq 74.22': 0.0005333224569991315, 'EEG FP2-LE freq 75.2': 0.0004834743467008923, 'EEG FP2-LE freq 76.17': 0.0005776189331808129, 'EEG FP2-LE freq 77.15': 0.0006328570426249765, 'EEG FP2-LE freq 78.12': 0.000552158106073322, 'EEG FP2-LE freq 79.1': 0.0004994365417034466, 'EEG FP2-LE freq 80.08': 0.0005069615919287618, 'EEG FP2-LE freq 81.05': 0.000624010735485948, 'EEG FP2-LE freq 82.03': 0.0005051906229269286, 'EEG FP2-LE freq 83.01': 0.000510183762255639, 'EEG FP2-LE freq 83.98': 0.0005141530606775193, 'EEG FP2-LE freq 84.96': 0.0004948675160404685, 'EEG FP2-LE freq 85.94': 0.0004904669074315064, 'EEG FP2-LE freq 86.91': 0.0005430050325517903, 'EEG FP2-LE freq 87.89': 0.000499633867585788, 'EEG FP2-LE freq 88.87': 0.00048040572595217944, 'EEG FP2-LE freq 89.84': 0.0005554079869730874, 'EEG FP2-LE freq 90.82': 0.0005687197103256022, 'EEG FP2-LE freq 91.8': 0.0005813607293358268, 'EEG FP2-LE freq 92.77': 0.0004967653181975123, 'EEG FP2-LE freq 93.75': 0.00047857246484280636, 'EEG FP2-LE freq 94.73': 0.0005121437800523918, 'EEG FP2-LE freq 95.7': 0.0004943392859579674, 'EEG FP2-LE freq 96.68': 0.0004638396057181774, 'EEG FP2-LE freq 97.66': 0.0004268056996275953, 'EEG FP2-LE freq 98.63': 0.0004941798958678287, 'EEG FP2-LE freq 99.61': 0.000434451511677893, 'EEG FP2-LE freq 100.59': 0.0003930718937918613, 'EEG FP2-LE freq 101.56': 0.00042396633800807196, 'EEG FP2-LE freq 102.54': 0.00041714345128709057, 'EEG FP2-LE freq 103.52': 0.0004487442942861653, 'EEG FP2-LE freq 104.49': 0.00041202075873482733, 'EEG FP2-LE freq 105.47': 0.00036054169849957673, 'EEG FP2-LE freq 106.45': 0.0003494880481549739, 'EEG FP2-LE freq 107.42': 0.0003733480804397037, 'EEG FP2-LE freq 108.4': 0.00027428792342926937, 'EEG FP2-LE freq 109.38': 0.00022207921270114175, 'EEG FP2-LE freq 110.35': 0.0002022623694264088, 'EEG FP2-LE freq 111.33': 0.00019215108152588934, 'EEG FP2-LE freq 112.3': 0.00015736492056635552, 'EEG FP2-LE freq 113.28': 0.00011399871342735822, 'EEG FP2-LE freq 114.26': 0.00010567563238329362, 'EEG FP2-LE freq 115.23': 8.740761315960035e-05, 'EEG FP2-LE freq 116.21': 6.611184188880652e-05, 'EEG FP2-LE freq 117.19': 6.30726450633164e-05, 'EEG FP2-LE freq 118.16': 6.141639063337055e-05, 'EEG FP2-LE freq 119.14': 5.8720024700576864e-05, 'EEG FP2-LE freq 120.12': 6.372308579707839e-05, 'EEG FP2-LE freq 121.09': 4.228922411180714e-05, 'EEG FP2-LE freq 122.07': 3.763034995569333e-05, 'EEG FP2-LE freq 123.05': 3.1768940768258154e-05, 'EEG FP2-LE freq 124.02': 2.692287761009222e-05, 'EEG FP2-LE freq 125.0': 1.2330933252314204e-05, 'EEG F3-LE freq 0.0': 0.004148733040407588, 'EEG F3-LE freq 0.98': 0.21201926969299706, 'EEG F3-LE freq 1.95': 0.06592367199355988, 'EEG F3-LE freq 2.93': 0.037955007011084486, 'EEG F3-LE freq 3.91': 0.028626206884310734, 'EEG F3-LE freq 4.88': 0.029995751979483096, 'EEG F3-LE freq 5.86': 0.04020736096972419, 'EEG F3-LE freq 6.84': 0.07800247667432691, 'EEG F3-LE freq 7.81': 0.13330486140029543, 'EEG F3-LE freq 8.79': 0.10065848544852886, 'EEG F3-LE freq 9.77': 0.027465561751239462, 'EEG F3-LE freq 10.74': 0.012979641978718879, 'EEG F3-LE freq 11.72': 0.01030076445370645, 'EEG F3-LE freq 12.7': 0.008558930052855847, 'EEG F3-LE freq 13.67': 0.006220742725143231, 'EEG F3-LE freq 14.65': 0.005563904770423879, 'EEG F3-LE freq 15.62': 0.0049335516986809555, 'EEG F3-LE freq 16.6': 0.005192924453912051, 'EEG F3-LE freq 17.58': 0.00473002186386523, 'EEG F3-LE freq 18.55': 0.004065355039382778, 'EEG F3-LE freq 19.53': 0.003598107150625522, 'EEG F3-LE freq 20.51': 0.0036898639351938267, 'EEG F3-LE freq 21.48': 0.003939356969834758, 'EEG F3-LE freq 22.46': 0.003512373248131102, 'EEG F3-LE freq 23.44': 0.003230902634429868, 'EEG F3-LE freq 24.41': 0.00275921109070334, 'EEG F3-LE freq 25.39': 0.002280936721392296, 'EEG F3-LE freq 26.37': 0.002117255426360321, 'EEG F3-LE freq 27.34': 0.001857476521386461, 'EEG F3-LE freq 28.32': 0.0018778246368556977, 'EEG F3-LE freq 29.3': 0.0016621040019905407, 'EEG F3-LE freq 30.27': 0.0015801100912834645, 'EEG F3-LE freq 31.25': 0.0015317718957821398, 'EEG F3-LE freq 32.23': 0.0014931107854157396, 'EEG F3-LE freq 33.2': 0.0015330137510366636, 'EEG F3-LE freq 34.18': 0.0014670084611233052, 'EEG F3-LE freq 35.16': 0.001595713864857694, 'EEG F3-LE freq 36.13': 0.001581031171068866, 'EEG F3-LE freq 37.11': 0.0016448075457313703, 'EEG F3-LE freq 38.09': 0.0017167305276048067, 'EEG F3-LE freq 39.06': 0.001753636682122974, 'EEG F3-LE freq 40.04': 0.0016479251929316845, 'EEG F3-LE freq 41.02': 0.0017598181306274815, 'EEG F3-LE freq 41.99': 0.0017991354570182406, 'EEG F3-LE freq 42.97': 0.0019152884710244066, 'EEG F3-LE freq 43.95': 0.001813532584330676, 'EEG F3-LE freq 44.92': 0.0017331564356076097, 'EEG F3-LE freq 45.9': 0.0017658604532539103, 'EEG F3-LE freq 46.88': 0.0017470592710861657, 'EEG F3-LE freq 47.85': 0.001676145860505327, 'EEG F3-LE freq 48.83': 0.0018367322832871702, 'EEG F3-LE freq 49.8': 0.001664668817379835, 'EEG F3-LE freq 50.78': 0.0017295546191307043, 'EEG F3-LE freq 51.76': 0.0018255778842704029, 'EEG F3-LE freq 52.73': 0.0019047583349970922, 'EEG F3-LE freq 53.71': 0.0019328564506148564, 'EEG F3-LE freq 54.69': 0.0019162839655353999, 'EEG F3-LE freq 55.66': 0.0017399221749234892, 'EEG F3-LE freq 56.64': 0.0018169587607426724, 'EEG F3-LE freq 57.62': 0.0018551508407366783, 'EEG F3-LE freq 58.59': 0.0018504424592262105, 'EEG F3-LE freq 59.57': 0.0032807996282212173, 'EEG F3-LE freq 60.55': 0.002986351414501406, 'EEG F3-LE freq 61.52': 0.0019510824042098484, 'EEG F3-LE freq 62.5': 0.0017882581820582322, 'EEG F3-LE freq 63.48': 0.0018556438993168642, 'EEG F3-LE freq 64.45': 0.0018496645232488986, 'EEG F3-LE freq 65.43': 0.001687274419169505, 'EEG F3-LE freq 66.41': 0.0019417399828416063, 'EEG F3-LE freq 67.38': 0.0018784884050599955, 'EEG F3-LE freq 68.36': 0.0019340924644351547, 'EEG F3-LE freq 69.34': 0.0017599356477043077, 'EEG F3-LE freq 70.31': 0.001982128733961613, 'EEG F3-LE freq 71.29': 0.0017900541304504349, 'EEG F3-LE freq 72.27': 0.0018410773587218343, 'EEG F3-LE freq 73.24': 0.0017756591245037462, 'EEG F3-LE freq 74.22': 0.0018294818145555111, 'EEG F3-LE freq 75.2': 0.0017554651033860377, 'EEG F3-LE freq 76.17': 0.0019001060835166412, 'EEG F3-LE freq 77.15': 0.0019330480303897603, 'EEG F3-LE freq 78.12': 0.001812411249736165, 'EEG F3-LE freq 79.1': 0.0017365541023788992, 'EEG F3-LE freq 80.08': 0.0018324027507195266, 'EEG F3-LE freq 81.05': 0.0019133629321424466, 'EEG F3-LE freq 82.03': 0.0017865309976550722, 'EEG F3-LE freq 83.01': 0.001854715408936747, 'EEG F3-LE freq 83.98': 0.0018221391765576292, 'EEG F3-LE freq 84.96': 0.0018572777365903133, 'EEG F3-LE freq 85.94': 0.001780856449554833, 'EEG F3-LE freq 86.91': 0.0017621983314776146, 'EEG F3-LE freq 87.89': 0.001837347451669451, 'EEG F3-LE freq 88.87': 0.0017362747635315415, 'EEG F3-LE freq 89.84': 0.001796502880802977, 'EEG F3-LE freq 90.82': 0.0018465556778484594, 'EEG F3-LE freq 91.8': 0.0017854770921164173, 'EEG F3-LE freq 92.77': 0.0018277294895406918, 'EEG F3-LE freq 93.75': 0.00181075695623274, 'EEG F3-LE freq 94.73': 0.0018331388985949094, 'EEG F3-LE freq 95.7': 0.00184893022427339, 'EEG F3-LE freq 96.68': 0.0017269780526692742, 'EEG F3-LE freq 97.66': 0.0017781235660027264, 'EEG F3-LE freq 98.63': 0.001781169989815914, 'EEG F3-LE freq 99.61': 0.0017721648109724694, 'EEG F3-LE freq 100.59': 0.001634945177909578, 'EEG F3-LE freq 101.56': 0.001602446086625571, 'EEG F3-LE freq 102.54': 0.0016004294959699585, 'EEG F3-LE freq 103.52': 0.0014228293774692841, 'EEG F3-LE freq 104.49': 0.0013054324184894417, 'EEG F3-LE freq 105.47': 0.0013481450452153142, 'EEG F3-LE freq 106.45': 0.0012279166347664615, 'EEG F3-LE freq 107.42': 0.0010691211527661195, 'EEG F3-LE freq 108.4': 0.001000423347904005, 'EEG F3-LE freq 109.38': 0.000848119107788032, 'EEG F3-LE freq 110.35': 0.0007079476169246551, 'EEG F3-LE freq 111.33': 0.0006390545404434563, 'EEG F3-LE freq 112.3': 0.0005201906786607347, 'EEG F3-LE freq 113.28': 0.0004328574360327496, 'EEG F3-LE freq 114.26': 0.00039391242749621465, 'EEG F3-LE freq 115.23': 0.0003080061872662712, 'EEG F3-LE freq 116.21': 0.0002474519037798871, 'EEG F3-LE freq 117.19': 0.00023447370663723784, 'EEG F3-LE freq 118.16': 0.00017800792320244374, 'EEG F3-LE freq 119.14': 0.0001596638310481537, 'EEG F3-LE freq 120.12': 0.00018329641308029239, 'EEG F3-LE freq 121.09': 0.00012418955507068185, 'EEG F3-LE freq 122.07': 0.0001068082771911403, 'EEG F3-LE freq 123.05': 0.00010257251894795041, 'EEG F3-LE freq 124.02': 8.840561735086797e-05, 'EEG F3-LE freq 125.0': 4.7003739082839014e-05, 'EEG F4-LE freq 0.0': 0.004201032305962474, 'EEG F4-LE freq 0.98': 0.2412026033839374, 'EEG F4-LE freq 1.95': 0.0698017492502454, 'EEG F4-LE freq 2.93': 0.03884699879648014, 'EEG F4-LE freq 3.91': 0.027567949147874908, 'EEG F4-LE freq 4.88': 0.027612026528073985, 'EEG F4-LE freq 5.86': 0.038093544131357085, 'EEG F4-LE freq 6.84': 0.07003428721615804, 'EEG F4-LE freq 7.81': 0.11609860687669386, 'EEG F4-LE freq 8.79': 0.09427309278367045, 'EEG F4-LE freq 9.77': 0.026807130690346966, 'EEG F4-LE freq 10.74': 0.011268063148405505, 'EEG F4-LE freq 11.72': 0.00915348369984979, 'EEG F4-LE freq 12.7': 0.00752382165066584, 'EEG F4-LE freq 13.67': 0.005514458106109107, 'EEG F4-LE freq 14.65': 0.004765732571316486, 'EEG F4-LE freq 15.62': 0.004510951739210581, 'EEG F4-LE freq 16.6': 0.004129928132891008, 'EEG F4-LE freq 17.58': 0.0038361953308184244, 'EEG F4-LE freq 18.55': 0.0033480210722143912, 'EEG F4-LE freq 19.53': 0.0029522277704528525, 'EEG F4-LE freq 20.51': 0.002705713905746075, 'EEG F4-LE freq 21.48': 0.0024992148194592804, 'EEG F4-LE freq 22.46': 0.002245777321855147, 'EEG F4-LE freq 23.44': 0.0018757238030924195, 'EEG F4-LE freq 24.41': 0.0015618488992838382, 'EEG F4-LE freq 25.39': 0.0015695235036111152, 'EEG F4-LE freq 26.37': 0.001392576801918872, 'EEG F4-LE freq 27.34': 0.001726257988012772, 'EEG F4-LE freq 28.32': 0.0017681942353476715, 'EEG F4-LE freq 29.3': 0.0016283470940587597, 'EEG F4-LE freq 30.27': 0.0013781906308262715, 'EEG F4-LE freq 31.25': 0.001623984483687885, 'EEG F4-LE freq 32.23': 0.001607911934348407, 'EEG F4-LE freq 33.2': 0.001570269367950944, 'EEG F4-LE freq 34.18': 0.0016848050459099173, 'EEG F4-LE freq 35.16': 0.0018822419249742608, 'EEG F4-LE freq 36.13': 0.0015097987429862662, 'EEG F4-LE freq 37.11': 0.0012348079282900523, 'EEG F4-LE freq 38.09': 0.0012287215666394239, 'EEG F4-LE freq 39.06': 0.00144216786911365, 'EEG F4-LE freq 40.04': 0.0014990794152999302, 'EEG F4-LE freq 41.02': 0.00160575520761965, 'EEG F4-LE freq 41.99': 0.0017026677989307136, 'EEG F4-LE freq 42.97': 0.0015169054616868173, 'EEG F4-LE freq 43.95': 0.0016550078657167548, 'EEG F4-LE freq 44.92': 0.001573394141351838, 'EEG F4-LE freq 45.9': 0.001422516039727112, 'EEG F4-LE freq 46.88': 0.0012703780304284783, 'EEG F4-LE freq 47.85': 0.0012125979597616071, 'EEG F4-LE freq 48.83': 0.001480096822824051, 'EEG F4-LE freq 49.8': 0.0015559605853183746, 'EEG F4-LE freq 50.78': 0.0017403186786612503, 'EEG F4-LE freq 51.76': 0.002316748332685786, 'EEG F4-LE freq 52.73': 0.0022513679696244105, 'EEG F4-LE freq 53.71': 0.002492492078560973, 'EEG F4-LE freq 54.69': 0.0020725683844534854, 'EEG F4-LE freq 55.66': 0.003042958207994128, 'EEG F4-LE freq 56.64': 0.0032620118478076335, 'EEG F4-LE freq 57.62': 0.002323601078031705, 'EEG F4-LE freq 58.59': 0.0020452565969338596, 'EEG F4-LE freq 59.57': 0.0027380441660391757, 'EEG F4-LE freq 60.55': 0.00313621413009835, 'EEG F4-LE freq 61.52': 0.0025837314778538855, 'EEG F4-LE freq 62.5': 0.0023516106476474006, 'EEG F4-LE freq 63.48': 0.002700837668420292, 'EEG F4-LE freq 64.45': 0.0026170191332211263, 'EEG F4-LE freq 65.43': 0.0017681918356343492, 'EEG F4-LE freq 66.41': 0.002102448556023168, 'EEG F4-LE freq 67.38': 0.001535284139453004, 'EEG F4-LE freq 68.36': 0.0022184627063247257, 'EEG F4-LE freq 69.34': 0.0017756493374374983, 'EEG F4-LE freq 70.31': 0.0027094149961166547, 'EEG F4-LE freq 71.29': 0.003244600028713113, 'EEG F4-LE freq 72.27': 0.0023974425550609023, 'EEG F4-LE freq 73.24': 0.0017853603436872928, 'EEG F4-LE freq 74.22': 0.0017323615142708403, 'EEG F4-LE freq 75.2': 0.0015241290910527042, 'EEG F4-LE freq 76.17': 0.002049656407699441, 'EEG F4-LE freq 77.15': 0.0022652676126369885, 'EEG F4-LE freq 78.12': 0.002216296146488194, 'EEG F4-LE freq 79.1': 0.0018936519534183303, 'EEG F4-LE freq 80.08': 0.0021248395937444576, 'EEG F4-LE freq 81.05': 0.0022364540659047722, 'EEG F4-LE freq 82.03': 0.0017049302856027657, 'EEG F4-LE freq 83.01': 0.00205767822028197, 'EEG F4-LE freq 83.98': 0.002124013374435813, 'EEG F4-LE freq 84.96': 0.0020571802419389936, 'EEG F4-LE freq 85.94': 0.002446544059828208, 'EEG F4-LE freq 86.91': 0.0027065619962896447, 'EEG F4-LE freq 87.89': 0.002194543111443908, 'EEG F4-LE freq 88.87': 0.002642664837602817, 'EEG F4-LE freq 89.84': 0.0026546193800677837, 'EEG F4-LE freq 90.82': 0.002524878298178092, 'EEG F4-LE freq 91.8': 0.00200319203916052, 'EEG F4-LE freq 92.77': 0.002104737219495319, 'EEG F4-LE freq 93.75': 0.0022589080009950543, 'EEG F4-LE freq 94.73': 0.0022702709319342234, 'EEG F4-LE freq 95.7': 0.0021734095526425514, 'EEG F4-LE freq 96.68': 0.0019922285383957906, 'EEG F4-LE freq 97.66': 0.002097141833615611, 'EEG F4-LE freq 98.63': 0.001988767979161511, 'EEG F4-LE freq 99.61': 0.0018066527227983875, 'EEG F4-LE freq 100.59': 0.0018841895650792372, 'EEG F4-LE freq 101.56': 0.0018485425237970599, 'EEG F4-LE freq 102.54': 0.0018537034780219859, 'EEG F4-LE freq 103.52': 0.0022519445366932056, 'EEG F4-LE freq 104.49': 0.0016441821554585565, 'EEG F4-LE freq 105.47': 0.001716584452687623, 'EEG F4-LE freq 106.45': 0.0017496992469859625, 'EEG F4-LE freq 107.42': 0.0015265159822432097, 'EEG F4-LE freq 108.4': 0.0010984383295063692, 'EEG F4-LE freq 109.38': 0.0008022360856611478, 'EEG F4-LE freq 110.35': 0.0010549129356298103, 'EEG F4-LE freq 111.33': 0.00076352730366038, 'EEG F4-LE freq 112.3': 0.0009389220085026732, 'EEG F4-LE freq 113.28': 0.0006890555568592155, 'EEG F4-LE freq 114.26': 0.00046203904168913345, 'EEG F4-LE freq 115.23': 0.0003803808410697964, 'EEG F4-LE freq 116.21': 0.0004777634324571071, 'EEG F4-LE freq 117.19': 0.0003158332064060555, 'EEG F4-LE freq 118.16': 0.0002642284293437836, 'EEG F4-LE freq 119.14': 0.00021132580609648186, 'EEG F4-LE freq 120.12': 0.00018444533609631494, 'EEG F4-LE freq 121.09': 0.00017037882400950841, 'EEG F4-LE freq 122.07': 0.00017106681176895297, 'EEG F4-LE freq 123.05': 0.00015225100422252717, 'EEG F4-LE freq 124.02': 9.523712721062578e-05, 'EEG F4-LE freq 125.0': 5.7040544761332834e-05, 'EEG C3-LE freq 0.0': 0.0032031474096628886, 'EEG C3-LE freq 0.98': 0.12591015609245815, 'EEG C3-LE freq 1.95': 0.04772047446827048, 'EEG C3-LE freq 2.93': 0.03287948571162679, 'EEG C3-LE freq 3.91': 0.027822834558866427, 'EEG C3-LE freq 4.88': 0.032187820614682706, 'EEG C3-LE freq 5.86': 0.04836735315602343, 'EEG C3-LE freq 6.84': 0.08962937435983179, 'EEG C3-LE freq 7.81': 0.15433001312354433, 'EEG C3-LE freq 8.79': 0.14589985106446188, 'EEG C3-LE freq 9.77': 0.04362394058007481, 'EEG C3-LE freq 10.74': 0.017650514447105737, 'EEG C3-LE freq 11.72': 0.011617083951845917, 'EEG C3-LE freq 12.7': 0.0091547456517502, 'EEG C3-LE freq 13.67': 0.006824656028123098, 'EEG C3-LE freq 14.65': 0.0066976089549045425, 'EEG C3-LE freq 15.62': 0.0059793702312517785, 'EEG C3-LE freq 16.6': 0.006283128820853303, 'EEG C3-LE freq 17.58': 0.005955703620883966, 'EEG C3-LE freq 18.55': 0.00458254413456562, 'EEG C3-LE freq 19.53': 0.003910488694627365, 'EEG C3-LE freq 20.51': 0.004029491536321857, 'EEG C3-LE freq 21.48': 0.004019096632049088, 'EEG C3-LE freq 22.46': 0.0033315776275009736, 'EEG C3-LE freq 23.44': 0.0031070026118517387, 'EEG C3-LE freq 24.41': 0.002505209051948917, 'EEG C3-LE freq 25.39': 0.002076259885678789, 'EEG C3-LE freq 26.37': 0.0019832977226927565, 'EEG C3-LE freq 27.34': 0.0017901030430961969, 'EEG C3-LE freq 28.32': 0.0017951289854594504, 'EEG C3-LE freq 29.3': 0.001599369043274997, 'EEG C3-LE freq 30.27': 0.0015199582508604956, 'EEG C3-LE freq 31.25': 0.0014275177858152459, 'EEG C3-LE freq 32.23': 0.0014446299292499977, 'EEG C3-LE freq 33.2': 0.0014847216973030803, 'EEG C3-LE freq 34.18': 0.0014337289078388618, 'EEG C3-LE freq 35.16': 0.0014982914610010831, 'EEG C3-LE freq 36.13': 0.0014622950631007522, 'EEG C3-LE freq 37.11': 0.001580241569351976, 'EEG C3-LE freq 38.09': 0.0016221975991454717, 'EEG C3-LE freq 39.06': 0.0016492762152570382, 'EEG C3-LE freq 40.04': 0.0015946259925176817, 'EEG C3-LE freq 41.02': 0.0017219800514761368, 'EEG C3-LE freq 41.99': 0.0016792894429446925, 'EEG C3-LE freq 42.97': 0.0016788981125126052, 'EEG C3-LE freq 43.95': 0.0017456812159178056, 'EEG C3-LE freq 44.92': 0.0015955304929524327, 'EEG C3-LE freq 45.9': 0.0016265453430242697, 'EEG C3-LE freq 46.88': 0.0015872836242280211, 'EEG C3-LE freq 47.85': 0.0015781732966162183, 'EEG C3-LE freq 48.83': 0.0017475927007620904, 'EEG C3-LE freq 49.8': 0.001626440384776473, 'EEG C3-LE freq 50.78': 0.0016888369146611565, 'EEG C3-LE freq 51.76': 0.0017201133905664526, 'EEG C3-LE freq 52.73': 0.0018245176901822934, 'EEG C3-LE freq 53.71': 0.001841603340816778, 'EEG C3-LE freq 54.69': 0.0017096509931273653, 'EEG C3-LE freq 55.66': 0.0017450188982178184, 'EEG C3-LE freq 56.64': 0.0017578164673024124, 'EEG C3-LE freq 57.62': 0.0017958869637377459, 'EEG C3-LE freq 58.59': 0.0017367502637580983, 'EEG C3-LE freq 59.57': 0.004916872635586964, 'EEG C3-LE freq 60.55': 0.00370867764389722, 'EEG C3-LE freq 61.52': 0.0018611368468242529, 'EEG C3-LE freq 62.5': 0.0017033116667155585, 'EEG C3-LE freq 63.48': 0.0018547515429702859, 'EEG C3-LE freq 64.45': 0.0017217651167396003, 'EEG C3-LE freq 65.43': 0.0015833911497329036, 'EEG C3-LE freq 66.41': 0.001707979740083759, 'EEG C3-LE freq 67.38': 0.001807456697177274, 'EEG C3-LE freq 68.36': 0.0019155668811528012, 'EEG C3-LE freq 69.34': 0.001633574393051494, 'EEG C3-LE freq 70.31': 0.0018406566618283295, 'EEG C3-LE freq 71.29': 0.001768056775606637, 'EEG C3-LE freq 72.27': 0.001751792434629575, 'EEG C3-LE freq 73.24': 0.0016289726951906208, 'EEG C3-LE freq 74.22': 0.0016837207014536537, 'EEG C3-LE freq 75.2': 0.001718399940873159, 'EEG C3-LE freq 76.17': 0.0017556448781231694, 'EEG C3-LE freq 77.15': 0.001702291598219767, 'EEG C3-LE freq 78.12': 0.001738251622857206, 'EEG C3-LE freq 79.1': 0.0016304949289241246, 'EEG C3-LE freq 80.08': 0.0016570886211463448, 'EEG C3-LE freq 81.05': 0.0017040681183219724, 'EEG C3-LE freq 82.03': 0.0016000861237478047, 'EEG C3-LE freq 83.01': 0.0017782704005779796, 'EEG C3-LE freq 83.98': 0.0018441482040429695, 'EEG C3-LE freq 84.96': 0.0017474969458708969, 'EEG C3-LE freq 85.94': 0.0016120412189177026, 'EEG C3-LE freq 86.91': 0.0017426406700040953, 'EEG C3-LE freq 87.89': 0.001737818201786729, 'EEG C3-LE freq 88.87': 0.0016085987926097362, 'EEG C3-LE freq 89.84': 0.0017144733635107885, 'EEG C3-LE freq 90.82': 0.0018637769465847099, 'EEG C3-LE freq 91.8': 0.0015537995535697935, 'EEG C3-LE freq 92.77': 0.0016719607760563129, 'EEG C3-LE freq 93.75': 0.0015621309991185736, 'EEG C3-LE freq 94.73': 0.00168843684108325, 'EEG C3-LE freq 95.7': 0.0016648915438403963, 'EEG C3-LE freq 96.68': 0.001705827765195383, 'EEG C3-LE freq 97.66': 0.001810096570957753, 'EEG C3-LE freq 98.63': 0.0016952235418923845, 'EEG C3-LE freq 99.61': 0.0016257513834481926, 'EEG C3-LE freq 100.59': 0.0016594508929781311, 'EEG C3-LE freq 101.56': 0.0014070673800683795, 'EEG C3-LE freq 102.54': 0.001497289495673306, 'EEG C3-LE freq 103.52': 0.001499337522866973, 'EEG C3-LE freq 104.49': 0.0012988243121028194, 'EEG C3-LE freq 105.47': 0.0013639180173362073, 'EEG C3-LE freq 106.45': 0.0011561388447465027, 'EEG C3-LE freq 107.42': 0.0010162364146076405, 'EEG C3-LE freq 108.4': 0.000939101102414148, 'EEG C3-LE freq 109.38': 0.0008222144362302271, 'EEG C3-LE freq 110.35': 0.0007209385901532274, 'EEG C3-LE freq 111.33': 0.0006132501770281954, 'EEG C3-LE freq 112.3': 0.0005204903204333797, 'EEG C3-LE freq 113.28': 0.00041046733988528016, 'EEG C3-LE freq 114.26': 0.00038040829495493086, 'EEG C3-LE freq 115.23': 0.0002863655407564081, 'EEG C3-LE freq 116.21': 0.0002527583737454893, 'EEG C3-LE freq 117.19': 0.00021935585877905364, 'EEG C3-LE freq 118.16': 0.00019100542574027496, 'EEG C3-LE freq 119.14': 0.0001774679668541553, 'EEG C3-LE freq 120.12': 0.0002744818017609279, 'EEG C3-LE freq 121.09': 0.00012280944692410857, 'EEG C3-LE freq 122.07': 0.00010981768568400238, 'EEG C3-LE freq 123.05': 0.00010715946493075895, 'EEG C3-LE freq 124.02': 9.563200618334398e-05, 'EEG C3-LE freq 125.0': 4.469427892761515e-05, 'EEG C4-LE freq 0.0': 0.003450253826190239, 'EEG C4-LE freq 0.98': 0.15844668321542538, 'EEG C4-LE freq 1.95': 0.057719890514826004, 'EEG C4-LE freq 2.93': 0.03674770584369457, 'EEG C4-LE freq 3.91': 0.027375206964481112, 'EEG C4-LE freq 4.88': 0.02974639867269615, 'EEG C4-LE freq 5.86': 0.04510393311719805, 'EEG C4-LE freq 6.84': 0.07935607083817098, 'EEG C4-LE freq 7.81': 0.12270646546782525, 'EEG C4-LE freq 8.79': 0.13789379560885642, 'EEG C4-LE freq 9.77': 0.04498474563365521, 'EEG C4-LE freq 10.74': 0.01635088192408227, 'EEG C4-LE freq 11.72': 0.010350469142357778, 'EEG C4-LE freq 12.7': 0.007824663812670041, 'EEG C4-LE freq 13.67': 0.00615902716009836, 'EEG C4-LE freq 14.65': 0.005811670976304038, 'EEG C4-LE freq 15.62': 0.005527003053543019, 'EEG C4-LE freq 16.6': 0.005246095176949674, 'EEG C4-LE freq 17.58': 0.005284297588623582, 'EEG C4-LE freq 18.55': 0.0041305872802436415, 'EEG C4-LE freq 19.53': 0.0034282353307460876, 'EEG C4-LE freq 20.51': 0.0031105668481976635, 'EEG C4-LE freq 21.48': 0.0029316704987185447, 'EEG C4-LE freq 22.46': 0.0026613883513521576, 'EEG C4-LE freq 23.44': 0.0021835358147061904, 'EEG C4-LE freq 24.41': 0.0017665303960014214, 'EEG C4-LE freq 25.39': 0.0016145820774033086, 'EEG C4-LE freq 26.37': 0.0015398300258443445, 'EEG C4-LE freq 27.34': 0.0017300474802530292, 'EEG C4-LE freq 28.32': 0.0016288181766901954, 'EEG C4-LE freq 29.3': 0.0015866954571025602, 'EEG C4-LE freq 30.27': 0.0014517867251464703, 'EEG C4-LE freq 31.25': 0.0015537725405948967, 'EEG C4-LE freq 32.23': 0.0016562198941169686, 'EEG C4-LE freq 33.2': 0.001657870965358669, 'EEG C4-LE freq 34.18': 0.0017983517015690027, 'EEG C4-LE freq 35.16': 0.0016603470402540897, 'EEG C4-LE freq 36.13': 0.0013840777529562788, 'EEG C4-LE freq 37.11': 0.0012163250239024634, 'EEG C4-LE freq 38.09': 0.0013351212680993538, 'EEG C4-LE freq 39.06': 0.0014676465056521332, 'EEG C4-LE freq 40.04': 0.0016140475739369743, 'EEG C4-LE freq 41.02': 0.0019953542828899215, 'EEG C4-LE freq 41.99': 0.0018062303152948979, 'EEG C4-LE freq 42.97': 0.001556182374534471, 'EEG C4-LE freq 43.95': 0.001963196105259693, 'EEG C4-LE freq 44.92': 0.0016255652678356693, 'EEG C4-LE freq 45.9': 0.001629342539883187, 'EEG C4-LE freq 46.88': 0.0014897004362126795, 'EEG C4-LE freq 47.85': 0.0015023251214074372, 'EEG C4-LE freq 48.83': 0.001712197260336136, 'EEG C4-LE freq 49.8': 0.0016468012153912522, 'EEG C4-LE freq 50.78': 0.0017161642433247473, 'EEG C4-LE freq 51.76': 0.0020553260624714747, 'EEG C4-LE freq 52.73': 0.002320112667708052, 'EEG C4-LE freq 53.71': 0.0030316951237024724, 'EEG C4-LE freq 54.69': 0.0023730924996698387, 'EEG C4-LE freq 55.66': 0.002765180083722816, 'EEG C4-LE freq 56.64': 0.0028428661723676, 'EEG C4-LE freq 57.62': 0.0021857732213915165, 'EEG C4-LE freq 58.59': 0.0019357542120926497, 'EEG C4-LE freq 59.57': 0.0033627419966388125, 'EEG C4-LE freq 60.55': 0.0027872452381455482, 'EEG C4-LE freq 61.52': 0.001993515992276369, 'EEG C4-LE freq 62.5': 0.0019535028093961974, 'EEG C4-LE freq 63.48': 0.002201265841609666, 'EEG C4-LE freq 64.45': 0.0023430887251481487, 'EEG C4-LE freq 65.43': 0.0016205981954772338, 'EEG C4-LE freq 66.41': 0.0021151982471598234, 'EEG C4-LE freq 67.38': 0.0014892128311017945, 'EEG C4-LE freq 68.36': 0.0017403073763561725, 'EEG C4-LE freq 69.34': 0.0020884967061600766, 'EEG C4-LE freq 70.31': 0.0028821702189474893, 'EEG C4-LE freq 71.29': 0.0031415264767469266, 'EEG C4-LE freq 72.27': 0.0022287304909235557, 'EEG C4-LE freq 73.24': 0.0017742744158340384, 'EEG C4-LE freq 74.22': 0.0017434747412066979, 'EEG C4-LE freq 75.2': 0.0016268671125172092, 'EEG C4-LE freq 76.17': 0.0019425715920131602, 'EEG C4-LE freq 77.15': 0.0019354911672688402, 'EEG C4-LE freq 78.12': 0.0015560393286356505, 'EEG C4-LE freq 79.1': 0.0015607451766405857, 'EEG C4-LE freq 80.08': 0.002085673788112658, 'EEG C4-LE freq 81.05': 0.0022215760588462415, 'EEG C4-LE freq 82.03': 0.0016856669380857729, 'EEG C4-LE freq 83.01': 0.0022062413610068328, 'EEG C4-LE freq 83.98': 0.0019425172722456307, 'EEG C4-LE freq 84.96': 0.0018291308064030034, 'EEG C4-LE freq 85.94': 0.0017795863045120966, 'EEG C4-LE freq 86.91': 0.002452791746060352, 'EEG C4-LE freq 87.89': 0.0021317513526971314, 'EEG C4-LE freq 88.87': 0.0019419842243378145, 'EEG C4-LE freq 89.84': 0.001820130606740667, 'EEG C4-LE freq 90.82': 0.002180061739436593, 'EEG C4-LE freq 91.8': 0.001935960240162122, 'EEG C4-LE freq 92.77': 0.002260600549468527, 'EEG C4-LE freq 93.75': 0.0025265107274990554, 'EEG C4-LE freq 94.73': 0.0028792463259950237, 'EEG C4-LE freq 95.7': 0.0020551177964154583, 'EEG C4-LE freq 96.68': 0.001510652363563111, 'EEG C4-LE freq 97.66': 0.002057633359558537, 'EEG C4-LE freq 98.63': 0.0019189656599133337, 'EEG C4-LE freq 99.61': 0.001925517874485644, 'EEG C4-LE freq 100.59': 0.002286302505611569, 'EEG C4-LE freq 101.56': 0.001988670488478932, 'EEG C4-LE freq 102.54': 0.0017213296468339798, 'EEG C4-LE freq 103.52': 0.001989966039074645, 'EEG C4-LE freq 104.49': 0.001702744321713975, 'EEG C4-LE freq 105.47': 0.0019768506355362734, 'EEG C4-LE freq 106.45': 0.0014441588826036222, 'EEG C4-LE freq 107.42': 0.0014288658504132072, 'EEG C4-LE freq 108.4': 0.0010372433935550063, 'EEG C4-LE freq 109.38': 0.0009143177518667465, 'EEG C4-LE freq 110.35': 0.0011569510489750343, 'EEG C4-LE freq 111.33': 0.0008254616845669287, 'EEG C4-LE freq 112.3': 0.0009861061975679009, 'EEG C4-LE freq 113.28': 0.0007035420675426347, 'EEG C4-LE freq 114.26': 0.0005664712977592806, 'EEG C4-LE freq 115.23': 0.00042400076871359295, 'EEG C4-LE freq 116.21': 0.0004571439192694863, 'EEG C4-LE freq 117.19': 0.0002663322288648346, 'EEG C4-LE freq 118.16': 0.00022407102218428772, 'EEG C4-LE freq 119.14': 0.00018478094588964835, 'EEG C4-LE freq 120.12': 0.00026110451153324123, 'EEG C4-LE freq 121.09': 0.00017565712546226036, 'EEG C4-LE freq 122.07': 0.000164477515285567, 'EEG C4-LE freq 123.05': 0.0001323005578021782, 'EEG C4-LE freq 124.02': 0.0001278267499956836, 'EEG C4-LE freq 125.0': 7.276859515880721e-05, 'EEG A1-LE freq 0.0': 0.0029601317900828697, 'EEG A1-LE freq 0.98': 0.12523308708919367, 'EEG A1-LE freq 1.95': 0.05077978570185183, 'EEG A1-LE freq 2.93': 0.04464240449680185, 'EEG A1-LE freq 3.91': 0.03184027999081741, 'EEG A1-LE freq 4.88': 0.025531814521611997, 'EEG A1-LE freq 5.86': 0.025656851344680362, 'EEG A1-LE freq 6.84': 0.047573553445629746, 'EEG A1-LE freq 7.81': 0.06872855582694865, 'EEG A1-LE freq 8.79': 0.03216918978887424, 'EEG A1-LE freq 9.77': 0.013802223717621392, 'EEG A1-LE freq 10.74': 0.009677225226819722, 'EEG A1-LE freq 11.72': 0.007297681675489268, 'EEG A1-LE freq 12.7': 0.005959581509830621, 'EEG A1-LE freq 13.67': 0.006632245590472558, 'EEG A1-LE freq 14.65': 0.006827582378825275, 'EEG A1-LE freq 15.62': 0.006492618847671853, 'EEG A1-LE freq 16.6': 0.006473692010931889, 'EEG A1-LE freq 17.58': 0.00682094938389342, 'EEG A1-LE freq 18.55': 0.006450215192594721, 'EEG A1-LE freq 19.53': 0.006622243730255433, 'EEG A1-LE freq 20.51': 0.006911765317428517, 'EEG A1-LE freq 21.48': 0.006412883130904979, 'EEG A1-LE freq 22.46': 0.005910380800399163, 'EEG A1-LE freq 23.44': 0.005668456263171116, 'EEG A1-LE freq 24.41': 0.005443533342321955, 'EEG A1-LE freq 25.39': 0.005012496470061158, 'EEG A1-LE freq 26.37': 0.005556847214934145, 'EEG A1-LE freq 27.34': 0.00605968675726476, 'EEG A1-LE freq 28.32': 0.005687352462830783, 'EEG A1-LE freq 29.3': 0.004309187476411583, 'EEG A1-LE freq 30.27': 0.004028353775450633, 'EEG A1-LE freq 31.25': 0.003689009507880823, 'EEG A1-LE freq 32.23': 0.003746822950130449, 'EEG A1-LE freq 33.2': 0.004364329077759172, 'EEG A1-LE freq 34.18': 0.0039083509052722665, 'EEG A1-LE freq 35.16': 0.004337225279887015, 'EEG A1-LE freq 36.13': 0.004745930332831299, 'EEG A1-LE freq 37.11': 0.004712035600095482, 'EEG A1-LE freq 38.09': 0.004185683962639645, 'EEG A1-LE freq 39.06': 0.004792210571854855, 'EEG A1-LE freq 40.04': 0.005206330410367032, 'EEG A1-LE freq 41.02': 0.0050363446883446485, 'EEG A1-LE freq 41.99': 0.005333712742896443, 'EEG A1-LE freq 42.97': 0.004943090235937665, 'EEG A1-LE freq 43.95': 0.0047778230855049925, 'EEG A1-LE freq 44.92': 0.0052248902758561975, 'EEG A1-LE freq 45.9': 0.004227339718796449, 'EEG A1-LE freq 46.88': 0.004119748269184368, 'EEG A1-LE freq 47.85': 0.004878699844916965, 'EEG A1-LE freq 48.83': 0.005394622402080362, 'EEG A1-LE freq 49.8': 0.005237561594854304, 'EEG A1-LE freq 50.78': 0.00489852268686825, 'EEG A1-LE freq 51.76': 0.004551241024213304, 'EEG A1-LE freq 52.73': 0.004413588131834762, 'EEG A1-LE freq 53.71': 0.005248621061482227, 'EEG A1-LE freq 54.69': 0.00534751668946645, 'EEG A1-LE freq 55.66': 0.005442041328529719, 'EEG A1-LE freq 56.64': 0.004328181992862131, 'EEG A1-LE freq 57.62': 0.004517830601775629, 'EEG A1-LE freq 58.59': 0.004841609760591769, 'EEG A1-LE freq 59.57': 0.014385591898659587, 'EEG A1-LE freq 60.55': 0.009481989883684852, 'EEG A1-LE freq 61.52': 0.00537810050123083, 'EEG A1-LE freq 62.5': 0.005228548354028851, 'EEG A1-LE freq 63.48': 0.005133958365216853, 'EEG A1-LE freq 64.45': 0.004977757345504563, 'EEG A1-LE freq 65.43': 0.004583734513771084, 'EEG A1-LE freq 66.41': 0.005045212381663932, 'EEG A1-LE freq 67.38': 0.004859927001848939, 'EEG A1-LE freq 68.36': 0.004742578680997741, 'EEG A1-LE freq 69.34': 0.004572388899542053, 'EEG A1-LE freq 70.31': 0.004843841452704141, 'EEG A1-LE freq 71.29': 0.004490021957354018, 'EEG A1-LE freq 72.27': 0.004697943084467512, 'EEG A1-LE freq 73.24': 0.0042885854337863585, 'EEG A1-LE freq 74.22': 0.0042061761657327815, 'EEG A1-LE freq 75.2': 0.004881445696441591, 'EEG A1-LE freq 76.17': 0.004635550466606694, 'EEG A1-LE freq 77.15': 0.005217948945752454, 'EEG A1-LE freq 78.12': 0.0048943435155664305, 'EEG A1-LE freq 79.1': 0.004388125961525667, 'EEG A1-LE freq 80.08': 0.0052160620504284995, 'EEG A1-LE freq 81.05': 0.004728160895837063, 'EEG A1-LE freq 82.03': 0.0047117973781489915, 'EEG A1-LE freq 83.01': 0.004255568933372202, 'EEG A1-LE freq 83.98': 0.004684727005427236, 'EEG A1-LE freq 84.96': 0.0046202536800049295, 'EEG A1-LE freq 85.94': 0.004422486114606879, 'EEG A1-LE freq 86.91': 0.004718519357583655, 'EEG A1-LE freq 87.89': 0.004639965680495647, 'EEG A1-LE freq 88.87': 0.004262601687285598, 'EEG A1-LE freq 89.84': 0.005162537291476438, 'EEG A1-LE freq 90.82': 0.004989719816734624, 'EEG A1-LE freq 91.8': 0.004380522105561382, 'EEG A1-LE freq 92.77': 0.004329869854741557, 'EEG A1-LE freq 93.75': 0.004545877272074164, 'EEG A1-LE freq 94.73': 0.0044465403687798085, 'EEG A1-LE freq 95.7': 0.004515840785366904, 'EEG A1-LE freq 96.68': 0.004195417438055279, 'EEG A1-LE freq 97.66': 0.004511951322796398, 'EEG A1-LE freq 98.63': 0.005067617263963995, 'EEG A1-LE freq 99.61': 0.004906448534989893, 'EEG A1-LE freq 100.59': 0.004437277429011917, 'EEG A1-LE freq 101.56': 0.0045967337461391726, 'EEG A1-LE freq 102.54': 0.004157630460453399, 'EEG A1-LE freq 103.52': 0.004069993854328747, 'EEG A1-LE freq 104.49': 0.003796950506848769, 'EEG A1-LE freq 105.47': 0.0037643167439638026, 'EEG A1-LE freq 106.45': 0.0033299384973123833, 'EEG A1-LE freq 107.42': 0.003126407380619103, 'EEG A1-LE freq 108.4': 0.0028072907598838534, 'EEG A1-LE freq 109.38': 0.002445011170214325, 'EEG A1-LE freq 110.35': 0.0022653835038421765, 'EEG A1-LE freq 111.33': 0.0019689230279944475, 'EEG A1-LE freq 112.3': 0.0016133141208173175, 'EEG A1-LE freq 113.28': 0.0013838490644753419, 'EEG A1-LE freq 114.26': 0.0011731866624877887, 'EEG A1-LE freq 115.23': 0.0009957151931235869, 'EEG A1-LE freq 116.21': 0.0008731219785828803, 'EEG A1-LE freq 117.19': 0.0008462024286384736, 'EEG A1-LE freq 118.16': 0.0006626425580790485, 'EEG A1-LE freq 119.14': 0.0007405204359459729, 'EEG A1-LE freq 120.12': 0.0011835326957132608, 'EEG A1-LE freq 121.09': 0.0004692855734096357, 'EEG A1-LE freq 122.07': 0.0004266989573995538, 'EEG A1-LE freq 123.05': 0.00039227784952706297, 'EEG A1-LE freq 124.02': 0.00039640846295748176, 'EEG A1-LE freq 125.0': 0.00020736058762020704, 'EEG A2-LE freq 0.0': 0.0029873160483187794, 'EEG A2-LE freq 0.98': 0.12496545597095646, 'EEG A2-LE freq 1.95': 0.0504687971701943, 'EEG A2-LE freq 2.93': 0.044748108505686376, 'EEG A2-LE freq 3.91': 0.0315878748561737, 'EEG A2-LE freq 4.88': 0.02556432266546391, 'EEG A2-LE freq 5.86': 0.025666233722025245, 'EEG A2-LE freq 6.84': 0.04665118956070326, 'EEG A2-LE freq 7.81': 0.06860891376978542, 'EEG A2-LE freq 8.79': 0.031863611502739184, 'EEG A2-LE freq 9.77': 0.014000460372868173, 'EEG A2-LE freq 10.74': 0.009833308222920103, 'EEG A2-LE freq 11.72': 0.007526404955069802, 'EEG A2-LE freq 12.7': 0.006395120228238108, 'EEG A2-LE freq 13.67': 0.0067993207458160645, 'EEG A2-LE freq 14.65': 0.007201308632360094, 'EEG A2-LE freq 15.62': 0.00667635038574184, 'EEG A2-LE freq 16.6': 0.00650538686630226, 'EEG A2-LE freq 17.58': 0.006627168858999318, 'EEG A2-LE freq 18.55': 0.006512558111958945, 'EEG A2-LE freq 19.53': 0.006492834665185668, 'EEG A2-LE freq 20.51': 0.0070631332350840825, 'EEG A2-LE freq 21.48': 0.006845281790693847, 'EEG A2-LE freq 22.46': 0.006083341117782732, 'EEG A2-LE freq 23.44': 0.005740882399441018, 'EEG A2-LE freq 24.41': 0.00561117045747124, 'EEG A2-LE freq 25.39': 0.00498982558074501, 'EEG A2-LE freq 26.37': 0.005629308720721699, 'EEG A2-LE freq 27.34': 0.006203666406262691, 'EEG A2-LE freq 28.32': 0.005683876715324753, 'EEG A2-LE freq 29.3': 0.004463924968410428, 'EEG A2-LE freq 30.27': 0.004043821728353189, 'EEG A2-LE freq 31.25': 0.0037377114931800245, 'EEG A2-LE freq 32.23': 0.003757490677157315, 'EEG A2-LE freq 33.2': 0.004278184787216954, 'EEG A2-LE freq 34.18': 0.004010162397552345, 'EEG A2-LE freq 35.16': 0.0044295940599879315, 'EEG A2-LE freq 36.13': 0.004973396977786303, 'EEG A2-LE freq 37.11': 0.0046593516111710686, 'EEG A2-LE freq 38.09': 0.004364614535967751, 'EEG A2-LE freq 39.06': 0.0048213192736036945, 'EEG A2-LE freq 40.04': 0.005163122278240597, 'EEG A2-LE freq 41.02': 0.00495943802948718, 'EEG A2-LE freq 41.99': 0.005205515851823596, 'EEG A2-LE freq 42.97': 0.004892580312891614, 'EEG A2-LE freq 43.95': 0.0048573571108204506, 'EEG A2-LE freq 44.92': 0.0053692871923312424, 'EEG A2-LE freq 45.9': 0.004354201894925056, 'EEG A2-LE freq 46.88': 0.004146364090873926, 'EEG A2-LE freq 47.85': 0.004925385904663678, 'EEG A2-LE freq 48.83': 0.005403530023539509, 'EEG A2-LE freq 49.8': 0.0052154955168276, 'EEG A2-LE freq 50.78': 0.004871944369677632, 'EEG A2-LE freq 51.76': 0.0046486510956432435, 'EEG A2-LE freq 52.73': 0.0043830248652752726, 'EEG A2-LE freq 53.71': 0.005164608118009689, 'EEG A2-LE freq 54.69': 0.0054648514111161174, 'EEG A2-LE freq 55.66': 0.005447743127327271, 'EEG A2-LE freq 56.64': 0.004304339051028958, 'EEG A2-LE freq 57.62': 0.004540451307049511, 'EEG A2-LE freq 58.59': 0.004678263805342599, 'EEG A2-LE freq 59.57': 0.012366550283793541, 'EEG A2-LE freq 60.55': 0.009095802923861532, 'EEG A2-LE freq 61.52': 0.005036334460412983, 'EEG A2-LE freq 62.5': 0.005081793725592245, 'EEG A2-LE freq 63.48': 0.005142219639938164, 'EEG A2-LE freq 64.45': 0.005071668002835932, 'EEG A2-LE freq 65.43': 0.004742419642168778, 'EEG A2-LE freq 66.41': 0.0050771172645474845, 'EEG A2-LE freq 67.38': 0.004866713517423535, 'EEG A2-LE freq 68.36': 0.004700447751759703, 'EEG A2-LE freq 69.34': 0.004608766242482645, 'EEG A2-LE freq 70.31': 0.005197394544427311, 'EEG A2-LE freq 71.29': 0.004431796271041057, 'EEG A2-LE freq 72.27': 0.0047647374753821015, 'EEG A2-LE freq 73.24': 0.004317822777782543, 'EEG A2-LE freq 74.22': 0.004203212747474042, 'EEG A2-LE freq 75.2': 0.004818315563210022, 'EEG A2-LE freq 76.17': 0.004706755166035079, 'EEG A2-LE freq 77.15': 0.005338494214252739, 'EEG A2-LE freq 78.12': 0.005043474237795522, 'EEG A2-LE freq 79.1': 0.004447959456779454, 'EEG A2-LE freq 80.08': 0.005196245533652238, 'EEG A2-LE freq 81.05': 0.004941531506958722, 'EEG A2-LE freq 82.03': 0.004589878893515904, 'EEG A2-LE freq 83.01': 0.0042922225753287664, 'EEG A2-LE freq 83.98': 0.004903073307973353, 'EEG A2-LE freq 84.96': 0.004822825577674773, 'EEG A2-LE freq 85.94': 0.004424466579595963, 'EEG A2-LE freq 86.91': 0.004680051988037519, 'EEG A2-LE freq 87.89': 0.004657192743562404, 'EEG A2-LE freq 88.87': 0.00427598490531328, 'EEG A2-LE freq 89.84': 0.005274053404519227, 'EEG A2-LE freq 90.82': 0.0050887717323111715, 'EEG A2-LE freq 91.8': 0.0044261955604109485, 'EEG A2-LE freq 92.77': 0.004294081998234843, 'EEG A2-LE freq 93.75': 0.004588862081284506, 'EEG A2-LE freq 94.73': 0.004402690483988705, 'EEG A2-LE freq 95.7': 0.004517528642996451, 'EEG A2-LE freq 96.68': 0.004246043500400621, 'EEG A2-LE freq 97.66': 0.004707205586613363, 'EEG A2-LE freq 98.63': 0.005124840407420288, 'EEG A2-LE freq 99.61': 0.0049287311882881294, 'EEG A2-LE freq 100.59': 0.004289366212762425, 'EEG A2-LE freq 101.56': 0.004429026922886994, 'EEG A2-LE freq 102.54': 0.004158739971430682, 'EEG A2-LE freq 103.52': 0.003969432105349847, 'EEG A2-LE freq 104.49': 0.0038897439037881613, 'EEG A2-LE freq 105.47': 0.003866197273137331, 'EEG A2-LE freq 106.45': 0.003320643451779457, 'EEG A2-LE freq 107.42': 0.003152550511581775, 'EEG A2-LE freq 108.4': 0.002875106453103255, 'EEG A2-LE freq 109.38': 0.0024184532929610422, 'EEG A2-LE freq 110.35': 0.002257557233258336, 'EEG A2-LE freq 111.33': 0.0018900031103632428, 'EEG A2-LE freq 112.3': 0.0015201939568222644, 'EEG A2-LE freq 113.28': 0.0013619752496263425, 'EEG A2-LE freq 114.26': 0.001109950084587784, 'EEG A2-LE freq 115.23': 0.0009878870559007203, 'EEG A2-LE freq 116.21': 0.0008863999222917005, 'EEG A2-LE freq 117.19': 0.0008329408751406559, 'EEG A2-LE freq 118.16': 0.0006475839488874459, 'EEG A2-LE freq 119.14': 0.0006863820732960559, 'EEG A2-LE freq 120.12': 0.0009970767371319641, 'EEG A2-LE freq 121.09': 0.00048616136940253155, 'EEG A2-LE freq 122.07': 0.00043462934715730455, 'EEG A2-LE freq 123.05': 0.0003890083002790743, 'EEG A2-LE freq 124.02': 0.00041907307216380955, 'EEG A2-LE freq 125.0': 0.00021338334951643556, 'EEG P3-LE freq 0.0': 0.0027556682183603057, 'EEG P3-LE freq 0.98': 0.09613746891076229, 'EEG P3-LE freq 1.95': 0.043700988152971736, 'EEG P3-LE freq 2.93': 0.030672855144328614, 'EEG P3-LE freq 3.91': 0.026649687622266504, 'EEG P3-LE freq 4.88': 0.029479408380885107, 'EEG P3-LE freq 5.86': 0.042115267866414556, 'EEG P3-LE freq 6.84': 0.08500315358907433, 'EEG P3-LE freq 7.81': 0.16279277728362887, 'EEG P3-LE freq 8.79': 0.18638041045786047, 'EEG P3-LE freq 9.77': 0.08419307564899348, 'EEG P3-LE freq 10.74': 0.030003655971913443, 'EEG P3-LE freq 11.72': 0.012128879701571766, 'EEG P3-LE freq 12.7': 0.007874027360629237, 'EEG P3-LE freq 13.67': 0.006138158063827415, 'EEG P3-LE freq 14.65': 0.006720781381741757, 'EEG P3-LE freq 15.62': 0.005999466607211359, 'EEG P3-LE freq 16.6': 0.006389053528366031, 'EEG P3-LE freq 17.58': 0.006377091109440478, 'EEG P3-LE freq 18.55': 0.004677918096887433, 'EEG P3-LE freq 19.53': 0.0038212838876671164, 'EEG P3-LE freq 20.51': 0.0034206696972024697, 'EEG P3-LE freq 21.48': 0.003066122405172389, 'EEG P3-LE freq 22.46': 0.002449845564942401, 'EEG P3-LE freq 23.44': 0.0023286407236309367, 'EEG P3-LE freq 24.41': 0.0019119179035020147, 'EEG P3-LE freq 25.39': 0.0016589048918639123, 'EEG P3-LE freq 26.37': 0.0016789670661097667, 'EEG P3-LE freq 27.34': 0.0015522973303182094, 'EEG P3-LE freq 28.32': 0.0014680653201245488, 'EEG P3-LE freq 29.3': 0.0012869269601745706, 'EEG P3-LE freq 30.27': 0.0012245794247075369, 'EEG P3-LE freq 31.25': 0.0011015477697525115, 'EEG P3-LE freq 32.23': 0.0010931129181642025, 'EEG P3-LE freq 33.2': 0.0011126684953141246, 'EEG P3-LE freq 34.18': 0.001173711053362639, 'EEG P3-LE freq 35.16': 0.0010379738581474834, 'EEG P3-LE freq 36.13': 0.0010465636326124415, 'EEG P3-LE freq 37.11': 0.0010952431811176247, 'EEG P3-LE freq 38.09': 0.001262758478186068, 'EEG P3-LE freq 39.06': 0.0011845204615845623, 'EEG P3-LE freq 40.04': 0.0010325758816464544, 'EEG P3-LE freq 41.02': 0.0011266743279545256, 'EEG P3-LE freq 41.99': 0.0012880956466861382, 'EEG P3-LE freq 42.97': 0.0010802133956934962, 'EEG P3-LE freq 43.95': 0.0011210528522492338, 'EEG P3-LE freq 44.92': 0.0010606929648197681, 'EEG P3-LE freq 45.9': 0.0010510479798440317, 'EEG P3-LE freq 46.88': 0.0009739457981152096, 'EEG P3-LE freq 47.85': 0.0009723871570053924, 'EEG P3-LE freq 48.83': 0.0011190322535313433, 'EEG P3-LE freq 49.8': 0.0010430879995482663, 'EEG P3-LE freq 50.78': 0.0011847668466910132, 'EEG P3-LE freq 51.76': 0.0011996652999386953, 'EEG P3-LE freq 52.73': 0.0011316510823839933, 'EEG P3-LE freq 53.71': 0.00115522747503329, 'EEG P3-LE freq 54.69': 0.0011022683180731605, 'EEG P3-LE freq 55.66': 0.0011117740114187104, 'EEG P3-LE freq 56.64': 0.0012089754501546225, 'EEG P3-LE freq 57.62': 0.0012063658635242298, 'EEG P3-LE freq 58.59': 0.0011947528964560941, 'EEG P3-LE freq 59.57': 0.006627927772955524, 'EEG P3-LE freq 60.55': 0.004336195855490051, 'EEG P3-LE freq 61.52': 0.0013906382641181933, 'EEG P3-LE freq 62.5': 0.0012011571520825345, 'EEG P3-LE freq 63.48': 0.0011678804272038203, 'EEG P3-LE freq 64.45': 0.0011139878346449895, 'EEG P3-LE freq 65.43': 0.0010266070242540895, 'EEG P3-LE freq 66.41': 0.0010462136184959479, 'EEG P3-LE freq 67.38': 0.0011269527894041313, 'EEG P3-LE freq 68.36': 0.0011936808100535972, 'EEG P3-LE freq 69.34': 0.0009807872649819605, 'EEG P3-LE freq 70.31': 0.0011277630704926817, 'EEG P3-LE freq 71.29': 0.0011198045996903376, 'EEG P3-LE freq 72.27': 0.0010942885508089203, 'EEG P3-LE freq 73.24': 0.0009956755137147855, 'EEG P3-LE freq 74.22': 0.0010149081387464606, 'EEG P3-LE freq 75.2': 0.0011345808052354329, 'EEG P3-LE freq 76.17': 0.0011769083134082101, 'EEG P3-LE freq 77.15': 0.0010492504345372084, 'EEG P3-LE freq 78.12': 0.0010513553975783478, 'EEG P3-LE freq 79.1': 0.0009550798942538727, 'EEG P3-LE freq 80.08': 0.0009661531970038848, 'EEG P3-LE freq 81.05': 0.00108480906775331, 'EEG P3-LE freq 82.03': 0.0009627987353841221, 'EEG P3-LE freq 83.01': 0.0010276371942339472, 'EEG P3-LE freq 83.98': 0.0013042885539263395, 'EEG P3-LE freq 84.96': 0.0011640412202691447, 'EEG P3-LE freq 85.94': 0.0009231556015217972, 'EEG P3-LE freq 86.91': 0.001028038121415189, 'EEG P3-LE freq 87.89': 0.0010758688244839705, 'EEG P3-LE freq 88.87': 0.0009963954233505198, 'EEG P3-LE freq 89.84': 0.001131505830983309, 'EEG P3-LE freq 90.82': 0.0011721435342678624, 'EEG P3-LE freq 91.8': 0.0009876794400350611, 'EEG P3-LE freq 92.77': 0.00101615361713115, 'EEG P3-LE freq 93.75': 0.0009568703650830866, 'EEG P3-LE freq 94.73': 0.0011803830611762558, 'EEG P3-LE freq 95.7': 0.001043433984335951, 'EEG P3-LE freq 96.68': 0.0009951941975658715, 'EEG P3-LE freq 97.66': 0.0010503336255396473, 'EEG P3-LE freq 98.63': 0.0010126565984133837, 'EEG P3-LE freq 99.61': 0.0009831396045463985, 'EEG P3-LE freq 100.59': 0.0010095238988052833, 'EEG P3-LE freq 101.56': 0.0009603162803101818, 'EEG P3-LE freq 102.54': 0.0009472647963078274, 'EEG P3-LE freq 103.52': 0.0009408742626254181, 'EEG P3-LE freq 104.49': 0.0009546529765548132, 'EEG P3-LE freq 105.47': 0.0009266844433551115, 'EEG P3-LE freq 106.45': 0.0007204559872185362, 'EEG P3-LE freq 107.42': 0.0006354472924886025, 'EEG P3-LE freq 108.4': 0.0005986986360414591, 'EEG P3-LE freq 109.38': 0.0004951703348429164, 'EEG P3-LE freq 110.35': 0.00045978262972364947, 'EEG P3-LE freq 111.33': 0.00037037023938650435, 'EEG P3-LE freq 112.3': 0.00032716841596510814, 'EEG P3-LE freq 113.28': 0.0002804878112834582, 'EEG P3-LE freq 114.26': 0.00027838079792791846, 'EEG P3-LE freq 115.23': 0.00019298840477655277, 'EEG P3-LE freq 116.21': 0.00017410074695763851, 'EEG P3-LE freq 117.19': 0.00015270525263426512, 'EEG P3-LE freq 118.16': 0.00013453706735998063, 'EEG P3-LE freq 119.14': 0.0001677128056523576, 'EEG P3-LE freq 120.12': 0.00040226532239770663, 'EEG P3-LE freq 121.09': 9.029506246439415e-05, 'EEG P3-LE freq 122.07': 7.781405154153274e-05, 'EEG P3-LE freq 123.05': 7.372591669570853e-05, 'EEG P3-LE freq 124.02': 7.000217517667832e-05, 'EEG P3-LE freq 125.0': 3.3883439374626404e-05, 'EEG P4-LE freq 0.0': 0.0029317040416161166, 'EEG P4-LE freq 0.98': 0.10707885287503835, 'EEG P4-LE freq 1.95': 0.04939763035351657, 'EEG P4-LE freq 2.93': 0.03361365279619037, 'EEG P4-LE freq 3.91': 0.027931055902173638, 'EEG P4-LE freq 4.88': 0.03139435285608965, 'EEG P4-LE freq 5.86': 0.04470301726842268, 'EEG P4-LE freq 6.84': 0.08513887782911053, 'EEG P4-LE freq 7.81': 0.14658029867281086, 'EEG P4-LE freq 8.79': 0.19017408419039494, 'EEG P4-LE freq 9.77': 0.0854453957234587, 'EEG P4-LE freq 10.74': 0.027243220866440467, 'EEG P4-LE freq 11.72': 0.01165637656486866, 'EEG P4-LE freq 12.7': 0.007800345609854865, 'EEG P4-LE freq 13.67': 0.00623590258357968, 'EEG P4-LE freq 14.65': 0.006202525847801952, 'EEG P4-LE freq 15.62': 0.0059423753277591095, 'EEG P4-LE freq 16.6': 0.005550008319254646, 'EEG P4-LE freq 17.58': 0.005963305153814856, 'EEG P4-LE freq 18.55': 0.00433976190936319, 'EEG P4-LE freq 19.53': 0.003195258071049463, 'EEG P4-LE freq 20.51': 0.0028482169270795136, 'EEG P4-LE freq 21.48': 0.0026068296287677073, 'EEG P4-LE freq 22.46': 0.0023197151199193674, 'EEG P4-LE freq 23.44': 0.0019923304554943077, 'EEG P4-LE freq 24.41': 0.0016871592842338703, 'EEG P4-LE freq 25.39': 0.0014456676483737723, 'EEG P4-LE freq 26.37': 0.00142909428770275, 'EEG P4-LE freq 27.34': 0.0014620305959698297, 'EEG P4-LE freq 28.32': 0.0013541341667220852, 'EEG P4-LE freq 29.3': 0.0011404621357940746, 'EEG P4-LE freq 30.27': 0.0010849218765855333, 'EEG P4-LE freq 31.25': 0.0010763275068014896, 'EEG P4-LE freq 32.23': 0.0010680775256246048, 'EEG P4-LE freq 33.2': 0.0010706431892479854, 'EEG P4-LE freq 34.18': 0.001075660305192485, 'EEG P4-LE freq 35.16': 0.001090471513212998, 'EEG P4-LE freq 36.13': 0.001065198147595329, 'EEG P4-LE freq 37.11': 0.0009448412228880368, 'EEG P4-LE freq 38.09': 0.000925077366298161, 'EEG P4-LE freq 39.06': 0.0009590077547288148, 'EEG P4-LE freq 40.04': 0.0009520399762752869, 'EEG P4-LE freq 41.02': 0.0010942777655158005, 'EEG P4-LE freq 41.99': 0.0009919362286969647, 'EEG P4-LE freq 42.97': 0.0009682335288524906, 'EEG P4-LE freq 43.95': 0.001038642266011922, 'EEG P4-LE freq 44.92': 0.0009561682038212442, 'EEG P4-LE freq 45.9': 0.0009613847633048345, 'EEG P4-LE freq 46.88': 0.0008875719119590958, 'EEG P4-LE freq 47.85': 0.0009174359218210343, 'EEG P4-LE freq 48.83': 0.0010760450814732382, 'EEG P4-LE freq 49.8': 0.0010186828372451082, 'EEG P4-LE freq 50.78': 0.0010516505039820422, 'EEG P4-LE freq 51.76': 0.0011088355457073219, 'EEG P4-LE freq 52.73': 0.0011226929808156394, 'EEG P4-LE freq 53.71': 0.0013336659787590813, 'EEG P4-LE freq 54.69': 0.0011326659353603516, 'EEG P4-LE freq 55.66': 0.0011856886427735794, 'EEG P4-LE freq 56.64': 0.0011805216761133991, 'EEG P4-LE freq 57.62': 0.001131710763436969, 'EEG P4-LE freq 58.59': 0.0011038928595726524, 'EEG P4-LE freq 59.57': 0.0056303661067011, 'EEG P4-LE freq 60.55': 0.0035706897607882004, 'EEG P4-LE freq 61.52': 0.0012832792918876193, 'EEG P4-LE freq 62.5': 0.0010651711200901537, 'EEG P4-LE freq 63.48': 0.0010635486446875942, 'EEG P4-LE freq 64.45': 0.0011307982165067818, 'EEG P4-LE freq 65.43': 0.0009343590090646249, 'EEG P4-LE freq 66.41': 0.0010181785075902973, 'EEG P4-LE freq 67.38': 0.0009687992911582889, 'EEG P4-LE freq 68.36': 0.0010437626702956195, 'EEG P4-LE freq 69.34': 0.0010547998129873484, 'EEG P4-LE freq 70.31': 0.0013290701121069007, 'EEG P4-LE freq 71.29': 0.0013910068069687108, 'EEG P4-LE freq 72.27': 0.001169307607640112, 'EEG P4-LE freq 73.24': 0.0008912129238453389, 'EEG P4-LE freq 74.22': 0.0009392965552039648, 'EEG P4-LE freq 75.2': 0.0009145523812182265, 'EEG P4-LE freq 76.17': 0.0010210045028669896, 'EEG P4-LE freq 77.15': 0.0010745630763471185, 'EEG P4-LE freq 78.12': 0.0009230094935630403, 'EEG P4-LE freq 79.1': 0.0008880638585872883, 'EEG P4-LE freq 80.08': 0.0009783987041935202, 'EEG P4-LE freq 81.05': 0.0011326319883405512, 'EEG P4-LE freq 82.03': 0.0008752362865263678, 'EEG P4-LE freq 83.01': 0.0009947323712438895, 'EEG P4-LE freq 83.98': 0.0009604549041867302, 'EEG P4-LE freq 84.96': 0.0009521081541102934, 'EEG P4-LE freq 85.94': 0.0008911421526141768, 'EEG P4-LE freq 86.91': 0.0010589920391905748, 'EEG P4-LE freq 87.89': 0.0010472916056700832, 'EEG P4-LE freq 88.87': 0.0009993937672210004, 'EEG P4-LE freq 89.84': 0.0010597658409310803, 'EEG P4-LE freq 90.82': 0.0011152233168407947, 'EEG P4-LE freq 91.8': 0.0009997299364222104, 'EEG P4-LE freq 92.77': 0.0009974433881917229, 'EEG P4-LE freq 93.75': 0.0010703568049386166, 'EEG P4-LE freq 94.73': 0.0010993525876058304, 'EEG P4-LE freq 95.7': 0.0009834314385243333, 'EEG P4-LE freq 96.68': 0.000844189316666128, 'EEG P4-LE freq 97.66': 0.0010177250989614251, 'EEG P4-LE freq 98.63': 0.001031006222809165, 'EEG P4-LE freq 99.61': 0.0009722733468680854, 'EEG P4-LE freq 100.59': 0.0010094274294247761, 'EEG P4-LE freq 101.56': 0.0009136005446191486, 'EEG P4-LE freq 102.54': 0.0008809597854582133, 'EEG P4-LE freq 103.52': 0.0009303934322190162, 'EEG P4-LE freq 104.49': 0.0008275402949475653, 'EEG P4-LE freq 105.47': 0.0007754484251384312, 'EEG P4-LE freq 106.45': 0.0006854616662498345, 'EEG P4-LE freq 107.42': 0.0006610404971154995, 'EEG P4-LE freq 108.4': 0.0006193933851114281, 'EEG P4-LE freq 109.38': 0.00047647446351323073, 'EEG P4-LE freq 110.35': 0.0005038033758729671, 'EEG P4-LE freq 111.33': 0.00039708073644876293, 'EEG P4-LE freq 112.3': 0.0003886341842826149, 'EEG P4-LE freq 113.28': 0.00029384649297006083, 'EEG P4-LE freq 114.26': 0.00026398807987181884, 'EEG P4-LE freq 115.23': 0.00020418531759182614, 'EEG P4-LE freq 116.21': 0.0002071684885051625, 'EEG P4-LE freq 117.19': 0.00015247228061133022, 'EEG P4-LE freq 118.16': 0.00013039933916827545, 'EEG P4-LE freq 119.14': 0.00015399606462156428, 'EEG P4-LE freq 120.12': 0.00040809045139095934, 'EEG P4-LE freq 121.09': 9.086324439086182e-05, 'EEG P4-LE freq 122.07': 8.291100428695573e-05, 'EEG P4-LE freq 123.05': 7.381690294317037e-05, 'EEG P4-LE freq 124.02': 7.064249979273697e-05, 'EEG P4-LE freq 125.0': 3.502979895171571e-05, 'EEG O1-LE freq 0.0': 0.0023094522037456736, 'EEG O1-LE freq 0.98': 0.07072594775262844, 'EEG O1-LE freq 1.95': 0.03554350525757539, 'EEG O1-LE freq 2.93': 0.02517081172290936, 'EEG O1-LE freq 3.91': 0.02406745830253612, 'EEG O1-LE freq 4.88': 0.027063184428358734, 'EEG O1-LE freq 5.86': 0.031168454365967487, 'EEG O1-LE freq 6.84': 0.06497592049740668, 'EEG O1-LE freq 7.81': 0.16621147158000127, 'EEG O1-LE freq 8.79': 0.20619815360305063, 'EEG O1-LE freq 9.77': 0.13337795356896187, 'EEG O1-LE freq 10.74': 0.04733147232755846, 'EEG O1-LE freq 11.72': 0.015836183794192982, 'EEG O1-LE freq 12.7': 0.009150294868256583, 'EEG O1-LE freq 13.67': 0.006750459784860358, 'EEG O1-LE freq 14.65': 0.007046605396889396, 'EEG O1-LE freq 15.62': 0.006511007553383725, 'EEG O1-LE freq 16.6': 0.006351445958894107, 'EEG O1-LE freq 17.58': 0.006243124290173683, 'EEG O1-LE freq 18.55': 0.0047840974041863495, 'EEG O1-LE freq 19.53': 0.0035866701764745573, 'EEG O1-LE freq 20.51': 0.0029001173503072674, 'EEG O1-LE freq 21.48': 0.0026849771682419966, 'EEG O1-LE freq 22.46': 0.002279128433008532, 'EEG O1-LE freq 23.44': 0.0020949118359607226, 'EEG O1-LE freq 24.41': 0.0017710386715725614, 'EEG O1-LE freq 25.39': 0.001608092798669101, 'EEG O1-LE freq 26.37': 0.0015967328943794973, 'EEG O1-LE freq 27.34': 0.001519207127621485, 'EEG O1-LE freq 28.32': 0.001407360783668791, 'EEG O1-LE freq 29.3': 0.0012417835112772222, 'EEG O1-LE freq 30.27': 0.001159072037280523, 'EEG O1-LE freq 31.25': 0.0010693428922832978, 'EEG O1-LE freq 32.23': 0.0010572021766944565, 'EEG O1-LE freq 33.2': 0.0011243326543025347, 'EEG O1-LE freq 34.18': 0.0010414455746121148, 'EEG O1-LE freq 35.16': 0.0010538401247895293, 'EEG O1-LE freq 36.13': 0.0010936067287039579, 'EEG O1-LE freq 37.11': 0.0010223215012392173, 'EEG O1-LE freq 38.09': 0.0009890866750995398, 'EEG O1-LE freq 39.06': 0.0010160946900588843, 'EEG O1-LE freq 40.04': 0.0009721480151011952, 'EEG O1-LE freq 41.02': 0.0009638547597220214, 'EEG O1-LE freq 41.99': 0.0009391297642964448, 'EEG O1-LE freq 42.97': 0.0009731103194440013, 'EEG O1-LE freq 43.95': 0.0009586933492175502, 'EEG O1-LE freq 44.92': 0.0008938861377547708, 'EEG O1-LE freq 45.9': 0.0009003288700764467, 'EEG O1-LE freq 46.88': 0.0008396430434386661, 'EEG O1-LE freq 47.85': 0.000903982713604141, 'EEG O1-LE freq 48.83': 0.000980566712778181, 'EEG O1-LE freq 49.8': 0.0009293309924923721, 'EEG O1-LE freq 50.78': 0.0009414545873163787, 'EEG O1-LE freq 51.76': 0.0009279491720981249, 'EEG O1-LE freq 52.73': 0.0008944266630854548, 'EEG O1-LE freq 53.71': 0.0009493330028448701, 'EEG O1-LE freq 54.69': 0.0009462695333559015, 'EEG O1-LE freq 55.66': 0.0009118111205077912, 'EEG O1-LE freq 56.64': 0.000926132838658516, 'EEG O1-LE freq 57.62': 0.0009745034785357393, 'EEG O1-LE freq 58.59': 0.0010059066282722279, 'EEG O1-LE freq 59.57': 0.004874745041705622, 'EEG O1-LE freq 60.55': 0.0032058705475633094, 'EEG O1-LE freq 61.52': 0.0011337039093284793, 'EEG O1-LE freq 62.5': 0.0009119560168599835, 'EEG O1-LE freq 63.48': 0.0008883113635076422, 'EEG O1-LE freq 64.45': 0.0009156173487165815, 'EEG O1-LE freq 65.43': 0.0008124518024026997, 'EEG O1-LE freq 66.41': 0.0008417169853549006, 'EEG O1-LE freq 67.38': 0.000894501600116574, 'EEG O1-LE freq 68.36': 0.0008830439349271999, 'EEG O1-LE freq 69.34': 0.0008218062582521553, 'EEG O1-LE freq 70.31': 0.0009204726373623499, 'EEG O1-LE freq 71.29': 0.0009068238018116366, 'EEG O1-LE freq 72.27': 0.0009011920981522065, 'EEG O1-LE freq 73.24': 0.000797859463048108, 'EEG O1-LE freq 74.22': 0.0008363602097832253, 'EEG O1-LE freq 75.2': 0.0008599942070963446, 'EEG O1-LE freq 76.17': 0.0008498293112132299, 'EEG O1-LE freq 77.15': 0.0008246475248775237, 'EEG O1-LE freq 78.12': 0.0008334215426359154, 'EEG O1-LE freq 79.1': 0.0008024529296988563, 'EEG O1-LE freq 80.08': 0.0008049150164269761, 'EEG O1-LE freq 81.05': 0.0009015083973030949, 'EEG O1-LE freq 82.03': 0.0007954507934070714, 'EEG O1-LE freq 83.01': 0.0007895191724998728, 'EEG O1-LE freq 83.98': 0.0009034963213754458, 'EEG O1-LE freq 84.96': 0.0008213498739466853, 'EEG O1-LE freq 85.94': 0.0007916262010448661, 'EEG O1-LE freq 86.91': 0.0008090061881198571, 'EEG O1-LE freq 87.89': 0.000816535293568088, 'EEG O1-LE freq 88.87': 0.0008379045674048519, 'EEG O1-LE freq 89.84': 0.0008589205830793666, 'EEG O1-LE freq 90.82': 0.0008982808364342279, 'EEG O1-LE freq 91.8': 0.0008067364315879889, 'EEG O1-LE freq 92.77': 0.0008215716953693454, 'EEG O1-LE freq 93.75': 0.0007980568756709299, 'EEG O1-LE freq 94.73': 0.0008447437550241829, 'EEG O1-LE freq 95.7': 0.0008415517647071806, 'EEG O1-LE freq 96.68': 0.0007791570838661635, 'EEG O1-LE freq 97.66': 0.0008133073246308661, 'EEG O1-LE freq 98.63': 0.0008133020999056999, 'EEG O1-LE freq 99.61': 0.0007816596716098935, 'EEG O1-LE freq 100.59': 0.0008102961590895757, 'EEG O1-LE freq 101.56': 0.0007595409744296465, 'EEG O1-LE freq 102.54': 0.000770302353424511, 'EEG O1-LE freq 103.52': 0.0007038334812340504, 'EEG O1-LE freq 104.49': 0.0006788902577320325, 'EEG O1-LE freq 105.47': 0.0006402064277350563, 'EEG O1-LE freq 106.45': 0.0005949473118283617, 'EEG O1-LE freq 107.42': 0.0005323792906410804, 'EEG O1-LE freq 108.4': 0.0004894601600346747, 'EEG O1-LE freq 109.38': 0.000396399070207516, 'EEG O1-LE freq 110.35': 0.0003727081625568099, 'EEG O1-LE freq 111.33': 0.0002996036859787665, 'EEG O1-LE freq 112.3': 0.00026127949361658, 'EEG O1-LE freq 113.28': 0.0002366596706097623, 'EEG O1-LE freq 114.26': 0.0002049507738849804, 'EEG O1-LE freq 115.23': 0.00016816986191069223, 'EEG O1-LE freq 116.21': 0.00014769705959488, 'EEG O1-LE freq 117.19': 0.00013251110780909762, 'EEG O1-LE freq 118.16': 0.00011254547167495986, 'EEG O1-LE freq 119.14': 0.00013393845123066885, 'EEG O1-LE freq 120.12': 0.00033355181403147837, 'EEG O1-LE freq 121.09': 7.667181890763048e-05, 'EEG O1-LE freq 122.07': 6.866865110043774e-05, 'EEG O1-LE freq 123.05': 6.737517293156182e-05, 'EEG O1-LE freq 124.02': 6.525613075351202e-05, 'EEG O1-LE freq 125.0': 3.094653527047073e-05, 'EEG O2-LE freq 0.0': 0.0028594512641609573, 'EEG O2-LE freq 0.98': 0.0840720484081145, 'EEG O2-LE freq 1.95': 0.038422135181590066, 'EEG O2-LE freq 2.93': 0.025444411222570157, 'EEG O2-LE freq 3.91': 0.023199681259996458, 'EEG O2-LE freq 4.88': 0.026918270854701987, 'EEG O2-LE freq 5.86': 0.03350033795083096, 'EEG O2-LE freq 6.84': 0.06823688311930536, 'EEG O2-LE freq 7.81': 0.15028347312269644, 'EEG O2-LE freq 8.79': 0.2109398299959303, 'EEG O2-LE freq 9.77': 0.12484294752146144, 'EEG O2-LE freq 10.74': 0.042027968857982094, 'EEG O2-LE freq 11.72': 0.014888508085563334, 'EEG O2-LE freq 12.7': 0.009766822097496417, 'EEG O2-LE freq 13.67': 0.007445982683640009, 'EEG O2-LE freq 14.65': 0.0073147932925652775, 'EEG O2-LE freq 15.62': 0.00669244466657776, 'EEG O2-LE freq 16.6': 0.006521980053678203, 'EEG O2-LE freq 17.58': 0.006888198157841888, 'EEG O2-LE freq 18.55': 0.005191751040418983, 'EEG O2-LE freq 19.53': 0.003351813984361409, 'EEG O2-LE freq 20.51': 0.002979013383828402, 'EEG O2-LE freq 21.48': 0.0030275761780718937, 'EEG O2-LE freq 22.46': 0.0026249323088519487, 'EEG O2-LE freq 23.44': 0.0020928886880463115, 'EEG O2-LE freq 24.41': 0.0018537321370319646, 'EEG O2-LE freq 25.39': 0.0016594589472266944, 'EEG O2-LE freq 26.37': 0.0016259009162398713, 'EEG O2-LE freq 27.34': 0.0015464697843270087, 'EEG O2-LE freq 28.32': 0.001386114799246974, 'EEG O2-LE freq 29.3': 0.001219682569925618, 'EEG O2-LE freq 30.27': 0.001206191031388531, 'EEG O2-LE freq 31.25': 0.0010950270933272172, 'EEG O2-LE freq 32.23': 0.0010861534909426282, 'EEG O2-LE freq 33.2': 0.0012399363054499202, 'EEG O2-LE freq 34.18': 0.0011082624506596383, 'EEG O2-LE freq 35.16': 0.001146638111492708, 'EEG O2-LE freq 36.13': 0.0012249992578898614, 'EEG O2-LE freq 37.11': 0.0009951243995300514, 'EEG O2-LE freq 38.09': 0.0009835195900254703, 'EEG O2-LE freq 39.06': 0.0009896429596645598, 'EEG O2-LE freq 40.04': 0.0009478021809807928, 'EEG O2-LE freq 41.02': 0.0009610791565087407, 'EEG O2-LE freq 41.99': 0.0009446863236422122, 'EEG O2-LE freq 42.97': 0.0009661210135138392, 'EEG O2-LE freq 43.95': 0.00103642883812373, 'EEG O2-LE freq 44.92': 0.0010792669919070556, 'EEG O2-LE freq 45.9': 0.0009168074311906179, 'EEG O2-LE freq 46.88': 0.0008592355172295844, 'EEG O2-LE freq 47.85': 0.0009303711041599924, 'EEG O2-LE freq 48.83': 0.0010229158156928554, 'EEG O2-LE freq 49.8': 0.0009581468555675063, 'EEG O2-LE freq 50.78': 0.0009798782062157897, 'EEG O2-LE freq 51.76': 0.0009408560821149976, 'EEG O2-LE freq 52.73': 0.0008980048055433282, 'EEG O2-LE freq 53.71': 0.0010076918628355695, 'EEG O2-LE freq 54.69': 0.0009843835015340208, 'EEG O2-LE freq 55.66': 0.0009593732252986905, 'EEG O2-LE freq 56.64': 0.0009520516482343355, 'EEG O2-LE freq 57.62': 0.0009686304833425069, 'EEG O2-LE freq 58.59': 0.00097949567418486, 'EEG O2-LE freq 59.57': 0.004396852845303689, 'EEG O2-LE freq 60.55': 0.0028512724519797685, 'EEG O2-LE freq 61.52': 0.0011014042382487387, 'EEG O2-LE freq 62.5': 0.0009406952956793934, 'EEG O2-LE freq 63.48': 0.0009198180717670116, 'EEG O2-LE freq 64.45': 0.000936662359374551, 'EEG O2-LE freq 65.43': 0.0008448693645395, 'EEG O2-LE freq 66.41': 0.0008542844546827472, 'EEG O2-LE freq 67.38': 0.0008819448819672069, 'EEG O2-LE freq 68.36': 0.0008674910959593144, 'EEG O2-LE freq 69.34': 0.0008802974127992684, 'EEG O2-LE freq 70.31': 0.0009639247184228075, 'EEG O2-LE freq 71.29': 0.0009559916321748068, 'EEG O2-LE freq 72.27': 0.0009359387813767132, 'EEG O2-LE freq 73.24': 0.0007883302288291532, 'EEG O2-LE freq 74.22': 0.000828157053331998, 'EEG O2-LE freq 75.2': 0.0008682032007658958, 'EEG O2-LE freq 76.17': 0.0008827388682594886, 'EEG O2-LE freq 77.15': 0.0008879268434159622, 'EEG O2-LE freq 78.12': 0.0008419995145565783, 'EEG O2-LE freq 79.1': 0.000790614610546348, 'EEG O2-LE freq 80.08': 0.0008044999413885803, 'EEG O2-LE freq 81.05': 0.0009519315707676969, 'EEG O2-LE freq 82.03': 0.0007571260557744898, 'EEG O2-LE freq 83.01': 0.000790369795344051, 'EEG O2-LE freq 83.98': 0.0008518004379948649, 'EEG O2-LE freq 84.96': 0.0008427783932081999, 'EEG O2-LE freq 85.94': 0.0007672823664531264, 'EEG O2-LE freq 86.91': 0.0007911870260095572, 'EEG O2-LE freq 87.89': 0.0008142502022314159, 'EEG O2-LE freq 88.87': 0.000821301677921068, 'EEG O2-LE freq 89.84': 0.0009172828836919513, 'EEG O2-LE freq 90.82': 0.0009205810131233307, 'EEG O2-LE freq 91.8': 0.000826120304163083, 'EEG O2-LE freq 92.77': 0.0008176986906655022, 'EEG O2-LE freq 93.75': 0.0008215194341329272, 'EEG O2-LE freq 94.73': 0.0008444186824483847, 'EEG O2-LE freq 95.7': 0.0008334136234670732, 'EEG O2-LE freq 96.68': 0.0007516889426384852, 'EEG O2-LE freq 97.66': 0.0008225879630944711, 'EEG O2-LE freq 98.63': 0.0008554064095517594, 'EEG O2-LE freq 99.61': 0.0008043454095193225, 'EEG O2-LE freq 100.59': 0.000798418914427004, 'EEG O2-LE freq 101.56': 0.0007746064147250709, 'EEG O2-LE freq 102.54': 0.0007601804041100697, 'EEG O2-LE freq 103.52': 0.0007293449407860769, 'EEG O2-LE freq 104.49': 0.0006916893936682836, 'EEG O2-LE freq 105.47': 0.0006321696720914168, 'EEG O2-LE freq 106.45': 0.0005882799948529966, 'EEG O2-LE freq 107.42': 0.0005325755172616323, 'EEG O2-LE freq 108.4': 0.0005149288369173278, 'EEG O2-LE freq 109.38': 0.00040431669190567343, 'EEG O2-LE freq 110.35': 0.0003954276767901543, 'EEG O2-LE freq 111.33': 0.0003119667891362011, 'EEG O2-LE freq 112.3': 0.00026956767302240876, 'EEG O2-LE freq 113.28': 0.00022765726560676323, 'EEG O2-LE freq 114.26': 0.00020841995623742095, 'EEG O2-LE freq 115.23': 0.00017152218338513682, 'EEG O2-LE freq 116.21': 0.00015098636750949547, 'EEG O2-LE freq 117.19': 0.00013581627620530638, 'EEG O2-LE freq 118.16': 0.00011533968085055099, 'EEG O2-LE freq 119.14': 0.00013365174453194896, 'EEG O2-LE freq 120.12': 0.00032316381112307285, 'EEG O2-LE freq 121.09': 7.805157642056943e-05, 'EEG O2-LE freq 122.07': 6.952997501490767e-05, 'EEG O2-LE freq 123.05': 6.534333014854605e-05, 'EEG O2-LE freq 124.02': 6.327517191716057e-05, 'EEG O2-LE freq 125.0': 3.253705131236327e-05, 'EEG F7-LE freq 0.0': 0.004147953294051879, 'EEG F7-LE freq 0.98': 0.19910264566468136, 'EEG F7-LE freq 1.95': 0.06568031927894653, 'EEG F7-LE freq 2.93': 0.046415966033517976, 'EEG F7-LE freq 3.91': 0.03770053152899172, 'EEG F7-LE freq 4.88': 0.02878887158284364, 'EEG F7-LE freq 5.86': 0.03562378346580284, 'EEG F7-LE freq 6.84': 0.06969688654983344, 'EEG F7-LE freq 7.81': 0.11853945655190215, 'EEG F7-LE freq 8.79': 0.08917161648524626, 'EEG F7-LE freq 9.77': 0.02263438979949527, 'EEG F7-LE freq 10.74': 0.009742857925351124, 'EEG F7-LE freq 11.72': 0.007382337670636595, 'EEG F7-LE freq 12.7': 0.0057937862228076824, 'EEG F7-LE freq 13.67': 0.004904829603065743, 'EEG F7-LE freq 14.65': 0.004871392296680936, 'EEG F7-LE freq 15.62': 0.004507225635656582, 'EEG F7-LE freq 16.6': 0.004846918827167889, 'EEG F7-LE freq 17.58': 0.004293414846166289, 'EEG F7-LE freq 18.55': 0.003758601690439108, 'EEG F7-LE freq 19.53': 0.0032289631213615277, 'EEG F7-LE freq 20.51': 0.0034788800125489182, 'EEG F7-LE freq 21.48': 0.0036530829175755674, 'EEG F7-LE freq 22.46': 0.0034183803731346516, 'EEG F7-LE freq 23.44': 0.0029211239436456628, 'EEG F7-LE freq 24.41': 0.002790658389374976, 'EEG F7-LE freq 25.39': 0.002316949763756608, 'EEG F7-LE freq 26.37': 0.0022742871260400042, 'EEG F7-LE freq 27.34': 0.002046664765622408, 'EEG F7-LE freq 28.32': 0.0021376552176527812, 'EEG F7-LE freq 29.3': 0.0018249845515314687, 'EEG F7-LE freq 30.27': 0.0017173365310672504, 'EEG F7-LE freq 31.25': 0.001707533063763738, 'EEG F7-LE freq 32.23': 0.0016030897847838265, 'EEG F7-LE freq 33.2': 0.0017707622339613314, 'EEG F7-LE freq 34.18': 0.001669394076968159, 'EEG F7-LE freq 35.16': 0.001756602749732032, 'EEG F7-LE freq 36.13': 0.0018425199442587401, 'EEG F7-LE freq 37.11': 0.0017832181242247542, 'EEG F7-LE freq 38.09': 0.0018104206978995334, 'EEG F7-LE freq 39.06': 0.0018725775909266224, 'EEG F7-LE freq 40.04': 0.0019086200069294362, 'EEG F7-LE freq 41.02': 0.002046456111791887, 'EEG F7-LE freq 41.99': 0.0019988158310489724, 'EEG F7-LE freq 42.97': 0.0020895739213361653, 'EEG F7-LE freq 43.95': 0.0020408605104003698, 'EEG F7-LE freq 44.92': 0.001914545013704658, 'EEG F7-LE freq 45.9': 0.002010021907028237, 'EEG F7-LE freq 46.88': 0.0020399416429492966, 'EEG F7-LE freq 47.85': 0.0020489066563148884, 'EEG F7-LE freq 48.83': 0.002269879562813121, 'EEG F7-LE freq 49.8': 0.0020392738632639407, 'EEG F7-LE freq 50.78': 0.002099463053606458, 'EEG F7-LE freq 51.76': 0.0022267652286318317, 'EEG F7-LE freq 52.73': 0.002252886942496604, 'EEG F7-LE freq 53.71': 0.0021739385216157283, 'EEG F7-LE freq 54.69': 0.0021915099957940973, 'EEG F7-LE freq 55.66': 0.0022024641155983416, 'EEG F7-LE freq 56.64': 0.002145602963124268, 'EEG F7-LE freq 57.62': 0.0022932060970841783, 'EEG F7-LE freq 58.59': 0.0024871170570372057, 'EEG F7-LE freq 59.57': 0.008903003340219685, 'EEG F7-LE freq 60.55': 0.006097948136383142, 'EEG F7-LE freq 61.52': 0.0028031890285583837, 'EEG F7-LE freq 62.5': 0.002398775139910258, 'EEG F7-LE freq 63.48': 0.0023424078308520273, 'EEG F7-LE freq 64.45': 0.0023775011134333232, 'EEG F7-LE freq 65.43': 0.002075861025120419, 'EEG F7-LE freq 66.41': 0.0022361844844034588, 'EEG F7-LE freq 67.38': 0.0025567230023154893, 'EEG F7-LE freq 68.36': 0.0024984322129964977, 'EEG F7-LE freq 69.34': 0.0022210102230173635, 'EEG F7-LE freq 70.31': 0.0025253235175932485, 'EEG F7-LE freq 71.29': 0.0023992231156537143, 'EEG F7-LE freq 72.27': 0.0024213959015661406, 'EEG F7-LE freq 73.24': 0.002426760530988788, 'EEG F7-LE freq 74.22': 0.002311611845683271, 'EEG F7-LE freq 75.2': 0.0022481009726874664, 'EEG F7-LE freq 76.17': 0.0022764248007980906, 'EEG F7-LE freq 77.15': 0.0023878991556457994, 'EEG F7-LE freq 78.12': 0.0022579010446544985, 'EEG F7-LE freq 79.1': 0.0023551554414396126, 'EEG F7-LE freq 80.08': 0.0023746667032121323, 'EEG F7-LE freq 81.05': 0.0024420741088634493, 'EEG F7-LE freq 82.03': 0.002526806683453369, 'EEG F7-LE freq 83.01': 0.0024079558664679133, 'EEG F7-LE freq 83.98': 0.002504604163958109, 'EEG F7-LE freq 84.96': 0.002526582010466261, 'EEG F7-LE freq 85.94': 0.002441945843314812, 'EEG F7-LE freq 86.91': 0.0025127854641925048, 'EEG F7-LE freq 87.89': 0.002605630338595793, 'EEG F7-LE freq 88.87': 0.002470574458241696, 'EEG F7-LE freq 89.84': 0.00265685401571699, 'EEG F7-LE freq 90.82': 0.002654995660772876, 'EEG F7-LE freq 91.8': 0.0024617379306765305, 'EEG F7-LE freq 92.77': 0.0025461060033559546, 'EEG F7-LE freq 93.75': 0.002507963202366947, 'EEG F7-LE freq 94.73': 0.002494522326978213, 'EEG F7-LE freq 95.7': 0.002480537993405002, 'EEG F7-LE freq 96.68': 0.0027032046252367966, 'EEG F7-LE freq 97.66': 0.002549966405104679, 'EEG F7-LE freq 98.63': 0.0026785794557929563, 'EEG F7-LE freq 99.61': 0.0025305192708241966, 'EEG F7-LE freq 100.59': 0.002660813725035117, 'EEG F7-LE freq 101.56': 0.00242031017873376, 'EEG F7-LE freq 102.54': 0.0025488521759445735, 'EEG F7-LE freq 103.52': 0.00248230804887612, 'EEG F7-LE freq 104.49': 0.0022147360914010206, 'EEG F7-LE freq 105.47': 0.0021689187211479718, 'EEG F7-LE freq 106.45': 0.001922763204593698, 'EEG F7-LE freq 107.42': 0.0017493380686736846, 'EEG F7-LE freq 108.4': 0.0016160919384112771, 'EEG F7-LE freq 109.38': 0.0013084554426636126, 'EEG F7-LE freq 110.35': 0.0012120716595898492, 'EEG F7-LE freq 111.33': 0.0010135646403252238, 'EEG F7-LE freq 112.3': 0.0009070565618330867, 'EEG F7-LE freq 113.28': 0.000704486347942182, 'EEG F7-LE freq 114.26': 0.0006395614201474437, 'EEG F7-LE freq 115.23': 0.0005288430123504398, 'EEG F7-LE freq 116.21': 0.0004530747815601701, 'EEG F7-LE freq 117.19': 0.0003861498559100156, 'EEG F7-LE freq 118.16': 0.0003425213227076688, 'EEG F7-LE freq 119.14': 0.0003405268160793547, 'EEG F7-LE freq 120.12': 0.0006650168313596909, 'EEG F7-LE freq 121.09': 0.0002031704618710371, 'EEG F7-LE freq 122.07': 0.00019600821172864382, 'EEG F7-LE freq 123.05': 0.00017081437332020364, 'EEG F7-LE freq 124.02': 0.0001587057316383875, 'EEG F7-LE freq 125.0': 7.76770455526045e-05, 'EEG F8-LE freq 0.0': 0.004043685477869298, 'EEG F8-LE freq 0.98': 0.22098147342718397, 'EEG F8-LE freq 1.95': 0.0680674108023328, 'EEG F8-LE freq 2.93': 0.04476654084179288, 'EEG F8-LE freq 3.91': 0.032082827023886346, 'EEG F8-LE freq 4.88': 0.02657385904011058, 'EEG F8-LE freq 5.86': 0.03690499915850835, 'EEG F8-LE freq 6.84': 0.0735017665663369, 'EEG F8-LE freq 7.81': 0.11019929418711825, 'EEG F8-LE freq 8.79': 0.08363283085514849, 'EEG F8-LE freq 9.77': 0.02328951319442565, 'EEG F8-LE freq 10.74': 0.009514400765060622, 'EEG F8-LE freq 11.72': 0.006451045489659595, 'EEG F8-LE freq 12.7': 0.005243918898312951, 'EEG F8-LE freq 13.67': 0.0045999704622510925, 'EEG F8-LE freq 14.65': 0.004728503197950151, 'EEG F8-LE freq 15.62': 0.004461248813884451, 'EEG F8-LE freq 16.6': 0.00411309790734225, 'EEG F8-LE freq 17.58': 0.003877818934535215, 'EEG F8-LE freq 18.55': 0.003345515270652083, 'EEG F8-LE freq 19.53': 0.0029786357780593724, 'EEG F8-LE freq 20.51': 0.002791486340906283, 'EEG F8-LE freq 21.48': 0.0026570535870940196, 'EEG F8-LE freq 22.46': 0.002592932538874716, 'EEG F8-LE freq 23.44': 0.002318088903644796, 'EEG F8-LE freq 24.41': 0.0019526006918547582, 'EEG F8-LE freq 25.39': 0.0017490753331520803, 'EEG F8-LE freq 26.37': 0.0017309592448747331, 'EEG F8-LE freq 27.34': 0.0017979931620411144, 'EEG F8-LE freq 28.32': 0.001689694327426655, 'EEG F8-LE freq 29.3': 0.0018095146239641988, 'EEG F8-LE freq 30.27': 0.0016518608246804322, 'EEG F8-LE freq 31.25': 0.00174051175357073, 'EEG F8-LE freq 32.23': 0.0016880055788702037, 'EEG F8-LE freq 33.2': 0.0020444557218682003, 'EEG F8-LE freq 34.18': 0.0017719201870050347, 'EEG F8-LE freq 35.16': 0.001632336658734775, 'EEG F8-LE freq 36.13': 0.001543517983738614, 'EEG F8-LE freq 37.11': 0.00158990508203491, 'EEG F8-LE freq 38.09': 0.0019675375393465653, 'EEG F8-LE freq 39.06': 0.001921552102219886, 'EEG F8-LE freq 40.04': 0.0018540416028140336, 'EEG F8-LE freq 41.02': 0.0021609340053979557, 'EEG F8-LE freq 41.99': 0.0023550621213247113, 'EEG F8-LE freq 42.97': 0.0019882327688387626, 'EEG F8-LE freq 43.95': 0.00213925169437563, 'EEG F8-LE freq 44.92': 0.001697114993336845, 'EEG F8-LE freq 45.9': 0.0016723812684096523, 'EEG F8-LE freq 46.88': 0.0018702158137175028, 'EEG F8-LE freq 47.85': 0.0023940165079777372, 'EEG F8-LE freq 48.83': 0.0021605643961728686, 'EEG F8-LE freq 49.8': 0.0020155848670291706, 'EEG F8-LE freq 50.78': 0.0021191828955173337, 'EEG F8-LE freq 51.76': 0.0023149103730960795, 'EEG F8-LE freq 52.73': 0.002498128369228812, 'EEG F8-LE freq 53.71': 0.002758709684481076, 'EEG F8-LE freq 54.69': 0.0027707506178220468, 'EEG F8-LE freq 55.66': 0.003285132539355326, 'EEG F8-LE freq 56.64': 0.0032615046662125198, 'EEG F8-LE freq 57.62': 0.002679457987272631, 'EEG F8-LE freq 58.59': 0.002483214607547754, 'EEG F8-LE freq 59.57': 0.006260115452180042, 'EEG F8-LE freq 60.55': 0.00510027564619956, 'EEG F8-LE freq 61.52': 0.002485581810362612, 'EEG F8-LE freq 62.5': 0.002520560588313169, 'EEG F8-LE freq 63.48': 0.0025675096849043107, 'EEG F8-LE freq 64.45': 0.002280677779612762, 'EEG F8-LE freq 65.43': 0.0023179942934666623, 'EEG F8-LE freq 66.41': 0.0022536610835077746, 'EEG F8-LE freq 67.38': 0.0018325664002080346, 'EEG F8-LE freq 68.36': 0.002099623901772, 'EEG F8-LE freq 69.34': 0.002643168986703058, 'EEG F8-LE freq 70.31': 0.003418841092111302, 'EEG F8-LE freq 71.29': 0.0034501247991906192, 'EEG F8-LE freq 72.27': 0.0025247424236350246, 'EEG F8-LE freq 73.24': 0.002351958528936227, 'EEG F8-LE freq 74.22': 0.002124108336659061, 'EEG F8-LE freq 75.2': 0.0025752540228661668, 'EEG F8-LE freq 76.17': 0.0027874235101706087, 'EEG F8-LE freq 77.15': 0.002468057285038759, 'EEG F8-LE freq 78.12': 0.0020880279007879955, 'EEG F8-LE freq 79.1': 0.002051739791251206, 'EEG F8-LE freq 80.08': 0.0024859061746971265, 'EEG F8-LE freq 81.05': 0.0026427760094588156, 'EEG F8-LE freq 82.03': 0.00259743647091322, 'EEG F8-LE freq 83.01': 0.002794568126787914, 'EEG F8-LE freq 83.98': 0.0021611341555742825, 'EEG F8-LE freq 84.96': 0.0018830085770209655, 'EEG F8-LE freq 85.94': 0.0026194642848696424, 'EEG F8-LE freq 86.91': 0.002749949636228117, 'EEG F8-LE freq 87.89': 0.0022859531632929016, 'EEG F8-LE freq 88.87': 0.0024362372078373332, 'EEG F8-LE freq 89.84': 0.0022517974955622083, 'EEG F8-LE freq 90.82': 0.0024108014054836915, 'EEG F8-LE freq 91.8': 0.002404966814918389, 'EEG F8-LE freq 92.77': 0.002780659832179355, 'EEG F8-LE freq 93.75': 0.002911926642216527, 'EEG F8-LE freq 94.73': 0.0033776224077326647, 'EEG F8-LE freq 95.7': 0.0026169221938486392, 'EEG F8-LE freq 96.68': 0.0021393360481675094, 'EEG F8-LE freq 97.66': 0.0025375766460975064, 'EEG F8-LE freq 98.63': 0.002578687264765442, 'EEG F8-LE freq 99.61': 0.002323362908103022, 'EEG F8-LE freq 100.59': 0.0025590224868674762, 'EEG F8-LE freq 101.56': 0.002667315093236225, 'EEG F8-LE freq 102.54': 0.0024664224303519986, 'EEG F8-LE freq 103.52': 0.0021551912912946294, 'EEG F8-LE freq 104.49': 0.0023517079003992675, 'EEG F8-LE freq 105.47': 0.0024705129312690404, 'EEG F8-LE freq 106.45': 0.0021350125859153075, 'EEG F8-LE freq 107.42': 0.0017667764600241137, 'EEG F8-LE freq 108.4': 0.0012249035774786346, 'EEG F8-LE freq 109.38': 0.0014815276317075498, 'EEG F8-LE freq 110.35': 0.0016438671071701417, 'EEG F8-LE freq 111.33': 0.001189787444918233, 'EEG F8-LE freq 112.3': 0.0012030302126670525, 'EEG F8-LE freq 113.28': 0.0009892103935887106, 'EEG F8-LE freq 114.26': 0.0006367490320416669, 'EEG F8-LE freq 115.23': 0.0005200275409977207, 'EEG F8-LE freq 116.21': 0.0004990279493150879, 'EEG F8-LE freq 117.19': 0.00032986965841017306, 'EEG F8-LE freq 118.16': 0.0002609713268803427, 'EEG F8-LE freq 119.14': 0.00028691924955228287, 'EEG F8-LE freq 120.12': 0.0005013812302714585, 'EEG F8-LE freq 121.09': 0.00024259882809096715, 'EEG F8-LE freq 122.07': 0.00022530336960371452, 'EEG F8-LE freq 123.05': 0.00020829584646665049, 'EEG F8-LE freq 124.02': 0.00020933726909405298, 'EEG F8-LE freq 125.0': 0.00010537431050285545, 'EEG T3-LE freq 0.0': 0.002823308163067595, 'EEG T3-LE freq 0.98': 0.13264745748121684, 'EEG T3-LE freq 1.95': 0.048185590291573974, 'EEG T3-LE freq 2.93': 0.03513024033871395, 'EEG T3-LE freq 3.91': 0.029084178257131305, 'EEG T3-LE freq 4.88': 0.023913048838470712, 'EEG T3-LE freq 5.86': 0.030669518181487387, 'EEG T3-LE freq 6.84': 0.06283608173195826, 'EEG T3-LE freq 7.81': 0.11310545922335603, 'EEG T3-LE freq 8.79': 0.07884822656228163, 'EEG T3-LE freq 9.77': 0.022247001115544913, 'EEG T3-LE freq 10.74': 0.009388041207986609, 'EEG T3-LE freq 11.72': 0.006071282019217626, 'EEG T3-LE freq 12.7': 0.004826876215100207, 'EEG T3-LE freq 13.67': 0.00432635788554315, 'EEG T3-LE freq 14.65': 0.004694028608416705, 'EEG T3-LE freq 15.62': 0.004515850323750183, 'EEG T3-LE freq 16.6': 0.0051983669528986014, 'EEG T3-LE freq 17.58': 0.00464525150805907, 'EEG T3-LE freq 18.55': 0.0041349747608420955, 'EEG T3-LE freq 19.53': 0.004396236139438282, 'EEG T3-LE freq 20.51': 0.00478831983674385, 'EEG T3-LE freq 21.48': 0.004678681602026462, 'EEG T3-LE freq 22.46': 0.004322611529691698, 'EEG T3-LE freq 23.44': 0.004086438464357266, 'EEG T3-LE freq 24.41': 0.0036356537850373593, 'EEG T3-LE freq 25.39': 0.0037067990491989355, 'EEG T3-LE freq 26.37': 0.003102085497104444, 'EEG T3-LE freq 27.34': 0.002898523914023066, 'EEG T3-LE freq 28.32': 0.0030830334749007327, 'EEG T3-LE freq 29.3': 0.002877666781043273, 'EEG T3-LE freq 30.27': 0.002475315067492727, 'EEG T3-LE freq 31.25': 0.0024944174880836105, 'EEG T3-LE freq 32.23': 0.002496233491233929, 'EEG T3-LE freq 33.2': 0.0027381214619488967, 'EEG T3-LE freq 34.18': 0.00282886331829917, 'EEG T3-LE freq 35.16': 0.0027011425195272772, 'EEG T3-LE freq 36.13': 0.0028204246774303074, 'EEG T3-LE freq 37.11': 0.002818924604923216, 'EEG T3-LE freq 38.09': 0.003248243540636496, 'EEG T3-LE freq 39.06': 0.003304156616323086, 'EEG T3-LE freq 40.04': 0.003262774975412955, 'EEG T3-LE freq 41.02': 0.0034016600633408507, 'EEG T3-LE freq 41.99': 0.004142695698850352, 'EEG T3-LE freq 42.97': 0.0037621325343167073, 'EEG T3-LE freq 43.95': 0.003843388273885606, 'EEG T3-LE freq 44.92': 0.003425009157596842, 'EEG T3-LE freq 45.9': 0.0035701103705199967, 'EEG T3-LE freq 46.88': 0.0036641535801295155, 'EEG T3-LE freq 47.85': 0.003475242128784773, 'EEG T3-LE freq 48.83': 0.003623692219583008, 'EEG T3-LE freq 49.8': 0.0036857462299680365, 'EEG T3-LE freq 50.78': 0.0037893040491994634, 'EEG T3-LE freq 51.76': 0.004268707972514619, 'EEG T3-LE freq 52.73': 0.004124595383920769, 'EEG T3-LE freq 53.71': 0.0041937244243159515, 'EEG T3-LE freq 54.69': 0.004371471129942722, 'EEG T3-LE freq 55.66': 0.0041217420354051635, 'EEG T3-LE freq 56.64': 0.004524025058316043, 'EEG T3-LE freq 57.62': 0.004214296759128109, 'EEG T3-LE freq 58.59': 0.004927447177616732, 'EEG T3-LE freq 59.57': 0.011110768773930744, 'EEG T3-LE freq 60.55': 0.007860190066263309, 'EEG T3-LE freq 61.52': 0.004785859638667371, 'EEG T3-LE freq 62.5': 0.004451101045644988, 'EEG T3-LE freq 63.48': 0.003997596716184, 'EEG T3-LE freq 64.45': 0.003895397575745719, 'EEG T3-LE freq 65.43': 0.003918626355075602, 'EEG T3-LE freq 66.41': 0.004012724992176558, 'EEG T3-LE freq 67.38': 0.004057714144220916, 'EEG T3-LE freq 68.36': 0.004422802961170701, 'EEG T3-LE freq 69.34': 0.004076513825658494, 'EEG T3-LE freq 70.31': 0.0045386070670344215, 'EEG T3-LE freq 71.29': 0.004155734464611805, 'EEG T3-LE freq 72.27': 0.0040292011560945735, 'EEG T3-LE freq 73.24': 0.004651243992625048, 'EEG T3-LE freq 74.22': 0.0038571877026069602, 'EEG T3-LE freq 75.2': 0.004204533502439546, 'EEG T3-LE freq 76.17': 0.00421153425405567, 'EEG T3-LE freq 77.15': 0.004199799601984301, 'EEG T3-LE freq 78.12': 0.003811652562725834, 'EEG T3-LE freq 79.1': 0.0037820818403932403, 'EEG T3-LE freq 80.08': 0.004150387066075198, 'EEG T3-LE freq 81.05': 0.003995414150420021, 'EEG T3-LE freq 82.03': 0.004125673731675137, 'EEG T3-LE freq 83.01': 0.004299533806443076, 'EEG T3-LE freq 83.98': 0.0044495325938753395, 'EEG T3-LE freq 84.96': 0.0038349256740268832, 'EEG T3-LE freq 85.94': 0.003913771764544803, 'EEG T3-LE freq 86.91': 0.004041715674008052, 'EEG T3-LE freq 87.89': 0.004471100608872482, 'EEG T3-LE freq 88.87': 0.004178033451721861, 'EEG T3-LE freq 89.84': 0.004231259610389424, 'EEG T3-LE freq 90.82': 0.004030721392303312, 'EEG T3-LE freq 91.8': 0.003941657790895263, 'EEG T3-LE freq 92.77': 0.0040990826309066685, 'EEG T3-LE freq 93.75': 0.003999752760665541, 'EEG T3-LE freq 94.73': 0.004037810752752178, 'EEG T3-LE freq 95.7': 0.003879887762385615, 'EEG T3-LE freq 96.68': 0.003934278163514316, 'EEG T3-LE freq 97.66': 0.003978774678975485, 'EEG T3-LE freq 98.63': 0.0037962659735735127, 'EEG T3-LE freq 99.61': 0.003586281628591193, 'EEG T3-LE freq 100.59': 0.004221404646669315, 'EEG T3-LE freq 101.56': 0.0037473052489370843, 'EEG T3-LE freq 102.54': 0.0037995518823742747, 'EEG T3-LE freq 103.52': 0.0035218489235189884, 'EEG T3-LE freq 104.49': 0.003405602997655054, 'EEG T3-LE freq 105.47': 0.003260325804474672, 'EEG T3-LE freq 106.45': 0.0027549823206009126, 'EEG T3-LE freq 107.42': 0.0023137836472612162, 'EEG T3-LE freq 108.4': 0.0023310819143502813, 'EEG T3-LE freq 109.38': 0.0018465795373529114, 'EEG T3-LE freq 110.35': 0.0018318745059092312, 'EEG T3-LE freq 111.33': 0.0014771970585700765, 'EEG T3-LE freq 112.3': 0.0011108696285423675, 'EEG T3-LE freq 113.28': 0.0009919584681503128, 'EEG T3-LE freq 114.26': 0.000896155899236454, 'EEG T3-LE freq 115.23': 0.0007269885988668229, 'EEG T3-LE freq 116.21': 0.0006216067325447229, 'EEG T3-LE freq 117.19': 0.0004233507201388085, 'EEG T3-LE freq 118.16': 0.00041600261474290497, 'EEG T3-LE freq 119.14': 0.000418630210891849, 'EEG T3-LE freq 120.12': 0.0006854559484881212, 'EEG T3-LE freq 121.09': 0.00025201510919352056, 'EEG T3-LE freq 122.07': 0.00023854692811453527, 'EEG T3-LE freq 123.05': 0.00020170436538473246, 'EEG T3-LE freq 124.02': 0.00020170822191992603, 'EEG T3-LE freq 125.0': 0.00011178241135682377, 'EEG T4-LE freq 0.0': 0.004116551818699358, 'EEG T4-LE freq 0.98': 0.19441153385489432, 'EEG T4-LE freq 1.95': 0.06884593863778019, 'EEG T4-LE freq 2.93': 0.04325806866390364, 'EEG T4-LE freq 3.91': 0.034048262684118855, 'EEG T4-LE freq 4.88': 0.028995695784063465, 'EEG T4-LE freq 5.86': 0.04188365842223452, 'EEG T4-LE freq 6.84': 0.08871468417620625, 'EEG T4-LE freq 7.81': 0.1307673913927186, 'EEG T4-LE freq 8.79': 0.08793162019334842, 'EEG T4-LE freq 9.77': 0.029086033265584083, 'EEG T4-LE freq 10.74': 0.011639388519722191, 'EEG T4-LE freq 11.72': 0.006839475432241393, 'EEG T4-LE freq 12.7': 0.005305544499182239, 'EEG T4-LE freq 13.67': 0.005039787466390025, 'EEG T4-LE freq 14.65': 0.005331744650772241, 'EEG T4-LE freq 15.62': 0.005150120535494044, 'EEG T4-LE freq 16.6': 0.004377245965405541, 'EEG T4-LE freq 17.58': 0.004422601227119968, 'EEG T4-LE freq 18.55': 0.003544074053237408, 'EEG T4-LE freq 19.53': 0.0029215251880884037, 'EEG T4-LE freq 20.51': 0.0027418383701314146, 'EEG T4-LE freq 21.48': 0.0027275783680673874, 'EEG T4-LE freq 22.46': 0.0024788190536191995, 'EEG T4-LE freq 23.44': 0.0022927461353173715, 'EEG T4-LE freq 24.41': 0.0021216398169247902, 'EEG T4-LE freq 25.39': 0.0019190574394360583, 'EEG T4-LE freq 26.37': 0.001986276662380839, 'EEG T4-LE freq 27.34': 0.0018673465507136576, 'EEG T4-LE freq 28.32': 0.0019198389615502638, 'EEG T4-LE freq 29.3': 0.0016165734182980167, 'EEG T4-LE freq 30.27': 0.0018152886587180425, 'EEG T4-LE freq 31.25': 0.0015892053447728541, 'EEG T4-LE freq 32.23': 0.001371594887629297, 'EEG T4-LE freq 33.2': 0.0017369894542965036, 'EEG T4-LE freq 34.18': 0.0017903148818706421, 'EEG T4-LE freq 35.16': 0.0018415574597005185, 'EEG T4-LE freq 36.13': 0.001888057066351164, 'EEG T4-LE freq 37.11': 0.0016052058618612718, 'EEG T4-LE freq 38.09': 0.0016106002397603745, 'EEG T4-LE freq 39.06': 0.0014657593988069734, 'EEG T4-LE freq 40.04': 0.0015515773433877904, 'EEG T4-LE freq 41.02': 0.0017223027029587955, 'EEG T4-LE freq 41.99': 0.002014786057084436, 'EEG T4-LE freq 42.97': 0.0015931393694616541, 'EEG T4-LE freq 43.95': 0.001728267227820464, 'EEG T4-LE freq 44.92': 0.0017320306020333282, 'EEG T4-LE freq 45.9': 0.0017361412021469403, 'EEG T4-LE freq 46.88': 0.0016585480288654661, 'EEG T4-LE freq 47.85': 0.0016969929010778122, 'EEG T4-LE freq 48.83': 0.0017816647061453385, 'EEG T4-LE freq 49.8': 0.0015721909004820106, 'EEG T4-LE freq 50.78': 0.0017824034341660613, 'EEG T4-LE freq 51.76': 0.0016407291399757806, 'EEG T4-LE freq 52.73': 0.0018382870842255001, 'EEG T4-LE freq 53.71': 0.0021793907916401504, 'EEG T4-LE freq 54.69': 0.002238859891900414, 'EEG T4-LE freq 55.66': 0.0022321950989668683, 'EEG T4-LE freq 56.64': 0.001967644489109493, 'EEG T4-LE freq 57.62': 0.0019017376009579853, 'EEG T4-LE freq 58.59': 0.0019128182341157565, 'EEG T4-LE freq 59.57': 0.006208225594670099, 'EEG T4-LE freq 60.55': 0.00409893199502456, 'EEG T4-LE freq 61.52': 0.00209778393352446, 'EEG T4-LE freq 62.5': 0.002023350611511928, 'EEG T4-LE freq 63.48': 0.0023250819364183458, 'EEG T4-LE freq 64.45': 0.002564476708842316, 'EEG T4-LE freq 65.43': 0.0022485590958978576, 'EEG T4-LE freq 66.41': 0.0020245739683739574, 'EEG T4-LE freq 67.38': 0.0020414481133529064, 'EEG T4-LE freq 68.36': 0.001861184130029926, 'EEG T4-LE freq 69.34': 0.002074861034110205, 'EEG T4-LE freq 70.31': 0.0024576195358644803, 'EEG T4-LE freq 71.29': 0.0021647087267956436, 'EEG T4-LE freq 72.27': 0.0026308435732571235, 'EEG T4-LE freq 73.24': 0.0026212461810390946, 'EEG T4-LE freq 74.22': 0.0023556671902294833, 'EEG T4-LE freq 75.2': 0.0022115615913867225, 'EEG T4-LE freq 76.17': 0.0019814997575001983, 'EEG T4-LE freq 77.15': 0.0019116521342934117, 'EEG T4-LE freq 78.12': 0.0019504599970187062, 'EEG T4-LE freq 79.1': 0.0017150162212213025, 'EEG T4-LE freq 80.08': 0.0019268073750448463, 'EEG T4-LE freq 81.05': 0.001812915746377027, 'EEG T4-LE freq 82.03': 0.0018081657291968306, 'EEG T4-LE freq 83.01': 0.0019969477256141276, 'EEG T4-LE freq 83.98': 0.002403575772856231, 'EEG T4-LE freq 84.96': 0.002201957335805899, 'EEG T4-LE freq 85.94': 0.002231464625059683, 'EEG T4-LE freq 86.91': 0.002438051760944384, 'EEG T4-LE freq 87.89': 0.0018912820346382976, 'EEG T4-LE freq 88.87': 0.0021880561177865954, 'EEG T4-LE freq 89.84': 0.002071875089346833, 'EEG T4-LE freq 90.82': 0.0021532013275393637, 'EEG T4-LE freq 91.8': 0.0018008515147029977, 'EEG T4-LE freq 92.77': 0.001891969328266768, 'EEG T4-LE freq 93.75': 0.00196268832299834, 'EEG T4-LE freq 94.73': 0.0022077824528126994, 'EEG T4-LE freq 95.7': 0.0025156498729331377, 'EEG T4-LE freq 96.68': 0.002141624493998007, 'EEG T4-LE freq 97.66': 0.0021095609937486683, 'EEG T4-LE freq 98.63': 0.0019848597321310882, 'EEG T4-LE freq 99.61': 0.0024392197791001198, 'EEG T4-LE freq 100.59': 0.002368743079666864, 'EEG T4-LE freq 101.56': 0.002232810896306989, 'EEG T4-LE freq 102.54': 0.00205632333820353, 'EEG T4-LE freq 103.52': 0.0018316888968731226, 'EEG T4-LE freq 104.49': 0.001749352320850268, 'EEG T4-LE freq 105.47': 0.0015819709126885394, 'EEG T4-LE freq 106.45': 0.0012711197725903166, 'EEG T4-LE freq 107.42': 0.0013664572850849114, 'EEG T4-LE freq 108.4': 0.0011884361980380395, 'EEG T4-LE freq 109.38': 0.0011925345647923143, 'EEG T4-LE freq 110.35': 0.0009224097945754796, 'EEG T4-LE freq 111.33': 0.000703438916269916, 'EEG T4-LE freq 112.3': 0.0005948054312603325, 'EEG T4-LE freq 113.28': 0.0004961748708445526, 'EEG T4-LE freq 114.26': 0.00046734035515814753, 'EEG T4-LE freq 115.23': 0.0004162895866757713, 'EEG T4-LE freq 116.21': 0.0003464135709921743, 'EEG T4-LE freq 117.19': 0.00028678386319985034, 'EEG T4-LE freq 118.16': 0.00023524093231286187, 'EEG T4-LE freq 119.14': 0.00028829676696373835, 'EEG T4-LE freq 120.12': 0.0004900855670653599, 'EEG T4-LE freq 121.09': 0.000166770229776981, 'EEG T4-LE freq 122.07': 0.0001383115184239811, 'EEG T4-LE freq 123.05': 0.00014176527745137892, 'EEG T4-LE freq 124.02': 0.0001422844264940132, 'EEG T4-LE freq 125.0': 7.795119824214408e-05, 'EEG T5-LE freq 0.0': 0.0028330204550229498, 'EEG T5-LE freq 0.98': 0.0979470582538999, 'EEG T5-LE freq 1.95': 0.046436294151577136, 'EEG T5-LE freq 2.93': 0.03190472465409589, 'EEG T5-LE freq 3.91': 0.028795300122770387, 'EEG T5-LE freq 4.88': 0.031002138402724113, 'EEG T5-LE freq 5.86': 0.036365158216909436, 'EEG T5-LE freq 6.84': 0.07491323017338268, 'EEG T5-LE freq 7.81': 0.16729860924917914, 'EEG T5-LE freq 8.79': 0.13395215292299562, 'EEG T5-LE freq 9.77': 0.08024673552295324, 'EEG T5-LE freq 10.74': 0.0300163784227994, 'EEG T5-LE freq 11.72': 0.012192720211081172, 'EEG T5-LE freq 12.7': 0.00785577556035429, 'EEG T5-LE freq 13.67': 0.006373103139376546, 'EEG T5-LE freq 14.65': 0.007079749789520475, 'EEG T5-LE freq 15.62': 0.00708559933638046, 'EEG T5-LE freq 16.6': 0.006953549713314062, 'EEG T5-LE freq 17.58': 0.006569974265172567, 'EEG T5-LE freq 18.55': 0.004921162688294872, 'EEG T5-LE freq 19.53': 0.004227391311877677, 'EEG T5-LE freq 20.51': 0.0035046471110897204, 'EEG T5-LE freq 21.48': 0.0034174783041462605, 'EEG T5-LE freq 22.46': 0.0029135917104339036, 'EEG T5-LE freq 23.44': 0.002854014509281918, 'EEG T5-LE freq 24.41': 0.002376990162952943, 'EEG T5-LE freq 25.39': 0.0020644505861891083, 'EEG T5-LE freq 26.37': 0.002053153939706941, 'EEG T5-LE freq 27.34': 0.0020584398559684463, 'EEG T5-LE freq 28.32': 0.001929946481514491, 'EEG T5-LE freq 29.3': 0.0017244567532632112, 'EEG T5-LE freq 30.27': 0.0015673699831647598, 'EEG T5-LE freq 31.25': 0.0014309308718285542, 'EEG T5-LE freq 32.23': 0.0014339504963582833, 'EEG T5-LE freq 33.2': 0.0015453938220701445, 'EEG T5-LE freq 34.18': 0.0014027505887025014, 'EEG T5-LE freq 35.16': 0.0014775396622398384, 'EEG T5-LE freq 36.13': 0.0014766575492629352, 'EEG T5-LE freq 37.11': 0.0015011510363960201, 'EEG T5-LE freq 38.09': 0.0014227673458673741, 'EEG T5-LE freq 39.06': 0.0014864037355442467, 'EEG T5-LE freq 40.04': 0.0015081567576111787, 'EEG T5-LE freq 41.02': 0.0015302730427832472, 'EEG T5-LE freq 41.99': 0.001473760186689588, 'EEG T5-LE freq 42.97': 0.0015413398137318947, 'EEG T5-LE freq 43.95': 0.0015426350542266053, 'EEG T5-LE freq 44.92': 0.0014063252115032439, 'EEG T5-LE freq 45.9': 0.001416207754679854, 'EEG T5-LE freq 46.88': 0.0013919054855380376, 'EEG T5-LE freq 47.85': 0.0014201339803322764, 'EEG T5-LE freq 48.83': 0.0015971763580212902, 'EEG T5-LE freq 49.8': 0.0014937318063286463, 'EEG T5-LE freq 50.78': 0.0014525364214800667, 'EEG T5-LE freq 51.76': 0.0015036376047008271, 'EEG T5-LE freq 52.73': 0.0015488548423917665, 'EEG T5-LE freq 53.71': 0.0016298010962774807, 'EEG T5-LE freq 54.69': 0.0015882990876450276, 'EEG T5-LE freq 55.66': 0.0015871696563801428, 'EEG T5-LE freq 56.64': 0.0014717730243956214, 'EEG T5-LE freq 57.62': 0.0016540311817403001, 'EEG T5-LE freq 58.59': 0.001985541450254998, 'EEG T5-LE freq 59.57': 0.018155749273521454, 'EEG T5-LE freq 60.55': 0.01051824518547411, 'EEG T5-LE freq 61.52': 0.002540249902472482, 'EEG T5-LE freq 62.5': 0.00163993653563373, 'EEG T5-LE freq 63.48': 0.001468518701344108, 'EEG T5-LE freq 64.45': 0.0015128520252831734, 'EEG T5-LE freq 65.43': 0.001414340803817881, 'EEG T5-LE freq 66.41': 0.0014335080866482305, 'EEG T5-LE freq 67.38': 0.0015345619939923394, 'EEG T5-LE freq 68.36': 0.001515215945589059, 'EEG T5-LE freq 69.34': 0.001365771950553153, 'EEG T5-LE freq 70.31': 0.0015847245364368585, 'EEG T5-LE freq 71.29': 0.0015542770373368126, 'EEG T5-LE freq 72.27': 0.0015670654859400652, 'EEG T5-LE freq 73.24': 0.001420192489676439, 'EEG T5-LE freq 74.22': 0.0014391900243163579, 'EEG T5-LE freq 75.2': 0.0015231747022726276, 'EEG T5-LE freq 76.17': 0.0013844579514218323, 'EEG T5-LE freq 77.15': 0.0014407213953224413, 'EEG T5-LE freq 78.12': 0.0014278933413569878, 'EEG T5-LE freq 79.1': 0.0013935967591811739, 'EEG T5-LE freq 80.08': 0.0014176397859948387, 'EEG T5-LE freq 81.05': 0.0015455736535514748, 'EEG T5-LE freq 82.03': 0.0013958469838541115, 'EEG T5-LE freq 83.01': 0.0014668068183243492, 'EEG T5-LE freq 83.98': 0.0015246937573063538, 'EEG T5-LE freq 84.96': 0.001382129760258908, 'EEG T5-LE freq 85.94': 0.0013197680267071545, 'EEG T5-LE freq 86.91': 0.0014686218977960925, 'EEG T5-LE freq 87.89': 0.001419919928404308, 'EEG T5-LE freq 88.87': 0.0014189495938146974, 'EEG T5-LE freq 89.84': 0.0014952247161193375, 'EEG T5-LE freq 90.82': 0.0015986152371355435, 'EEG T5-LE freq 91.8': 0.001398111379941049, 'EEG T5-LE freq 92.77': 0.0014349843117327896, 'EEG T5-LE freq 93.75': 0.0013492531296137296, 'EEG T5-LE freq 94.73': 0.001461880831136498, 'EEG T5-LE freq 95.7': 0.001412397902018198, 'EEG T5-LE freq 96.68': 0.0013839074240042297, 'EEG T5-LE freq 97.66': 0.001515734247426437, 'EEG T5-LE freq 98.63': 0.0014353719863439648, 'EEG T5-LE freq 99.61': 0.0013434256347734513, 'EEG T5-LE freq 100.59': 0.001426902702505128, 'EEG T5-LE freq 101.56': 0.001286446502158499, 'EEG T5-LE freq 102.54': 0.001312550760743382, 'EEG T5-LE freq 103.52': 0.001258735339158531, 'EEG T5-LE freq 104.49': 0.0011934997674883422, 'EEG T5-LE freq 105.47': 0.001130158684989923, 'EEG T5-LE freq 106.45': 0.0010312521832878075, 'EEG T5-LE freq 107.42': 0.0008915458888776471, 'EEG T5-LE freq 108.4': 0.0008783157180180685, 'EEG T5-LE freq 109.38': 0.0007166133247083221, 'EEG T5-LE freq 110.35': 0.0006497832226540267, 'EEG T5-LE freq 111.33': 0.0005481088031426474, 'EEG T5-LE freq 112.3': 0.00045174758335472917, 'EEG T5-LE freq 113.28': 0.00039917617765978527, 'EEG T5-LE freq 114.26': 0.0003512290912686219, 'EEG T5-LE freq 115.23': 0.0002863115147009595, 'EEG T5-LE freq 116.21': 0.0002507077938843484, 'EEG T5-LE freq 117.19': 0.0002278426912876966, 'EEG T5-LE freq 118.16': 0.00022872616452285867, 'EEG T5-LE freq 119.14': 0.0003399511356684219, 'EEG T5-LE freq 120.12': 0.0012483221312062816, 'EEG T5-LE freq 121.09': 0.0001295178734435514, 'EEG T5-LE freq 122.07': 0.00011165533640529141, 'EEG T5-LE freq 123.05': 0.00011060658220218512, 'EEG T5-LE freq 124.02': 0.00010538272256489926, 'EEG T5-LE freq 125.0': 5.660828387340381e-05, 'EEG T6-LE freq 0.0': 0.0031205537470823104, 'EEG T6-LE freq 0.98': 0.10218233938509053, 'EEG T6-LE freq 1.95': 0.04904341715942047, 'EEG T6-LE freq 2.93': 0.03368329557250749, 'EEG T6-LE freq 3.91': 0.02863427966756158, 'EEG T6-LE freq 4.88': 0.032716950090477225, 'EEG T6-LE freq 5.86': 0.03849297944000567, 'EEG T6-LE freq 6.84': 0.07441978096476647, 'EEG T6-LE freq 7.81': 0.1436464485014361, 'EEG T6-LE freq 8.79': 0.14761369957573475, 'EEG T6-LE freq 9.77': 0.08579562660712423, 'EEG T6-LE freq 10.74': 0.028693445493504218, 'EEG T6-LE freq 11.72': 0.012015808997602904, 'EEG T6-LE freq 12.7': 0.008193823986848621, 'EEG T6-LE freq 13.67': 0.006814861008979424, 'EEG T6-LE freq 14.65': 0.006728179223420741, 'EEG T6-LE freq 15.62': 0.0067682388001350955, 'EEG T6-LE freq 16.6': 0.006673834469178792, 'EEG T6-LE freq 17.58': 0.007218553093418212, 'EEG T6-LE freq 18.55': 0.005435909933582591, 'EEG T6-LE freq 19.53': 0.0036163089357935433, 'EEG T6-LE freq 20.51': 0.003391555037552369, 'EEG T6-LE freq 21.48': 0.003306246120411251, 'EEG T6-LE freq 22.46': 0.003011727860771946, 'EEG T6-LE freq 23.44': 0.0024642868737989477, 'EEG T6-LE freq 24.41': 0.0022365902799031372, 'EEG T6-LE freq 25.39': 0.0019301980716031142, 'EEG T6-LE freq 26.37': 0.001984807828323437, 'EEG T6-LE freq 27.34': 0.0019860382214011304, 'EEG T6-LE freq 28.32': 0.0017458333218997584, 'EEG T6-LE freq 29.3': 0.0015182940510956944, 'EEG T6-LE freq 30.27': 0.0015327743981608049, 'EEG T6-LE freq 31.25': 0.0014281182885929633, 'EEG T6-LE freq 32.23': 0.0014129444588612378, 'EEG T6-LE freq 33.2': 0.0015015137915456536, 'EEG T6-LE freq 34.18': 0.0014320976622487977, 'EEG T6-LE freq 35.16': 0.001529935031934354, 'EEG T6-LE freq 36.13': 0.0015782457199785228, 'EEG T6-LE freq 37.11': 0.0013317233600303661, 'EEG T6-LE freq 38.09': 0.001329895796614707, 'EEG T6-LE freq 39.06': 0.001354314135448629, 'EEG T6-LE freq 40.04': 0.0013075768304032437, 'EEG T6-LE freq 41.02': 0.0013714587161438264, 'EEG T6-LE freq 41.99': 0.001378123451543439, 'EEG T6-LE freq 42.97': 0.0013697996876182803, 'EEG T6-LE freq 43.95': 0.0014762699763819066, 'EEG T6-LE freq 44.92': 0.0014901340238946679, 'EEG T6-LE freq 45.9': 0.0013281646120247776, 'EEG T6-LE freq 46.88': 0.0012659984391935662, 'EEG T6-LE freq 47.85': 0.0013541234444169026, 'EEG T6-LE freq 48.83': 0.0015438281653284217, 'EEG T6-LE freq 49.8': 0.0014371345627541838, 'EEG T6-LE freq 50.78': 0.0015158085533124453, 'EEG T6-LE freq 51.76': 0.0014595663252265979, 'EEG T6-LE freq 52.73': 0.001410503903726091, 'EEG T6-LE freq 53.71': 0.0017029447830913815, 'EEG T6-LE freq 54.69': 0.0015382174106562366, 'EEG T6-LE freq 55.66': 0.0015860898720559578, 'EEG T6-LE freq 56.64': 0.0015351122586498506, 'EEG T6-LE freq 57.62': 0.0015152638115957997, 'EEG T6-LE freq 58.59': 0.0018509769969353345, 'EEG T6-LE freq 59.57': 0.017578232900877216, 'EEG T6-LE freq 60.55': 0.010102895143343534, 'EEG T6-LE freq 61.52': 0.00233658029103334, 'EEG T6-LE freq 62.5': 0.0017072490499979087, 'EEG T6-LE freq 63.48': 0.0014655445695916018, 'EEG T6-LE freq 64.45': 0.0015241623391651765, 'EEG T6-LE freq 65.43': 0.0014092756308685974, 'EEG T6-LE freq 66.41': 0.0013625589849367973, 'EEG T6-LE freq 67.38': 0.001418786715135469, 'EEG T6-LE freq 68.36': 0.001424048218150781, 'EEG T6-LE freq 69.34': 0.0014315176937774242, 'EEG T6-LE freq 70.31': 0.0016462837255784217, 'EEG T6-LE freq 71.29': 0.0017325215896662248, 'EEG T6-LE freq 72.27': 0.0016097881826299886, 'EEG T6-LE freq 73.24': 0.0012316062036281281, 'EEG T6-LE freq 74.22': 0.0013194474111486692, 'EEG T6-LE freq 75.2': 0.0014102776523015014, 'EEG T6-LE freq 76.17': 0.001449682465321683, 'EEG T6-LE freq 77.15': 0.0015349210921027396, 'EEG T6-LE freq 78.12': 0.0013270268019123293, 'EEG T6-LE freq 79.1': 0.001278807917784991, 'EEG T6-LE freq 80.08': 0.0013171431672689814, 'EEG T6-LE freq 81.05': 0.0015115835302675423, 'EEG T6-LE freq 82.03': 0.0011867074829276273, 'EEG T6-LE freq 83.01': 0.0012649527081794762, 'EEG T6-LE freq 83.98': 0.0013202068479005785, 'EEG T6-LE freq 84.96': 0.0013433804521699704, 'EEG T6-LE freq 85.94': 0.0012541837992181082, 'EEG T6-LE freq 86.91': 0.0013134496528382283, 'EEG T6-LE freq 87.89': 0.0013471478773706572, 'EEG T6-LE freq 88.87': 0.0013376197302260432, 'EEG T6-LE freq 89.84': 0.0015675285170223554, 'EEG T6-LE freq 90.82': 0.0015389988502282007, 'EEG T6-LE freq 91.8': 0.0013711459463131338, 'EEG T6-LE freq 92.77': 0.0012954646921298147, 'EEG T6-LE freq 93.75': 0.0013840419610728779, 'EEG T6-LE freq 94.73': 0.0013776452856292443, 'EEG T6-LE freq 95.7': 0.001354455280154016, 'EEG T6-LE freq 96.68': 0.0012346733297811207, 'EEG T6-LE freq 97.66': 0.0014221150652579757, 'EEG T6-LE freq 98.63': 0.0015162883385277325, 'EEG T6-LE freq 99.61': 0.0013382673308300628, 'EEG T6-LE freq 100.59': 0.0013864597604412035, 'EEG T6-LE freq 101.56': 0.0012592597292120913, 'EEG T6-LE freq 102.54': 0.0012375513578136031, 'EEG T6-LE freq 103.52': 0.001222605472877302, 'EEG T6-LE freq 104.49': 0.00118381661896712, 'EEG T6-LE freq 105.47': 0.0010357852850022312, 'EEG T6-LE freq 106.45': 0.0009538740234603622, 'EEG T6-LE freq 107.42': 0.0008719979250046865, 'EEG T6-LE freq 108.4': 0.0008630641202841912, 'EEG T6-LE freq 109.38': 0.000691081312045944, 'EEG T6-LE freq 110.35': 0.000667363325617461, 'EEG T6-LE freq 111.33': 0.0005025134600639438, 'EEG T6-LE freq 112.3': 0.0004792865549899173, 'EEG T6-LE freq 113.28': 0.0003837527182753899, 'EEG T6-LE freq 114.26': 0.0003395190603975741, 'EEG T6-LE freq 115.23': 0.00028446136157842563, 'EEG T6-LE freq 116.21': 0.00025371466955037504, 'EEG T6-LE freq 117.19': 0.00023286352255453579, 'EEG T6-LE freq 118.16': 0.00020789090099754048, 'EEG T6-LE freq 119.14': 0.0003305753067960122, 'EEG T6-LE freq 120.12': 0.001238783120098632, 'EEG T6-LE freq 121.09': 0.00013511573042371562, 'EEG T6-LE freq 122.07': 0.0001147696041720093, 'EEG T6-LE freq 123.05': 0.00011334648318944148, 'EEG T6-LE freq 124.02': 0.00010623834387332373, 'EEG T6-LE freq 125.0': 5.352501924596244e-05, 'EEG FZ-LE freq 0.0': 0.004483887059677457, 'EEG FZ-LE freq 0.98': 0.23901044137833932, 'EEG FZ-LE freq 1.95': 0.07047223124042576, 'EEG FZ-LE freq 2.93': 0.039519895961344434, 'EEG FZ-LE freq 3.91': 0.029826864857220723, 'EEG FZ-LE freq 4.88': 0.03499878634544414, 'EEG FZ-LE freq 5.86': 0.04638748239926885, 'EEG FZ-LE freq 6.84': 0.08409686298795768, 'EEG FZ-LE freq 7.81': 0.1397122313829711, 'EEG FZ-LE freq 8.79': 0.10963964653678143, 'EEG FZ-LE freq 9.77': 0.030873221902153115, 'EEG FZ-LE freq 10.74': 0.013612052069415969, 'EEG FZ-LE freq 11.72': 0.010056124373090666, 'EEG FZ-LE freq 12.7': 0.008130085586579355, 'EEG FZ-LE freq 13.67': 0.005588514539655552, 'EEG FZ-LE freq 14.65': 0.005169619511252224, 'EEG FZ-LE freq 15.62': 0.004584758687841563, 'EEG FZ-LE freq 16.6': 0.004770156687831262, 'EEG FZ-LE freq 17.58': 0.004096833610814928, 'EEG FZ-LE freq 18.55': 0.0034588055908452435, 'EEG FZ-LE freq 19.53': 0.002789094650680269, 'EEG FZ-LE freq 20.51': 0.002669008865802579, 'EEG FZ-LE freq 21.48': 0.0023878058551980302, 'EEG FZ-LE freq 22.46': 0.0019684772144703067, 'EEG FZ-LE freq 23.44': 0.0016949632623793121, 'EEG FZ-LE freq 24.41': 0.0014354098554074412, 'EEG FZ-LE freq 25.39': 0.0012553338436662343, 'EEG FZ-LE freq 26.37': 0.001229230668608127, 'EEG FZ-LE freq 27.34': 0.0012097171838502546, 'EEG FZ-LE freq 28.32': 0.0011575635470099058, 'EEG FZ-LE freq 29.3': 0.0010253884312069542, 'EEG FZ-LE freq 30.27': 0.0010649796524974811, 'EEG FZ-LE freq 31.25': 0.0008837780865924581, 'EEG FZ-LE freq 32.23': 0.0008853500061595401, 'EEG FZ-LE freq 33.2': 0.0010162176781250583, 'EEG FZ-LE freq 34.18': 0.0010594233006106133, 'EEG FZ-LE freq 35.16': 0.0009253354085646431, 'EEG FZ-LE freq 36.13': 0.0008851565396223702, 'EEG FZ-LE freq 37.11': 0.0007872110167569864, 'EEG FZ-LE freq 38.09': 0.0011100098822764146, 'EEG FZ-LE freq 39.06': 0.0009033138077852997, 'EEG FZ-LE freq 40.04': 0.0007882724771146299, 'EEG FZ-LE freq 41.02': 0.0008591988027135015, 'EEG FZ-LE freq 41.99': 0.0011694767878746887, 'EEG FZ-LE freq 42.97': 0.0008461885610725185, 'EEG FZ-LE freq 43.95': 0.0009228641789510552, 'EEG FZ-LE freq 44.92': 0.000983071497673206, 'EEG FZ-LE freq 45.9': 0.0007876985944422752, 'EEG FZ-LE freq 46.88': 0.0007114417068197064, 'EEG FZ-LE freq 47.85': 0.0006887146548526478, 'EEG FZ-LE freq 48.83': 0.0008554675664426523, 'EEG FZ-LE freq 49.8': 0.0007745537322911504, 'EEG FZ-LE freq 50.78': 0.0010631279190514529, 'EEG FZ-LE freq 51.76': 0.001115012915865081, 'EEG FZ-LE freq 52.73': 0.0010049116285621616, 'EEG FZ-LE freq 53.71': 0.0010695540581314887, 'EEG FZ-LE freq 54.69': 0.0010173334213741522, 'EEG FZ-LE freq 55.66': 0.0010723938725718202, 'EEG FZ-LE freq 56.64': 0.0012823980945506493, 'EEG FZ-LE freq 57.62': 0.0010729522612719581, 'EEG FZ-LE freq 58.59': 0.0012217716479533127, 'EEG FZ-LE freq 59.57': 0.009720226018630327, 'EEG FZ-LE freq 60.55': 0.00609837543198792, 'EEG FZ-LE freq 61.52': 0.0014873581528895877, 'EEG FZ-LE freq 62.5': 0.0011971329133217221, 'EEG FZ-LE freq 63.48': 0.0011195930167184525, 'EEG FZ-LE freq 64.45': 0.0010609622072270878, 'EEG FZ-LE freq 65.43': 0.0008913104502119645, 'EEG FZ-LE freq 66.41': 0.0009894776391683668, 'EEG FZ-LE freq 67.38': 0.0009263785280914563, 'EEG FZ-LE freq 68.36': 0.001073418586882557, 'EEG FZ-LE freq 69.34': 0.0008239173290509356, 'EEG FZ-LE freq 70.31': 0.0010564386174775815, 'EEG FZ-LE freq 71.29': 0.0010634996175715417, 'EEG FZ-LE freq 72.27': 0.0009100879408939105, 'EEG FZ-LE freq 73.24': 0.0007718151834830505, 'EEG FZ-LE freq 74.22': 0.0008052642825886804, 'EEG FZ-LE freq 75.2': 0.0008841459221496566, 'EEG FZ-LE freq 76.17': 0.0011045310331467082, 'EEG FZ-LE freq 77.15': 0.0009905295535489887, 'EEG FZ-LE freq 78.12': 0.0009152450835015802, 'EEG FZ-LE freq 79.1': 0.000756128994677605, 'EEG FZ-LE freq 80.08': 0.0008134125895099713, 'EEG FZ-LE freq 81.05': 0.0010143537530392076, 'EEG FZ-LE freq 82.03': 0.0007363776696670538, 'EEG FZ-LE freq 83.01': 0.0008394692384848786, 'EEG FZ-LE freq 83.98': 0.0011433261707467829, 'EEG FZ-LE freq 84.96': 0.0010471156441284684, 'EEG FZ-LE freq 85.94': 0.0008440717439588599, 'EEG FZ-LE freq 86.91': 0.0009633555954450267, 'EEG FZ-LE freq 87.89': 0.000934414712221025, 'EEG FZ-LE freq 88.87': 0.000850659250469685, 'EEG FZ-LE freq 89.84': 0.0010946531557847355, 'EEG FZ-LE freq 90.82': 0.0010854154412385066, 'EEG FZ-LE freq 91.8': 0.0008744963926126635, 'EEG FZ-LE freq 92.77': 0.0008391765814434635, 'EEG FZ-LE freq 93.75': 0.0008779914135943709, 'EEG FZ-LE freq 94.73': 0.0010765345576178613, 'EEG FZ-LE freq 95.7': 0.0009372240016085568, 'EEG FZ-LE freq 96.68': 0.0007698041150049041, 'EEG FZ-LE freq 97.66': 0.0007676802355358339, 'EEG FZ-LE freq 98.63': 0.0008422409054363493, 'EEG FZ-LE freq 99.61': 0.0007723781584028753, 'EEG FZ-LE freq 100.59': 0.00074701383022202, 'EEG FZ-LE freq 101.56': 0.0008406182722809245, 'EEG FZ-LE freq 102.54': 0.0008135556890311499, 'EEG FZ-LE freq 103.52': 0.0008801321023048078, 'EEG FZ-LE freq 104.49': 0.0008434028800064949, 'EEG FZ-LE freq 105.47': 0.00082857730870653, 'EEG FZ-LE freq 106.45': 0.0006480713033259367, 'EEG FZ-LE freq 107.42': 0.0005713005762014824, 'EEG FZ-LE freq 108.4': 0.00047263409831433046, 'EEG FZ-LE freq 109.38': 0.0003718861299593637, 'EEG FZ-LE freq 110.35': 0.00039680970204406316, 'EEG FZ-LE freq 111.33': 0.0003206551046130682, 'EEG FZ-LE freq 112.3': 0.00031722557237896294, 'EEG FZ-LE freq 113.28': 0.00024719344508895825, 'EEG FZ-LE freq 114.26': 0.00024276403359721035, 'EEG FZ-LE freq 115.23': 0.00015323296223271606, 'EEG FZ-LE freq 116.21': 0.00015479039119626714, 'EEG FZ-LE freq 117.19': 0.00013929565932218406, 'EEG FZ-LE freq 118.16': 0.00011998757620367513, 'EEG FZ-LE freq 119.14': 0.00017059223087672652, 'EEG FZ-LE freq 120.12': 0.000521485504816181, 'EEG FZ-LE freq 121.09': 7.487505579129966e-05, 'EEG FZ-LE freq 122.07': 7.00261039797582e-05, 'EEG FZ-LE freq 123.05': 6.133041922405392e-05, 'EEG FZ-LE freq 124.02': 5.685010460344149e-05, 'EEG FZ-LE freq 125.0': 2.803026874623403e-05, 'EEG CZ-LE freq 0.0': 0.0035266198686070296, 'EEG CZ-LE freq 0.98': 0.1388480562256175, 'EEG CZ-LE freq 1.95': 0.05103674617552427, 'EEG CZ-LE freq 2.93': 0.03457209035534976, 'EEG CZ-LE freq 3.91': 0.029429610383617747, 'EEG CZ-LE freq 4.88': 0.036789360791953746, 'EEG CZ-LE freq 5.86': 0.057544465826045, 'EEG CZ-LE freq 6.84': 0.10078826181747615, 'EEG CZ-LE freq 7.81': 0.15978230646114538, 'EEG CZ-LE freq 8.79': 0.15028860576911998, 'EEG CZ-LE freq 9.77': 0.04382244155530665, 'EEG CZ-LE freq 10.74': 0.01733330122331817, 'EEG CZ-LE freq 11.72': 0.011952669848396434, 'EEG CZ-LE freq 12.7': 0.00946552649609005, 'EEG CZ-LE freq 13.67': 0.006780057978266078, 'EEG CZ-LE freq 14.65': 0.006556685231536909, 'EEG CZ-LE freq 15.62': 0.0057241168229968725, 'EEG CZ-LE freq 16.6': 0.005950499874825992, 'EEG CZ-LE freq 17.58': 0.0054309223199340345, 'EEG CZ-LE freq 18.55': 0.00435674309152075, 'EEG CZ-LE freq 19.53': 0.00357429677956736, 'EEG CZ-LE freq 20.51': 0.003327294132250321, 'EEG CZ-LE freq 21.48': 0.0029820299455184415, 'EEG CZ-LE freq 22.46': 0.002351277337174148, 'EEG CZ-LE freq 23.44': 0.0020559968799067694, 'EEG CZ-LE freq 24.41': 0.0017425397322087615, 'EEG CZ-LE freq 25.39': 0.001505853924207153, 'EEG CZ-LE freq 26.37': 0.0015033669996083188, 'EEG CZ-LE freq 27.34': 0.0014504262125561828, 'EEG CZ-LE freq 28.32': 0.0013423210068037508, 'EEG CZ-LE freq 29.3': 0.0011868268989369212, 'EEG CZ-LE freq 30.27': 0.0012099120691210505, 'EEG CZ-LE freq 31.25': 0.001042421268280937, 'EEG CZ-LE freq 32.23': 0.0010434842855187036, 'EEG CZ-LE freq 33.2': 0.0011379142468768328, 'EEG CZ-LE freq 34.18': 0.0012077028029579971, 'EEG CZ-LE freq 35.16': 0.0010410868992828115, 'EEG CZ-LE freq 36.13': 0.000968994975906637, 'EEG CZ-LE freq 37.11': 0.0009157016572949186, 'EEG CZ-LE freq 38.09': 0.001305374369696752, 'EEG CZ-LE freq 39.06': 0.0010764933598837703, 'EEG CZ-LE freq 40.04': 0.0009036973283626641, 'EEG CZ-LE freq 41.02': 0.0010016355641544988, 'EEG CZ-LE freq 41.99': 0.0012801407954236446, 'EEG CZ-LE freq 42.97': 0.0009103779177087386, 'EEG CZ-LE freq 43.95': 0.001005604365225004, 'EEG CZ-LE freq 44.92': 0.0010817523635620438, 'EEG CZ-LE freq 45.9': 0.000892084703386424, 'EEG CZ-LE freq 46.88': 0.0008124873147666069, 'EEG CZ-LE freq 47.85': 0.0007915363330712629, 'EEG CZ-LE freq 48.83': 0.0009461547860609103, 'EEG CZ-LE freq 49.8': 0.0008733618581741524, 'EEG CZ-LE freq 50.78': 0.001163198395756499, 'EEG CZ-LE freq 51.76': 0.001192664115136618, 'EEG CZ-LE freq 52.73': 0.0010723426551572312, 'EEG CZ-LE freq 53.71': 0.0011865831934175586, 'EEG CZ-LE freq 54.69': 0.001066776520496888, 'EEG CZ-LE freq 55.66': 0.0011047194360926257, 'EEG CZ-LE freq 56.64': 0.0013124681616109837, 'EEG CZ-LE freq 57.62': 0.0011475808350975619, 'EEG CZ-LE freq 58.59': 0.0011803072931233286, 'EEG CZ-LE freq 59.57': 0.00849733643442039, 'EEG CZ-LE freq 60.55': 0.005417913111465236, 'EEG CZ-LE freq 61.52': 0.0014285179353398538, 'EEG CZ-LE freq 62.5': 0.0012091842690177827, 'EEG CZ-LE freq 63.48': 0.001193808502335358, 'EEG CZ-LE freq 64.45': 0.0010942105885018221, 'EEG CZ-LE freq 65.43': 0.0009617355235921692, 'EEG CZ-LE freq 66.41': 0.001023278632136763, 'EEG CZ-LE freq 67.38': 0.0009633248357583333, 'EEG CZ-LE freq 68.36': 0.0011220326304558867, 'EEG CZ-LE freq 69.34': 0.0009035961677264559, 'EEG CZ-LE freq 70.31': 0.001140833453528857, 'EEG CZ-LE freq 71.29': 0.0011578072862866058, 'EEG CZ-LE freq 72.27': 0.0009962744255258339, 'EEG CZ-LE freq 73.24': 0.0008102762434623775, 'EEG CZ-LE freq 74.22': 0.0008645098446863794, 'EEG CZ-LE freq 75.2': 0.0009922716044494515, 'EEG CZ-LE freq 76.17': 0.0012056379847195065, 'EEG CZ-LE freq 77.15': 0.0010417084518020904, 'EEG CZ-LE freq 78.12': 0.000996156792887266, 'EEG CZ-LE freq 79.1': 0.0007939340122679213, 'EEG CZ-LE freq 80.08': 0.000871670279383071, 'EEG CZ-LE freq 81.05': 0.0010408624586437283, 'EEG CZ-LE freq 82.03': 0.0008051059814395608, 'EEG CZ-LE freq 83.01': 0.0009094004236200929, 'EEG CZ-LE freq 83.98': 0.001270595347180625, 'EEG CZ-LE freq 84.96': 0.0011410417147325528, 'EEG CZ-LE freq 85.94': 0.0008620285392970138, 'EEG CZ-LE freq 86.91': 0.000985271619607117, 'EEG CZ-LE freq 87.89': 0.0010046109904436192, 'EEG CZ-LE freq 88.87': 0.0008789572028899201, 'EEG CZ-LE freq 89.84': 0.00113501890464396, 'EEG CZ-LE freq 90.82': 0.0011623955571734232, 'EEG CZ-LE freq 91.8': 0.0009104648622706938, 'EEG CZ-LE freq 92.77': 0.0009115549492352778, 'EEG CZ-LE freq 93.75': 0.0009407182647296496, 'EEG CZ-LE freq 94.73': 0.0012273294777732724, 'EEG CZ-LE freq 95.7': 0.0009926705427756284, 'EEG CZ-LE freq 96.68': 0.0008108181424401223, 'EEG CZ-LE freq 97.66': 0.0008556286093652409, 'EEG CZ-LE freq 98.63': 0.0009073909588147259, 'EEG CZ-LE freq 99.61': 0.0008623879165601021, 'EEG CZ-LE freq 100.59': 0.0008589404956683013, 'EEG CZ-LE freq 101.56': 0.0009272621569351672, 'EEG CZ-LE freq 102.54': 0.0008843353580355737, 'EEG CZ-LE freq 103.52': 0.0009174956948712065, 'EEG CZ-LE freq 104.49': 0.0009262021575503926, 'EEG CZ-LE freq 105.47': 0.0009362753847145008, 'EEG CZ-LE freq 106.45': 0.0006683357354302099, 'EEG CZ-LE freq 107.42': 0.0005920074631330207, 'EEG CZ-LE freq 108.4': 0.0005177925336812002, 'EEG CZ-LE freq 109.38': 0.0003963175145061493, 'EEG CZ-LE freq 110.35': 0.0004323208375435755, 'EEG CZ-LE freq 111.33': 0.00034211364260062056, 'EEG CZ-LE freq 112.3': 0.000348705723212628, 'EEG CZ-LE freq 113.28': 0.0002707058249925651, 'EEG CZ-LE freq 114.26': 0.00026518538073091265, 'EEG CZ-LE freq 115.23': 0.00017364484991056256, 'EEG CZ-LE freq 116.21': 0.00016917042590866381, 'EEG CZ-LE freq 117.19': 0.0001472709910803871, 'EEG CZ-LE freq 118.16': 0.00012316591098964416, 'EEG CZ-LE freq 119.14': 0.00016382357935782772, 'EEG CZ-LE freq 120.12': 0.0004472639863571093, 'EEG CZ-LE freq 121.09': 8.048109972771683e-05, 'EEG CZ-LE freq 122.07': 7.230533420904537e-05, 'EEG CZ-LE freq 123.05': 6.747959775038033e-05, 'EEG CZ-LE freq 124.02': 6.355523893614539e-05, 'EEG CZ-LE freq 125.0': 3.169377278847262e-05, 'EEG PZ-LE freq 0.0': 0.0026745454787794535, 'EEG PZ-LE freq 0.98': 0.08853515120873733, 'EEG PZ-LE freq 1.95': 0.0439577976882305, 'EEG PZ-LE freq 2.93': 0.0307509034560321, 'EEG PZ-LE freq 3.91': 0.027050779040530052, 'EEG PZ-LE freq 4.88': 0.030525952478125958, 'EEG PZ-LE freq 5.86': 0.04630184645506478, 'EEG PZ-LE freq 6.84': 0.09367718797608839, 'EEG PZ-LE freq 7.81': 0.16073701941179408, 'EEG PZ-LE freq 8.79': 0.20169053491832895, 'EEG PZ-LE freq 9.77': 0.08484073332392372, 'EEG PZ-LE freq 10.74': 0.027350962755672465, 'EEG PZ-LE freq 11.72': 0.011550357175896307, 'EEG PZ-LE freq 12.7': 0.007918387888045195, 'EEG PZ-LE freq 13.67': 0.006198173047985676, 'EEG PZ-LE freq 14.65': 0.00644508036409245, 'EEG PZ-LE freq 15.62': 0.005801991615907219, 'EEG PZ-LE freq 16.6': 0.005825061707431233, 'EEG PZ-LE freq 17.58': 0.006019362771469967, 'EEG PZ-LE freq 18.55': 0.0043633780677493125, 'EEG PZ-LE freq 19.53': 0.0033107013569732315, 'EEG PZ-LE freq 20.51': 0.002877702284632344, 'EEG PZ-LE freq 21.48': 0.0025845837518985487, 'EEG PZ-LE freq 22.46': 0.002196409939235654, 'EEG PZ-LE freq 23.44': 0.0020067118661990903, 'EEG PZ-LE freq 24.41': 0.0016777993749812386, 'EEG PZ-LE freq 25.39': 0.001403978570153572, 'EEG PZ-LE freq 26.37': 0.0013553211052082105, 'EEG PZ-LE freq 27.34': 0.0013417702580323023, 'EEG PZ-LE freq 28.32': 0.0012869731683664446, 'EEG PZ-LE freq 29.3': 0.001078304579426207, 'EEG PZ-LE freq 30.27': 0.0009978202466530525, 'EEG PZ-LE freq 31.25': 0.000972862893717656, 'EEG PZ-LE freq 32.23': 0.0009465807629194681, 'EEG PZ-LE freq 33.2': 0.0009483114338305897, 'EEG PZ-LE freq 34.18': 0.0009079671366122504, 'EEG PZ-LE freq 35.16': 0.0009501994510960943, 'EEG PZ-LE freq 36.13': 0.0009408397452420693, 'EEG PZ-LE freq 37.11': 0.0008586798483218796, 'EEG PZ-LE freq 38.09': 0.0008494646701973922, 'EEG PZ-LE freq 39.06': 0.0008615272072281427, 'EEG PZ-LE freq 40.04': 0.0008253370152343404, 'EEG PZ-LE freq 41.02': 0.0008969547040949565, 'EEG PZ-LE freq 41.99': 0.0008123057565256515, 'EEG PZ-LE freq 42.97': 0.0008337267851264144, 'EEG PZ-LE freq 43.95': 0.0008688007934406742, 'EEG PZ-LE freq 44.92': 0.0007794202196769678, 'EEG PZ-LE freq 45.9': 0.0008133242820346374, 'EEG PZ-LE freq 46.88': 0.0007605904020750612, 'EEG PZ-LE freq 47.85': 0.0007782826965151566, 'EEG PZ-LE freq 48.83': 0.0008762148438151989, 'EEG PZ-LE freq 49.8': 0.0008203552601801965, 'EEG PZ-LE freq 50.78': 0.00082486122900869, 'EEG PZ-LE freq 51.76': 0.0008639031159188282, 'EEG PZ-LE freq 52.73': 0.0008638657411356191, 'EEG PZ-LE freq 53.71': 0.0009699699453466309, 'EEG PZ-LE freq 54.69': 0.0008901354111119418, 'EEG PZ-LE freq 55.66': 0.0008896351188262071, 'EEG PZ-LE freq 56.64': 0.0008753102898837523, 'EEG PZ-LE freq 57.62': 0.0008993075263773471, 'EEG PZ-LE freq 58.59': 0.0011395206210344654, 'EEG PZ-LE freq 59.57': 0.011916437410957981, 'EEG PZ-LE freq 60.55': 0.006736307844261113, 'EEG PZ-LE freq 61.52': 0.0015021814565013803, 'EEG PZ-LE freq 62.5': 0.0009455837445462686, 'EEG PZ-LE freq 63.48': 0.0008353465951804695, 'EEG PZ-LE freq 64.45': 0.0008570829890693107, 'EEG PZ-LE freq 65.43': 0.0007528654466350983, 'EEG PZ-LE freq 66.41': 0.0007993402907607746, 'EEG PZ-LE freq 67.38': 0.0008055503234414993, 'EEG PZ-LE freq 68.36': 0.000831952428445284, 'EEG PZ-LE freq 69.34': 0.0007840382707392802, 'EEG PZ-LE freq 70.31': 0.0009379399720354807, 'EEG PZ-LE freq 71.29': 0.0009382355766349407, 'EEG PZ-LE freq 72.27': 0.0008573779818492735, 'EEG PZ-LE freq 73.24': 0.0007237273405951674, 'EEG PZ-LE freq 74.22': 0.0007671831867913417, 'EEG PZ-LE freq 75.2': 0.0007580916351271006, 'EEG PZ-LE freq 76.17': 0.0007801635943337946, 'EEG PZ-LE freq 77.15': 0.000822058318172762, 'EEG PZ-LE freq 78.12': 0.0007578436930236947, 'EEG PZ-LE freq 79.1': 0.0007201396464628056, 'EEG PZ-LE freq 80.08': 0.0007531703788450968, 'EEG PZ-LE freq 81.05': 0.0008720517235596978, 'EEG PZ-LE freq 82.03': 0.0007176814293777394, 'EEG PZ-LE freq 83.01': 0.0007796218764776756, 'EEG PZ-LE freq 83.98': 0.0007713037738419, 'EEG PZ-LE freq 84.96': 0.0007630535015874935, 'EEG PZ-LE freq 85.94': 0.000727350976443722, 'EEG PZ-LE freq 86.91': 0.0007923105929407469, 'EEG PZ-LE freq 87.89': 0.0007774547662192183, 'EEG PZ-LE freq 88.87': 0.000763472583067319, 'EEG PZ-LE freq 89.84': 0.0008139272556860653, 'EEG PZ-LE freq 90.82': 0.0008459433670129155, 'EEG PZ-LE freq 91.8': 0.0007672026232756506, 'EEG PZ-LE freq 92.77': 0.0007636002818035292, 'EEG PZ-LE freq 93.75': 0.0007830330997744927, 'EEG PZ-LE freq 94.73': 0.0008077040221548701, 'EEG PZ-LE freq 95.7': 0.0007958791540370079, 'EEG PZ-LE freq 96.68': 0.000708312125176026, 'EEG PZ-LE freq 97.66': 0.0007785392882767015, 'EEG PZ-LE freq 98.63': 0.0007808704139932254, 'EEG PZ-LE freq 99.61': 0.00073990480580465, 'EEG PZ-LE freq 100.59': 0.0007537868648560469, 'EEG PZ-LE freq 101.56': 0.0006790449205139067, 'EEG PZ-LE freq 102.54': 0.0006762007472320599, 'EEG PZ-LE freq 103.52': 0.0006865099969303744, 'EEG PZ-LE freq 104.49': 0.0006090327067899716, 'EEG PZ-LE freq 105.47': 0.0005779413475667977, 'EEG PZ-LE freq 106.45': 0.0005528656806795581, 'EEG PZ-LE freq 107.42': 0.0004893211959540366, 'EEG PZ-LE freq 108.4': 0.00045779338270120456, 'EEG PZ-LE freq 109.38': 0.0003622527588969781, 'EEG PZ-LE freq 110.35': 0.00035462023611283457, 'EEG PZ-LE freq 111.33': 0.00029416806454455875, 'EEG PZ-LE freq 112.3': 0.0002669484821211995, 'EEG PZ-LE freq 113.28': 0.000219111694608802, 'EEG PZ-LE freq 114.26': 0.0001931068737549428, 'EEG PZ-LE freq 115.23': 0.0001569886944556354, 'EEG PZ-LE freq 116.21': 0.00014186637053513484, 'EEG PZ-LE freq 117.19': 0.00012328309364156685, 'EEG PZ-LE freq 118.16': 0.0001259450715790794, 'EEG PZ-LE freq 119.14': 0.0002071252381886453, 'EEG PZ-LE freq 120.12': 0.000803773922264906, 'EEG PZ-LE freq 121.09': 7.040271180694761e-05, 'EEG PZ-LE freq 122.07': 6.430206708596632e-05, 'EEG PZ-LE freq 123.05': 6.163224047462712e-05, 'EEG PZ-LE freq 124.02': 5.898217628362414e-05, 'EEG PZ-LE freq 125.0': 2.9619437326588157e-05, 'EEG OZ-LE freq 0.0': 0.0024060310052427107, 'EEG OZ-LE freq 0.98': 0.17124021683662743, 'EEG OZ-LE freq 1.95': 0.05252958224227721, 'EEG OZ-LE freq 2.93': 0.027062491695891235, 'EEG OZ-LE freq 3.91': 0.024142038338701814, 'EEG OZ-LE freq 4.88': 0.020021608042083996, 'EEG OZ-LE freq 5.86': 0.015846078836031414, 'EEG OZ-LE freq 6.84': 0.01914567834995966, 'EEG OZ-LE freq 7.81': 0.009789238690159234, 'EEG OZ-LE freq 8.79': 0.03041461411336266, 'EEG OZ-LE freq 9.77': 0.012635356766188027, 'EEG OZ-LE freq 10.74': 0.037850079814068384, 'EEG OZ-LE freq 11.72': 0.012771788111043307, 'EEG OZ-LE freq 12.7': 0.03877480197646426, 'EEG OZ-LE freq 13.67': 0.017242880638525825, 'EEG OZ-LE freq 14.65': 0.038954438817607066, 'EEG OZ-LE freq 15.62': 0.019655053208605527, 'EEG OZ-LE freq 16.6': 0.03483489512180689, 'EEG OZ-LE freq 17.58': 0.02742579864711959, 'EEG OZ-LE freq 18.55': 0.0341551015680817, 'EEG OZ-LE freq 19.53': 0.0253100046701304, 'EEG OZ-LE freq 20.51': 0.026452464772044666, 'EEG OZ-LE freq 21.48': 0.030144033683293884, 'EEG OZ-LE freq 22.46': 0.010255536483559247, 'EEG OZ-LE freq 23.44': 0.0019559927868202914, 'EEG OZ-LE freq 24.41': 0.0018819666421542407, 'EEG OZ-LE freq 25.39': 0.0067575405254935855, 'EEG OZ-LE freq 26.37': 0.012289579711496908, 'EEG OZ-LE freq 27.34': 0.004418268578503526, 'EEG OZ-LE freq 28.32': 0.0020020792203207945, 'EEG OZ-LE freq 29.3': 0.00399358457569632, 'EEG OZ-LE freq 30.27': 0.013101875451106547, 'EEG OZ-LE freq 31.25': 0.0010266747872553269, 'EEG OZ-LE freq 32.23': 0.0018891992534026923, 'EEG OZ-LE freq 33.2': 0.008086843816494323, 'EEG OZ-LE freq 34.18': 0.014349867039293383, 'EEG OZ-LE freq 35.16': 0.0018291920995792427, 'EEG OZ-LE freq 36.13': 0.0027577492228295177, 'EEG OZ-LE freq 37.11': 0.0013637638096403604, 'EEG OZ-LE freq 38.09': 0.014603376755503094, 'EEG OZ-LE freq 39.06': 0.007359229348690134, 'EEG OZ-LE freq 40.04': 0.0009579433002982995, 'EEG OZ-LE freq 41.02': 0.0009125007239316746, 'EEG OZ-LE freq 41.99': 0.01301258479099113, 'EEG OZ-LE freq 42.97': 0.0008690804880690644, 'EEG OZ-LE freq 43.95': 0.0037135472488732707, 'EEG OZ-LE freq 44.92': 0.00832163816310263, 'EEG OZ-LE freq 45.9': 0.0008274049077325265, 'EEG OZ-LE freq 46.88': 0.0005118429499510705, 'EEG OZ-LE freq 47.85': 0.00034597401244198183, 'EEG OZ-LE freq 48.83': 0.0005380855177459463, 'EEG OZ-LE freq 49.8': 0.0004604844934791456, 'EEG OZ-LE freq 50.78': 0.0065548023078101526, 'EEG OZ-LE freq 51.76': 0.004726396614222637, 'EEG OZ-LE freq 52.73': 0.001216570338467534, 'EEG OZ-LE freq 53.71': 0.0010520531213882014, 'EEG OZ-LE freq 54.69': 0.001996543827159478, 'EEG OZ-LE freq 55.66': 0.0011085876153060104, 'EEG OZ-LE freq 56.64': 0.004823156716906432, 'EEG OZ-LE freq 57.62': 0.0026186291112036226, 'EEG OZ-LE freq 58.59': 0.0021030602370579556, 'EEG OZ-LE freq 59.57': 0.029622339349806064, 'EEG OZ-LE freq 60.55': 0.021941164608956936, 'EEG OZ-LE freq 61.52': 0.0024874041637775054, 'EEG OZ-LE freq 62.5': 0.0037446974906917884, 'EEG OZ-LE freq 63.48': 0.0036071258583037047, 'EEG OZ-LE freq 64.45': 0.0015216976797187021, 'EEG OZ-LE freq 65.43': 0.002153460058673885, 'EEG OZ-LE freq 66.41': 0.0011844205488505842, 'EEG OZ-LE freq 67.38': 0.0015555810891893567, 'EEG OZ-LE freq 68.36': 0.0029522953242154715, 'EEG OZ-LE freq 69.34': 0.0003058177415808553, 'EEG OZ-LE freq 70.31': 0.0002941938744254434, 'EEG OZ-LE freq 71.29': 0.0001779476215249162, 'EEG OZ-LE freq 72.27': 0.00044599661506028026, 'EEG OZ-LE freq 73.24': 0.00022584772186822085, 'EEG OZ-LE freq 74.22': 0.0005902875081610766, 'EEG OZ-LE freq 75.2': 0.002647721464856449, 'EEG OZ-LE freq 76.17': 0.0036558439743371025, 'EEG OZ-LE freq 77.15': 0.0011580777709919235, 'EEG OZ-LE freq 78.12': 0.0016391683526514964, 'EEG OZ-LE freq 79.1': 0.00013733195028634221, 'EEG OZ-LE freq 80.08': 0.00015458540961096773, 'EEG OZ-LE freq 81.05': 0.00042270741576830854, 'EEG OZ-LE freq 82.03': 0.0001468979294599201, 'EEG OZ-LE freq 83.01': 0.0002103215622816964, 'EEG OZ-LE freq 83.98': 0.003334638762026682, 'EEG OZ-LE freq 84.96': 0.0027397436245552263, 'EEG OZ-LE freq 85.94': 0.00023850088554000758, 'EEG OZ-LE freq 86.91': 0.0001460919457995572, 'EEG OZ-LE freq 87.89': 0.0007078949247780892, 'EEG OZ-LE freq 88.87': 0.00014683692144070744, 'EEG OZ-LE freq 89.84': 0.0017743109639423386, 'EEG OZ-LE freq 90.82': 0.001371043740693897, 'EEG OZ-LE freq 91.8': 0.0002959727711650836, 'EEG OZ-LE freq 92.77': 0.00012352795669128474, 'EEG OZ-LE freq 93.75': 0.00010191509794897409, 'EEG OZ-LE freq 94.73': 0.0019507203783990282, 'EEG OZ-LE freq 95.7': 0.0006195920891867363, 'EEG OZ-LE freq 96.68': 0.00016220334346146972, 'EEG OZ-LE freq 97.66': 0.00013494180365952233, 'EEG OZ-LE freq 98.63': 0.0005244783105505151, 'EEG OZ-LE freq 99.61': 0.0002938229190972044, 'EEG OZ-LE freq 100.59': 0.00014685095787905856, 'EEG OZ-LE freq 101.56': 0.001071328012614987, 'EEG OZ-LE freq 102.54': 0.0007936383495475776, 'EEG OZ-LE freq 103.52': 0.0005669163458116185, 'EEG OZ-LE freq 104.49': 0.0016390588832784238, 'EEG OZ-LE freq 105.47': 0.0013981526869283687, 'EEG OZ-LE freq 106.45': 0.00013577926191662203, 'EEG OZ-LE freq 107.42': 7.029553105134753e-05, 'EEG OZ-LE freq 108.4': 7.408675106883757e-05, 'EEG OZ-LE freq 109.38': 7.269546804284601e-05, 'EEG OZ-LE freq 110.35': 0.00012924576873033227, 'EEG OZ-LE freq 111.33': 2.6864264588462003e-05, 'EEG OZ-LE freq 112.3': 3.9042690287804886e-05, 'EEG OZ-LE freq 113.28': 7.414715524645552e-05, 'EEG OZ-LE freq 114.26': 0.0003204003304745532, 'EEG OZ-LE freq 115.23': 2.262717037647833e-05, 'EEG OZ-LE freq 116.21': 1.955843081107771e-05, 'EEG OZ-LE freq 117.19': 7.514091963133468e-05, 'EEG OZ-LE freq 118.16': 2.707515593201234e-05, 'EEG OZ-LE freq 119.14': 0.00011272863526340344, 'EEG OZ-LE freq 120.12': 7.686907719414822e-05, 'EEG OZ-LE freq 121.09': 1.4537247627035173e-05, 'EEG OZ-LE freq 122.07': 6.815809574780213e-06, 'EEG OZ-LE freq 123.05': 7.933066221096193e-06, 'EEG OZ-LE freq 124.02': 2.8548041386417868e-05, 'EEG OZ-LE freq 125.0': 3.011925234383302e-06, 'EEG EKG-LE freq 0.0': 0.00279398930855259, 'EEG EKG-LE freq 0.98': 0.08593973866637812, 'EEG EKG-LE freq 1.95': 0.04223222442504644, 'EEG EKG-LE freq 2.93': 0.056733068349727585, 'EEG EKG-LE freq 3.91': 0.031524492572990635, 'EEG EKG-LE freq 4.88': 0.013167239234276934, 'EEG EKG-LE freq 5.86': 0.018586279887067972, 'EEG EKG-LE freq 6.84': 0.038388381523734603, 'EEG EKG-LE freq 7.81': 0.05239821075422759, 'EEG EKG-LE freq 8.79': 0.05006034008401052, 'EEG EKG-LE freq 9.77': 0.04691386525913651, 'EEG EKG-LE freq 10.74': 0.04876503687553437, 'EEG EKG-LE freq 11.72': 0.05388803529445049, 'EEG EKG-LE freq 12.7': 0.05706211712056844, 'EEG EKG-LE freq 13.67': 0.057863780397099544, 'EEG EKG-LE freq 14.65': 0.053291289753352726, 'EEG EKG-LE freq 15.62': 0.045120470929646286, 'EEG EKG-LE freq 16.6': 0.03801272503705314, 'EEG EKG-LE freq 17.58': 0.033229326224190774, 'EEG EKG-LE freq 18.55': 0.029761263671989745, 'EEG EKG-LE freq 19.53': 0.02655212461148415, 'EEG EKG-LE freq 20.51': 0.02250771746737795, 'EEG EKG-LE freq 21.48': 0.017577962062732183, 'EEG EKG-LE freq 22.46': 0.013157037006950607, 'EEG EKG-LE freq 23.44': 0.009515483314652844, 'EEG EKG-LE freq 24.41': 0.0066651440063852496, 'EEG EKG-LE freq 25.39': 0.004676742705332542, 'EEG EKG-LE freq 26.37': 0.0031582518223048444, 'EEG EKG-LE freq 27.34': 0.001998453135833523, 'EEG EKG-LE freq 28.32': 0.0013062978913380415, 'EEG EKG-LE freq 29.3': 0.0009526212501266534, 'EEG EKG-LE freq 30.27': 0.0008746616328208731, 'EEG EKG-LE freq 31.25': 0.0009762116172599124, 'EEG EKG-LE freq 32.23': 0.001156041544781199, 'EEG EKG-LE freq 33.2': 0.0013785649270867235, 'EEG EKG-LE freq 34.18': 0.0016481164457273852, 'EEG EKG-LE freq 35.16': 0.0019072603041321795, 'EEG EKG-LE freq 36.13': 0.002148430452257351, 'EEG EKG-LE freq 37.11': 0.0022384823563547937, 'EEG EKG-LE freq 38.09': 0.0021297036072058643, 'EEG EKG-LE freq 39.06': 0.0019394758582940766, 'EEG EKG-LE freq 40.04': 0.001814853813976372, 'EEG EKG-LE freq 41.02': 0.001664398497597703, 'EEG EKG-LE freq 41.99': 0.0015906797371238264, 'EEG EKG-LE freq 42.97': 0.001481434033125602, 'EEG EKG-LE freq 43.95': 0.0012956272374717072, 'EEG EKG-LE freq 44.92': 0.0010562039570115366, 'EEG EKG-LE freq 45.9': 0.0008777194851581222, 'EEG EKG-LE freq 46.88': 0.0007422016245293263, 'EEG EKG-LE freq 47.85': 0.0006403849133596537, 'EEG EKG-LE freq 48.83': 0.0006023570056955296, 'EEG EKG-LE freq 49.8': 0.0005746013974575367, 'EEG EKG-LE freq 50.78': 0.0005196478214151523, 'EEG EKG-LE freq 51.76': 0.00046172891078828925, 'EEG EKG-LE freq 52.73': 0.0004202519380763185, 'EEG EKG-LE freq 53.71': 0.0003896480607184057, 'EEG EKG-LE freq 54.69': 0.0003541513051231404, 'EEG EKG-LE freq 55.66': 0.00032404442948821583, 'EEG EKG-LE freq 56.64': 0.00030487460832768175, 'EEG EKG-LE freq 57.62': 0.0002943003050201954, 'EEG EKG-LE freq 58.59': 0.0002871883836917632, 'EEG EKG-LE freq 59.57': 0.00047960323894191405, 'EEG EKG-LE freq 60.55': 0.0003487127997503637, 'EEG EKG-LE freq 61.52': 0.00020642701464112484, 'EEG EKG-LE freq 62.5': 0.00017294621356024064, 'EEG EKG-LE freq 63.48': 0.0001564346457721725, 'EEG EKG-LE freq 64.45': 0.00014499660237887694, 'EEG EKG-LE freq 65.43': 0.000140561401920078, 'EEG EKG-LE freq 66.41': 0.00014197124928274336, 'EEG EKG-LE freq 67.38': 0.00014142713912011282, 'EEG EKG-LE freq 68.36': 0.00014118388916413356, 'EEG EKG-LE freq 69.34': 0.0001360679706617329, 'EEG EKG-LE freq 70.31': 0.00013122299911276684, 'EEG EKG-LE freq 71.29': 0.00012254695415561733, 'EEG EKG-LE freq 72.27': 0.0001201305264982598, 'EEG EKG-LE freq 73.24': 0.00010992295780347329, 'EEG EKG-LE freq 74.22': 0.00010323446518802118, 'EEG EKG-LE freq 75.2': 9.272843117566432e-05, 'EEG EKG-LE freq 76.17': 7.928582086967265e-05, 'EEG EKG-LE freq 77.15': 7.178437405387535e-05, 'EEG EKG-LE freq 78.12': 6.596559645708766e-05, 'EEG EKG-LE freq 79.1': 5.538607530673461e-05, 'EEG EKG-LE freq 80.08': 4.8585902783976315e-05, 'EEG EKG-LE freq 81.05': 4.7309160112962016e-05, 'EEG EKG-LE freq 82.03': 4.01633636316221e-05, 'EEG EKG-LE freq 83.01': 3.8617147873127554e-05, 'EEG EKG-LE freq 83.98': 3.793019778959496e-05, 'EEG EKG-LE freq 84.96': 3.785331339650908e-05, 'EEG EKG-LE freq 85.94': 3.806853771543826e-05, 'EEG EKG-LE freq 86.91': 3.531284832314816e-05, 'EEG EKG-LE freq 87.89': 3.5518132921014555e-05, 'EEG EKG-LE freq 88.87': 3.3906124800127965e-05, 'EEG EKG-LE freq 89.84': 3.376717023447672e-05, 'EEG EKG-LE freq 90.82': 3.6689144929639715e-05, 'EEG EKG-LE freq 91.8': 3.1327855213543605e-05, 'EEG EKG-LE freq 92.77': 3.2186775333474655e-05, 'EEG EKG-LE freq 93.75': 2.9144021751909153e-05, 'EEG EKG-LE freq 94.73': 2.8783291625062795e-05, 'EEG EKG-LE freq 95.7': 2.5946138135278002e-05, 'EEG EKG-LE freq 96.68': 2.362239620484869e-05, 'EEG EKG-LE freq 97.66': 2.269984520467693e-05, 'EEG EKG-LE freq 98.63': 2.4839980395839138e-05, 'EEG EKG-LE freq 99.61': 2.356852948726066e-05, 'EEG EKG-LE freq 100.59': 2.2565201673010148e-05, 'EEG EKG-LE freq 101.56': 2.1096204155387832e-05, 'EEG EKG-LE freq 102.54': 1.8902912302282868e-05, 'EEG EKG-LE freq 103.52': 1.7319936939883535e-05, 'EEG EKG-LE freq 104.49': 1.7649356023621262e-05, 'EEG EKG-LE freq 105.47': 1.7002096257749785e-05, 'EEG EKG-LE freq 106.45': 1.467046150117368e-05, 'EEG EKG-LE freq 107.42': 1.2715932059355018e-05, 'EEG EKG-LE freq 108.4': 1.1319935388084363e-05, 'EEG EKG-LE freq 109.38': 1.0261070581278942e-05, 'EEG EKG-LE freq 110.35': 9.303912762115948e-06, 'EEG EKG-LE freq 111.33': 7.179712561508364e-06, 'EEG EKG-LE freq 112.3': 6.398585891302244e-06, 'EEG EKG-LE freq 113.28': 5.068168062636035e-06, 'EEG EKG-LE freq 114.26': 4.767943966556374e-06, 'EEG EKG-LE freq 115.23': 3.828393502003597e-06, 'EEG EKG-LE freq 116.21': 3.3884498188839535e-06, 'EEG EKG-LE freq 117.19': 3.3232678603382163e-06, 'EEG EKG-LE freq 118.16': 3.046314238995246e-06, 'EEG EKG-LE freq 119.14': 5.055832470488947e-06, 'EEG EKG-LE freq 120.12': 1.687442066755054e-05, 'EEG EKG-LE freq 121.09': 1.7961604754296565e-06, 'EEG EKG-LE freq 122.07': 1.4905227981542693e-06, 'EEG EKG-LE freq 123.05': 1.4720610660381468e-06, 'EEG EKG-LE freq 124.02': 1.4476689516525451e-06, 'EEG EKG-LE freq 125.0': 7.183797163296075e-07, 'EEG 30-LE freq 0.0': 0.008963334932865523, 'EEG 30-LE freq 0.98': 0.7733835476066738, 'EEG 30-LE freq 1.95': 0.12774110005564163, 'EEG 30-LE freq 2.93': 0.04210109347234209, 'EEG 30-LE freq 3.91': 0.015306896421745368, 'EEG 30-LE freq 4.88': 0.007962326749852802, 'EEG 30-LE freq 5.86': 0.0052953625459357, 'EEG 30-LE freq 6.84': 0.004127947128488546, 'EEG 30-LE freq 7.81': 0.003260408077464073, 'EEG 30-LE freq 8.79': 0.0014789910438208907, 'EEG 30-LE freq 9.77': 0.0011755584403415427, 'EEG 30-LE freq 10.74': 0.0010383137939895884, 'EEG 30-LE freq 11.72': 0.000829051562010624, 'EEG 30-LE freq 12.7': 0.0006112079819182323, 'EEG 30-LE freq 13.67': 0.0005216713100919811, 'EEG 30-LE freq 14.65': 0.0005200385549453406, 'EEG 30-LE freq 15.62': 0.00047885960615660916, 'EEG 30-LE freq 16.6': 0.0003678107495063886, 'EEG 30-LE freq 17.58': 0.00034622906957840324, 'EEG 30-LE freq 18.55': 0.0003239363312090086, 'EEG 30-LE freq 19.53': 0.00029385338769138296, 'EEG 30-LE freq 20.51': 0.000264822612298596, 'EEG 30-LE freq 21.48': 0.00023272108177495781, 'EEG 30-LE freq 22.46': 0.0002119436799022933, 'EEG 30-LE freq 23.44': 0.0001977133633026272, 'EEG 30-LE freq 24.41': 0.00016413021312667054, 'EEG 30-LE freq 25.39': 0.00014167885495666648, 'EEG 30-LE freq 26.37': 0.0001329135856509584, 'EEG 30-LE freq 27.34': 0.00012298420408541873, 'EEG 30-LE freq 28.32': 0.00010554167552502299, 'EEG 30-LE freq 29.3': 9.539988530175737e-05, 'EEG 30-LE freq 30.27': 8.843373167348349e-05, 'EEG 30-LE freq 31.25': 8.199597379157566e-05, 'EEG 30-LE freq 32.23': 7.506543417469842e-05, 'EEG 30-LE freq 33.2': 6.989882779340771e-05, 'EEG 30-LE freq 34.18': 6.775559687100941e-05, 'EEG 30-LE freq 35.16': 6.340546919763216e-05, 'EEG 30-LE freq 36.13': 5.888316122818817e-05, 'EEG 30-LE freq 37.11': 5.522044734183419e-05, 'EEG 30-LE freq 38.09': 5.5259241204172616e-05, 'EEG 30-LE freq 39.06': 5.541904354082633e-05, 'EEG 30-LE freq 40.04': 4.984664041801623e-05, 'EEG 30-LE freq 41.02': 4.570024010720804e-05, 'EEG 30-LE freq 41.99': 4.591472169731244e-05, 'EEG 30-LE freq 42.97': 4.2632138566156495e-05, 'EEG 30-LE freq 43.95': 4.0444894770717345e-05, 'EEG 30-LE freq 44.92': 3.9619528600578966e-05, 'EEG 30-LE freq 45.9': 3.7095069179290175e-05, 'EEG 30-LE freq 46.88': 3.618611663225731e-05, 'EEG 30-LE freq 47.85': 3.524356821745387e-05, 'EEG 30-LE freq 48.83': 3.5181679255694044e-05, 'EEG 30-LE freq 49.8': 3.471129863046278e-05, 'EEG 30-LE freq 50.78': 3.585116848293862e-05, 'EEG 30-LE freq 51.76': 3.415582487867342e-05, 'EEG 30-LE freq 52.73': 3.350857741264829e-05, 'EEG 30-LE freq 53.71': 3.4743472367479105e-05, 'EEG 30-LE freq 54.69': 3.6101228054146225e-05, 'EEG 30-LE freq 55.66': 3.4349540815417635e-05, 'EEG 30-LE freq 56.64': 3.5881134604901394e-05, 'EEG 30-LE freq 57.62': 4.0549306182684235e-05, 'EEG 30-LE freq 58.59': 3.760601293986629e-05, 'EEG 30-LE freq 59.57': 3.912266728179762e-05, 'EEG 30-LE freq 60.55': 3.67824361660428e-05, 'EEG 30-LE freq 61.52': 3.346449522562682e-05, 'EEG 30-LE freq 62.5': 3.5338718862071675e-05, 'EEG 30-LE freq 63.48': 2.9651269377140136e-05, 'EEG 30-LE freq 64.45': 2.5654736206771583e-05, 'EEG 30-LE freq 65.43': 2.449501773753601e-05, 'EEG 30-LE freq 66.41': 2.2747289858200824e-05, 'EEG 30-LE freq 67.38': 2.190657111000542e-05, 'EEG 30-LE freq 68.36': 2.0777808056889973e-05, 'EEG 30-LE freq 69.34': 1.906407404301181e-05, 'EEG 30-LE freq 70.31': 1.793874306020734e-05, 'EEG 30-LE freq 71.29': 1.7211596710878966e-05, 'EEG 30-LE freq 72.27': 1.6594368795417206e-05, 'EEG 30-LE freq 73.24': 1.5140106492493046e-05, 'EEG 30-LE freq 74.22': 1.4707960139844304e-05, 'EEG 30-LE freq 75.2': 1.4934057948511014e-05, 'EEG 30-LE freq 76.17': 1.4656591395908099e-05, 'EEG 30-LE freq 77.15': 1.281779240062921e-05, 'EEG 30-LE freq 78.12': 1.2365462262232705e-05, 'EEG 30-LE freq 79.1': 1.1408987848885337e-05, 'EEG 30-LE freq 80.08': 1.1617599014905646e-05, 'EEG 30-LE freq 81.05': 1.1243471655444338e-05, 'EEG 30-LE freq 82.03': 1.0843712801528295e-05, 'EEG 30-LE freq 83.01': 1.0985687203482566e-05, 'EEG 30-LE freq 83.98': 1.2132805014942224e-05, 'EEG 30-LE freq 84.96': 1.1923296969462284e-05, 'EEG 30-LE freq 85.94': 1.0461154697359295e-05, 'EEG 30-LE freq 86.91': 1.045637311715712e-05, 'EEG 30-LE freq 87.89': 1.0738072983160752e-05, 'EEG 30-LE freq 88.87': 1.0124577604548246e-05, 'EEG 30-LE freq 89.84': 1.044552780104852e-05, 'EEG 30-LE freq 90.82': 1.0393647538519568e-05, 'EEG 30-LE freq 91.8': 9.406911891181993e-06, 'EEG 30-LE freq 92.77': 9.180860892663413e-06, 'EEG 30-LE freq 93.75': 9.1748173136177e-06, 'EEG 30-LE freq 94.73': 9.884064145517659e-06, 'EEG 30-LE freq 95.7': 9.2255192941479e-06, 'EEG 30-LE freq 96.68': 8.999085648044214e-06, 'EEG 30-LE freq 97.66': 8.976792687835377e-06, 'EEG 30-LE freq 98.63': 9.061492517412549e-06, 'EEG 30-LE freq 99.61': 8.97071107348003e-06, 'EEG 30-LE freq 100.59': 8.39420303150266e-06, 'EEG 30-LE freq 101.56': 8.847517263671949e-06, 'EEG 30-LE freq 102.54': 8.266195610997664e-06, 'EEG 30-LE freq 103.52': 7.66519146193651e-06, 'EEG 30-LE freq 104.49': 8.052615966172859e-06, 'EEG 30-LE freq 105.47': 7.126874342584509e-06, 'EEG 30-LE freq 106.45': 5.93204133139047e-06, 'EEG 30-LE freq 107.42': 5.318124039058631e-06, 'EEG 30-LE freq 108.4': 4.792804567291453e-06, 'EEG 30-LE freq 109.38': 4.416230191743097e-06, 'EEG 30-LE freq 110.35': 3.845591950501308e-06, 'EEG 30-LE freq 111.33': 3.2343468501116555e-06, 'EEG 30-LE freq 112.3': 2.631939716122103e-06, 'EEG 30-LE freq 113.28': 2.3876664721133495e-06, 'EEG 30-LE freq 114.26': 2.1924094858520406e-06, 'EEG 30-LE freq 115.23': 1.6867667249496341e-06, 'EEG 30-LE freq 116.21': 1.4512459982638785e-06, 'EEG 30-LE freq 117.19': 1.373626085171884e-06, 'EEG 30-LE freq 118.16': 1.1340633761326712e-06, 'EEG 30-LE freq 119.14': 1.1187255103707315e-06, 'EEG 30-LE freq 120.12': 1.0445942547838801e-06, 'EEG 30-LE freq 121.09': 9.311046703370509e-07, 'EEG 30-LE freq 122.07': 8.748609386019625e-07, 'EEG 30-LE freq 123.05': 8.596762271415203e-07, 'EEG 30-LE freq 124.02': 9.011018874468247e-07, 'EEG 30-LE freq 125.0': 4.464823749647217e-07, 'label': 'epilepsy'}\n",
            "   EEG FP1-LE Delta  EEG FP1-LE Theta  ...  EEG 30-LE freq 125.0     label\n",
            "0          0.621788          0.198607  ...          4.464824e-07  epilepsy\n",
            "\n",
            "[1 rows x 3289 columns]\n"
          ],
          "name": "stdout"
        }
      ]
    },
    {
      "cell_type": "code",
      "metadata": {
        "id": "tlGpJ4mjCusx",
        "outputId": "220c0e0a-cfe5-4361-dc59-a4c103cebe5c",
        "colab": {
          "base_uri": "https://localhost:8080/",
          "height": 1000
        }
      },
      "source": [
        "from sklearn.model_selection import train_test_split\n",
        "import pandas as pd\n",
        "\n",
        "datas = []\n",
        "patient_no = 0\n",
        "print('EPILEPSY')\n",
        "for raw in epraws:\n",
        "  print('-------------------------------------------------------')\n",
        "  print(patient_no)\n",
        "  raw.pick_channels(picks)\n",
        "  print('psd plot')\n",
        "  raw.plot_psd()\n",
        "  print('raw plot')\n",
        "  raw.plot()\n",
        "  data = dict()\n",
        "\n",
        "  bp = yasa.bandpower(raw)\n",
        "  bp = bp.drop(['Relative'], axis=1)\n",
        "  for row in bp.index:\n",
        "    for col in bp.columns:\n",
        "      data[row+' '+col] = bp[col][row]\n",
        "  chidc = raw.ch_names\n",
        "  psds, freqs = psd_welch(raw)\n",
        "  psds /= np.sum(psds, axis=-1, keepdims=True)\n",
        "  for chidx, chidx_name in enumerate(chidc):\n",
        "    for fridx, freq in enumerate(freqs):\n",
        "      data[chidx_name +' freq '+ str(round(freq,2))] = psds[chidx][fridx]\n",
        "  data['label'] = 'epilepsy'\n",
        "  print('psd')\n",
        "  print(psds)\n",
        "  print('freq')\n",
        "  print(freqs)\n",
        "  print('bandpower')\n",
        "  print(bp)\n",
        "  df_data = pd.DataFrame(data, index = [patient_no])\n",
        "  patient_no += 1\n",
        "  if len(datas) == 0:\n",
        "    datas = df_data\n",
        "  else:\n",
        "    datas = pd.concat([datas, df_data])\n",
        "\n",
        "print('NO EPILEPSY')\n",
        "for raw in noepraws:\n",
        "  print('-------------------------------------------------------')\n",
        "  raw.pick_channels(picks)\n",
        "  print('psd plot')\n",
        "  raw.plot_psd()\n",
        "  print('raw plot')\n",
        "  raw.plot()\n",
        "  data = dict()\n",
        "\n",
        "  bp = yasa.bandpower(raw)\n",
        "  bp = bp.drop(['Relative'], axis=1)\n",
        "  for row in bp.index:\n",
        "    for col in bp.columns:\n",
        "      data[row+' '+col] = bp[col][row]\n",
        "  chidc = raw.ch_names\n",
        "  psds, freqs = psd_welch(raw)\n",
        "  psds /= np.sum(psds, axis=-1, keepdims=True)\n",
        "  for chidx, chidx_name in enumerate(chidc):\n",
        "    for fridx, freq in enumerate(freqs):\n",
        "      data[chidx_name +' freq '+ str(round(freq,2))] = psds[chidx][fridx]\n",
        "  data['label'] = 'no epilepsy'\n",
        "  \n",
        "  print('psd')\n",
        "  print(psds)\n",
        "  print('freq')\n",
        "  print(freqs)\n",
        "  print('bandpower')\n",
        "  print(bp)\n",
        "  df_data = pd.DataFrame(data, index = [patient_no])\n",
        "  patient_no += 1\n",
        "  datas = pd.concat([datas, df_data])\n",
        "print(datas)"
      ],
      "execution_count": null,
      "outputs": []
    },
    {
      "cell_type": "markdown",
      "metadata": {
        "id": "v75Dh4Uh2mCZ"
      },
      "source": [
        "PSD (flatten) + Bandpower(flatten) + Label\n",
        "###Example\n",
        "channel = 24\n",
        "- Bandpower flatten = 8 * 24 = 192\n",
        "- PSD flatten = 24 * 129 = 3,096\n",
        "- label = 1\n",
        "- data : 192 + 3,096 + 1 = 3,288 + 1 columns"
      ]
    },
    {
      "cell_type": "markdown",
      "metadata": {
        "id": "UKu7jCKeSoKz"
      },
      "source": [
        "# Prepare Train and Test Data and Label"
      ]
    },
    {
      "cell_type": "code",
      "metadata": {
        "id": "kNsvSLL4K6ux",
        "outputId": "35d4a339-374c-4cc9-d233-bd307b75be27",
        "colab": {
          "base_uri": "https://localhost:8080/",
          "height": 593
        }
      },
      "source": [
        "from sklearn.preprocessing import LabelEncoder\n",
        "from sklearn.impute import SimpleImputer\n",
        "from sklearn.metrics import accuracy_score\n",
        "from sklearn.model_selection import cross_validate\n",
        "\n",
        "X = datas.drop(['label'], axis=1)\n",
        "print(X)\n",
        "\n",
        "imp = SimpleImputer(missing_values=np.nan, strategy = 'constant', fill_value = 0)\n",
        "imp = imp.fit(X)\n",
        "\n",
        "X = imp.transform(X)\n",
        "\n",
        "y = datas['label']\n",
        "class_le = LabelEncoder()\n",
        "class_le.fit(['epilepsy', 'no epilepsy'])\n",
        "print(class_le.classes_)\n",
        "y = class_le.transform(y)\n",
        "\n",
        "scoring = ['accuracy', 'recall', 'precision', 'f1']\n",
        "\n",
        "max_estimator_dict = dict()\n",
        "mean_dict = dict()\n",
        "max_dict = dict()\n",
        "\n",
        "print(X)\n",
        "print(y)\n"
      ],
      "execution_count": null,
      "outputs": [
        {
          "output_type": "stream",
          "text": [
            "     EEG FP1-LE Delta  ...  EEG 30-LE freq 125.0\n",
            "0            0.621788  ...          4.464824e-07\n",
            "1            0.649229  ...          3.284036e-06\n",
            "2            0.648733  ...          2.411022e-07\n",
            "3            0.608450  ...          2.550734e-05\n",
            "4            0.393763  ...          2.161948e-06\n",
            "..                ...  ...                   ...\n",
            "126          0.937464  ...          1.140082e-06\n",
            "127          0.975566  ...          5.417999e-08\n",
            "128          0.206481  ...          2.042572e-07\n",
            "129          0.960478  ...          1.686899e-06\n",
            "130          0.842962  ...          6.151889e-07\n",
            "\n",
            "[131 rows x 3288 columns]\n",
            "['epilepsy' 'no epilepsy']\n",
            "[[6.21787507e-01 1.98607106e-01 1.26483421e-01 ... 8.59676227e-07\n",
            "  9.01101887e-07 4.46482375e-07]\n",
            " [6.49229150e-01 1.83747324e-01 1.08898511e-01 ... 6.38964016e-06\n",
            "  6.44612529e-06 3.28403592e-06]\n",
            " [6.48732517e-01 1.79749032e-01 1.08575572e-01 ... 3.07717806e-07\n",
            "  8.01407815e-07 2.41102176e-07]\n",
            " ...\n",
            " [2.06480996e-01 5.43026808e-02 2.14094355e-01 ... 4.07391218e-07\n",
            "  6.55093703e-07 2.04257164e-07]\n",
            " [9.60477999e-01 1.96960333e-02 8.30150873e-03 ... 1.54364188e-05\n",
            "  5.15668208e-06 1.68689931e-06]\n",
            " [8.42962484e-01 2.39248895e-02 1.33171890e-02 ... 1.28255152e-06\n",
            "  1.24280586e-06 6.15188869e-07]]\n",
            "[0 0 0 0 0 0 0 0 0 0 0 0 0 0 0 0 0 0 0 0 0 0 0 0 0 0 0 0 0 0 0 0 0 0 0 0 0\n",
            " 0 0 0 0 0 0 0 0 0 0 0 0 0 0 0 0 0 0 0 0 0 0 0 0 0 0 0 0 0 0 0 0 0 0 0 0 0\n",
            " 0 0 0 0 0 0 0 0 0 0 0 0 0 0 0 0 0 0 0 0 0 0 0 1 1 1 1 1 1 1 1 1 1 1 1 1 1\n",
            " 1 1 1 1 1 1 1 1 1 1 1 1 1 1 1 1 1 1 1 1]\n"
          ],
          "name": "stdout"
        }
      ]
    },
    {
      "cell_type": "markdown",
      "metadata": {
        "id": "VopQ57f5S2Xe"
      },
      "source": [
        "# Model Learning\n"
      ]
    },
    {
      "cell_type": "markdown",
      "metadata": {
        "id": "y5F2yKT7S5_H"
      },
      "source": [
        "### Logistic Regression"
      ]
    },
    {
      "cell_type": "code",
      "metadata": {
        "id": "oqeGXBZGBk26"
      },
      "source": [
        "from sklearn.linear_model import LogisticRegression\n",
        "logistic_reg_pipe = Pipeline([('scaler',StandardScaler()), ('clf', LogisticRegression(multi_class='auto', solver = 'liblinear', random_state = 42))])\n",
        "logistic_reg_pipe.fit(X, y)\n",
        "scores = cross_validate(logistic_reg_pipe, X, y, scoring = scoring, cv = 3, return_estimator = True)\n",
        "\n",
        "max_estimator_dict['logistic regression'] = scores['estimator'][scores['test_accuracy'].argmax()]\n",
        "mean_dict['logistic regression'] = [scores['test_accuracy'].mean(), scores['test_recall'].mean(), scores['test_precision'].mean(), scores['test_f1'].mean()]\n",
        "max_dict['logistic regression'] = [scores['test_accuracy'].max(), scores['test_recall'].max(), scores['test_precision'].max(), scores['test_f1'].max()]"
      ],
      "execution_count": null,
      "outputs": []
    },
    {
      "cell_type": "markdown",
      "metadata": {
        "id": "6z777c14S8an"
      },
      "source": [
        "### Ridge Classifier"
      ]
    },
    {
      "cell_type": "code",
      "metadata": {
        "id": "jb_Du1jhGPh9"
      },
      "source": [
        "from sklearn.linear_model import RidgeClassifier\n",
        "ridge_reg_pipe = Pipeline([('scaler',StandardScaler()), ('clf', RidgeClassifier(random_state = 42))])\n",
        "ridge_reg_pipe.fit(X, y)\n",
        "scores = cross_validate(ridge_reg_pipe, X, y, scoring = scoring, cv = 3, return_estimator = True)\n",
        "\n",
        "max_estimator_dict['ridge regression'] = scores['estimator'][scores['test_accuracy'].argmax()]\n",
        "mean_dict['ridge regression'] = [scores['test_accuracy'].mean(), scores['test_recall'].mean(), scores['test_precision'].mean(), scores['test_f1'].mean()]\n",
        "max_dict['ridge regression'] = [scores['test_accuracy'].max(), scores['test_recall'].max(), scores['test_precision'].max(), scores['test_f1'].max()]"
      ],
      "execution_count": null,
      "outputs": []
    },
    {
      "cell_type": "markdown",
      "metadata": {
        "id": "2aTLdOkHTBJm"
      },
      "source": [
        "### Support Vector Classifier"
      ]
    },
    {
      "cell_type": "code",
      "metadata": {
        "id": "7uLxDYLiGoko",
        "outputId": "8ca671f6-f57f-4655-facd-f3a3b52a9b50",
        "colab": {
          "base_uri": "https://localhost:8080/",
          "height": 73
        }
      },
      "source": [
        "from sklearn.svm import SVC\n",
        "svm_pipe = Pipeline([('scaler',StandardScaler()), ('clf', SVC(random_state = 42))])\n",
        "svm_pipe.fit(X, y)\n",
        "scores = cross_validate(svm_pipe, X, y, scoring = scoring, cv = 3, return_estimator = True)\n",
        "\n",
        "max_estimator_dict['SVC'] = scores['estimator'][scores['test_accuracy'].argmax()]\n",
        "mean_dict['SVC'] = [scores['test_accuracy'].mean(), scores['test_recall'].mean(), scores['test_precision'].mean(), scores['test_f1'].mean()]\n",
        "max_dict['SVC'] = [scores['test_accuracy'].max(), scores['test_recall'].max(), scores['test_precision'].max(), scores['test_f1'].max()]"
      ],
      "execution_count": null,
      "outputs": [
        {
          "output_type": "stream",
          "text": [
            "/usr/local/lib/python3.6/dist-packages/sklearn/metrics/_classification.py:1272: UndefinedMetricWarning: Precision is ill-defined and being set to 0.0 due to no predicted samples. Use `zero_division` parameter to control this behavior.\n",
            "  _warn_prf(average, modifier, msg_start, len(result))\n"
          ],
          "name": "stderr"
        }
      ]
    },
    {
      "cell_type": "markdown",
      "metadata": {
        "id": "p_KHVF1WTGip"
      },
      "source": [
        "### Linear Support Vector Classifier"
      ]
    },
    {
      "cell_type": "code",
      "metadata": {
        "id": "mQfqtMvzHAzH"
      },
      "source": [
        "from sklearn.svm import LinearSVC\n",
        "linear_svm_pipe = Pipeline([('scaler',StandardScaler()), ('clf', LinearSVC(multi_class='crammer_singer', max_iter=10000, random_state = 42))])\n",
        "linear_svm_pipe.fit(X, y)\n",
        "scores = cross_validate(linear_svm_pipe, X, y, scoring = scoring, cv = 3, return_estimator = True)\n",
        "\n",
        "max_estimator_dict['Linear SVC'] = scores['estimator'][scores['test_accuracy'].argmax()]\n",
        "mean_dict['Linear SVC'] = [scores['test_accuracy'].mean(), scores['test_recall'].mean(), scores['test_precision'].mean(), scores['test_f1'].mean()]\n",
        "max_dict['Linear SVC'] = [scores['test_accuracy'].max(), scores['test_recall'].max(), scores['test_precision'].max(), scores['test_f1'].max()]"
      ],
      "execution_count": null,
      "outputs": []
    },
    {
      "cell_type": "markdown",
      "metadata": {
        "id": "saU7GCjwTKR7"
      },
      "source": [
        "### Random Forest"
      ]
    },
    {
      "cell_type": "code",
      "metadata": {
        "id": "p7F-rzDa868U"
      },
      "source": [
        "from sklearn.ensemble import RandomForestClassifier\n",
        "random_forest_pipe = Pipeline([('scaler',StandardScaler()), ('clf', RandomForestClassifier(random_state = 42))])\n",
        "random_forest_pipe.fit(X, y)\n",
        "scores = cross_validate(random_forest_pipe, X, y, scoring = scoring, cv = 3, return_estimator = True)\n",
        "\n",
        "max_estimator_dict['random forest'] = scores['estimator'][scores['test_accuracy'].argmax()]\n",
        "mean_dict['random forest'] = [scores['test_accuracy'].mean(), scores['test_recall'].mean(), scores['test_precision'].mean(), scores['test_f1'].mean()]\n",
        "max_dict['random forest'] = [scores['test_accuracy'].max(), scores['test_recall'].max(), scores['test_precision'].max(), scores['test_f1'].max()]"
      ],
      "execution_count": null,
      "outputs": []
    },
    {
      "cell_type": "markdown",
      "metadata": {
        "id": "1BlTs5JsTMUK"
      },
      "source": [
        "Bernoulli Naive Bayes"
      ]
    },
    {
      "cell_type": "code",
      "metadata": {
        "id": "zH1at7BRHtA2"
      },
      "source": [
        "from sklearn.naive_bayes import BernoulliNB\n",
        "bernoulli_nb_pipe = Pipeline([('scaler',StandardScaler()), ('clf', BernoulliNB())])\n",
        "bernoulli_nb_pipe.fit(X, y)\n",
        "scores = cross_validate(bernoulli_nb_pipe, X, y, scoring = scoring, cv = 3, return_estimator = True)\n",
        "\n",
        "max_estimator_dict['bernoulli NB'] = scores['estimator'][scores['test_accuracy'].argmax()]\n",
        "mean_dict['bernoulli NB'] = [scores['test_accuracy'].mean(), scores['test_recall'].mean(), scores['test_precision'].mean(), scores['test_f1'].mean()]\n",
        "max_dict['bernoulli NB'] = [scores['test_accuracy'].max(), scores['test_recall'].max(), scores['test_precision'].max(), scores['test_f1'].max()]"
      ],
      "execution_count": null,
      "outputs": []
    },
    {
      "cell_type": "markdown",
      "metadata": {
        "id": "JpUaK8FjTPmi"
      },
      "source": [
        "### Gaussian Naive Bayes"
      ]
    },
    {
      "cell_type": "code",
      "metadata": {
        "id": "yZ7qaBY0IJMv"
      },
      "source": [
        "from sklearn.naive_bayes import GaussianNB\n",
        "gaussian_nb_pipe = Pipeline([('scaler',StandardScaler()), ('clf', GaussianNB())])\n",
        "gaussian_nb_pipe.fit(X, y)\n",
        "scores = cross_validate(gaussian_nb_pipe, X, y, scoring = scoring, cv = 3, return_estimator = True)\n",
        "\n",
        "max_estimator_dict['gaussian NB'] = scores['estimator'][scores['test_accuracy'].argmax()]\n",
        "mean_dict['gaussian NB'] = [scores['test_accuracy'].mean(), scores['test_recall'].mean(), scores['test_precision'].mean(), scores['test_f1'].mean()]\n",
        "max_dict['gaussian NB'] = [scores['test_accuracy'].max(), scores['test_recall'].max(), scores['test_precision'].max(), scores['test_f1'].max()]"
      ],
      "execution_count": null,
      "outputs": []
    },
    {
      "cell_type": "markdown",
      "metadata": {
        "id": "1lYbwVW7TR0X"
      },
      "source": [
        "### Decision Tree"
      ]
    },
    {
      "cell_type": "code",
      "metadata": {
        "id": "fkJ0DfUA9DKM"
      },
      "source": [
        "from sklearn.tree import DecisionTreeClassifier\n",
        "decision_tree_pipe = Pipeline([('scaler',StandardScaler()), ('clf', DecisionTreeClassifier(random_state = 42))])\n",
        "decision_tree_pipe.fit(X, y)\n",
        "scores = cross_validate(decision_tree_pipe, X, y, scoring = scoring, cv = 3, return_estimator = True)\n",
        "\n",
        "max_estimator_dict['decision tree'] = scores['estimator'][scores['test_accuracy'].argmax()]\n",
        "mean_dict['decision tree'] = [scores['test_accuracy'].mean(), scores['test_recall'].mean(), scores['test_precision'].mean(), scores['test_f1'].mean()]\n",
        "max_dict['decision tree'] = [scores['test_accuracy'].max(), scores['test_recall'].max(), scores['test_precision'].max(), scores['test_f1'].max()]"
      ],
      "execution_count": null,
      "outputs": []
    },
    {
      "cell_type": "markdown",
      "metadata": {
        "id": "iBEZjnOATTmt"
      },
      "source": [
        "### Extra Tree"
      ]
    },
    {
      "cell_type": "code",
      "metadata": {
        "id": "dqStDz_GIzHa"
      },
      "source": [
        "from sklearn.tree import ExtraTreeClassifier\n",
        "extra_tree_pipe = Pipeline([('scaler',StandardScaler()), ('clf', ExtraTreeClassifier(random_state = 42))])\n",
        "extra_tree_pipe.fit(X, y)\n",
        "scores = cross_validate(extra_tree_pipe, X, y, scoring = scoring, cv = 3, return_estimator = True)\n",
        "\n",
        "max_estimator_dict['extra tree'] = scores['estimator'][scores['test_accuracy'].argmax()]\n",
        "mean_dict['extra tree'] = [scores['test_accuracy'].mean(), scores['test_recall'].mean(), scores['test_precision'].mean(), scores['test_f1'].mean()]\n",
        "max_dict['extra tree'] = [scores['test_accuracy'].max(), scores['test_recall'].max(), scores['test_precision'].max(), scores['test_f1'].max()]"
      ],
      "execution_count": null,
      "outputs": []
    },
    {
      "cell_type": "markdown",
      "metadata": {
        "id": "iQVVXjSKTVNh"
      },
      "source": [
        "### K Neighbors Classifier"
      ]
    },
    {
      "cell_type": "code",
      "metadata": {
        "id": "kqJhxd5WJF5M"
      },
      "source": [
        "from sklearn.neighbors import KNeighborsClassifier\n",
        "kneighbors_pipe = Pipeline([('scaler',StandardScaler()), ('clf', KNeighborsClassifier(n_neighbors=5))])\n",
        "kneighbors_pipe.fit(X, y)\n",
        "scores = cross_validate(kneighbors_pipe, X, y, scoring = scoring, cv = 3, return_estimator = True)\n",
        "\n",
        "max_estimator_dict['k neighbors'] = scores['estimator'][scores['test_accuracy'].argmax()]\n",
        "mean_dict['k neighbors'] = [scores['test_accuracy'].mean(), scores['test_recall'].mean(), scores['test_precision'].mean(), scores['test_f1'].mean()]\n",
        "max_dict['k neighbors'] = [scores['test_accuracy'].max(), scores['test_recall'].max(), scores['test_precision'].max(), scores['test_f1'].max()]"
      ],
      "execution_count": null,
      "outputs": []
    },
    {
      "cell_type": "markdown",
      "metadata": {
        "id": "KB1WFWCBTYDx"
      },
      "source": [
        "### Nearest Centroid"
      ]
    },
    {
      "cell_type": "code",
      "metadata": {
        "id": "WJ8dQW1JJhZV"
      },
      "source": [
        "from sklearn.neighbors import NearestCentroid\n",
        "nearest_centroid_pipe = Pipeline([('scaler',StandardScaler()), ('clf', NearestCentroid())])\n",
        "nearest_centroid_pipe.fit(X, y)\n",
        "scores = cross_validate(nearest_centroid_pipe, X, y, scoring = scoring, cv = 3, return_estimator = True)\n",
        "\n",
        "max_estimator_dict['nearest centroid'] = scores['estimator'][scores['test_accuracy'].argmax()]\n",
        "mean_dict['nearest centroid'] = [scores['test_accuracy'].mean(), scores['test_recall'].mean(), scores['test_precision'].mean(), scores['test_f1'].mean()]\n",
        "max_dict['nearest centroid'] = [scores['test_accuracy'].max(), scores['test_recall'].max(), scores['test_precision'].max(), scores['test_f1'].max()]"
      ],
      "execution_count": null,
      "outputs": []
    },
    {
      "cell_type": "markdown",
      "metadata": {
        "id": "CBHYe9RfTZ87"
      },
      "source": [
        "### Multi-Layer Perceptron Classifier"
      ]
    },
    {
      "cell_type": "code",
      "metadata": {
        "id": "OpLo_xJt9F0m"
      },
      "source": [
        "from sklearn.neural_network import MLPClassifier\n",
        "mlp_pipe = Pipeline([('scaler',StandardScaler()), ('clf', MLPClassifier(random_state = 42))])\n",
        "mlp_pipe.fit(X, y)\n",
        "scores = cross_validate(mlp_pipe, X, y, scoring = scoring, cv = 3, return_estimator = True)\n",
        "\n",
        "max_estimator_dict['mlp'] = scores['estimator'][scores['test_accuracy'].argmax()]\n",
        "mean_dict['mlp'] = [scores['test_accuracy'].mean(), scores['test_recall'].mean(), scores['test_precision'].mean(), scores['test_f1'].mean()]\n",
        "max_dict['mlp'] = [scores['test_accuracy'].max(), scores['test_recall'].max(), scores['test_precision'].max(), scores['test_f1'].max()]"
      ],
      "execution_count": null,
      "outputs": []
    },
    {
      "cell_type": "markdown",
      "metadata": {
        "id": "slq_hHmwTlqN"
      },
      "source": [
        "## Mean Accuracy Rank"
      ]
    },
    {
      "cell_type": "code",
      "metadata": {
        "id": "6AyEqNlPkS87",
        "outputId": "8dd64299-bfa9-431e-cb9a-e4ceb3c4996e",
        "colab": {
          "base_uri": "https://localhost:8080/",
          "height": 199
        }
      },
      "source": [
        "mean_accuracy = [(x, round(mean_dict[x][0], 5)) for x in mean_dict.keys()]\n",
        "mean_accuracy.sort(key = lambda x:x[1], reverse=True)\n",
        "plt.figure(figsize=(18,3))\n",
        "plt.ylim(0.5,0.9)\n",
        "plt.bar(*zip(*mean_accuracy))\n",
        "for x, y in mean_accuracy:\n",
        "  plt.text(x, y, str(y)+'\\n', horizontalalignment='center')\n",
        "plt.xlabel(\"model\")\n",
        "plt.ylabel(\"accuracy\")\n",
        "plt.title(\"Model Accuracy\")\n",
        "plt.show()"
      ],
      "execution_count": null,
      "outputs": [
        {
          "output_type": "display_data",
          "data": {
            "image/png": "[encoded data removed]",
            "text/plain": [
              "<Figure size 1296x216 with 1 Axes>"
            ]
          },
          "metadata": {
            "tags": [],
            "needs_background": "light"
          }
        }
      ]
    },
    {
      "cell_type": "markdown",
      "metadata": {
        "id": "SI76Sb55TrVr"
      },
      "source": [
        "## Mean Recall Rank"
      ]
    },
    {
      "cell_type": "code",
      "metadata": {
        "id": "BhspyC-SqBcf",
        "outputId": "e9ad4f74-0ce7-4cae-d30e-9fad131eda91",
        "colab": {
          "base_uri": "https://localhost:8080/",
          "height": 199
        }
      },
      "source": [
        "mean_recall = [(x, round(mean_dict[x][1], 5)) for x in mean_dict.keys()]\n",
        "mean_recall.sort(key = lambda x:x[1], reverse=True)\n",
        "plt.figure(figsize=(18,3))\n",
        "plt.ylim(0.0,0.7)\n",
        "plt.bar(*zip(*mean_recall))\n",
        "for x, y in mean_recall:\n",
        "  plt.text(x, y, str(y)+'\\n', horizontalalignment='center')\n",
        "plt.xlabel(\"model\")\n",
        "plt.ylabel(\"recall\")\n",
        "plt.title(\"Model Recall\")\n",
        "plt.show()"
      ],
      "execution_count": null,
      "outputs": [
        {
          "output_type": "display_data",
          "data": {
            "image/png": "[encoded data removed]",
            "text/plain": [
              "<Figure size 1296x216 with 1 Axes>"
            ]
          },
          "metadata": {
            "tags": [],
            "needs_background": "light"
          }
        }
      ]
    },
    {
      "cell_type": "markdown",
      "metadata": {
        "id": "6Kw-AZqGTqKw"
      },
      "source": [
        "## Mean Precision Rank"
      ]
    },
    {
      "cell_type": "code",
      "metadata": {
        "id": "Ro78JEXfPq88",
        "outputId": "8165515d-9a6c-4309-da6e-989acd7f4230",
        "colab": {
          "base_uri": "https://localhost:8080/",
          "height": 199
        }
      },
      "source": [
        "mean_precision = [(x, round(mean_dict[x][2], 5)) for x in mean_dict.keys()]\n",
        "mean_precision.sort(key = lambda x:x[1], reverse=True)\n",
        "plt.figure(figsize=(18,3))\n",
        "plt.ylim(0.1,0.8)\n",
        "plt.bar(*zip(*mean_precision))\n",
        "for x, y in mean_precision:\n",
        "  plt.text(x, y, str(y)+'\\n', horizontalalignment='center')\n",
        "plt.xlabel(\"model\")\n",
        "plt.ylabel(\"precision\")\n",
        "plt.title(\"Model Precision\")\n",
        "plt.show()"
      ],
      "execution_count": null,
      "outputs": [
        {
          "output_type": "display_data",
          "data": {
            "image/png": "[encoded data removed]",
            "text/plain": [
              "<Figure size 1296x216 with 1 Axes>"
            ]
          },
          "metadata": {
            "tags": [],
            "needs_background": "light"
          }
        }
      ]
    },
    {
      "cell_type": "markdown",
      "metadata": {
        "id": "INOf_l-kTwWa"
      },
      "source": [
        "## Mean F1 Rank"
      ]
    },
    {
      "cell_type": "code",
      "metadata": {
        "id": "OMZq6sFXP7-X",
        "outputId": "ca84841a-c7a0-444f-c94c-b753f13e53de",
        "colab": {
          "base_uri": "https://localhost:8080/",
          "height": 199
        }
      },
      "source": [
        "mean_f1 = [(x, round(mean_dict[x][3], 5)) for x in mean_dict.keys()]\n",
        "mean_f1.sort(key = lambda x:x[1], reverse=True)\n",
        "plt.figure(figsize=(18,3))\n",
        "plt.ylim(0.1,0.8)\n",
        "plt.bar(*zip(*mean_f1))\n",
        "for x, y in mean_f1:\n",
        "  plt.text(x, y, str(y)+'\\n', horizontalalignment='center')\n",
        "plt.xlabel(\"model\")\n",
        "plt.ylabel(\"f1 score\")\n",
        "plt.title(\"Model F1\")\n",
        "plt.show()"
      ],
      "execution_count": null,
      "outputs": [
        {
          "output_type": "display_data",
          "data": {
            "image/png": "[encoded data removed]",
            "text/plain": [
              "<Figure size 1296x216 with 1 Axes>"
            ]
          },
          "metadata": {
            "tags": [],
            "needs_background": "light"
          }
        }
      ]
    },
    {
      "cell_type": "markdown",
      "metadata": {
        "id": "bTYXXskNTz20"
      },
      "source": [
        "## Max Accuracy Rank"
      ]
    },
    {
      "cell_type": "code",
      "metadata": {
        "id": "wFlo9ofIQIqm",
        "outputId": "045cf71a-1eba-4f9b-d1a8-606b308d060c",
        "colab": {
          "base_uri": "https://localhost:8080/",
          "height": 199
        }
      },
      "source": [
        "max_accuracy = [(x, round(max_dict[x][0], 5)) for x in max_dict.keys()]\n",
        "max_accuracy.sort(key = lambda x:x[1], reverse=True)\n",
        "plt.figure(figsize=(18,3))\n",
        "plt.ylim(0.6,0.9)\n",
        "plt.bar(*zip(*max_accuracy))\n",
        "for x, y in max_accuracy:\n",
        "  plt.text(x, y, str(y)+'\\n', horizontalalignment='center')\n",
        "plt.xlabel(\"model\")\n",
        "plt.ylabel(\"accuracy\")\n",
        "plt.title(\"Model Max Accuracy\")\n",
        "plt.show()"
      ],
      "execution_count": null,
      "outputs": [
        {
          "output_type": "display_data",
          "data": {
            "image/png": "[encoded data removed]",
            "text/plain": [
              "<Figure size 1296x216 with 1 Axes>"
            ]
          },
          "metadata": {
            "tags": [],
            "needs_background": "light"
          }
        }
      ]
    },
    {
      "cell_type": "markdown",
      "metadata": {
        "id": "CxGSEKpNT3CS"
      },
      "source": [
        "## Max Recall Rank"
      ]
    },
    {
      "cell_type": "code",
      "metadata": {
        "id": "TuGOLYjAQYRx",
        "outputId": "a7a8f03f-3a8e-4557-edbf-6fb9bf522ebf",
        "colab": {
          "base_uri": "https://localhost:8080/",
          "height": 199
        }
      },
      "source": [
        "max_recall = [(x, round(max_dict[x][1], 5)) for x in max_dict.keys()]\n",
        "max_recall.sort(key = lambda x:x[1], reverse=True)\n",
        "plt.figure(figsize=(18,3))\n",
        "plt.ylim(0.1,0.9)\n",
        "plt.bar(*zip(*max_recall))\n",
        "for x, y in max_recall:\n",
        "  plt.text(x, y, str(y)+'\\n', horizontalalignment='center')\n",
        "plt.xlabel(\"model\")\n",
        "plt.ylabel(\"recall\")\n",
        "plt.title(\"Model Max Recall\")\n",
        "plt.show()"
      ],
      "execution_count": null,
      "outputs": [
        {
          "output_type": "display_data",
          "data": {
            "image/png": "[encoded data removed]",
            "text/plain": [
              "<Figure size 1296x216 with 1 Axes>"
            ]
          },
          "metadata": {
            "tags": [],
            "needs_background": "light"
          }
        }
      ]
    },
    {
      "cell_type": "markdown",
      "metadata": {
        "id": "k5rw1Z3-UxGb"
      },
      "source": [
        "## Max Precision Rank"
      ]
    },
    {
      "cell_type": "code",
      "metadata": {
        "id": "YtXebdgsQmcD",
        "outputId": "2122d181-24fd-4069-e4d9-909dab1e7052",
        "colab": {
          "base_uri": "https://localhost:8080/",
          "height": 199
        }
      },
      "source": [
        "max_precision = [(x, round(max_dict[x][2], 5)) for x in max_dict.keys()]\n",
        "max_precision.sort(key = lambda x:x[1], reverse=True)\n",
        "plt.figure(figsize=(18,3))\n",
        "plt.ylim(0.2,0.9)\n",
        "plt.bar(*zip(*max_precision))\n",
        "for x, y in max_precision:\n",
        "  plt.text(x, y, str(y)+'\\n', horizontalalignment='center')\n",
        "plt.xlabel(\"model\")\n",
        "plt.ylabel(\"precision\")\n",
        "plt.title(\"Model Max Precision\")\n",
        "plt.show()"
      ],
      "execution_count": null,
      "outputs": [
        {
          "output_type": "display_data",
          "data": {
            "image/png": "[encoded data removed]",
            "text/plain": [
              "<Figure size 1296x216 with 1 Axes>"
            ]
          },
          "metadata": {
            "tags": [],
            "needs_background": "light"
          }
        }
      ]
    },
    {
      "cell_type": "markdown",
      "metadata": {
        "id": "RqtAT05nU0mT"
      },
      "source": [
        "## Max F1 Rank\n"
      ]
    },
    {
      "cell_type": "code",
      "metadata": {
        "id": "T9G3ubKVQzia",
        "outputId": "cdf4b780-9104-47fa-b66f-1dc2738866e5",
        "colab": {
          "base_uri": "https://localhost:8080/",
          "height": 199
        }
      },
      "source": [
        "max_f1 = [(x, round(max_dict[x][3], 5)) for x in max_dict.keys()]\n",
        "max_f1.sort(key = lambda x:x[1], reverse=True)\n",
        "plt.figure(figsize=(18,3))\n",
        "plt.ylim(0.1,0.8)\n",
        "plt.bar(*zip(*max_f1))\n",
        "for x, y in max_f1:\n",
        "  plt.text(x, y, str(y)+'\\n', horizontalalignment='center')\n",
        "plt.xlabel(\"model\")\n",
        "plt.ylabel(\"f1\")\n",
        "plt.title(\"Model Max F1\")\n",
        "plt.show()"
      ],
      "execution_count": null,
      "outputs": [
        {
          "output_type": "display_data",
          "data": {
            "image/png": "[encoded data removed]",
            "text/plain": [
              "<Figure size 1296x216 with 1 Axes>"
            ]
          },
          "metadata": {
            "tags": [],
            "needs_background": "light"
          }
        }
      ]
    },
    {
      "cell_type": "markdown",
      "metadata": {
        "id": "UPrl3uuyC8jy"
      },
      "source": [
        "## GridSearch Linear SVC and MLP"
      ]
    },
    {
      "cell_type": "code",
      "metadata": {
        "id": "lDzK1liREDbY",
        "outputId": "45a56403-4018-4029-9df0-b4c90a7c5aba",
        "colab": {
          "base_uri": "https://localhost:8080/",
          "height": 593
        }
      },
      "source": [
        "X = datas.drop(['label'], axis=1)\n",
        "print(X)\n",
        "\n",
        "imp = SimpleImputer(missing_values=np.nan, strategy = 'constant', fill_value = 0)\n",
        "imp = imp.fit(X)\n",
        "\n",
        "X = imp.transform(X)\n",
        "\n",
        "y = datas['label']\n",
        "class_le = LabelEncoder()\n",
        "class_le.fit(['epilepsy', 'no epilepsy'])\n",
        "print(class_le.classes_)\n",
        "y = class_le.transform(y)\n",
        "\n",
        "scoring = ['accuracy', 'recall', 'precision', 'f1']\n",
        "\n",
        "max_estimator_dict = dict()\n",
        "mean_dict = dict()\n",
        "max_dict = dict()\n",
        "\n",
        "print(X)\n",
        "print(y)"
      ],
      "execution_count": null,
      "outputs": [
        {
          "output_type": "stream",
          "text": [
            "     EEG FP1-LE Delta  ...  EEG 30-LE freq 125.0\n",
            "0            0.621788  ...          4.464824e-07\n",
            "1            0.649229  ...          3.284036e-06\n",
            "2            0.648733  ...          2.411022e-07\n",
            "3            0.608450  ...          2.550734e-05\n",
            "4            0.393763  ...          2.161948e-06\n",
            "..                ...  ...                   ...\n",
            "126          0.937464  ...          1.140082e-06\n",
            "127          0.975566  ...          5.417999e-08\n",
            "128          0.206481  ...          2.042572e-07\n",
            "129          0.960478  ...          1.686899e-06\n",
            "130          0.842962  ...          6.151889e-07\n",
            "\n",
            "[131 rows x 3288 columns]\n",
            "['epilepsy' 'no epilepsy']\n",
            "[[6.21787507e-01 1.98607106e-01 1.26483421e-01 ... 8.59676227e-07\n",
            "  9.01101887e-07 4.46482375e-07]\n",
            " [6.49229150e-01 1.83747324e-01 1.08898511e-01 ... 6.38964016e-06\n",
            "  6.44612529e-06 3.28403592e-06]\n",
            " [6.48732517e-01 1.79749032e-01 1.08575572e-01 ... 3.07717806e-07\n",
            "  8.01407815e-07 2.41102176e-07]\n",
            " ...\n",
            " [2.06480996e-01 5.43026808e-02 2.14094355e-01 ... 4.07391218e-07\n",
            "  6.55093703e-07 2.04257164e-07]\n",
            " [9.60477999e-01 1.96960333e-02 8.30150873e-03 ... 1.54364188e-05\n",
            "  5.15668208e-06 1.68689931e-06]\n",
            " [8.42962484e-01 2.39248895e-02 1.33171890e-02 ... 1.28255152e-06\n",
            "  1.24280586e-06 6.15188869e-07]]\n",
            "[0 0 0 0 0 0 0 0 0 0 0 0 0 0 0 0 0 0 0 0 0 0 0 0 0 0 0 0 0 0 0 0 0 0 0 0 0\n",
            " 0 0 0 0 0 0 0 0 0 0 0 0 0 0 0 0 0 0 0 0 0 0 0 0 0 0 0 0 0 0 0 0 0 0 0 0 0\n",
            " 0 0 0 0 0 0 0 0 0 0 0 0 0 0 0 0 0 0 0 0 0 0 0 1 1 1 1 1 1 1 1 1 1 1 1 1 1\n",
            " 1 1 1 1 1 1 1 1 1 1 1 1 1 1 1 1 1 1 1 1]\n"
          ],
          "name": "stdout"
        }
      ]
    },
    {
      "cell_type": "code",
      "metadata": {
        "id": "UAf1JyacU2G6",
        "outputId": "46887023-d250-4ef6-c6c0-cb9d5fdf56f9",
        "colab": {
          "base_uri": "https://localhost:8080/",
          "height": 1000
        }
      },
      "source": [
        "from sklearn.model_selection import GridSearchCV\n",
        "scaler_tuple = ('scaler', StandardScaler())\n",
        "model_tuple = ('mlp', MLPClassifier(random_state=42))\n",
        "pipe = Pipeline([scaler_tuple, model_tuple])\n",
        "pipe.fit(X, y)\n",
        "parms = {'mlp__hidden_layer_sizes' : [100, 200, 300, 400, 500], 'mlp__solver' : ['sgd', 'adam'], 'mlp__max_iter' : [200, 500, 1000, 5000, 10000]}\n",
        "clf = GridSearchCV(pipe, param_grid=parms, cv = 3, scoring = 'accuracy', verbose = 3)\n",
        "clf.fit(X, y)"
      ],
      "execution_count": null,
      "outputs": [
        {
          "output_type": "stream",
          "text": [
            "Fitting 3 folds for each of 50 candidates, totalling 150 fits\n",
            "[CV] mlp__hidden_layer_sizes=100, mlp__max_iter=200, mlp__solver=sgd .\n"
          ],
          "name": "stdout"
        },
        {
          "output_type": "stream",
          "text": [
            "[Parallel(n_jobs=1)]: Using backend SequentialBackend with 1 concurrent workers.\n",
            "/usr/local/lib/python3.6/dist-packages/sklearn/neural_network/_multilayer_perceptron.py:571: ConvergenceWarning: Stochastic Optimizer: Maximum iterations (200) reached and the optimization hasn't converged yet.\n",
            "  % self.max_iter, ConvergenceWarning)\n",
            "[Parallel(n_jobs=1)]: Done   1 out of   1 | elapsed:    2.0s remaining:    0.0s\n"
          ],
          "name": "stderr"
        },
        {
          "output_type": "stream",
          "text": [
            "[CV]  mlp__hidden_layer_sizes=100, mlp__max_iter=200, mlp__solver=sgd, score=0.727, total=   2.0s\n",
            "[CV] mlp__hidden_layer_sizes=100, mlp__max_iter=200, mlp__solver=sgd .\n"
          ],
          "name": "stdout"
        },
        {
          "output_type": "stream",
          "text": [
            "/usr/local/lib/python3.6/dist-packages/sklearn/neural_network/_multilayer_perceptron.py:571: ConvergenceWarning: Stochastic Optimizer: Maximum iterations (200) reached and the optimization hasn't converged yet.\n",
            "  % self.max_iter, ConvergenceWarning)\n",
            "[Parallel(n_jobs=1)]: Done   2 out of   2 | elapsed:    4.0s remaining:    0.0s\n"
          ],
          "name": "stderr"
        },
        {
          "output_type": "stream",
          "text": [
            "[CV]  mlp__hidden_layer_sizes=100, mlp__max_iter=200, mlp__solver=sgd, score=0.659, total=   2.0s\n",
            "[CV] mlp__hidden_layer_sizes=100, mlp__max_iter=200, mlp__solver=sgd .\n"
          ],
          "name": "stdout"
        },
        {
          "output_type": "stream",
          "text": [
            "/usr/local/lib/python3.6/dist-packages/sklearn/neural_network/_multilayer_perceptron.py:571: ConvergenceWarning: Stochastic Optimizer: Maximum iterations (200) reached and the optimization hasn't converged yet.\n",
            "  % self.max_iter, ConvergenceWarning)\n"
          ],
          "name": "stderr"
        },
        {
          "output_type": "stream",
          "text": [
            "[CV]  mlp__hidden_layer_sizes=100, mlp__max_iter=200, mlp__solver=sgd, score=0.628, total=   1.9s\n",
            "[CV] mlp__hidden_layer_sizes=100, mlp__max_iter=200, mlp__solver=adam \n",
            "[CV]  mlp__hidden_layer_sizes=100, mlp__max_iter=200, mlp__solver=adam, score=0.727, total=   0.5s\n",
            "[CV] mlp__hidden_layer_sizes=100, mlp__max_iter=200, mlp__solver=adam \n",
            "[CV]  mlp__hidden_layer_sizes=100, mlp__max_iter=200, mlp__solver=adam, score=0.659, total=   0.6s\n",
            "[CV] mlp__hidden_layer_sizes=100, mlp__max_iter=200, mlp__solver=adam \n",
            "[CV]  mlp__hidden_layer_sizes=100, mlp__max_iter=200, mlp__solver=adam, score=0.674, total=   0.5s\n",
            "[CV] mlp__hidden_layer_sizes=100, mlp__max_iter=500, mlp__solver=sgd .\n",
            "[CV]  mlp__hidden_layer_sizes=100, mlp__max_iter=500, mlp__solver=sgd, score=0.727, total=   2.7s\n",
            "[CV] mlp__hidden_layer_sizes=100, mlp__max_iter=500, mlp__solver=sgd .\n",
            "[CV]  mlp__hidden_layer_sizes=100, mlp__max_iter=500, mlp__solver=sgd, score=0.659, total=   2.5s\n",
            "[CV] mlp__hidden_layer_sizes=100, mlp__max_iter=500, mlp__solver=sgd .\n",
            "[CV]  mlp__hidden_layer_sizes=100, mlp__max_iter=500, mlp__solver=sgd, score=0.628, total=   2.5s\n",
            "[CV] mlp__hidden_layer_sizes=100, mlp__max_iter=500, mlp__solver=adam \n",
            "[CV]  mlp__hidden_layer_sizes=100, mlp__max_iter=500, mlp__solver=adam, score=0.727, total=   0.5s\n",
            "[CV] mlp__hidden_layer_sizes=100, mlp__max_iter=500, mlp__solver=adam \n",
            "[CV]  mlp__hidden_layer_sizes=100, mlp__max_iter=500, mlp__solver=adam, score=0.659, total=   0.6s\n",
            "[CV] mlp__hidden_layer_sizes=100, mlp__max_iter=500, mlp__solver=adam \n",
            "[CV]  mlp__hidden_layer_sizes=100, mlp__max_iter=500, mlp__solver=adam, score=0.674, total=   0.5s\n",
            "[CV] mlp__hidden_layer_sizes=100, mlp__max_iter=1000, mlp__solver=sgd \n",
            "[CV]  mlp__hidden_layer_sizes=100, mlp__max_iter=1000, mlp__solver=sgd, score=0.727, total=   2.6s\n",
            "[CV] mlp__hidden_layer_sizes=100, mlp__max_iter=1000, mlp__solver=sgd \n",
            "[CV]  mlp__hidden_layer_sizes=100, mlp__max_iter=1000, mlp__solver=sgd, score=0.659, total=   2.5s\n",
            "[CV] mlp__hidden_layer_sizes=100, mlp__max_iter=1000, mlp__solver=sgd \n",
            "[CV]  mlp__hidden_layer_sizes=100, mlp__max_iter=1000, mlp__solver=sgd, score=0.628, total=   2.5s\n",
            "[CV] mlp__hidden_layer_sizes=100, mlp__max_iter=1000, mlp__solver=adam \n",
            "[CV]  mlp__hidden_layer_sizes=100, mlp__max_iter=1000, mlp__solver=adam, score=0.727, total=   0.5s\n",
            "[CV] mlp__hidden_layer_sizes=100, mlp__max_iter=1000, mlp__solver=adam \n",
            "[CV]  mlp__hidden_layer_sizes=100, mlp__max_iter=1000, mlp__solver=adam, score=0.659, total=   0.6s\n",
            "[CV] mlp__hidden_layer_sizes=100, mlp__max_iter=1000, mlp__solver=adam \n",
            "[CV]  mlp__hidden_layer_sizes=100, mlp__max_iter=1000, mlp__solver=adam, score=0.674, total=   0.5s\n",
            "[CV] mlp__hidden_layer_sizes=100, mlp__max_iter=5000, mlp__solver=sgd \n",
            "[CV]  mlp__hidden_layer_sizes=100, mlp__max_iter=5000, mlp__solver=sgd, score=0.727, total=   2.6s\n",
            "[CV] mlp__hidden_layer_sizes=100, mlp__max_iter=5000, mlp__solver=sgd \n",
            "[CV]  mlp__hidden_layer_sizes=100, mlp__max_iter=5000, mlp__solver=sgd, score=0.659, total=   2.6s\n",
            "[CV] mlp__hidden_layer_sizes=100, mlp__max_iter=5000, mlp__solver=sgd \n",
            "[CV]  mlp__hidden_layer_sizes=100, mlp__max_iter=5000, mlp__solver=sgd, score=0.628, total=   2.4s\n",
            "[CV] mlp__hidden_layer_sizes=100, mlp__max_iter=5000, mlp__solver=adam \n",
            "[CV]  mlp__hidden_layer_sizes=100, mlp__max_iter=5000, mlp__solver=adam, score=0.727, total=   0.5s\n",
            "[CV] mlp__hidden_layer_sizes=100, mlp__max_iter=5000, mlp__solver=adam \n",
            "[CV]  mlp__hidden_layer_sizes=100, mlp__max_iter=5000, mlp__solver=adam, score=0.659, total=   0.6s\n",
            "[CV] mlp__hidden_layer_sizes=100, mlp__max_iter=5000, mlp__solver=adam \n",
            "[CV]  mlp__hidden_layer_sizes=100, mlp__max_iter=5000, mlp__solver=adam, score=0.674, total=   0.5s\n",
            "[CV] mlp__hidden_layer_sizes=100, mlp__max_iter=10000, mlp__solver=sgd \n",
            "[CV]  mlp__hidden_layer_sizes=100, mlp__max_iter=10000, mlp__solver=sgd, score=0.727, total=   2.6s\n",
            "[CV] mlp__hidden_layer_sizes=100, mlp__max_iter=10000, mlp__solver=sgd \n",
            "[CV]  mlp__hidden_layer_sizes=100, mlp__max_iter=10000, mlp__solver=sgd, score=0.659, total=   2.6s\n",
            "[CV] mlp__hidden_layer_sizes=100, mlp__max_iter=10000, mlp__solver=sgd \n",
            "[CV]  mlp__hidden_layer_sizes=100, mlp__max_iter=10000, mlp__solver=sgd, score=0.628, total=   2.5s\n",
            "[CV] mlp__hidden_layer_sizes=100, mlp__max_iter=10000, mlp__solver=adam \n",
            "[CV]  mlp__hidden_layer_sizes=100, mlp__max_iter=10000, mlp__solver=adam, score=0.727, total=   0.5s\n",
            "[CV] mlp__hidden_layer_sizes=100, mlp__max_iter=10000, mlp__solver=adam \n",
            "[CV]  mlp__hidden_layer_sizes=100, mlp__max_iter=10000, mlp__solver=adam, score=0.659, total=   0.6s\n",
            "[CV] mlp__hidden_layer_sizes=100, mlp__max_iter=10000, mlp__solver=adam \n",
            "[CV]  mlp__hidden_layer_sizes=100, mlp__max_iter=10000, mlp__solver=adam, score=0.674, total=   0.5s\n",
            "[CV] mlp__hidden_layer_sizes=200, mlp__max_iter=200, mlp__solver=sgd .\n"
          ],
          "name": "stdout"
        },
        {
          "output_type": "stream",
          "text": [
            "/usr/local/lib/python3.6/dist-packages/sklearn/neural_network/_multilayer_perceptron.py:571: ConvergenceWarning: Stochastic Optimizer: Maximum iterations (200) reached and the optimization hasn't converged yet.\n",
            "  % self.max_iter, ConvergenceWarning)\n"
          ],
          "name": "stderr"
        },
        {
          "output_type": "stream",
          "text": [
            "[CV]  mlp__hidden_layer_sizes=200, mlp__max_iter=200, mlp__solver=sgd, score=0.682, total=   3.3s\n",
            "[CV] mlp__hidden_layer_sizes=200, mlp__max_iter=200, mlp__solver=sgd .\n"
          ],
          "name": "stdout"
        },
        {
          "output_type": "stream",
          "text": [
            "/usr/local/lib/python3.6/dist-packages/sklearn/neural_network/_multilayer_perceptron.py:571: ConvergenceWarning: Stochastic Optimizer: Maximum iterations (200) reached and the optimization hasn't converged yet.\n",
            "  % self.max_iter, ConvergenceWarning)\n"
          ],
          "name": "stderr"
        },
        {
          "output_type": "stream",
          "text": [
            "[CV]  mlp__hidden_layer_sizes=200, mlp__max_iter=200, mlp__solver=sgd, score=0.659, total=   3.3s\n",
            "[CV] mlp__hidden_layer_sizes=200, mlp__max_iter=200, mlp__solver=sgd .\n"
          ],
          "name": "stdout"
        },
        {
          "output_type": "stream",
          "text": [
            "/usr/local/lib/python3.6/dist-packages/sklearn/neural_network/_multilayer_perceptron.py:571: ConvergenceWarning: Stochastic Optimizer: Maximum iterations (200) reached and the optimization hasn't converged yet.\n",
            "  % self.max_iter, ConvergenceWarning)\n"
          ],
          "name": "stderr"
        },
        {
          "output_type": "stream",
          "text": [
            "[CV]  mlp__hidden_layer_sizes=200, mlp__max_iter=200, mlp__solver=sgd, score=0.698, total=   3.3s\n",
            "[CV] mlp__hidden_layer_sizes=200, mlp__max_iter=200, mlp__solver=adam \n",
            "[CV]  mlp__hidden_layer_sizes=200, mlp__max_iter=200, mlp__solver=adam, score=0.705, total=   1.2s\n",
            "[CV] mlp__hidden_layer_sizes=200, mlp__max_iter=200, mlp__solver=adam \n",
            "[CV]  mlp__hidden_layer_sizes=200, mlp__max_iter=200, mlp__solver=adam, score=0.682, total=   1.0s\n",
            "[CV] mlp__hidden_layer_sizes=200, mlp__max_iter=200, mlp__solver=adam \n",
            "[CV]  mlp__hidden_layer_sizes=200, mlp__max_iter=200, mlp__solver=adam, score=0.674, total=   1.0s\n",
            "[CV] mlp__hidden_layer_sizes=200, mlp__max_iter=500, mlp__solver=sgd .\n",
            "[CV]  mlp__hidden_layer_sizes=200, mlp__max_iter=500, mlp__solver=sgd, score=0.682, total=   4.7s\n",
            "[CV] mlp__hidden_layer_sizes=200, mlp__max_iter=500, mlp__solver=sgd .\n",
            "[CV]  mlp__hidden_layer_sizes=200, mlp__max_iter=500, mlp__solver=sgd, score=0.659, total=   4.4s\n",
            "[CV] mlp__hidden_layer_sizes=200, mlp__max_iter=500, mlp__solver=sgd .\n",
            "[CV]  mlp__hidden_layer_sizes=200, mlp__max_iter=500, mlp__solver=sgd, score=0.698, total=   4.3s\n",
            "[CV] mlp__hidden_layer_sizes=200, mlp__max_iter=500, mlp__solver=adam \n",
            "[CV]  mlp__hidden_layer_sizes=200, mlp__max_iter=500, mlp__solver=adam, score=0.705, total=   1.1s\n",
            "[CV] mlp__hidden_layer_sizes=200, mlp__max_iter=500, mlp__solver=adam \n",
            "[CV]  mlp__hidden_layer_sizes=200, mlp__max_iter=500, mlp__solver=adam, score=0.682, total=   1.0s\n",
            "[CV] mlp__hidden_layer_sizes=200, mlp__max_iter=500, mlp__solver=adam \n",
            "[CV]  mlp__hidden_layer_sizes=200, mlp__max_iter=500, mlp__solver=adam, score=0.674, total=   0.9s\n",
            "[CV] mlp__hidden_layer_sizes=200, mlp__max_iter=1000, mlp__solver=sgd \n",
            "[CV]  mlp__hidden_layer_sizes=200, mlp__max_iter=1000, mlp__solver=sgd, score=0.682, total=   4.7s\n",
            "[CV] mlp__hidden_layer_sizes=200, mlp__max_iter=1000, mlp__solver=sgd \n",
            "[CV]  mlp__hidden_layer_sizes=200, mlp__max_iter=1000, mlp__solver=sgd, score=0.659, total=   4.4s\n",
            "[CV] mlp__hidden_layer_sizes=200, mlp__max_iter=1000, mlp__solver=sgd \n",
            "[CV]  mlp__hidden_layer_sizes=200, mlp__max_iter=1000, mlp__solver=sgd, score=0.698, total=   4.3s\n",
            "[CV] mlp__hidden_layer_sizes=200, mlp__max_iter=1000, mlp__solver=adam \n",
            "[CV]  mlp__hidden_layer_sizes=200, mlp__max_iter=1000, mlp__solver=adam, score=0.705, total=   1.1s\n",
            "[CV] mlp__hidden_layer_sizes=200, mlp__max_iter=1000, mlp__solver=adam \n",
            "[CV]  mlp__hidden_layer_sizes=200, mlp__max_iter=1000, mlp__solver=adam, score=0.682, total=   1.0s\n",
            "[CV] mlp__hidden_layer_sizes=200, mlp__max_iter=1000, mlp__solver=adam \n",
            "[CV]  mlp__hidden_layer_sizes=200, mlp__max_iter=1000, mlp__solver=adam, score=0.674, total=   0.9s\n",
            "[CV] mlp__hidden_layer_sizes=200, mlp__max_iter=5000, mlp__solver=sgd \n",
            "[CV]  mlp__hidden_layer_sizes=200, mlp__max_iter=5000, mlp__solver=sgd, score=0.682, total=   4.7s\n",
            "[CV] mlp__hidden_layer_sizes=200, mlp__max_iter=5000, mlp__solver=sgd \n",
            "[CV]  mlp__hidden_layer_sizes=200, mlp__max_iter=5000, mlp__solver=sgd, score=0.659, total=   4.5s\n",
            "[CV] mlp__hidden_layer_sizes=200, mlp__max_iter=5000, mlp__solver=sgd \n",
            "[CV]  mlp__hidden_layer_sizes=200, mlp__max_iter=5000, mlp__solver=sgd, score=0.698, total=   4.2s\n",
            "[CV] mlp__hidden_layer_sizes=200, mlp__max_iter=5000, mlp__solver=adam \n",
            "[CV]  mlp__hidden_layer_sizes=200, mlp__max_iter=5000, mlp__solver=adam, score=0.705, total=   1.1s\n",
            "[CV] mlp__hidden_layer_sizes=200, mlp__max_iter=5000, mlp__solver=adam \n",
            "[CV]  mlp__hidden_layer_sizes=200, mlp__max_iter=5000, mlp__solver=adam, score=0.682, total=   1.0s\n",
            "[CV] mlp__hidden_layer_sizes=200, mlp__max_iter=5000, mlp__solver=adam \n",
            "[CV]  mlp__hidden_layer_sizes=200, mlp__max_iter=5000, mlp__solver=adam, score=0.674, total=   1.0s\n",
            "[CV] mlp__hidden_layer_sizes=200, mlp__max_iter=10000, mlp__solver=sgd \n",
            "[CV]  mlp__hidden_layer_sizes=200, mlp__max_iter=10000, mlp__solver=sgd, score=0.682, total=   4.8s\n",
            "[CV] mlp__hidden_layer_sizes=200, mlp__max_iter=10000, mlp__solver=sgd \n",
            "[CV]  mlp__hidden_layer_sizes=200, mlp__max_iter=10000, mlp__solver=sgd, score=0.659, total=   4.5s\n",
            "[CV] mlp__hidden_layer_sizes=200, mlp__max_iter=10000, mlp__solver=sgd \n",
            "[CV]  mlp__hidden_layer_sizes=200, mlp__max_iter=10000, mlp__solver=sgd, score=0.698, total=   4.3s\n",
            "[CV] mlp__hidden_layer_sizes=200, mlp__max_iter=10000, mlp__solver=adam \n",
            "[CV]  mlp__hidden_layer_sizes=200, mlp__max_iter=10000, mlp__solver=adam, score=0.705, total=   1.1s\n",
            "[CV] mlp__hidden_layer_sizes=200, mlp__max_iter=10000, mlp__solver=adam \n",
            "[CV]  mlp__hidden_layer_sizes=200, mlp__max_iter=10000, mlp__solver=adam, score=0.682, total=   1.0s\n",
            "[CV] mlp__hidden_layer_sizes=200, mlp__max_iter=10000, mlp__solver=adam \n",
            "[CV]  mlp__hidden_layer_sizes=200, mlp__max_iter=10000, mlp__solver=adam, score=0.674, total=   1.0s\n",
            "[CV] mlp__hidden_layer_sizes=300, mlp__max_iter=200, mlp__solver=sgd .\n"
          ],
          "name": "stdout"
        },
        {
          "output_type": "stream",
          "text": [
            "/usr/local/lib/python3.6/dist-packages/sklearn/neural_network/_multilayer_perceptron.py:571: ConvergenceWarning: Stochastic Optimizer: Maximum iterations (200) reached and the optimization hasn't converged yet.\n",
            "  % self.max_iter, ConvergenceWarning)\n"
          ],
          "name": "stderr"
        },
        {
          "output_type": "stream",
          "text": [
            "[CV]  mlp__hidden_layer_sizes=300, mlp__max_iter=200, mlp__solver=sgd, score=0.773, total=   5.3s\n",
            "[CV] mlp__hidden_layer_sizes=300, mlp__max_iter=200, mlp__solver=sgd .\n"
          ],
          "name": "stdout"
        },
        {
          "output_type": "stream",
          "text": [
            "/usr/local/lib/python3.6/dist-packages/sklearn/neural_network/_multilayer_perceptron.py:571: ConvergenceWarning: Stochastic Optimizer: Maximum iterations (200) reached and the optimization hasn't converged yet.\n",
            "  % self.max_iter, ConvergenceWarning)\n"
          ],
          "name": "stderr"
        },
        {
          "output_type": "stream",
          "text": [
            "[CV]  mlp__hidden_layer_sizes=300, mlp__max_iter=200, mlp__solver=sgd, score=0.727, total=   5.3s\n",
            "[CV] mlp__hidden_layer_sizes=300, mlp__max_iter=200, mlp__solver=sgd .\n"
          ],
          "name": "stdout"
        },
        {
          "output_type": "stream",
          "text": [
            "/usr/local/lib/python3.6/dist-packages/sklearn/neural_network/_multilayer_perceptron.py:571: ConvergenceWarning: Stochastic Optimizer: Maximum iterations (200) reached and the optimization hasn't converged yet.\n",
            "  % self.max_iter, ConvergenceWarning)\n"
          ],
          "name": "stderr"
        },
        {
          "output_type": "stream",
          "text": [
            "[CV]  mlp__hidden_layer_sizes=300, mlp__max_iter=200, mlp__solver=sgd, score=0.651, total=   5.3s\n",
            "[CV] mlp__hidden_layer_sizes=300, mlp__max_iter=200, mlp__solver=adam \n",
            "[CV]  mlp__hidden_layer_sizes=300, mlp__max_iter=200, mlp__solver=adam, score=0.659, total=   1.4s\n",
            "[CV] mlp__hidden_layer_sizes=300, mlp__max_iter=200, mlp__solver=adam \n",
            "[CV]  mlp__hidden_layer_sizes=300, mlp__max_iter=200, mlp__solver=adam, score=0.636, total=   1.3s\n",
            "[CV] mlp__hidden_layer_sizes=300, mlp__max_iter=200, mlp__solver=adam \n",
            "[CV]  mlp__hidden_layer_sizes=300, mlp__max_iter=200, mlp__solver=adam, score=0.651, total=   1.3s\n",
            "[CV] mlp__hidden_layer_sizes=300, mlp__max_iter=500, mlp__solver=sgd .\n",
            "[CV]  mlp__hidden_layer_sizes=300, mlp__max_iter=500, mlp__solver=sgd, score=0.795, total=   7.1s\n",
            "[CV] mlp__hidden_layer_sizes=300, mlp__max_iter=500, mlp__solver=sgd .\n",
            "[CV]  mlp__hidden_layer_sizes=300, mlp__max_iter=500, mlp__solver=sgd, score=0.727, total=   6.6s\n",
            "[CV] mlp__hidden_layer_sizes=300, mlp__max_iter=500, mlp__solver=sgd .\n",
            "[CV]  mlp__hidden_layer_sizes=300, mlp__max_iter=500, mlp__solver=sgd, score=0.674, total=   6.5s\n",
            "[CV] mlp__hidden_layer_sizes=300, mlp__max_iter=500, mlp__solver=adam \n",
            "[CV]  mlp__hidden_layer_sizes=300, mlp__max_iter=500, mlp__solver=adam, score=0.659, total=   1.4s\n",
            "[CV] mlp__hidden_layer_sizes=300, mlp__max_iter=500, mlp__solver=adam \n",
            "[CV]  mlp__hidden_layer_sizes=300, mlp__max_iter=500, mlp__solver=adam, score=0.636, total=   1.3s\n",
            "[CV] mlp__hidden_layer_sizes=300, mlp__max_iter=500, mlp__solver=adam \n",
            "[CV]  mlp__hidden_layer_sizes=300, mlp__max_iter=500, mlp__solver=adam, score=0.651, total=   1.4s\n",
            "[CV] mlp__hidden_layer_sizes=300, mlp__max_iter=1000, mlp__solver=sgd \n",
            "[CV]  mlp__hidden_layer_sizes=300, mlp__max_iter=1000, mlp__solver=sgd, score=0.795, total=   7.1s\n",
            "[CV] mlp__hidden_layer_sizes=300, mlp__max_iter=1000, mlp__solver=sgd \n",
            "[CV]  mlp__hidden_layer_sizes=300, mlp__max_iter=1000, mlp__solver=sgd, score=0.727, total=   6.7s\n",
            "[CV] mlp__hidden_layer_sizes=300, mlp__max_iter=1000, mlp__solver=sgd \n",
            "[CV]  mlp__hidden_layer_sizes=300, mlp__max_iter=1000, mlp__solver=sgd, score=0.674, total=   6.6s\n",
            "[CV] mlp__hidden_layer_sizes=300, mlp__max_iter=1000, mlp__solver=adam \n",
            "[CV]  mlp__hidden_layer_sizes=300, mlp__max_iter=1000, mlp__solver=adam, score=0.659, total=   1.4s\n",
            "[CV] mlp__hidden_layer_sizes=300, mlp__max_iter=1000, mlp__solver=adam \n",
            "[CV]  mlp__hidden_layer_sizes=300, mlp__max_iter=1000, mlp__solver=adam, score=0.636, total=   1.3s\n",
            "[CV] mlp__hidden_layer_sizes=300, mlp__max_iter=1000, mlp__solver=adam \n",
            "[CV]  mlp__hidden_layer_sizes=300, mlp__max_iter=1000, mlp__solver=adam, score=0.651, total=   1.3s\n",
            "[CV] mlp__hidden_layer_sizes=300, mlp__max_iter=5000, mlp__solver=sgd \n",
            "[CV]  mlp__hidden_layer_sizes=300, mlp__max_iter=5000, mlp__solver=sgd, score=0.795, total=   7.2s\n",
            "[CV] mlp__hidden_layer_sizes=300, mlp__max_iter=5000, mlp__solver=sgd \n",
            "[CV]  mlp__hidden_layer_sizes=300, mlp__max_iter=5000, mlp__solver=sgd, score=0.727, total=   6.7s\n",
            "[CV] mlp__hidden_layer_sizes=300, mlp__max_iter=5000, mlp__solver=sgd \n",
            "[CV]  mlp__hidden_layer_sizes=300, mlp__max_iter=5000, mlp__solver=sgd, score=0.674, total=   6.5s\n",
            "[CV] mlp__hidden_layer_sizes=300, mlp__max_iter=5000, mlp__solver=adam \n",
            "[CV]  mlp__hidden_layer_sizes=300, mlp__max_iter=5000, mlp__solver=adam, score=0.659, total=   1.4s\n",
            "[CV] mlp__hidden_layer_sizes=300, mlp__max_iter=5000, mlp__solver=adam \n",
            "[CV]  mlp__hidden_layer_sizes=300, mlp__max_iter=5000, mlp__solver=adam, score=0.636, total=   1.3s\n",
            "[CV] mlp__hidden_layer_sizes=300, mlp__max_iter=5000, mlp__solver=adam \n",
            "[CV]  mlp__hidden_layer_sizes=300, mlp__max_iter=5000, mlp__solver=adam, score=0.651, total=   1.3s\n",
            "[CV] mlp__hidden_layer_sizes=300, mlp__max_iter=10000, mlp__solver=sgd \n",
            "[CV]  mlp__hidden_layer_sizes=300, mlp__max_iter=10000, mlp__solver=sgd, score=0.795, total=   7.4s\n",
            "[CV] mlp__hidden_layer_sizes=300, mlp__max_iter=10000, mlp__solver=sgd \n",
            "[CV]  mlp__hidden_layer_sizes=300, mlp__max_iter=10000, mlp__solver=sgd, score=0.727, total=   6.8s\n",
            "[CV] mlp__hidden_layer_sizes=300, mlp__max_iter=10000, mlp__solver=sgd \n",
            "[CV]  mlp__hidden_layer_sizes=300, mlp__max_iter=10000, mlp__solver=sgd, score=0.674, total=   6.6s\n",
            "[CV] mlp__hidden_layer_sizes=300, mlp__max_iter=10000, mlp__solver=adam \n",
            "[CV]  mlp__hidden_layer_sizes=300, mlp__max_iter=10000, mlp__solver=adam, score=0.659, total=   1.5s\n",
            "[CV] mlp__hidden_layer_sizes=300, mlp__max_iter=10000, mlp__solver=adam \n",
            "[CV]  mlp__hidden_layer_sizes=300, mlp__max_iter=10000, mlp__solver=adam, score=0.636, total=   1.3s\n",
            "[CV] mlp__hidden_layer_sizes=300, mlp__max_iter=10000, mlp__solver=adam \n",
            "[CV]  mlp__hidden_layer_sizes=300, mlp__max_iter=10000, mlp__solver=adam, score=0.651, total=   1.3s\n",
            "[CV] mlp__hidden_layer_sizes=400, mlp__max_iter=200, mlp__solver=sgd .\n"
          ],
          "name": "stdout"
        },
        {
          "output_type": "stream",
          "text": [
            "/usr/local/lib/python3.6/dist-packages/sklearn/neural_network/_multilayer_perceptron.py:571: ConvergenceWarning: Stochastic Optimizer: Maximum iterations (200) reached and the optimization hasn't converged yet.\n",
            "  % self.max_iter, ConvergenceWarning)\n"
          ],
          "name": "stderr"
        },
        {
          "output_type": "stream",
          "text": [
            "[CV]  mlp__hidden_layer_sizes=400, mlp__max_iter=200, mlp__solver=sgd, score=0.727, total=   6.8s\n",
            "[CV] mlp__hidden_layer_sizes=400, mlp__max_iter=200, mlp__solver=sgd .\n"
          ],
          "name": "stdout"
        },
        {
          "output_type": "stream",
          "text": [
            "/usr/local/lib/python3.6/dist-packages/sklearn/neural_network/_multilayer_perceptron.py:571: ConvergenceWarning: Stochastic Optimizer: Maximum iterations (200) reached and the optimization hasn't converged yet.\n",
            "  % self.max_iter, ConvergenceWarning)\n"
          ],
          "name": "stderr"
        },
        {
          "output_type": "stream",
          "text": [
            "[CV]  mlp__hidden_layer_sizes=400, mlp__max_iter=200, mlp__solver=sgd, score=0.682, total=   6.8s\n",
            "[CV] mlp__hidden_layer_sizes=400, mlp__max_iter=200, mlp__solver=sgd .\n"
          ],
          "name": "stdout"
        },
        {
          "output_type": "stream",
          "text": [
            "/usr/local/lib/python3.6/dist-packages/sklearn/neural_network/_multilayer_perceptron.py:571: ConvergenceWarning: Stochastic Optimizer: Maximum iterations (200) reached and the optimization hasn't converged yet.\n",
            "  % self.max_iter, ConvergenceWarning)\n"
          ],
          "name": "stderr"
        },
        {
          "output_type": "stream",
          "text": [
            "[CV]  mlp__hidden_layer_sizes=400, mlp__max_iter=200, mlp__solver=sgd, score=0.698, total=   6.7s\n",
            "[CV] mlp__hidden_layer_sizes=400, mlp__max_iter=200, mlp__solver=adam \n",
            "[CV]  mlp__hidden_layer_sizes=400, mlp__max_iter=200, mlp__solver=adam, score=0.773, total=   2.1s\n",
            "[CV] mlp__hidden_layer_sizes=400, mlp__max_iter=200, mlp__solver=adam \n",
            "[CV]  mlp__hidden_layer_sizes=400, mlp__max_iter=200, mlp__solver=adam, score=0.682, total=   2.2s\n",
            "[CV] mlp__hidden_layer_sizes=400, mlp__max_iter=200, mlp__solver=adam \n",
            "[CV]  mlp__hidden_layer_sizes=400, mlp__max_iter=200, mlp__solver=adam, score=0.628, total=   2.2s\n",
            "[CV] mlp__hidden_layer_sizes=400, mlp__max_iter=500, mlp__solver=sgd .\n",
            "[CV]  mlp__hidden_layer_sizes=400, mlp__max_iter=500, mlp__solver=sgd, score=0.727, total=   9.6s\n",
            "[CV] mlp__hidden_layer_sizes=400, mlp__max_iter=500, mlp__solver=sgd .\n",
            "[CV]  mlp__hidden_layer_sizes=400, mlp__max_iter=500, mlp__solver=sgd, score=0.682, total=   8.3s\n",
            "[CV] mlp__hidden_layer_sizes=400, mlp__max_iter=500, mlp__solver=sgd .\n",
            "[CV]  mlp__hidden_layer_sizes=400, mlp__max_iter=500, mlp__solver=sgd, score=0.698, total=   8.1s\n",
            "[CV] mlp__hidden_layer_sizes=400, mlp__max_iter=500, mlp__solver=adam \n",
            "[CV]  mlp__hidden_layer_sizes=400, mlp__max_iter=500, mlp__solver=adam, score=0.773, total=   2.0s\n",
            "[CV] mlp__hidden_layer_sizes=400, mlp__max_iter=500, mlp__solver=adam \n",
            "[CV]  mlp__hidden_layer_sizes=400, mlp__max_iter=500, mlp__solver=adam, score=0.682, total=   2.2s\n",
            "[CV] mlp__hidden_layer_sizes=400, mlp__max_iter=500, mlp__solver=adam \n",
            "[CV]  mlp__hidden_layer_sizes=400, mlp__max_iter=500, mlp__solver=adam, score=0.628, total=   2.2s\n",
            "[CV] mlp__hidden_layer_sizes=400, mlp__max_iter=1000, mlp__solver=sgd \n",
            "[CV]  mlp__hidden_layer_sizes=400, mlp__max_iter=1000, mlp__solver=sgd, score=0.727, total=   9.7s\n",
            "[CV] mlp__hidden_layer_sizes=400, mlp__max_iter=1000, mlp__solver=sgd \n",
            "[CV]  mlp__hidden_layer_sizes=400, mlp__max_iter=1000, mlp__solver=sgd, score=0.682, total=   8.3s\n",
            "[CV] mlp__hidden_layer_sizes=400, mlp__max_iter=1000, mlp__solver=sgd \n",
            "[CV]  mlp__hidden_layer_sizes=400, mlp__max_iter=1000, mlp__solver=sgd, score=0.698, total=   8.2s\n",
            "[CV] mlp__hidden_layer_sizes=400, mlp__max_iter=1000, mlp__solver=adam \n",
            "[CV]  mlp__hidden_layer_sizes=400, mlp__max_iter=1000, mlp__solver=adam, score=0.773, total=   2.0s\n",
            "[CV] mlp__hidden_layer_sizes=400, mlp__max_iter=1000, mlp__solver=adam \n",
            "[CV]  mlp__hidden_layer_sizes=400, mlp__max_iter=1000, mlp__solver=adam, score=0.682, total=   2.2s\n",
            "[CV] mlp__hidden_layer_sizes=400, mlp__max_iter=1000, mlp__solver=adam \n",
            "[CV]  mlp__hidden_layer_sizes=400, mlp__max_iter=1000, mlp__solver=adam, score=0.628, total=   2.2s\n",
            "[CV] mlp__hidden_layer_sizes=400, mlp__max_iter=5000, mlp__solver=sgd \n",
            "[CV]  mlp__hidden_layer_sizes=400, mlp__max_iter=5000, mlp__solver=sgd, score=0.727, total=   9.6s\n",
            "[CV] mlp__hidden_layer_sizes=400, mlp__max_iter=5000, mlp__solver=sgd \n",
            "[CV]  mlp__hidden_layer_sizes=400, mlp__max_iter=5000, mlp__solver=sgd, score=0.682, total=   8.4s\n",
            "[CV] mlp__hidden_layer_sizes=400, mlp__max_iter=5000, mlp__solver=sgd \n",
            "[CV]  mlp__hidden_layer_sizes=400, mlp__max_iter=5000, mlp__solver=sgd, score=0.698, total=   8.2s\n",
            "[CV] mlp__hidden_layer_sizes=400, mlp__max_iter=5000, mlp__solver=adam \n",
            "[CV]  mlp__hidden_layer_sizes=400, mlp__max_iter=5000, mlp__solver=adam, score=0.773, total=   2.0s\n",
            "[CV] mlp__hidden_layer_sizes=400, mlp__max_iter=5000, mlp__solver=adam \n",
            "[CV]  mlp__hidden_layer_sizes=400, mlp__max_iter=5000, mlp__solver=adam, score=0.682, total=   2.2s\n",
            "[CV] mlp__hidden_layer_sizes=400, mlp__max_iter=5000, mlp__solver=adam \n",
            "[CV]  mlp__hidden_layer_sizes=400, mlp__max_iter=5000, mlp__solver=adam, score=0.628, total=   2.2s\n",
            "[CV] mlp__hidden_layer_sizes=400, mlp__max_iter=10000, mlp__solver=sgd \n",
            "[CV]  mlp__hidden_layer_sizes=400, mlp__max_iter=10000, mlp__solver=sgd, score=0.727, total=   9.7s\n",
            "[CV] mlp__hidden_layer_sizes=400, mlp__max_iter=10000, mlp__solver=sgd \n",
            "[CV]  mlp__hidden_layer_sizes=400, mlp__max_iter=10000, mlp__solver=sgd, score=0.682, total=   8.3s\n",
            "[CV] mlp__hidden_layer_sizes=400, mlp__max_iter=10000, mlp__solver=sgd \n",
            "[CV]  mlp__hidden_layer_sizes=400, mlp__max_iter=10000, mlp__solver=sgd, score=0.698, total=   8.2s\n",
            "[CV] mlp__hidden_layer_sizes=400, mlp__max_iter=10000, mlp__solver=adam \n",
            "[CV]  mlp__hidden_layer_sizes=400, mlp__max_iter=10000, mlp__solver=adam, score=0.773, total=   2.0s\n",
            "[CV] mlp__hidden_layer_sizes=400, mlp__max_iter=10000, mlp__solver=adam \n",
            "[CV]  mlp__hidden_layer_sizes=400, mlp__max_iter=10000, mlp__solver=adam, score=0.682, total=   2.2s\n",
            "[CV] mlp__hidden_layer_sizes=400, mlp__max_iter=10000, mlp__solver=adam \n",
            "[CV]  mlp__hidden_layer_sizes=400, mlp__max_iter=10000, mlp__solver=adam, score=0.628, total=   2.2s\n",
            "[CV] mlp__hidden_layer_sizes=500, mlp__max_iter=200, mlp__solver=sgd .\n"
          ],
          "name": "stdout"
        },
        {
          "output_type": "stream",
          "text": [
            "/usr/local/lib/python3.6/dist-packages/sklearn/neural_network/_multilayer_perceptron.py:571: ConvergenceWarning: Stochastic Optimizer: Maximum iterations (200) reached and the optimization hasn't converged yet.\n",
            "  % self.max_iter, ConvergenceWarning)\n"
          ],
          "name": "stderr"
        },
        {
          "output_type": "stream",
          "text": [
            "[CV]  mlp__hidden_layer_sizes=500, mlp__max_iter=200, mlp__solver=sgd, score=0.727, total=   9.1s\n",
            "[CV] mlp__hidden_layer_sizes=500, mlp__max_iter=200, mlp__solver=sgd .\n"
          ],
          "name": "stdout"
        },
        {
          "output_type": "stream",
          "text": [
            "/usr/local/lib/python3.6/dist-packages/sklearn/neural_network/_multilayer_perceptron.py:571: ConvergenceWarning: Stochastic Optimizer: Maximum iterations (200) reached and the optimization hasn't converged yet.\n",
            "  % self.max_iter, ConvergenceWarning)\n"
          ],
          "name": "stderr"
        },
        {
          "output_type": "stream",
          "text": [
            "[CV]  mlp__hidden_layer_sizes=500, mlp__max_iter=200, mlp__solver=sgd, score=0.727, total=   9.2s\n",
            "[CV] mlp__hidden_layer_sizes=500, mlp__max_iter=200, mlp__solver=sgd .\n"
          ],
          "name": "stdout"
        },
        {
          "output_type": "stream",
          "text": [
            "/usr/local/lib/python3.6/dist-packages/sklearn/neural_network/_multilayer_perceptron.py:571: ConvergenceWarning: Stochastic Optimizer: Maximum iterations (200) reached and the optimization hasn't converged yet.\n",
            "  % self.max_iter, ConvergenceWarning)\n"
          ],
          "name": "stderr"
        },
        {
          "output_type": "stream",
          "text": [
            "[CV]  mlp__hidden_layer_sizes=500, mlp__max_iter=200, mlp__solver=sgd, score=0.721, total=   9.2s\n",
            "[CV] mlp__hidden_layer_sizes=500, mlp__max_iter=200, mlp__solver=adam \n",
            "[CV]  mlp__hidden_layer_sizes=500, mlp__max_iter=200, mlp__solver=adam, score=0.750, total=   2.1s\n",
            "[CV] mlp__hidden_layer_sizes=500, mlp__max_iter=200, mlp__solver=adam \n",
            "[CV]  mlp__hidden_layer_sizes=500, mlp__max_iter=200, mlp__solver=adam, score=0.659, total=   2.2s\n",
            "[CV] mlp__hidden_layer_sizes=500, mlp__max_iter=200, mlp__solver=adam \n",
            "[CV]  mlp__hidden_layer_sizes=500, mlp__max_iter=200, mlp__solver=adam, score=0.698, total=   2.1s\n",
            "[CV] mlp__hidden_layer_sizes=500, mlp__max_iter=500, mlp__solver=sgd .\n",
            "[CV]  mlp__hidden_layer_sizes=500, mlp__max_iter=500, mlp__solver=sgd, score=0.727, total=  11.8s\n",
            "[CV] mlp__hidden_layer_sizes=500, mlp__max_iter=500, mlp__solver=sgd .\n",
            "[CV]  mlp__hidden_layer_sizes=500, mlp__max_iter=500, mlp__solver=sgd, score=0.727, total=  11.2s\n",
            "[CV] mlp__hidden_layer_sizes=500, mlp__max_iter=500, mlp__solver=sgd .\n",
            "[CV]  mlp__hidden_layer_sizes=500, mlp__max_iter=500, mlp__solver=sgd, score=0.721, total=  11.2s\n",
            "[CV] mlp__hidden_layer_sizes=500, mlp__max_iter=500, mlp__solver=adam \n",
            "[CV]  mlp__hidden_layer_sizes=500, mlp__max_iter=500, mlp__solver=adam, score=0.750, total=   2.0s\n",
            "[CV] mlp__hidden_layer_sizes=500, mlp__max_iter=500, mlp__solver=adam \n",
            "[CV]  mlp__hidden_layer_sizes=500, mlp__max_iter=500, mlp__solver=adam, score=0.659, total=   2.2s\n",
            "[CV] mlp__hidden_layer_sizes=500, mlp__max_iter=500, mlp__solver=adam \n",
            "[CV]  mlp__hidden_layer_sizes=500, mlp__max_iter=500, mlp__solver=adam, score=0.698, total=   2.1s\n",
            "[CV] mlp__hidden_layer_sizes=500, mlp__max_iter=1000, mlp__solver=sgd \n",
            "[CV]  mlp__hidden_layer_sizes=500, mlp__max_iter=1000, mlp__solver=sgd, score=0.727, total=  11.8s\n",
            "[CV] mlp__hidden_layer_sizes=500, mlp__max_iter=1000, mlp__solver=sgd \n",
            "[CV]  mlp__hidden_layer_sizes=500, mlp__max_iter=1000, mlp__solver=sgd, score=0.727, total=  11.2s\n",
            "[CV] mlp__hidden_layer_sizes=500, mlp__max_iter=1000, mlp__solver=sgd \n",
            "[CV]  mlp__hidden_layer_sizes=500, mlp__max_iter=1000, mlp__solver=sgd, score=0.721, total=  11.2s\n",
            "[CV] mlp__hidden_layer_sizes=500, mlp__max_iter=1000, mlp__solver=adam \n",
            "[CV]  mlp__hidden_layer_sizes=500, mlp__max_iter=1000, mlp__solver=adam, score=0.750, total=   2.1s\n",
            "[CV] mlp__hidden_layer_sizes=500, mlp__max_iter=1000, mlp__solver=adam \n",
            "[CV]  mlp__hidden_layer_sizes=500, mlp__max_iter=1000, mlp__solver=adam, score=0.659, total=   2.2s\n",
            "[CV] mlp__hidden_layer_sizes=500, mlp__max_iter=1000, mlp__solver=adam \n",
            "[CV]  mlp__hidden_layer_sizes=500, mlp__max_iter=1000, mlp__solver=adam, score=0.698, total=   2.1s\n",
            "[CV] mlp__hidden_layer_sizes=500, mlp__max_iter=5000, mlp__solver=sgd \n",
            "[CV]  mlp__hidden_layer_sizes=500, mlp__max_iter=5000, mlp__solver=sgd, score=0.727, total=  11.7s\n",
            "[CV] mlp__hidden_layer_sizes=500, mlp__max_iter=5000, mlp__solver=sgd \n",
            "[CV]  mlp__hidden_layer_sizes=500, mlp__max_iter=5000, mlp__solver=sgd, score=0.727, total=  11.4s\n",
            "[CV] mlp__hidden_layer_sizes=500, mlp__max_iter=5000, mlp__solver=sgd \n",
            "[CV]  mlp__hidden_layer_sizes=500, mlp__max_iter=5000, mlp__solver=sgd, score=0.721, total=  11.3s\n",
            "[CV] mlp__hidden_layer_sizes=500, mlp__max_iter=5000, mlp__solver=adam \n",
            "[CV]  mlp__hidden_layer_sizes=500, mlp__max_iter=5000, mlp__solver=adam, score=0.750, total=   2.0s\n",
            "[CV] mlp__hidden_layer_sizes=500, mlp__max_iter=5000, mlp__solver=adam \n",
            "[CV]  mlp__hidden_layer_sizes=500, mlp__max_iter=5000, mlp__solver=adam, score=0.659, total=   2.2s\n",
            "[CV] mlp__hidden_layer_sizes=500, mlp__max_iter=5000, mlp__solver=adam \n",
            "[CV]  mlp__hidden_layer_sizes=500, mlp__max_iter=5000, mlp__solver=adam, score=0.698, total=   2.2s\n",
            "[CV] mlp__hidden_layer_sizes=500, mlp__max_iter=10000, mlp__solver=sgd \n",
            "[CV]  mlp__hidden_layer_sizes=500, mlp__max_iter=10000, mlp__solver=sgd, score=0.727, total=  11.8s\n",
            "[CV] mlp__hidden_layer_sizes=500, mlp__max_iter=10000, mlp__solver=sgd \n",
            "[CV]  mlp__hidden_layer_sizes=500, mlp__max_iter=10000, mlp__solver=sgd, score=0.727, total=  11.1s\n",
            "[CV] mlp__hidden_layer_sizes=500, mlp__max_iter=10000, mlp__solver=sgd \n",
            "[CV]  mlp__hidden_layer_sizes=500, mlp__max_iter=10000, mlp__solver=sgd, score=0.721, total=  11.3s\n",
            "[CV] mlp__hidden_layer_sizes=500, mlp__max_iter=10000, mlp__solver=adam \n",
            "[CV]  mlp__hidden_layer_sizes=500, mlp__max_iter=10000, mlp__solver=adam, score=0.750, total=   2.1s\n",
            "[CV] mlp__hidden_layer_sizes=500, mlp__max_iter=10000, mlp__solver=adam \n",
            "[CV]  mlp__hidden_layer_sizes=500, mlp__max_iter=10000, mlp__solver=adam, score=0.659, total=   2.2s\n",
            "[CV] mlp__hidden_layer_sizes=500, mlp__max_iter=10000, mlp__solver=adam \n",
            "[CV]  mlp__hidden_layer_sizes=500, mlp__max_iter=10000, mlp__solver=adam, score=0.698, total=   2.2s\n"
          ],
          "name": "stdout"
        },
        {
          "output_type": "stream",
          "text": [
            "[Parallel(n_jobs=1)]: Done 150 out of 150 | elapsed:  9.9min finished\n"
          ],
          "name": "stderr"
        },
        {
          "output_type": "execute_result",
          "data": {
            "text/plain": [
              "GridSearchCV(cv=3, error_score=nan,\n",
              "             estimator=Pipeline(memory=None,\n",
              "                                steps=[('scaler',\n",
              "                                        StandardScaler(copy=True,\n",
              "                                                       with_mean=True,\n",
              "                                                       with_std=True)),\n",
              "                                       ('mlp',\n",
              "                                        MLPClassifier(activation='relu',\n",
              "                                                      alpha=0.0001,\n",
              "                                                      batch_size='auto',\n",
              "                                                      beta_1=0.9, beta_2=0.999,\n",
              "                                                      early_stopping=False,\n",
              "                                                      epsilon=1e-08,\n",
              "                                                      hidden_layer_sizes=(100,),\n",
              "                                                      learning_rate='constant',\n",
              "                                                      learning_rate_init=0.001,\n",
              "                                                      max_fun...\n",
              "                                                      shuffle=True,\n",
              "                                                      solver='adam', tol=0.0001,\n",
              "                                                      validation_fraction=0.1,\n",
              "                                                      verbose=False,\n",
              "                                                      warm_start=False))],\n",
              "                                verbose=False),\n",
              "             iid='deprecated', n_jobs=None,\n",
              "             param_grid={'mlp__hidden_layer_sizes': [100, 200, 300, 400, 500],\n",
              "                         'mlp__max_iter': [200, 500, 1000, 5000, 10000],\n",
              "                         'mlp__solver': ['sgd', 'adam']},\n",
              "             pre_dispatch='2*n_jobs', refit=True, return_train_score=False,\n",
              "             scoring='accuracy', verbose=3)"
            ]
          },
          "metadata": {
            "tags": []
          },
          "execution_count": 175
        }
      ]
    },
    {
      "cell_type": "code",
      "metadata": {
        "id": "P-KhOhOWc_Mb",
        "outputId": "e17a7302-27c3-4b28-d80c-020424d02042",
        "colab": {
          "base_uri": "https://localhost:8080/",
          "height": 1000
        }
      },
      "source": [
        "print(clf.scorer_)\n",
        "print(clf.cv_results_)\n",
        "print(clf.score)\n",
        "print(clf.estimator)\n",
        "print(clf.best_params_)\n",
        "print(clf.best_score_)"
      ],
      "execution_count": null,
      "outputs": [
        {
          "output_type": "stream",
          "text": [
            "make_scorer(accuracy_score)\n",
            "{'mean_fit_time': array([ 1.95418557,  0.5268089 ,  2.56102117,  0.51234007,  2.53422133,\n",
            "        0.53050669,  2.5475568 ,  0.5318493 ,  2.54986803,  0.5218842 ,\n",
            "        3.31132332,  1.02819705,  4.45152092,  1.0084792 ,  4.47433122,\n",
            "        0.99630054,  4.48398248,  1.01953491,  4.49978439,  1.00418472,\n",
            "        5.2764465 ,  1.31742779,  6.7446514 ,  1.34098005,  6.77496592,\n",
            "        1.36277374,  6.78245974,  1.33597279,  6.8855594 ,  1.36191312,\n",
            "        6.76693614,  2.14678001,  8.670379  ,  2.14113784,  8.71045391,\n",
            "        2.11992343,  8.69295692,  2.12389898,  8.70580943,  2.16327055,\n",
            "        9.17042017,  2.14632026, 11.38471746,  2.10320822, 11.39685194,\n",
            "        2.1372443 , 11.4434429 ,  2.12073088, 11.42367792,  2.1387523 ]), 'std_fit_time': array([0.02647935, 0.04752473, 0.07223502, 0.05436511, 0.03751441,\n",
            "       0.04412475, 0.08270243, 0.05057539, 0.06626031, 0.05111824,\n",
            "       0.01412089, 0.08423411, 0.15253597, 0.06573172, 0.17723859,\n",
            "       0.06798297, 0.19754325, 0.08279313, 0.20470222, 0.06362552,\n",
            "       0.0145607 , 0.06636118, 0.27072673, 0.06404098, 0.24254014,\n",
            "       0.04320891, 0.32946432, 0.06334133, 0.34301423, 0.06622556,\n",
            "       0.03267013, 0.07011578, 0.64498301, 0.08762171, 0.67525095,\n",
            "       0.09264132, 0.61033309, 0.08585717, 0.67061633, 0.10777294,\n",
            "       0.04287545, 0.06448133, 0.30432354, 0.07650934, 0.26971176,\n",
            "       0.07845146, 0.21076483, 0.07860761, 0.29380062, 0.06680537]), 'mean_score_time': array([0.00311653, 0.00301743, 0.0030086 , 0.00301186, 0.00334009,\n",
            "       0.00336011, 0.00307083, 0.00303443, 0.00309594, 0.00294065,\n",
            "       0.00437665, 0.0043234 , 0.00426515, 0.00431911, 0.00775425,\n",
            "       0.0043323 , 0.00444849, 0.00441925, 0.00418941, 0.00446272,\n",
            "       0.00561412, 0.00893394, 0.00547147, 0.00600108, 0.00582528,\n",
            "       0.00587074, 0.00568374, 0.00597453, 0.0058856 , 0.00577688,\n",
            "       0.00708024, 0.0073208 , 0.00725619, 0.00720239, 0.00743055,\n",
            "       0.00743492, 0.00728623, 0.0070943 , 0.00737317, 0.00747546,\n",
            "       0.00916298, 0.00889349, 0.0089012 , 0.00846457, 0.00879892,\n",
            "       0.00941761, 0.00886909, 0.00968393, 0.0090878 , 0.0090572 ]), 'std_score_time': array([1.71214459e-04, 1.22256900e-04, 1.11921885e-04, 2.83135378e-05,\n",
            "       2.44093149e-04, 1.28937263e-04, 6.51544658e-05, 3.69737604e-05,\n",
            "       1.59735506e-04, 5.56889868e-05, 1.35488197e-04, 2.11236918e-04,\n",
            "       1.44646325e-04, 1.99630382e-05, 4.76045825e-03, 7.76749533e-05,\n",
            "       2.65488149e-04, 1.28045403e-04, 6.93319515e-05, 2.55195062e-04,\n",
            "       2.95552524e-04, 4.66150498e-03, 2.04936083e-04, 4.03787812e-04,\n",
            "       1.14262627e-04, 1.71495765e-04, 3.50138462e-04, 3.42938254e-04,\n",
            "       4.94187867e-04, 7.43063163e-05, 3.57979143e-05, 2.03340098e-04,\n",
            "       1.51517378e-04, 2.19864421e-04, 2.44744849e-04, 3.43698407e-04,\n",
            "       8.90008036e-05, 1.37248685e-04, 1.39255818e-04, 8.00803640e-04,\n",
            "       5.27062412e-04, 1.36373760e-04, 3.97317264e-04, 1.84814336e-04,\n",
            "       7.59031133e-05, 5.00097934e-04, 8.41970598e-05, 1.12304182e-03,\n",
            "       2.32137271e-04, 3.21856506e-04]), 'param_mlp__hidden_layer_sizes': masked_array(data=[100, 100, 100, 100, 100, 100, 100, 100, 100, 100, 200,\n",
            "                   200, 200, 200, 200, 200, 200, 200, 200, 200, 300, 300,\n",
            "                   300, 300, 300, 300, 300, 300, 300, 300, 400, 400, 400,\n",
            "                   400, 400, 400, 400, 400, 400, 400, 500, 500, 500, 500,\n",
            "                   500, 500, 500, 500, 500, 500],\n",
            "             mask=[False, False, False, False, False, False, False, False,\n",
            "                   False, False, False, False, False, False, False, False,\n",
            "                   False, False, False, False, False, False, False, False,\n",
            "                   False, False, False, False, False, False, False, False,\n",
            "                   False, False, False, False, False, False, False, False,\n",
            "                   False, False, False, False, False, False, False, False,\n",
            "                   False, False],\n",
            "       fill_value='?',\n",
            "            dtype=object), 'param_mlp__max_iter': masked_array(data=[200, 200, 500, 500, 1000, 1000, 5000, 5000, 10000,\n",
            "                   10000, 200, 200, 500, 500, 1000, 1000, 5000, 5000,\n",
            "                   10000, 10000, 200, 200, 500, 500, 1000, 1000, 5000,\n",
            "                   5000, 10000, 10000, 200, 200, 500, 500, 1000, 1000,\n",
            "                   5000, 5000, 10000, 10000, 200, 200, 500, 500, 1000,\n",
            "                   1000, 5000, 5000, 10000, 10000],\n",
            "             mask=[False, False, False, False, False, False, False, False,\n",
            "                   False, False, False, False, False, False, False, False,\n",
            "                   False, False, False, False, False, False, False, False,\n",
            "                   False, False, False, False, False, False, False, False,\n",
            "                   False, False, False, False, False, False, False, False,\n",
            "                   False, False, False, False, False, False, False, False,\n",
            "                   False, False],\n",
            "       fill_value='?',\n",
            "            dtype=object), 'param_mlp__solver': masked_array(data=['sgd', 'adam', 'sgd', 'adam', 'sgd', 'adam', 'sgd',\n",
            "                   'adam', 'sgd', 'adam', 'sgd', 'adam', 'sgd', 'adam',\n",
            "                   'sgd', 'adam', 'sgd', 'adam', 'sgd', 'adam', 'sgd',\n",
            "                   'adam', 'sgd', 'adam', 'sgd', 'adam', 'sgd', 'adam',\n",
            "                   'sgd', 'adam', 'sgd', 'adam', 'sgd', 'adam', 'sgd',\n",
            "                   'adam', 'sgd', 'adam', 'sgd', 'adam', 'sgd', 'adam',\n",
            "                   'sgd', 'adam', 'sgd', 'adam', 'sgd', 'adam', 'sgd',\n",
            "                   'adam'],\n",
            "             mask=[False, False, False, False, False, False, False, False,\n",
            "                   False, False, False, False, False, False, False, False,\n",
            "                   False, False, False, False, False, False, False, False,\n",
            "                   False, False, False, False, False, False, False, False,\n",
            "                   False, False, False, False, False, False, False, False,\n",
            "                   False, False, False, False, False, False, False, False,\n",
            "                   False, False],\n",
            "       fill_value='?',\n",
            "            dtype=object), 'params': [{'mlp__hidden_layer_sizes': 100, 'mlp__max_iter': 200, 'mlp__solver': 'sgd'}, {'mlp__hidden_layer_sizes': 100, 'mlp__max_iter': 200, 'mlp__solver': 'adam'}, {'mlp__hidden_layer_sizes': 100, 'mlp__max_iter': 500, 'mlp__solver': 'sgd'}, {'mlp__hidden_layer_sizes': 100, 'mlp__max_iter': 500, 'mlp__solver': 'adam'}, {'mlp__hidden_layer_sizes': 100, 'mlp__max_iter': 1000, 'mlp__solver': 'sgd'}, {'mlp__hidden_layer_sizes': 100, 'mlp__max_iter': 1000, 'mlp__solver': 'adam'}, {'mlp__hidden_layer_sizes': 100, 'mlp__max_iter': 5000, 'mlp__solver': 'sgd'}, {'mlp__hidden_layer_sizes': 100, 'mlp__max_iter': 5000, 'mlp__solver': 'adam'}, {'mlp__hidden_layer_sizes': 100, 'mlp__max_iter': 10000, 'mlp__solver': 'sgd'}, {'mlp__hidden_layer_sizes': 100, 'mlp__max_iter': 10000, 'mlp__solver': 'adam'}, {'mlp__hidden_layer_sizes': 200, 'mlp__max_iter': 200, 'mlp__solver': 'sgd'}, {'mlp__hidden_layer_sizes': 200, 'mlp__max_iter': 200, 'mlp__solver': 'adam'}, {'mlp__hidden_layer_sizes': 200, 'mlp__max_iter': 500, 'mlp__solver': 'sgd'}, {'mlp__hidden_layer_sizes': 200, 'mlp__max_iter': 500, 'mlp__solver': 'adam'}, {'mlp__hidden_layer_sizes': 200, 'mlp__max_iter': 1000, 'mlp__solver': 'sgd'}, {'mlp__hidden_layer_sizes': 200, 'mlp__max_iter': 1000, 'mlp__solver': 'adam'}, {'mlp__hidden_layer_sizes': 200, 'mlp__max_iter': 5000, 'mlp__solver': 'sgd'}, {'mlp__hidden_layer_sizes': 200, 'mlp__max_iter': 5000, 'mlp__solver': 'adam'}, {'mlp__hidden_layer_sizes': 200, 'mlp__max_iter': 10000, 'mlp__solver': 'sgd'}, {'mlp__hidden_layer_sizes': 200, 'mlp__max_iter': 10000, 'mlp__solver': 'adam'}, {'mlp__hidden_layer_sizes': 300, 'mlp__max_iter': 200, 'mlp__solver': 'sgd'}, {'mlp__hidden_layer_sizes': 300, 'mlp__max_iter': 200, 'mlp__solver': 'adam'}, {'mlp__hidden_layer_sizes': 300, 'mlp__max_iter': 500, 'mlp__solver': 'sgd'}, {'mlp__hidden_layer_sizes': 300, 'mlp__max_iter': 500, 'mlp__solver': 'adam'}, {'mlp__hidden_layer_sizes': 300, 'mlp__max_iter': 1000, 'mlp__solver': 'sgd'}, {'mlp__hidden_layer_sizes': 300, 'mlp__max_iter': 1000, 'mlp__solver': 'adam'}, {'mlp__hidden_layer_sizes': 300, 'mlp__max_iter': 5000, 'mlp__solver': 'sgd'}, {'mlp__hidden_layer_sizes': 300, 'mlp__max_iter': 5000, 'mlp__solver': 'adam'}, {'mlp__hidden_layer_sizes': 300, 'mlp__max_iter': 10000, 'mlp__solver': 'sgd'}, {'mlp__hidden_layer_sizes': 300, 'mlp__max_iter': 10000, 'mlp__solver': 'adam'}, {'mlp__hidden_layer_sizes': 400, 'mlp__max_iter': 200, 'mlp__solver': 'sgd'}, {'mlp__hidden_layer_sizes': 400, 'mlp__max_iter': 200, 'mlp__solver': 'adam'}, {'mlp__hidden_layer_sizes': 400, 'mlp__max_iter': 500, 'mlp__solver': 'sgd'}, {'mlp__hidden_layer_sizes': 400, 'mlp__max_iter': 500, 'mlp__solver': 'adam'}, {'mlp__hidden_layer_sizes': 400, 'mlp__max_iter': 1000, 'mlp__solver': 'sgd'}, {'mlp__hidden_layer_sizes': 400, 'mlp__max_iter': 1000, 'mlp__solver': 'adam'}, {'mlp__hidden_layer_sizes': 400, 'mlp__max_iter': 5000, 'mlp__solver': 'sgd'}, {'mlp__hidden_layer_sizes': 400, 'mlp__max_iter': 5000, 'mlp__solver': 'adam'}, {'mlp__hidden_layer_sizes': 400, 'mlp__max_iter': 10000, 'mlp__solver': 'sgd'}, {'mlp__hidden_layer_sizes': 400, 'mlp__max_iter': 10000, 'mlp__solver': 'adam'}, {'mlp__hidden_layer_sizes': 500, 'mlp__max_iter': 200, 'mlp__solver': 'sgd'}, {'mlp__hidden_layer_sizes': 500, 'mlp__max_iter': 200, 'mlp__solver': 'adam'}, {'mlp__hidden_layer_sizes': 500, 'mlp__max_iter': 500, 'mlp__solver': 'sgd'}, {'mlp__hidden_layer_sizes': 500, 'mlp__max_iter': 500, 'mlp__solver': 'adam'}, {'mlp__hidden_layer_sizes': 500, 'mlp__max_iter': 1000, 'mlp__solver': 'sgd'}, {'mlp__hidden_layer_sizes': 500, 'mlp__max_iter': 1000, 'mlp__solver': 'adam'}, {'mlp__hidden_layer_sizes': 500, 'mlp__max_iter': 5000, 'mlp__solver': 'sgd'}, {'mlp__hidden_layer_sizes': 500, 'mlp__max_iter': 5000, 'mlp__solver': 'adam'}, {'mlp__hidden_layer_sizes': 500, 'mlp__max_iter': 10000, 'mlp__solver': 'sgd'}, {'mlp__hidden_layer_sizes': 500, 'mlp__max_iter': 10000, 'mlp__solver': 'adam'}], 'split0_test_score': array([0.72727273, 0.72727273, 0.72727273, 0.72727273, 0.72727273,\n",
            "       0.72727273, 0.72727273, 0.72727273, 0.72727273, 0.72727273,\n",
            "       0.68181818, 0.70454545, 0.68181818, 0.70454545, 0.68181818,\n",
            "       0.70454545, 0.68181818, 0.70454545, 0.68181818, 0.70454545,\n",
            "       0.77272727, 0.65909091, 0.79545455, 0.65909091, 0.79545455,\n",
            "       0.65909091, 0.79545455, 0.65909091, 0.79545455, 0.65909091,\n",
            "       0.72727273, 0.77272727, 0.72727273, 0.77272727, 0.72727273,\n",
            "       0.77272727, 0.72727273, 0.77272727, 0.72727273, 0.77272727,\n",
            "       0.72727273, 0.75      , 0.72727273, 0.75      , 0.72727273,\n",
            "       0.75      , 0.72727273, 0.75      , 0.72727273, 0.75      ]), 'split1_test_score': array([0.65909091, 0.65909091, 0.65909091, 0.65909091, 0.65909091,\n",
            "       0.65909091, 0.65909091, 0.65909091, 0.65909091, 0.65909091,\n",
            "       0.65909091, 0.68181818, 0.65909091, 0.68181818, 0.65909091,\n",
            "       0.68181818, 0.65909091, 0.68181818, 0.65909091, 0.68181818,\n",
            "       0.72727273, 0.63636364, 0.72727273, 0.63636364, 0.72727273,\n",
            "       0.63636364, 0.72727273, 0.63636364, 0.72727273, 0.63636364,\n",
            "       0.68181818, 0.68181818, 0.68181818, 0.68181818, 0.68181818,\n",
            "       0.68181818, 0.68181818, 0.68181818, 0.68181818, 0.68181818,\n",
            "       0.72727273, 0.65909091, 0.72727273, 0.65909091, 0.72727273,\n",
            "       0.65909091, 0.72727273, 0.65909091, 0.72727273, 0.65909091]), 'split2_test_score': array([0.62790698, 0.6744186 , 0.62790698, 0.6744186 , 0.62790698,\n",
            "       0.6744186 , 0.62790698, 0.6744186 , 0.62790698, 0.6744186 ,\n",
            "       0.69767442, 0.6744186 , 0.69767442, 0.6744186 , 0.69767442,\n",
            "       0.6744186 , 0.69767442, 0.6744186 , 0.69767442, 0.6744186 ,\n",
            "       0.65116279, 0.65116279, 0.6744186 , 0.65116279, 0.6744186 ,\n",
            "       0.65116279, 0.6744186 , 0.65116279, 0.6744186 , 0.65116279,\n",
            "       0.69767442, 0.62790698, 0.69767442, 0.62790698, 0.69767442,\n",
            "       0.62790698, 0.69767442, 0.62790698, 0.69767442, 0.62790698,\n",
            "       0.72093023, 0.69767442, 0.72093023, 0.69767442, 0.72093023,\n",
            "       0.69767442, 0.72093023, 0.69767442, 0.72093023, 0.69767442]), 'mean_test_score': array([0.67142354, 0.68692741, 0.67142354, 0.68692741, 0.67142354,\n",
            "       0.68692741, 0.67142354, 0.68692741, 0.67142354, 0.68692741,\n",
            "       0.67952784, 0.68692741, 0.67952784, 0.68692741, 0.67952784,\n",
            "       0.68692741, 0.67952784, 0.68692741, 0.67952784, 0.68692741,\n",
            "       0.71705426, 0.64887245, 0.73238196, 0.64887245, 0.73238196,\n",
            "       0.64887245, 0.73238196, 0.64887245, 0.73238196, 0.64887245,\n",
            "       0.70225511, 0.69415081, 0.70225511, 0.69415081, 0.70225511,\n",
            "       0.69415081, 0.70225511, 0.69415081, 0.70225511, 0.69415081,\n",
            "       0.72515856, 0.70225511, 0.72515856, 0.70225511, 0.72515856,\n",
            "       0.70225511, 0.72515856, 0.70225511, 0.72515856, 0.70225511]), 'std_test_score': array([0.04149264, 0.02920665, 0.04149264, 0.02920665, 0.04149264,\n",
            "       0.02920665, 0.04149264, 0.02920665, 0.04149264, 0.02920665,\n",
            "       0.01583469, 0.01281887, 0.01583469, 0.01281887, 0.01583469,\n",
            "       0.01281887, 0.01583469, 0.01281887, 0.01583469, 0.01281887,\n",
            "       0.05015173, 0.00941865, 0.04954461, 0.00941865, 0.04954461,\n",
            "       0.00941865, 0.04954461, 0.00941865, 0.04954461, 0.00941865,\n",
            "       0.0188373 , 0.05976231, 0.0188373 , 0.05976231, 0.0188373 ,\n",
            "       0.05976231, 0.0188373 , 0.05976231, 0.0188373 , 0.05976231,\n",
            "       0.00298988, 0.03725455, 0.00298988, 0.03725455, 0.00298988,\n",
            "       0.03725455, 0.00298988, 0.03725455, 0.00298988, 0.03725455]), 'rank_test_score': array([41, 26, 41, 26, 41, 26, 41, 26, 41, 26, 36, 26, 36, 26, 36, 26, 36,\n",
            "       26, 36, 26, 10, 46,  1, 46,  1, 46,  1, 46,  1, 46, 11, 21, 11, 21,\n",
            "       11, 21, 11, 21, 11, 21,  5, 11,  5, 11,  5, 11,  5, 11,  5, 11],\n",
            "      dtype=int32)}\n",
            "<bound method BaseSearchCV.score of GridSearchCV(cv=3, error_score=nan,\n",
            "             estimator=Pipeline(memory=None,\n",
            "                                steps=[('scaler',\n",
            "                                        StandardScaler(copy=True,\n",
            "                                                       with_mean=True,\n",
            "                                                       with_std=True)),\n",
            "                                       ('mlp',\n",
            "                                        MLPClassifier(activation='relu',\n",
            "                                                      alpha=0.0001,\n",
            "                                                      batch_size='auto',\n",
            "                                                      beta_1=0.9, beta_2=0.999,\n",
            "                                                      early_stopping=False,\n",
            "                                                      epsilon=1e-08,\n",
            "                                                      hidden_layer_sizes=(100,),\n",
            "                                                      learning_rate='constant',\n",
            "                                                      learning_rate_init=0.001,\n",
            "                                                      max_fun...\n",
            "                                                      shuffle=True,\n",
            "                                                      solver='adam', tol=0.0001,\n",
            "                                                      validation_fraction=0.1,\n",
            "                                                      verbose=False,\n",
            "                                                      warm_start=False))],\n",
            "                                verbose=False),\n",
            "             iid='deprecated', n_jobs=None,\n",
            "             param_grid={'mlp__hidden_layer_sizes': [100, 200, 300, 400, 500],\n",
            "                         'mlp__max_iter': [200, 500, 1000, 5000, 10000],\n",
            "                         'mlp__solver': ['sgd', 'adam']},\n",
            "             pre_dispatch='2*n_jobs', refit=True, return_train_score=False,\n",
            "             scoring='accuracy', verbose=3)>\n",
            "Pipeline(memory=None,\n",
            "         steps=[('scaler',\n",
            "                 StandardScaler(copy=True, with_mean=True, with_std=True)),\n",
            "                ('mlp',\n",
            "                 MLPClassifier(activation='relu', alpha=0.0001,\n",
            "                               batch_size='auto', beta_1=0.9, beta_2=0.999,\n",
            "                               early_stopping=False, epsilon=1e-08,\n",
            "                               hidden_layer_sizes=(100,),\n",
            "                               learning_rate='constant',\n",
            "                               learning_rate_init=0.001, max_fun=15000,\n",
            "                               max_iter=200, momentum=0.9, n_iter_no_change=10,\n",
            "                               nesterovs_momentum=True, power_t=0.5,\n",
            "                               random_state=42, shuffle=True, solver='adam',\n",
            "                               tol=0.0001, validation_fraction=0.1,\n",
            "                               verbose=False, warm_start=False))],\n",
            "         verbose=False)\n",
            "{'mlp__hidden_layer_sizes': 300, 'mlp__max_iter': 500, 'mlp__solver': 'sgd'}\n",
            "0.7323819591261452\n"
          ],
          "name": "stdout"
        }
      ]
    },
    {
      "cell_type": "code",
      "metadata": {
        "id": "UTyjqsmfqlF7",
        "outputId": "b37e44bc-16bb-4fc6-d8a7-db275f39a8a1",
        "colab": {
          "base_uri": "https://localhost:8080/",
          "height": 1000
        }
      },
      "source": [
        "from sklearn.model_selection import GridSearchCV\n",
        "scaler_tuple = ('scaler', StandardScaler())\n",
        "svc_model_tuple = ('svc', LinearSVC(random_state=42))\n",
        "svc_pipe = Pipeline([scaler_tuple, svc_model_tuple])\n",
        "svc_pipe.fit(X, y)\n",
        "svc_parms = {'svc__loss': ['hinge','squared_hinge'], 'svc__C' : [0.01, 0.1, 1, 10], 'svc__dual' : [True, False]}\n",
        "svc_clf = GridSearchCV(svc_pipe, param_grid=svc_parms, cv = 3, scoring = 'accuracy', verbose = 3)\n",
        "svc_clf.fit(X, y)"
      ],
      "execution_count": null,
      "outputs": [
        {
          "output_type": "stream",
          "text": [
            "Fitting 3 folds for each of 16 candidates, totalling 48 fits\n",
            "[CV] svc__C=0.01, svc__dual=True, svc__loss=hinge ....................\n",
            "[CV]  svc__C=0.01, svc__dual=True, svc__loss=hinge, score=0.818, total=   0.2s\n",
            "[CV] svc__C=0.01, svc__dual=True, svc__loss=hinge ....................\n"
          ],
          "name": "stdout"
        },
        {
          "output_type": "stream",
          "text": [
            "[Parallel(n_jobs=1)]: Using backend SequentialBackend with 1 concurrent workers.\n",
            "[Parallel(n_jobs=1)]: Done   1 out of   1 | elapsed:    0.2s remaining:    0.0s\n"
          ],
          "name": "stderr"
        },
        {
          "output_type": "stream",
          "text": [
            "[CV]  svc__C=0.01, svc__dual=True, svc__loss=hinge, score=0.636, total=   0.4s\n",
            "[CV] svc__C=0.01, svc__dual=True, svc__loss=hinge ....................\n",
            "[CV]  svc__C=0.01, svc__dual=True, svc__loss=hinge, score=0.814, total=   0.1s\n",
            "[CV] svc__C=0.01, svc__dual=True, svc__loss=squared_hinge ............\n",
            "[CV]  svc__C=0.01, svc__dual=True, svc__loss=squared_hinge, score=0.818, total=   0.1s\n",
            "[CV] svc__C=0.01, svc__dual=True, svc__loss=squared_hinge ............\n"
          ],
          "name": "stdout"
        },
        {
          "output_type": "stream",
          "text": [
            "[Parallel(n_jobs=1)]: Done   2 out of   2 | elapsed:    0.6s remaining:    0.0s\n"
          ],
          "name": "stderr"
        },
        {
          "output_type": "stream",
          "text": [
            "[CV]  svc__C=0.01, svc__dual=True, svc__loss=squared_hinge, score=0.659, total=   0.2s\n",
            "[CV] svc__C=0.01, svc__dual=True, svc__loss=squared_hinge ............\n",
            "[CV]  svc__C=0.01, svc__dual=True, svc__loss=squared_hinge, score=0.814, total=   0.1s\n",
            "[CV] svc__C=0.01, svc__dual=False, svc__loss=hinge ...................\n",
            "[CV]  svc__C=0.01, svc__dual=False, svc__loss=hinge, score=nan, total=   0.0s\n",
            "[CV] svc__C=0.01, svc__dual=False, svc__loss=hinge ...................\n",
            "[CV]  svc__C=0.01, svc__dual=False, svc__loss=hinge, score=nan, total=   0.0s\n",
            "[CV] svc__C=0.01, svc__dual=False, svc__loss=hinge ...................\n",
            "[CV]  svc__C=0.01, svc__dual=False, svc__loss=hinge, score=nan, total=   0.0s\n",
            "[CV] svc__C=0.01, svc__dual=False, svc__loss=squared_hinge ...........\n"
          ],
          "name": "stdout"
        },
        {
          "output_type": "stream",
          "text": [
            "/usr/local/lib/python3.6/dist-packages/sklearn/model_selection/_validation.py:536: FitFailedWarning: Estimator fit failed. The score on this train-test partition for these parameters will be set to nan. Details: \n",
            "ValueError: Unsupported set of arguments: The combination of penalty='l2' and loss='hinge' are not supported when dual=False, Parameters: penalty='l2', loss='hinge', dual=False\n",
            "\n",
            "  FitFailedWarning)\n",
            "/usr/local/lib/python3.6/dist-packages/sklearn/model_selection/_validation.py:536: FitFailedWarning: Estimator fit failed. The score on this train-test partition for these parameters will be set to nan. Details: \n",
            "ValueError: Unsupported set of arguments: The combination of penalty='l2' and loss='hinge' are not supported when dual=False, Parameters: penalty='l2', loss='hinge', dual=False\n",
            "\n",
            "  FitFailedWarning)\n",
            "/usr/local/lib/python3.6/dist-packages/sklearn/model_selection/_validation.py:536: FitFailedWarning: Estimator fit failed. The score on this train-test partition for these parameters will be set to nan. Details: \n",
            "ValueError: Unsupported set of arguments: The combination of penalty='l2' and loss='hinge' are not supported when dual=False, Parameters: penalty='l2', loss='hinge', dual=False\n",
            "\n",
            "  FitFailedWarning)\n"
          ],
          "name": "stderr"
        },
        {
          "output_type": "stream",
          "text": [
            "[CV]  svc__C=0.01, svc__dual=False, svc__loss=squared_hinge, score=0.818, total=   0.1s\n",
            "[CV] svc__C=0.01, svc__dual=False, svc__loss=squared_hinge ...........\n",
            "[CV]  svc__C=0.01, svc__dual=False, svc__loss=squared_hinge, score=0.659, total=   0.1s\n",
            "[CV] svc__C=0.01, svc__dual=False, svc__loss=squared_hinge ...........\n",
            "[CV]  svc__C=0.01, svc__dual=False, svc__loss=squared_hinge, score=0.814, total=   0.1s\n",
            "[CV] svc__C=0.1, svc__dual=True, svc__loss=hinge .....................\n",
            "[CV]  svc__C=0.1, svc__dual=True, svc__loss=hinge, score=0.818, total=   0.2s\n",
            "[CV] svc__C=0.1, svc__dual=True, svc__loss=hinge .....................\n",
            "[CV]  svc__C=0.1, svc__dual=True, svc__loss=hinge, score=0.659, total=   0.4s\n",
            "[CV] svc__C=0.1, svc__dual=True, svc__loss=hinge .....................\n",
            "[CV]  svc__C=0.1, svc__dual=True, svc__loss=hinge, score=0.791, total=   0.1s\n",
            "[CV] svc__C=0.1, svc__dual=True, svc__loss=squared_hinge .............\n",
            "[CV]  svc__C=0.1, svc__dual=True, svc__loss=squared_hinge, score=0.818, total=   0.2s\n",
            "[CV] svc__C=0.1, svc__dual=True, svc__loss=squared_hinge .............\n",
            "[CV]  svc__C=0.1, svc__dual=True, svc__loss=squared_hinge, score=0.659, total=   0.4s\n",
            "[CV] svc__C=0.1, svc__dual=True, svc__loss=squared_hinge .............\n",
            "[CV]  svc__C=0.1, svc__dual=True, svc__loss=squared_hinge, score=0.791, total=   0.1s\n",
            "[CV] svc__C=0.1, svc__dual=False, svc__loss=hinge ....................\n",
            "[CV]  svc__C=0.1, svc__dual=False, svc__loss=hinge, score=nan, total=   0.0s\n",
            "[CV] svc__C=0.1, svc__dual=False, svc__loss=hinge ....................\n",
            "[CV]  svc__C=0.1, svc__dual=False, svc__loss=hinge, score=nan, total=   0.0s\n",
            "[CV] svc__C=0.1, svc__dual=False, svc__loss=hinge ....................\n",
            "[CV]  svc__C=0.1, svc__dual=False, svc__loss=hinge, score=nan, total=   0.0s\n",
            "[CV] svc__C=0.1, svc__dual=False, svc__loss=squared_hinge ............\n"
          ],
          "name": "stdout"
        },
        {
          "output_type": "stream",
          "text": [
            "/usr/local/lib/python3.6/dist-packages/sklearn/model_selection/_validation.py:536: FitFailedWarning: Estimator fit failed. The score on this train-test partition for these parameters will be set to nan. Details: \n",
            "ValueError: Unsupported set of arguments: The combination of penalty='l2' and loss='hinge' are not supported when dual=False, Parameters: penalty='l2', loss='hinge', dual=False\n",
            "\n",
            "  FitFailedWarning)\n",
            "/usr/local/lib/python3.6/dist-packages/sklearn/model_selection/_validation.py:536: FitFailedWarning: Estimator fit failed. The score on this train-test partition for these parameters will be set to nan. Details: \n",
            "ValueError: Unsupported set of arguments: The combination of penalty='l2' and loss='hinge' are not supported when dual=False, Parameters: penalty='l2', loss='hinge', dual=False\n",
            "\n",
            "  FitFailedWarning)\n",
            "/usr/local/lib/python3.6/dist-packages/sklearn/model_selection/_validation.py:536: FitFailedWarning: Estimator fit failed. The score on this train-test partition for these parameters will be set to nan. Details: \n",
            "ValueError: Unsupported set of arguments: The combination of penalty='l2' and loss='hinge' are not supported when dual=False, Parameters: penalty='l2', loss='hinge', dual=False\n",
            "\n",
            "  FitFailedWarning)\n"
          ],
          "name": "stderr"
        },
        {
          "output_type": "stream",
          "text": [
            "[CV]  svc__C=0.1, svc__dual=False, svc__loss=squared_hinge, score=0.818, total=   1.0s\n",
            "[CV] svc__C=0.1, svc__dual=False, svc__loss=squared_hinge ............\n",
            "[CV]  svc__C=0.1, svc__dual=False, svc__loss=squared_hinge, score=0.659, total=   0.5s\n",
            "[CV] svc__C=0.1, svc__dual=False, svc__loss=squared_hinge ............\n",
            "[CV]  svc__C=0.1, svc__dual=False, svc__loss=squared_hinge, score=0.791, total=   0.3s\n",
            "[CV] svc__C=1, svc__dual=True, svc__loss=hinge .......................\n",
            "[CV]  svc__C=1, svc__dual=True, svc__loss=hinge, score=0.818, total=   0.2s\n",
            "[CV] svc__C=1, svc__dual=True, svc__loss=hinge .......................\n",
            "[CV]  svc__C=1, svc__dual=True, svc__loss=hinge, score=0.659, total=   0.4s\n",
            "[CV] svc__C=1, svc__dual=True, svc__loss=hinge .......................\n",
            "[CV]  svc__C=1, svc__dual=True, svc__loss=hinge, score=0.791, total=   0.1s\n",
            "[CV] svc__C=1, svc__dual=True, svc__loss=squared_hinge ...............\n",
            "[CV]  svc__C=1, svc__dual=True, svc__loss=squared_hinge, score=0.818, total=   0.2s\n",
            "[CV] svc__C=1, svc__dual=True, svc__loss=squared_hinge ...............\n",
            "[CV]  svc__C=1, svc__dual=True, svc__loss=squared_hinge, score=0.659, total=   0.4s\n",
            "[CV] svc__C=1, svc__dual=True, svc__loss=squared_hinge ...............\n",
            "[CV]  svc__C=1, svc__dual=True, svc__loss=squared_hinge, score=0.791, total=   0.1s\n",
            "[CV] svc__C=1, svc__dual=False, svc__loss=hinge ......................\n",
            "[CV]  svc__C=1, svc__dual=False, svc__loss=hinge, score=nan, total=   0.0s\n",
            "[CV] svc__C=1, svc__dual=False, svc__loss=hinge ......................\n",
            "[CV]  svc__C=1, svc__dual=False, svc__loss=hinge, score=nan, total=   0.0s\n",
            "[CV] svc__C=1, svc__dual=False, svc__loss=hinge ......................\n",
            "[CV]  svc__C=1, svc__dual=False, svc__loss=hinge, score=nan, total=   0.0s\n",
            "[CV] svc__C=1, svc__dual=False, svc__loss=squared_hinge ..............\n"
          ],
          "name": "stdout"
        },
        {
          "output_type": "stream",
          "text": [
            "/usr/local/lib/python3.6/dist-packages/sklearn/model_selection/_validation.py:536: FitFailedWarning: Estimator fit failed. The score on this train-test partition for these parameters will be set to nan. Details: \n",
            "ValueError: Unsupported set of arguments: The combination of penalty='l2' and loss='hinge' are not supported when dual=False, Parameters: penalty='l2', loss='hinge', dual=False\n",
            "\n",
            "  FitFailedWarning)\n",
            "/usr/local/lib/python3.6/dist-packages/sklearn/model_selection/_validation.py:536: FitFailedWarning: Estimator fit failed. The score on this train-test partition for these parameters will be set to nan. Details: \n",
            "ValueError: Unsupported set of arguments: The combination of penalty='l2' and loss='hinge' are not supported when dual=False, Parameters: penalty='l2', loss='hinge', dual=False\n",
            "\n",
            "  FitFailedWarning)\n",
            "/usr/local/lib/python3.6/dist-packages/sklearn/model_selection/_validation.py:536: FitFailedWarning: Estimator fit failed. The score on this train-test partition for these parameters will be set to nan. Details: \n",
            "ValueError: Unsupported set of arguments: The combination of penalty='l2' and loss='hinge' are not supported when dual=False, Parameters: penalty='l2', loss='hinge', dual=False\n",
            "\n",
            "  FitFailedWarning)\n",
            "/usr/local/lib/python3.6/dist-packages/sklearn/svm/_base.py:947: ConvergenceWarning: Liblinear failed to converge, increase the number of iterations.\n",
            "  \"the number of iterations.\", ConvergenceWarning)\n"
          ],
          "name": "stderr"
        },
        {
          "output_type": "stream",
          "text": [
            "[CV]  svc__C=1, svc__dual=False, svc__loss=squared_hinge, score=0.818, total=   1.4s\n",
            "[CV] svc__C=1, svc__dual=False, svc__loss=squared_hinge ..............\n"
          ],
          "name": "stdout"
        },
        {
          "output_type": "stream",
          "text": [
            "/usr/local/lib/python3.6/dist-packages/sklearn/svm/_base.py:947: ConvergenceWarning: Liblinear failed to converge, increase the number of iterations.\n",
            "  \"the number of iterations.\", ConvergenceWarning)\n"
          ],
          "name": "stderr"
        },
        {
          "output_type": "stream",
          "text": [
            "[CV]  svc__C=1, svc__dual=False, svc__loss=squared_hinge, score=0.591, total=   2.7s\n",
            "[CV] svc__C=1, svc__dual=False, svc__loss=squared_hinge ..............\n",
            "[CV]  svc__C=1, svc__dual=False, svc__loss=squared_hinge, score=0.744, total=   0.6s\n",
            "[CV] svc__C=10, svc__dual=True, svc__loss=hinge ......................\n",
            "[CV]  svc__C=10, svc__dual=True, svc__loss=hinge, score=0.818, total=   0.2s\n",
            "[CV] svc__C=10, svc__dual=True, svc__loss=hinge ......................\n",
            "[CV]  svc__C=10, svc__dual=True, svc__loss=hinge, score=0.659, total=   0.4s\n",
            "[CV] svc__C=10, svc__dual=True, svc__loss=hinge ......................\n",
            "[CV]  svc__C=10, svc__dual=True, svc__loss=hinge, score=0.791, total=   0.1s\n",
            "[CV] svc__C=10, svc__dual=True, svc__loss=squared_hinge ..............\n",
            "[CV]  svc__C=10, svc__dual=True, svc__loss=squared_hinge, score=0.818, total=   0.2s\n",
            "[CV] svc__C=10, svc__dual=True, svc__loss=squared_hinge ..............\n",
            "[CV]  svc__C=10, svc__dual=True, svc__loss=squared_hinge, score=0.659, total=   0.4s\n",
            "[CV] svc__C=10, svc__dual=True, svc__loss=squared_hinge ..............\n",
            "[CV]  svc__C=10, svc__dual=True, svc__loss=squared_hinge, score=0.791, total=   0.1s\n",
            "[CV] svc__C=10, svc__dual=False, svc__loss=hinge .....................\n",
            "[CV]  svc__C=10, svc__dual=False, svc__loss=hinge, score=nan, total=   0.0s\n",
            "[CV] svc__C=10, svc__dual=False, svc__loss=hinge .....................\n",
            "[CV]  svc__C=10, svc__dual=False, svc__loss=hinge, score=nan, total=   0.0s\n",
            "[CV] svc__C=10, svc__dual=False, svc__loss=hinge .....................\n",
            "[CV]  svc__C=10, svc__dual=False, svc__loss=hinge, score=nan, total=   0.0s\n",
            "[CV] svc__C=10, svc__dual=False, svc__loss=squared_hinge .............\n",
            "[CV]  svc__C=10, svc__dual=False, svc__loss=squared_hinge, score=0.795, total=   0.1s\n",
            "[CV] svc__C=10, svc__dual=False, svc__loss=squared_hinge .............\n"
          ],
          "name": "stdout"
        },
        {
          "output_type": "stream",
          "text": [
            "/usr/local/lib/python3.6/dist-packages/sklearn/model_selection/_validation.py:536: FitFailedWarning: Estimator fit failed. The score on this train-test partition for these parameters will be set to nan. Details: \n",
            "ValueError: Unsupported set of arguments: The combination of penalty='l2' and loss='hinge' are not supported when dual=False, Parameters: penalty='l2', loss='hinge', dual=False\n",
            "\n",
            "  FitFailedWarning)\n",
            "/usr/local/lib/python3.6/dist-packages/sklearn/model_selection/_validation.py:536: FitFailedWarning: Estimator fit failed. The score on this train-test partition for these parameters will be set to nan. Details: \n",
            "ValueError: Unsupported set of arguments: The combination of penalty='l2' and loss='hinge' are not supported when dual=False, Parameters: penalty='l2', loss='hinge', dual=False\n",
            "\n",
            "  FitFailedWarning)\n",
            "/usr/local/lib/python3.6/dist-packages/sklearn/model_selection/_validation.py:536: FitFailedWarning: Estimator fit failed. The score on this train-test partition for these parameters will be set to nan. Details: \n",
            "ValueError: Unsupported set of arguments: The combination of penalty='l2' and loss='hinge' are not supported when dual=False, Parameters: penalty='l2', loss='hinge', dual=False\n",
            "\n",
            "  FitFailedWarning)\n"
          ],
          "name": "stderr"
        },
        {
          "output_type": "stream",
          "text": [
            "[CV]  svc__C=10, svc__dual=False, svc__loss=squared_hinge, score=0.614, total=   0.1s\n",
            "[CV] svc__C=10, svc__dual=False, svc__loss=squared_hinge .............\n",
            "[CV]  svc__C=10, svc__dual=False, svc__loss=squared_hinge, score=0.767, total=   0.0s\n"
          ],
          "name": "stdout"
        },
        {
          "output_type": "stream",
          "text": [
            "[Parallel(n_jobs=1)]: Done  48 out of  48 | elapsed:   12.7s finished\n"
          ],
          "name": "stderr"
        },
        {
          "output_type": "execute_result",
          "data": {
            "text/plain": [
              "GridSearchCV(cv=3, error_score=nan,\n",
              "             estimator=Pipeline(memory=None,\n",
              "                                steps=[('scaler',\n",
              "                                        StandardScaler(copy=True,\n",
              "                                                       with_mean=True,\n",
              "                                                       with_std=True)),\n",
              "                                       ('svc',\n",
              "                                        LinearSVC(C=1.0, class_weight=None,\n",
              "                                                  dual=True, fit_intercept=True,\n",
              "                                                  intercept_scaling=1,\n",
              "                                                  loss='squared_hinge',\n",
              "                                                  max_iter=1000,\n",
              "                                                  multi_class='ovr',\n",
              "                                                  penalty='l2', random_state=42,\n",
              "                                                  tol=0.0001, verbose=0))],\n",
              "                                verbose=False),\n",
              "             iid='deprecated', n_jobs=None,\n",
              "             param_grid={'svc__C': [0.01, 0.1, 1, 10],\n",
              "                         'svc__dual': [True, False],\n",
              "                         'svc__loss': ['hinge', 'squared_hinge']},\n",
              "             pre_dispatch='2*n_jobs', refit=True, return_train_score=False,\n",
              "             scoring='accuracy', verbose=3)"
            ]
          },
          "metadata": {
            "tags": []
          },
          "execution_count": 192
        }
      ]
    },
    {
      "cell_type": "code",
      "metadata": {
        "id": "1_cVhRz2rDHh",
        "outputId": "f03b6033-0d22-493b-cd80-231c72366ef1",
        "colab": {
          "base_uri": "https://localhost:8080/",
          "height": 53
        }
      },
      "source": [
        "print(svc_clf.best_score_)\n",
        "print(svc_clf.best_params_)"
      ],
      "execution_count": null,
      "outputs": [
        {
          "output_type": "stream",
          "text": [
            "0.7637420718816067\n",
            "{'svc__C': 0.01, 'svc__dual': True, 'svc__loss': 'squared_hinge'}\n"
          ],
          "name": "stdout"
        }
      ]
    },
    {
      "cell_type": "markdown",
      "metadata": {
        "id": "IQIci2IzH9g9"
      },
      "source": [
        ""
      ]
    }
  ]
}