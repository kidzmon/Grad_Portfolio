{
  "nbformat": 4,
  "nbformat_minor": 0,
  "metadata": {
    "colab": {
      "name": "Untitled5.ipynb",
      "provenance": [],
      "collapsed_sections": []
    },
    "kernelspec": {
      "name": "python3",
      "display_name": "Python 3"
    },
    "accelerator": "GPU"
  },
  "cells": [
    {
      "cell_type": "code",
      "metadata": {
        "id": "eI8A6RGhC7uw",
        "colab_type": "code",
        "colab": {}
      },
      "source": [
        "import pandas as pd\n",
        "import numpy as np\n",
        "import matplotlib.pyplot as plt\n",
        "\n",
        "from sklearn.pipeline import Pipeline\n",
        "from sklearn.preprocessing import StandardScaler\n",
        "from sklearn.model_selection import cross_val_score, train_test_split"
      ],
      "execution_count": null,
      "outputs": []
    },
    {
      "cell_type": "code",
      "metadata": {
        "id": "QQXTPplaD7iL",
        "colab_type": "code",
        "colab": {
          "base_uri": "https://localhost:8080/",
          "height": 953
        },
        "outputId": "9735684b-4828-4a58-f0e8-3266a8d3ce8b"
      },
      "source": [
        "brain_df = pd.read_csv('/content/drive/My Drive/Colab Notebooks/EEG/emotions.csv')\n",
        "label_df = brain_df['label']\n",
        "brain_df.drop('label', axis = 1, inplace=True)\n",
        "set_split = train_test_split(brain_df,label_df,test_size=0.3,random_state=0,stratify=label_df)\n",
        "brain_train_data, brain_test_data, brain_train_label, brain_test_label = set_split\n",
        "print(brain_train_data)\n",
        "print(brain_test_data)\n",
        "print(brain_train_label)\n",
        "print(brain_test_label)\n",
        "\n",
        "accuracy_dict = dict()"
      ],
      "execution_count": null,
      "outputs": [
        {
          "output_type": "stream",
          "text": [
            "      # mean_0_a  mean_1_a  mean_2_a  ...  fft_747_b  fft_748_b  fft_749_b\n",
            "1559       10.10      29.9      24.2  ...      -18.1      -18.1     -10.70\n",
            "1068       14.00      23.6    -181.0  ...     -160.0     -160.0     343.00\n",
            "1635       16.70      27.0    -168.0  ...     -165.0     -165.0     348.00\n",
            "1106      -52.20      20.8    -970.0  ...     -261.0     -261.0     738.00\n",
            "1772       13.60      25.2    -192.0  ...     -183.0     -183.0     404.00\n",
            "...          ...       ...       ...  ...        ...        ...        ...\n",
            "358         6.29      32.0    -359.0  ...     -247.0     -247.0     406.00\n",
            "1659       13.50      25.2    -132.0  ...       57.6       57.6     -62.90\n",
            "1243       30.30      31.5      33.3  ...      -21.1      -21.1       6.86\n",
            "1586       16.60      32.4    -138.0  ...      194.0      194.0     -58.00\n",
            "1438        3.93      30.2    -267.0  ...     -221.0     -221.0     306.00\n",
            "\n",
            "[1492 rows x 2548 columns]\n",
            "      # mean_0_a  mean_1_a  mean_2_a  ...  fft_747_b  fft_748_b  fft_749_b\n",
            "644        14.20      30.9    -281.0  ...     -39.20     -39.20     107.00\n",
            "518         9.85      19.8      19.1  ...     -40.30     -40.30       9.78\n",
            "1280       29.90      30.7      30.4  ...     -45.70     -45.70      28.10\n",
            "276        12.30      30.3    -133.0  ...       1.87       1.87     -63.80\n",
            "1619       14.90      27.4    -113.0  ...    -174.00    -174.00     427.00\n",
            "...          ...       ...       ...  ...        ...        ...        ...\n",
            "176         9.35      32.2    -315.0  ...    -203.00    -203.00     254.00\n",
            "1806       21.50      25.4    -224.0  ...       1.45       1.45      52.90\n",
            "1759       27.90      31.7      32.6  ...      -4.67      -4.67      -4.85\n",
            "620        15.70      33.8    -126.0  ...      71.90      71.90     -69.70\n",
            "1697        5.51      14.5      20.6  ...     -90.70     -90.70      18.50\n",
            "\n",
            "[640 rows x 2548 columns]\n",
            "1559    POSITIVE\n",
            "1068    NEGATIVE\n",
            "1635    NEGATIVE\n",
            "1106    NEGATIVE\n",
            "1772    NEGATIVE\n",
            "          ...   \n",
            "358     NEGATIVE\n",
            "1659    NEGATIVE\n",
            "1243     NEUTRAL\n",
            "1586    NEGATIVE\n",
            "1438    NEGATIVE\n",
            "Name: label, Length: 1492, dtype: object\n",
            "644     POSITIVE\n",
            "518     POSITIVE\n",
            "1280     NEUTRAL\n",
            "276     POSITIVE\n",
            "1619    NEGATIVE\n",
            "          ...   \n",
            "176     NEGATIVE\n",
            "1806    NEGATIVE\n",
            "1759     NEUTRAL\n",
            "620     NEGATIVE\n",
            "1697    POSITIVE\n",
            "Name: label, Length: 640, dtype: object\n"
          ],
          "name": "stdout"
        }
      ]
    },
    {
      "cell_type": "code",
      "metadata": {
        "id": "CV75oLW8Q-mC",
        "colab_type": "code",
        "colab": {}
      },
      "source": [
        "from sklearn.linear_model import LogisticRegression\n",
        "logistic_reg_pipe = Pipeline([('scaler',StandardScaler()), ('clf', LogisticRegression(multi_class='auto',solver=\"liblinear\"))])\n",
        "logistic_reg_pipe.fit(brain_train_data, brain_train_label)\n",
        "scores = cross_val_score(logistic_reg_pipe, brain_test_data, brain_test_label, cv=10,scoring='accuracy')\n",
        "accuracy_dict['logistic regression']=scores.mean()"
      ],
      "execution_count": null,
      "outputs": []
    },
    {
      "cell_type": "code",
      "metadata": {
        "id": "ntb84dUST5nf",
        "colab_type": "code",
        "colab": {}
      },
      "source": [
        "from sklearn.linear_model import RidgeClassifier\n",
        "ridge_reg_pipe = Pipeline([('scalar', StandardScaler()),('clf', RidgeClassifier())])\n",
        "ridge_reg_pipe.fit(brain_train_data, brain_train_label)\n",
        "scores = cross_val_score(ridge_reg_pipe, brain_test_data, brain_test_label, cv=10,scoring='accuracy')\n",
        "accuracy_dict['ridge regression']=scores.mean()"
      ],
      "execution_count": null,
      "outputs": []
    },
    {
      "cell_type": "code",
      "metadata": {
        "id": "DRBNzZLpZi4n",
        "colab_type": "code",
        "colab": {}
      },
      "source": [
        "from sklearn.svm import SVC\n",
        "svm_pipe = Pipeline([('scaler', StandardScaler()), ('clf', SVC())])\n",
        "svm_pipe.fit(brain_train_data, brain_train_label)\n",
        "scores = cross_val_score(svm_pipe, brain_test_data, brain_test_label, cv=10,scoring='accuracy')\n",
        "accuracy_dict['SVC']=scores.mean()"
      ],
      "execution_count": null,
      "outputs": []
    },
    {
      "cell_type": "code",
      "metadata": {
        "id": "JWOeONJLgowX",
        "colab_type": "code",
        "colab": {
          "base_uri": "https://localhost:8080/",
          "height": 451
        },
        "outputId": "17a41b50-aaf9-4059-aafe-5317ca034785"
      },
      "source": [
        "from sklearn.svm import LinearSVC\n",
        "linear_svm_pipe = Pipeline([('scaler', StandardScaler()), ('clf', LinearSVC(multi_class='crammer_singer',max_iter=1000000))])\n",
        "linear_svm_pipe.fit(brain_train_data, brain_train_label)\n",
        "scores = cross_val_score(linear_svm_pipe, brain_test_data, brain_test_label, cv=10,scoring='accuracy')\n",
        "print(scores.mean())\n",
        "accuracy_dict['linear SVC']=scores.mean()"
      ],
      "execution_count": null,
      "outputs": [
        {
          "output_type": "stream",
          "text": [
            "/usr/local/lib/python3.6/dist-packages/sklearn/svm/_base.py:947: ConvergenceWarning: Liblinear failed to converge, increase the number of iterations.\n",
            "  \"the number of iterations.\", ConvergenceWarning)\n",
            "/usr/local/lib/python3.6/dist-packages/sklearn/svm/_base.py:947: ConvergenceWarning: Liblinear failed to converge, increase the number of iterations.\n",
            "  \"the number of iterations.\", ConvergenceWarning)\n",
            "/usr/local/lib/python3.6/dist-packages/sklearn/svm/_base.py:947: ConvergenceWarning: Liblinear failed to converge, increase the number of iterations.\n",
            "  \"the number of iterations.\", ConvergenceWarning)\n",
            "/usr/local/lib/python3.6/dist-packages/sklearn/svm/_base.py:947: ConvergenceWarning: Liblinear failed to converge, increase the number of iterations.\n",
            "  \"the number of iterations.\", ConvergenceWarning)\n",
            "/usr/local/lib/python3.6/dist-packages/sklearn/svm/_base.py:947: ConvergenceWarning: Liblinear failed to converge, increase the number of iterations.\n",
            "  \"the number of iterations.\", ConvergenceWarning)\n",
            "/usr/local/lib/python3.6/dist-packages/sklearn/svm/_base.py:947: ConvergenceWarning: Liblinear failed to converge, increase the number of iterations.\n",
            "  \"the number of iterations.\", ConvergenceWarning)\n",
            "/usr/local/lib/python3.6/dist-packages/sklearn/svm/_base.py:947: ConvergenceWarning: Liblinear failed to converge, increase the number of iterations.\n",
            "  \"the number of iterations.\", ConvergenceWarning)\n",
            "/usr/local/lib/python3.6/dist-packages/sklearn/svm/_base.py:947: ConvergenceWarning: Liblinear failed to converge, increase the number of iterations.\n",
            "  \"the number of iterations.\", ConvergenceWarning)\n",
            "/usr/local/lib/python3.6/dist-packages/sklearn/svm/_base.py:947: ConvergenceWarning: Liblinear failed to converge, increase the number of iterations.\n",
            "  \"the number of iterations.\", ConvergenceWarning)\n",
            "/usr/local/lib/python3.6/dist-packages/sklearn/svm/_base.py:947: ConvergenceWarning: Liblinear failed to converge, increase the number of iterations.\n",
            "  \"the number of iterations.\", ConvergenceWarning)\n"
          ],
          "name": "stderr"
        },
        {
          "output_type": "stream",
          "text": [
            "0.9453125\n"
          ],
          "name": "stdout"
        },
        {
          "output_type": "stream",
          "text": [
            "/usr/local/lib/python3.6/dist-packages/sklearn/svm/_base.py:947: ConvergenceWarning: Liblinear failed to converge, increase the number of iterations.\n",
            "  \"the number of iterations.\", ConvergenceWarning)\n"
          ],
          "name": "stderr"
        }
      ]
    },
    {
      "cell_type": "code",
      "metadata": {
        "id": "vhOd2rymdxD7",
        "colab_type": "code",
        "colab": {}
      },
      "source": [
        "from sklearn.ensemble import RandomForestClassifier\n",
        "random_forest_pipe = Pipeline([('scaler',StandardScaler()), ('clf',RandomForestClassifier())])\n",
        "random_forest_pipe.fit(brain_train_data, brain_train_label)\n",
        "scores = cross_val_score(random_forest_pipe, brain_test_data, brain_test_label, cv=10,scoring='accuracy')\n",
        "accuracy_dict['random forest']=scores.mean()"
      ],
      "execution_count": null,
      "outputs": []
    },
    {
      "cell_type": "code",
      "metadata": {
        "id": "fmDM4sp-ecfh",
        "colab_type": "code",
        "colab": {}
      },
      "source": [
        "from sklearn.naive_bayes import BernoulliNB\n",
        "bernoulli_nb_pipe = Pipeline([('scaler',StandardScaler()), ('clf',BernoulliNB())])\n",
        "bernoulli_nb_pipe.fit(brain_train_data, brain_train_label)\n",
        "scores = cross_val_score(bernoulli_nb_pipe, brain_test_data, brain_test_label, cv=10,scoring='accuracy')\n",
        "accuracy_dict['bernoulli NB']=scores.mean()"
      ],
      "execution_count": null,
      "outputs": []
    },
    {
      "cell_type": "code",
      "metadata": {
        "id": "OSz5f4Y9f10R",
        "colab_type": "code",
        "colab": {}
      },
      "source": [
        "from sklearn.naive_bayes import GaussianNB\n",
        "gaussian_nb_pipe = Pipeline([('scaler',StandardScaler()), ('clf',GaussianNB())])\n",
        "gaussian_nb_pipe.fit(brain_train_data, brain_train_label)\n",
        "scores = cross_val_score(gaussian_nb_pipe, brain_test_data, brain_test_label, cv=10,scoring='accuracy')\n",
        "accuracy_dict['gaussian NB']=scores.mean()"
      ],
      "execution_count": null,
      "outputs": []
    },
    {
      "cell_type": "code",
      "metadata": {
        "id": "Ty_yX6-Oe7Dt",
        "colab_type": "code",
        "colab": {}
      },
      "source": [
        "from sklearn.tree import DecisionTreeClassifier\n",
        "dt_pipe=Pipeline([('scaler',StandardScaler()),('clf',DecisionTreeClassifier())])\n",
        "dt_pipe.fit(brain_train_data, brain_train_label)\n",
        "scores = cross_val_score(dt_pipe, brain_test_data, brain_test_label, cv=10,scoring='accuracy')\n",
        "accuracy_dict['Decision Tree']=scores.mean()"
      ],
      "execution_count": null,
      "outputs": []
    },
    {
      "cell_type": "code",
      "metadata": {
        "id": "GlL5x4nofoKa",
        "colab_type": "code",
        "colab": {}
      },
      "source": [
        "from sklearn.tree import ExtraTreeClassifier\n",
        "et_pipe=Pipeline([('scaler',StandardScaler()),('clf',ExtraTreeClassifier())])\n",
        "et_pipe.fit(brain_train_data, brain_train_label)\n",
        "scores = cross_val_score(et_pipe, brain_test_data, brain_test_label, cv=10,scoring='accuracy')\n",
        "accuracy_dict['Extra Tree']=scores.mean()"
      ],
      "execution_count": null,
      "outputs": []
    },
    {
      "cell_type": "code",
      "metadata": {
        "id": "mqe0IZWRgI1v",
        "colab_type": "code",
        "colab": {}
      },
      "source": [
        "from sklearn.neighbors import KNeighborsClassifier\n",
        "kn_pipe=Pipeline([('scaler',StandardScaler()),('clf',KNeighborsClassifier())])\n",
        "kn_pipe.fit(brain_train_data, brain_train_label)\n",
        "scores = cross_val_score(kn_pipe, brain_test_data, brain_test_label, cv=10,scoring='accuracy')\n",
        "accuracy_dict['K neighbors']=scores.mean()"
      ],
      "execution_count": null,
      "outputs": []
    },
    {
      "cell_type": "code",
      "metadata": {
        "id": "XXIwpLuTicT1",
        "colab_type": "code",
        "colab": {}
      },
      "source": [
        "from sklearn.neighbors import NearestCentroid\n",
        "nc_pipe=Pipeline([('scaler',StandardScaler()),('clf',NearestCentroid())])\n",
        "nc_pipe.fit(brain_train_data, brain_train_label)\n",
        "scores = cross_val_score(nc_pipe, brain_test_data, brain_test_label, cv=10,scoring='accuracy')\n",
        "accuracy_dict['nearest centroid']=scores.mean()"
      ],
      "execution_count": null,
      "outputs": []
    },
    {
      "cell_type": "code",
      "metadata": {
        "id": "0qOD32DxhztC",
        "colab_type": "code",
        "colab": {}
      },
      "source": [
        "from sklearn.neural_network import MLPClassifier\n",
        "mlp_pipe=Pipeline([('scaler',StandardScaler()),('clf',MLPClassifier())])\n",
        "mlp_pipe.fit(brain_train_data, brain_train_label)\n",
        "scores = cross_val_score(mlp_pipe, brain_test_data, brain_test_label, cv=10,scoring='accuracy')\n",
        "accuracy_dict['MLP']=scores.mean()"
      ],
      "execution_count": null,
      "outputs": []
    },
    {
      "cell_type": "code",
      "metadata": {
        "id": "ZmJs5bycypAI",
        "colab_type": "code",
        "colab": {
          "base_uri": "https://localhost:8080/",
          "height": 53
        },
        "outputId": "c932b046-601c-48de-91a9-1881d57c8a6f"
      },
      "source": [
        "from sklearn.model_selection import GridSearchCV\n",
        "\n",
        "ridge_reg_pipe = Pipeline([('scalar', StandardScaler()),('clf', RidgeClassifier())])\n",
        "param_range = [0.001, 0.01, 0.1, 1.0, 10.0, 100.0]\n",
        "param_grid = [\n",
        "              {'clf__alpha':param_range}\n",
        "]\n",
        "gs = GridSearchCV(estimator=ridge_reg_pipe, param_grid=param_grid,scoring='accuracy',cv=5)\n",
        "gs = gs.fit(brain_train_data, brain_train_label)\n",
        "print(gs.best_score_)\n",
        "print(gs.best_params_)"
      ],
      "execution_count": null,
      "outputs": [
        {
          "output_type": "stream",
          "text": [
            "0.9436870103925837\n",
            "{'clf__alpha': 100.0}\n"
          ],
          "name": "stdout"
        }
      ]
    },
    {
      "cell_type": "code",
      "metadata": {
        "id": "O4oQafoE0y2R",
        "colab_type": "code",
        "colab": {
          "base_uri": "https://localhost:8080/",
          "height": 53
        },
        "outputId": "0e0c2ebd-06fc-4d26-846f-b778593e2339"
      },
      "source": [
        "svm_pipe = Pipeline([('scaler', StandardScaler()), ('clf', SVC(max_iter=-1))])\n",
        "param_range = [0.001, 0.01, 0.1, 1.0, 10.0, 100.0]\n",
        "param_grid = [\n",
        "              {'clf__C':param_range,'clf__kernel':['linear','poly','rbf','sigmoid'],'clf__gamma':['scale','auto']}\n",
        "]\n",
        "gs = GridSearchCV(estimator=svm_pipe, param_grid=param_grid,scoring='accuracy',cv=5)\n",
        "gs = gs.fit(brain_train_data, brain_train_label)\n",
        "print(gs.best_score_)\n",
        "print(gs.best_params_)"
      ],
      "execution_count": null,
      "outputs": [
        {
          "output_type": "stream",
          "text": [
            "0.9705012233170972\n",
            "{'clf__C': 10.0, 'clf__gamma': 'scale', 'clf__kernel': 'rbf'}\n"
          ],
          "name": "stdout"
        }
      ]
    },
    {
      "cell_type": "code",
      "metadata": {
        "id": "R4FH9NeJ4XG3",
        "colab_type": "code",
        "colab": {
          "base_uri": "https://localhost:8080/",
          "height": 53
        },
        "outputId": "c1214af4-8746-4d2b-db8e-fb869a0a4f18"
      },
      "source": [
        "random_forest_pipe = Pipeline([('scaler',StandardScaler()), ('clf',RandomForestClassifier())])\n",
        "param_range = [5,10,15,None]\n",
        "param_grid = [\n",
        "              {'clf__max_depth':param_range,'clf__criterion':['gini','entropy']}\n",
        "]\n",
        "gs = GridSearchCV(estimator=random_forest_pipe, param_grid=param_grid,scoring='accuracy',cv=5)\n",
        "gs = gs.fit(brain_train_data, brain_train_label)\n",
        "print(gs.best_score_)\n",
        "print(gs.best_params_)"
      ],
      "execution_count": null,
      "outputs": [
        {
          "output_type": "stream",
          "text": [
            "0.9865928935377433\n",
            "{'clf__criterion': 'entropy', 'clf__max_depth': None}\n"
          ],
          "name": "stdout"
        }
      ]
    },
    {
      "cell_type": "code",
      "metadata": {
        "id": "p9JcE5Dk4vT7",
        "colab_type": "code",
        "colab": {
          "base_uri": "https://localhost:8080/",
          "height": 53
        },
        "outputId": "a54b9ded-beda-492a-b914-88cc0f18303c"
      },
      "source": [
        "dt_pipe=Pipeline([('scaler',StandardScaler()),('clf',DecisionTreeClassifier())])\n",
        "param_range = [5,10,15,None]\n",
        "param_grid = [\n",
        "              {'clf__max_depth':param_range,'clf__criterion':['gini','entropy'],'clf__splitter':['best','random']}\n",
        "]\n",
        "gs = GridSearchCV(estimator=dt_pipe, param_grid=param_grid,scoring='accuracy',cv=5)\n",
        "gs = gs.fit(brain_train_data, brain_train_label)\n",
        "print(gs.best_score_)\n",
        "print(gs.best_params_)"
      ],
      "execution_count": null,
      "outputs": [
        {
          "output_type": "stream",
          "text": [
            "0.9624722228457273\n",
            "{'clf__criterion': 'entropy', 'clf__max_depth': None, 'clf__splitter': 'random'}\n"
          ],
          "name": "stdout"
        }
      ]
    },
    {
      "cell_type": "code",
      "metadata": {
        "id": "XLVEh7Vc5FNe",
        "colab_type": "code",
        "colab": {
          "base_uri": "https://localhost:8080/",
          "height": 53
        },
        "outputId": "81856d33-e851-4279-cfb2-4e5ee3a47ffb"
      },
      "source": [
        "et_pipe=Pipeline([('scaler',StandardScaler()),('clf',ExtraTreeClassifier())])\n",
        "param_range = [5,10,15,None]\n",
        "param_grid = [\n",
        "              {'clf__max_depth':param_range,'clf__criterion':['gini','entropy']}\n",
        "]\n",
        "gs = GridSearchCV(estimator=et_pipe, param_grid=param_grid,scoring='accuracy',cv=5)\n",
        "gs = gs.fit(brain_train_data, brain_train_label)\n",
        "print(gs.best_score_)\n",
        "print(gs.best_params_)"
      ],
      "execution_count": null,
      "outputs": [
        {
          "output_type": "stream",
          "text": [
            "0.8940944086552491\n",
            "{'clf__criterion': 'entropy', 'clf__max_depth': 10}\n"
          ],
          "name": "stdout"
        }
      ]
    },
    {
      "cell_type": "code",
      "metadata": {
        "id": "O5ymUgGq5lqr",
        "colab_type": "code",
        "colab": {
          "base_uri": "https://localhost:8080/",
          "height": 231
        },
        "outputId": "2a69e5b8-8ea2-41bd-fe14-01acfe87a0fb"
      },
      "source": [
        "order_accuracy_dict = sorted(accuracy_dict.items(), key=(lambda x:x[1]), reverse=True)\n",
        "print(order_accuracy_dict)\n",
        "plt.figure(figsize=(18,3))\n",
        "plt.ylim(0.65,1.05)\n",
        "plt.bar(*zip(*order_accuracy_dict))\n",
        "for x, y in order_accuracy_dict:\n",
        "  plt.text(x, y, str(y)+'\\n', horizontalalignment='center')\n",
        "plt.xlabel(\"model\")\n",
        "plt.ylabel(\"accuracy\")\n",
        "plt.title(\"Model Accuracy\")\n",
        "plt.show()\n"
      ],
      "execution_count": null,
      "outputs": [
        {
          "output_type": "stream",
          "text": [
            "[('random forest', 0.9796875), ('linear SVC', 0.9453125), ('logistic regression', 0.9421875), ('MLP', 0.9390625), ('Decision Tree', 0.9375), ('SVC', 0.9234375), ('K neighbors', 0.921875), ('ridge regression', 0.903125), ('Extra Tree', 0.8515625), ('bernoulli NB', 0.8234375), ('nearest centroid', 0.7859375), ('gaussian NB', 0.70625)]\n"
          ],
          "name": "stdout"
        },
        {
          "output_type": "display_data",
          "data": {
            "image/png": "[encoded data removed]",
            "text/plain": [
              "<Figure size 1296x216 with 1 Axes>"
            ]
          },
          "metadata": {
            "tags": [],
            "needs_background": "light"
          }
        }
      ]
    },
    {
      "cell_type": "markdown",
      "metadata": {
        "id": "WcXA9T8Vzv00",
        "colab_type": "text"
      },
      "source": [
        ""
      ]
    }
  ]
}